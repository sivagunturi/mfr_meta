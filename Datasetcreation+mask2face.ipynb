{
  "cells": [
    {
      "cell_type": "markdown",
      "metadata": {
        "id": "view-in-github",
        "colab_type": "text"
      },
      "source": [
        "<a href=\"https://colab.research.google.com/github/sivagunturi/mfr_meta/blob/main/Datasetcreation%2Bmask2face.ipynb\" target=\"_parent\"><img src=\"https://colab.research.google.com/assets/colab-badge.svg\" alt=\"Open In Colab\"/></a>"
      ]
    },
    {
      "cell_type": "markdown",
      "metadata": {
        "id": "UG0Oaalfr0PI"
      },
      "source": [
        "# Mask2Face\n",
        "This notebook will guide you through all the steps described in this article to build and train your ML model for removing the face mask of the person's face."
      ]
    },
    {
      "cell_type": "code",
      "source": [
        "!pip install gdown\n",
        "!pip install opencv-python==4.4.0.44\n",
        "!pip install tensorflow-addons==0.10.0\n",
        "!pip install trianglesolver==1.2\n",
        "!pip uninstall imgaug\n",
        "!pip install imgaug==0.2.5\n",
        "!pip install mtcnn\n",
        "!pip install dotmap"
      ],
      "metadata": {
        "colab": {
          "base_uri": "https://localhost:8080/"
        },
        "id": "jrrBTLPYe93Z",
        "outputId": "ebfbe467-2257-4351-bfae-3818a95668b6"
      },
      "execution_count": 1,
      "outputs": [
        {
          "output_type": "stream",
          "name": "stdout",
          "text": [
            "Requirement already satisfied: gdown in /usr/local/lib/python3.7/dist-packages (4.4.0)\n",
            "Requirement already satisfied: filelock in /usr/local/lib/python3.7/dist-packages (from gdown) (3.7.0)\n",
            "Requirement already satisfied: six in /usr/local/lib/python3.7/dist-packages (from gdown) (1.15.0)\n",
            "Requirement already satisfied: requests[socks] in /usr/local/lib/python3.7/dist-packages (from gdown) (2.23.0)\n",
            "Requirement already satisfied: beautifulsoup4 in /usr/local/lib/python3.7/dist-packages (from gdown) (4.6.3)\n",
            "Requirement already satisfied: tqdm in /usr/local/lib/python3.7/dist-packages (from gdown) (4.64.0)\n",
            "Requirement already satisfied: idna<3,>=2.5 in /usr/local/lib/python3.7/dist-packages (from requests[socks]->gdown) (2.10)\n",
            "Requirement already satisfied: chardet<4,>=3.0.2 in /usr/local/lib/python3.7/dist-packages (from requests[socks]->gdown) (3.0.4)\n",
            "Requirement already satisfied: urllib3!=1.25.0,!=1.25.1,<1.26,>=1.21.1 in /usr/local/lib/python3.7/dist-packages (from requests[socks]->gdown) (1.24.3)\n",
            "Requirement already satisfied: certifi>=2017.4.17 in /usr/local/lib/python3.7/dist-packages (from requests[socks]->gdown) (2021.10.8)\n",
            "Requirement already satisfied: PySocks!=1.5.7,>=1.5.6 in /usr/local/lib/python3.7/dist-packages (from requests[socks]->gdown) (1.7.1)\n",
            "Collecting opencv-python==4.4.0.44\n",
            "  Downloading opencv_python-4.4.0.44-cp37-cp37m-manylinux2014_x86_64.whl (49.5 MB)\n",
            "\u001b[K     |████████████████████████████████| 49.5 MB 1.2 MB/s \n",
            "\u001b[?25hRequirement already satisfied: numpy>=1.14.5 in /usr/local/lib/python3.7/dist-packages (from opencv-python==4.4.0.44) (1.21.6)\n",
            "Installing collected packages: opencv-python\n",
            "  Attempting uninstall: opencv-python\n",
            "    Found existing installation: opencv-python 4.1.2.30\n",
            "    Uninstalling opencv-python-4.1.2.30:\n",
            "      Successfully uninstalled opencv-python-4.1.2.30\n",
            "\u001b[31mERROR: pip's dependency resolver does not currently take into account all the packages that are installed. This behaviour is the source of the following dependency conflicts.\n",
            "albumentations 0.1.12 requires imgaug<0.2.7,>=0.2.5, but you have imgaug 0.2.9 which is incompatible.\u001b[0m\n",
            "Successfully installed opencv-python-4.4.0.44\n",
            "Collecting tensorflow-addons==0.10.0\n",
            "  Downloading tensorflow_addons-0.10.0-cp37-cp37m-manylinux2010_x86_64.whl (1.0 MB)\n",
            "\u001b[K     |████████████████████████████████| 1.0 MB 5.9 MB/s \n",
            "\u001b[?25hRequirement already satisfied: typeguard>=2.7 in /usr/local/lib/python3.7/dist-packages (from tensorflow-addons==0.10.0) (2.7.1)\n",
            "Installing collected packages: tensorflow-addons\n",
            "Successfully installed tensorflow-addons-0.10.0\n",
            "Collecting trianglesolver==1.2\n",
            "  Downloading trianglesolver-1.2-py3-none-any.whl (5.4 kB)\n",
            "Installing collected packages: trianglesolver\n",
            "Successfully installed trianglesolver-1.2\n",
            "Found existing installation: imgaug 0.2.9\n",
            "Uninstalling imgaug-0.2.9:\n",
            "  Would remove:\n",
            "    /usr/local/lib/python3.7/dist-packages/imgaug-0.2.9.dist-info/*\n",
            "    /usr/local/lib/python3.7/dist-packages/imgaug/*\n",
            "Proceed (y/n)? y\n",
            "  Successfully uninstalled imgaug-0.2.9\n",
            "Collecting imgaug==0.2.5\n",
            "  Downloading imgaug-0.2.5.tar.gz (562 kB)\n",
            "\u001b[K     |████████████████████████████████| 562 kB 7.9 MB/s \n",
            "\u001b[?25hRequirement already satisfied: scipy in /usr/local/lib/python3.7/dist-packages (from imgaug==0.2.5) (1.4.1)\n",
            "Requirement already satisfied: scikit-image>=0.11.0 in /usr/local/lib/python3.7/dist-packages (from imgaug==0.2.5) (0.18.3)\n",
            "Requirement already satisfied: numpy>=1.7.0 in /usr/local/lib/python3.7/dist-packages (from imgaug==0.2.5) (1.21.6)\n",
            "Requirement already satisfied: six in /usr/local/lib/python3.7/dist-packages (from imgaug==0.2.5) (1.15.0)\n",
            "Requirement already satisfied: networkx>=2.0 in /usr/local/lib/python3.7/dist-packages (from scikit-image>=0.11.0->imgaug==0.2.5) (2.6.3)\n",
            "Requirement already satisfied: tifffile>=2019.7.26 in /usr/local/lib/python3.7/dist-packages (from scikit-image>=0.11.0->imgaug==0.2.5) (2021.11.2)\n",
            "Requirement already satisfied: matplotlib!=3.0.0,>=2.0.0 in /usr/local/lib/python3.7/dist-packages (from scikit-image>=0.11.0->imgaug==0.2.5) (3.2.2)\n",
            "Requirement already satisfied: PyWavelets>=1.1.1 in /usr/local/lib/python3.7/dist-packages (from scikit-image>=0.11.0->imgaug==0.2.5) (1.3.0)\n",
            "Requirement already satisfied: imageio>=2.3.0 in /usr/local/lib/python3.7/dist-packages (from scikit-image>=0.11.0->imgaug==0.2.5) (2.4.1)\n",
            "Requirement already satisfied: pillow!=7.1.0,!=7.1.1,>=4.3.0 in /usr/local/lib/python3.7/dist-packages (from scikit-image>=0.11.0->imgaug==0.2.5) (7.1.2)\n",
            "Requirement already satisfied: cycler>=0.10 in /usr/local/lib/python3.7/dist-packages (from matplotlib!=3.0.0,>=2.0.0->scikit-image>=0.11.0->imgaug==0.2.5) (0.11.0)\n",
            "Requirement already satisfied: python-dateutil>=2.1 in /usr/local/lib/python3.7/dist-packages (from matplotlib!=3.0.0,>=2.0.0->scikit-image>=0.11.0->imgaug==0.2.5) (2.8.2)\n",
            "Requirement already satisfied: pyparsing!=2.0.4,!=2.1.2,!=2.1.6,>=2.0.1 in /usr/local/lib/python3.7/dist-packages (from matplotlib!=3.0.0,>=2.0.0->scikit-image>=0.11.0->imgaug==0.2.5) (3.0.9)\n",
            "Requirement already satisfied: kiwisolver>=1.0.1 in /usr/local/lib/python3.7/dist-packages (from matplotlib!=3.0.0,>=2.0.0->scikit-image>=0.11.0->imgaug==0.2.5) (1.4.2)\n",
            "Requirement already satisfied: typing-extensions in /usr/local/lib/python3.7/dist-packages (from kiwisolver>=1.0.1->matplotlib!=3.0.0,>=2.0.0->scikit-image>=0.11.0->imgaug==0.2.5) (4.2.0)\n",
            "Building wheels for collected packages: imgaug\n",
            "  Building wheel for imgaug (setup.py) ... \u001b[?25l\u001b[?25hdone\n",
            "  Created wheel for imgaug: filename=imgaug-0.2.5-py3-none-any.whl size=561438 sha256=cd67f63c2b991842932c01435287489b0d3a16600a6353479d743444a5283096\n",
            "  Stored in directory: /root/.cache/pip/wheels/60/dd/38/d1dc2cad2b6a66dc0249261004990bccb0f27985c74ba26e49\n",
            "Successfully built imgaug\n",
            "Installing collected packages: imgaug\n",
            "Successfully installed imgaug-0.2.5\n",
            "Collecting mtcnn\n",
            "  Downloading mtcnn-0.1.1-py3-none-any.whl (2.3 MB)\n",
            "\u001b[K     |████████████████████████████████| 2.3 MB 7.9 MB/s \n",
            "\u001b[?25hRequirement already satisfied: opencv-python>=4.1.0 in /usr/local/lib/python3.7/dist-packages (from mtcnn) (4.4.0.44)\n",
            "Requirement already satisfied: keras>=2.0.0 in /usr/local/lib/python3.7/dist-packages (from mtcnn) (2.8.0)\n",
            "Requirement already satisfied: numpy>=1.14.5 in /usr/local/lib/python3.7/dist-packages (from opencv-python>=4.1.0->mtcnn) (1.21.6)\n",
            "Installing collected packages: mtcnn\n",
            "Successfully installed mtcnn-0.1.1\n",
            "Collecting dotmap\n",
            "  Downloading dotmap-1.3.30-py3-none-any.whl (11 kB)\n",
            "Installing collected packages: dotmap\n",
            "Successfully installed dotmap-1.3.30\n"
          ]
        }
      ]
    },
    {
      "cell_type": "code",
      "source": [
        "import glob\n",
        "import os\n",
        "import random\n",
        "import re\n",
        "import shutil\n",
        "import subprocess\n",
        "import sys\n",
        "import tarfile\n",
        "import zipfile\n",
        "from distutils.dir_util import copy_tree\n",
        "from os.path import exists\n",
        "from pathlib import Path\n",
        "import matplotlib.image as mpimg\n",
        "import matplotlib.pyplot as plt\n",
        "import numpy as np\n",
        "import pandas as pd\n",
        "import tensorflow as tf\n",
        "from google.colab.patches import cv2_imshow\n",
        "from numpy import load\n",
        "# !pip install mtcnn pillow dotmap deepface\n",
        "from PIL import Image\n",
        "from sklearn.metrics import accuracy_score\n",
        "from sklearn.preprocessing import LabelEncoder, Normalizer\n",
        "from sklearn.svm import SVC\n",
        "from tensorflow import keras\n",
        "from tensorflow.keras.preprocessing.image import (array_to_img, img_to_array,\n",
        "                                                  load_img)\n",
        "from os.path import exists"
      ],
      "metadata": {
        "id": "Vwymj5hbxF0-"
      },
      "execution_count": 2,
      "outputs": []
    },
    {
      "cell_type": "code",
      "source": [
        "tf.test.gpu_device_name()\n",
        "MFR_REPO_COLAB_PATH='/content/mfr_meta'\n",
        "MFR_REPO_GIT_PATH = 'https://github.com/sivagunturi/mfr_meta.git'\n",
        "STRV_REPO_COLAB_PATH = \"/content/strv\"\n",
        "STRV_REPO_GIT_PATH = 'https://github.com/sivagunturi/strv.git'\n",
        "MTF_REPO_COLAB_PATH=\"/content/MaskTheFace\"\n",
        "MTF_REPO_GIT_PATH=\"https://github.com/aqeelanwar/MaskTheFace\"\n",
        "MTF_MODEL_NAME =  \"model_epochs-20_batch-12_loss-ssim_l1_loss_20220518_03_20_51.h5\""
      ],
      "metadata": {
        "id": "ykBopZ6xFW3C"
      },
      "execution_count": 3,
      "outputs": []
    },
    {
      "cell_type": "code",
      "source": [
        "yorn = input (\"Force delete all code directpries (y/n)\") \n",
        "if(yorn == 'y'):\n",
        "  os.chdir(\"/\")\n",
        "  if(os.path.isdir(MFR_REPO_COLAB_PATH) == True):\n",
        "    shutil.rmtree(MFR_REPO_COLAB_PATH)\n",
        "  if(os.path.isdir(STRV_REPO_COLAB_PATH) == True):\n",
        "    shutil.rmtree(STRV_REPO_COLAB_PATH)\n",
        "  if(os.path.isdir(MTF_REPO_GIT_PATH) == True): \n",
        "    shutil.rmtree(MTF_REPO_GIT_PATH)"
      ],
      "metadata": {
        "colab": {
          "base_uri": "https://localhost:8080/"
        },
        "id": "9xtDlWDxDkZj",
        "outputId": "780a26f5-5dcf-4d69-a4f3-674263a9eecb"
      },
      "execution_count": 4,
      "outputs": [
        {
          "name": "stdout",
          "output_type": "stream",
          "text": [
            "Force delete all code directpries (y/n)y\n"
          ]
        }
      ]
    },
    {
      "cell_type": "code",
      "source": [
        "def clone_repo_install_dependencies(repo_path, git_path):\n",
        "  if(os.path.isdir(repo_path) == False):\n",
        "    os.chdir('/content')\n",
        "    results = subprocess.run([\"git\", \"clone\", git_path], capture_output=True)\n",
        "    print(results)\n",
        "    # os.chdir(repo_path)\n",
        "    # subprocess.run([\"pip\", \"install\",'-r', \"requirements.txt\"], stdout=subprocess.DEVNULL, stderr=subprocess.STDOUT)\n",
        "    return True\n",
        "  return False"
      ],
      "metadata": {
        "id": "8YNpkBL1xWCL"
      },
      "execution_count": 5,
      "outputs": []
    },
    {
      "cell_type": "code",
      "source": [
        "mfr_install = clone_repo_install_dependencies(MFR_REPO_COLAB_PATH, MFR_REPO_GIT_PATH)\n",
        "strv_install = clone_repo_install_dependencies(STRV_REPO_COLAB_PATH, STRV_REPO_GIT_PATH)\n",
        "mtf_install = clone_repo_install_dependencies(MTF_REPO_COLAB_PATH, MTF_REPO_GIT_PATH)\n",
        "# if(mfr_install or strv_install or mtf_install):\n",
        "#   os.kill(os.getpid(), 9)"
      ],
      "metadata": {
        "colab": {
          "base_uri": "https://localhost:8080/"
        },
        "id": "ejbt3Pyy6ZWG",
        "outputId": "1988a1f8-4368-475b-da98-c335efa39167"
      },
      "execution_count": 6,
      "outputs": [
        {
          "output_type": "stream",
          "name": "stdout",
          "text": [
            "CompletedProcess(args=['git', 'clone', 'https://github.com/sivagunturi/mfr_meta.git'], returncode=0, stdout=b'', stderr=b\"Cloning into 'mfr_meta'...\\n\")\n",
            "CompletedProcess(args=['git', 'clone', 'https://github.com/sivagunturi/strv.git'], returncode=0, stdout=b'', stderr=b\"Cloning into 'strv'...\\n\")\n",
            "CompletedProcess(args=['git', 'clone', 'https://github.com/aqeelanwar/MaskTheFace'], returncode=0, stdout=b'', stderr=b\"Cloning into 'MaskTheFace'...\\n\")\n"
          ]
        }
      ]
    },
    {
      "cell_type": "code",
      "source": [
        "ls /content/"
      ],
      "metadata": {
        "colab": {
          "base_uri": "https://localhost:8080/"
        },
        "id": "zP2jSLP8Fvfe",
        "outputId": "c1f0098f-2028-4987-ba08-fafe19043c56"
      },
      "execution_count": 7,
      "outputs": [
        {
          "output_type": "stream",
          "name": "stdout",
          "text": [
            "\u001b[0m\u001b[01;34mMaskTheFace\u001b[0m/  \u001b[01;34mmfr_meta\u001b[0m/  \u001b[01;34msample_data\u001b[0m/  \u001b[01;34mstrv\u001b[0m/\n"
          ]
        }
      ]
    },
    {
      "cell_type": "code",
      "source": [
        "os.chdir(STRV_REPO_COLAB_PATH)"
      ],
      "metadata": {
        "id": "Nj72JtB5kWYz"
      },
      "execution_count": 8,
      "outputs": []
    },
    {
      "cell_type": "code",
      "execution_count": 9,
      "metadata": {
        "id": "xP1Gx0Oyr0PM"
      },
      "outputs": [],
      "source": [
        "# Necessary imports\n",
        "from utils import download_data\n",
        "from utils.architectures import UNet\n",
        "from utils.configuration import Configuration\n",
        "from utils.data_generator import DataGenerator\n",
        "from utils.model import Mask2FaceModel"
      ]
    },
    {
      "cell_type": "code",
      "execution_count": 10,
      "metadata": {
        "colab": {
          "base_uri": "https://localhost:8080/"
        },
        "id": "LMw27jeer0PO",
        "outputId": "a7943a4b-69f4-4412-9d63-264865927d58"
      },
      "outputs": [
        {
          "output_type": "stream",
          "name": "stdout",
          "text": [
            "Num GPUs Available:  1\n",
            "Num CPUs Available:  1\n"
          ]
        }
      ],
      "source": [
        "# setup HW\n",
        "\n",
        "# is GPU available\n",
        "gpu_physical_devices = tf.config.experimental.list_physical_devices('GPU')\n",
        "if len(gpu_physical_devices) > 0:\n",
        "    tf.config.experimental.set_memory_growth(gpu_physical_devices[0], True)\n",
        "\n",
        "# check HW availability\n",
        "print(\"Num GPUs Available: \", len(tf.config.experimental.list_physical_devices('GPU')))\n",
        "print(\"Num CPUs Available: \", len(tf.config.experimental.list_physical_devices('CPU')))"
      ]
    },
    {
      "cell_type": "markdown",
      "metadata": {
        "collapsed": false,
        "id": "73KWwR2-r0PO"
      },
      "source": [
        "## 1) Preconditions\n",
        "First we need a dataset of human faces."
      ]
    },
    {
      "cell_type": "code",
      "source": [
        "def download_from_drive(id, output_file, unzip=False):\n",
        "  results = subprocess.run([\"gdown\", \"--id\", id, \"--output\", output_file], capture_output=True)\n",
        "  print(results)\n",
        "  if(unzip):\n",
        "    subprocess.run([\"unzip\", output_file], capture_output=True)\n",
        "    print(results)"
      ],
      "metadata": {
        "id": "6LwtdW8N4EGu"
      },
      "execution_count": 11,
      "outputs": []
    },
    {
      "cell_type": "code",
      "source": [
        "download_from_drive(\"1egNNyrOv1Xdio8peNla1QDVBSIDu-Fjv\", \"model_epochs-20_batch-12_loss-ssim_l1_loss_20220518_03_20_51.h5\")\n",
        "download_from_drive(\"1iWqF8dWpDPZbciufcUyPuprLfcP4Zs4w\", \"data.zip\", unzip=True)"
      ],
      "metadata": {
        "colab": {
          "base_uri": "https://localhost:8080/"
        },
        "id": "M3C6WGkTgWKI",
        "outputId": "6c64122a-296d-449a-fd57-31d48ef86208"
      },
      "execution_count": 12,
      "outputs": [
        {
          "output_type": "stream",
          "name": "stdout",
          "text": [
            "CompletedProcess(args=['gdown', '--id', '1egNNyrOv1Xdio8peNla1QDVBSIDu-Fjv', '--output', 'model_epochs-20_batch-12_loss-ssim_l1_loss_20220518_03_20_51.h5'], returncode=0, stdout=b'', stderr=b\"/usr/local/lib/python3.7/dist-packages/gdown/cli.py:131: FutureWarning: Option `--id` was deprecated in version 4.3.1 and will be removed in 5.0. You don't need to pass it anymore to use a file ID.\\n  category=FutureWarning,\\nDownloading...\\nFrom: https://drive.google.com/uc?id=1egNNyrOv1Xdio8peNla1QDVBSIDu-Fjv\\nTo: /content/strv/model_epochs-20_batch-12_loss-ssim_l1_loss_20220518_03_20_51.h5\\n\\r  0%|          | 0.00/643M [00:00<?, ?B/s]\\r  1%|          | 4.72M/643M [00:00<00:22, 27.9MB/s]\\r  1%|\\xe2\\x96\\x8f         | 8.91M/643M [00:00<00:20, 31.5MB/s]\\r  7%|\\xe2\\x96\\x8b         | 42.5M/643M [00:00<00:05, 105MB/s] \\r 12%|\\xe2\\x96\\x88\\xe2\\x96\\x8f        | 76.0M/643M [00:00<00:03, 151MB/s]\\r 16%|\\xe2\\x96\\x88\\xe2\\x96\\x8c        | 101M/643M [00:00<00:03, 158MB/s] \\r 19%|\\xe2\\x96\\x88\\xe2\\x96\\x89        | 122M/643M [00:00<00:03, 170MB/s]\\r 22%|\\xe2\\x96\\x88\\xe2\\x96\\x88\\xe2\\x96\\x8f       | 140M/643M [00:00<00:02, 171MB/s]\\r 25%|\\xe2\\x96\\x88\\xe2\\x96\\x88\\xe2\\x96\\x8d       | 158M/643M [00:01<00:03, 132MB/s]\\r 27%|\\xe2\\x96\\x88\\xe2\\x96\\x88\\xe2\\x96\\x8b       | 177M/643M [00:01<00:03, 131MB/s]\\r 33%|\\xe2\\x96\\x88\\xe2\\x96\\x88\\xe2\\x96\\x88\\xe2\\x96\\x8e      | 210M/643M [00:01<00:02, 150MB/s]\\r 37%|\\xe2\\x96\\x88\\xe2\\x96\\x88\\xe2\\x96\\x88\\xe2\\x96\\x8b      | 236M/643M [00:01<00:02, 173MB/s]\\r 40%|\\xe2\\x96\\x88\\xe2\\x96\\x88\\xe2\\x96\\x88\\xe2\\x96\\x89      | 255M/643M [00:01<00:02, 173MB/s]\\r 43%|\\xe2\\x96\\x88\\xe2\\x96\\x88\\xe2\\x96\\x88\\xe2\\x96\\x88\\xe2\\x96\\x8e     | 277M/643M [00:01<00:02, 176MB/s]\\r 48%|\\xe2\\x96\\x88\\xe2\\x96\\x88\\xe2\\x96\\x88\\xe2\\x96\\x88\\xe2\\x96\\x8a     | 311M/643M [00:01<00:01, 215MB/s]\\r 52%|\\xe2\\x96\\x88\\xe2\\x96\\x88\\xe2\\x96\\x88\\xe2\\x96\\x88\\xe2\\x96\\x88\\xe2\\x96\\x8f    | 336M/643M [00:02<00:01, 202MB/s]\\r 57%|\\xe2\\x96\\x88\\xe2\\x96\\x88\\xe2\\x96\\x88\\xe2\\x96\\x88\\xe2\\x96\\x88\\xe2\\x96\\x8b    | 370M/643M [00:02<00:01, 233MB/s]\\r 61%|\\xe2\\x96\\x88\\xe2\\x96\\x88\\xe2\\x96\\x88\\xe2\\x96\\x88\\xe2\\x96\\x88\\xe2\\x96\\x88\\xe2\\x96\\x8f   | 394M/643M [00:02<00:01, 235MB/s]\\r 65%|\\xe2\\x96\\x88\\xe2\\x96\\x88\\xe2\\x96\\x88\\xe2\\x96\\x88\\xe2\\x96\\x88\\xe2\\x96\\x88\\xe2\\x96\\x8c   | 419M/643M [00:02<00:01, 201MB/s]\\r 68%|\\xe2\\x96\\x88\\xe2\\x96\\x88\\xe2\\x96\\x88\\xe2\\x96\\x88\\xe2\\x96\\x88\\xe2\\x96\\x88\\xe2\\x96\\x8a   | 440M/643M [00:02<00:01, 175MB/s]\\r 71%|\\xe2\\x96\\x88\\xe2\\x96\\x88\\xe2\\x96\\x88\\xe2\\x96\\x88\\xe2\\x96\\x88\\xe2\\x96\\x88\\xe2\\x96\\x88\\xe2\\x96\\x8f  | 459M/643M [00:03<00:02, 62.4MB/s]\\r 74%|\\xe2\\x96\\x88\\xe2\\x96\\x88\\xe2\\x96\\x88\\xe2\\x96\\x88\\xe2\\x96\\x88\\xe2\\x96\\x88\\xe2\\x96\\x88\\xe2\\x96\\x8e  | 473M/643M [00:03<00:02, 67.2MB/s]\\r 76%|\\xe2\\x96\\x88\\xe2\\x96\\x88\\xe2\\x96\\x88\\xe2\\x96\\x88\\xe2\\x96\\x88\\xe2\\x96\\x88\\xe2\\x96\\x88\\xe2\\x96\\x8c  | 487M/643M [00:03<00:02, 65.4MB/s]\\r 78%|\\xe2\\x96\\x88\\xe2\\x96\\x88\\xe2\\x96\\x88\\xe2\\x96\\x88\\xe2\\x96\\x88\\xe2\\x96\\x88\\xe2\\x96\\x88\\xe2\\x96\\x8a  | 504M/643M [00:04<00:01, 78.1MB/s]\\r 81%|\\xe2\\x96\\x88\\xe2\\x96\\x88\\xe2\\x96\\x88\\xe2\\x96\\x88\\xe2\\x96\\x88\\xe2\\x96\\x88\\xe2\\x96\\x88\\xe2\\x96\\x88  | 521M/643M [00:04<00:01, 81.1MB/s]\\r 85%|\\xe2\\x96\\x88\\xe2\\x96\\x88\\xe2\\x96\\x88\\xe2\\x96\\x88\\xe2\\x96\\x88\\xe2\\x96\\x88\\xe2\\x96\\x88\\xe2\\x96\\x88\\xe2\\x96\\x8c | 547M/643M [00:04<00:00, 112MB/s] \\r 88%|\\xe2\\x96\\x88\\xe2\\x96\\x88\\xe2\\x96\\x88\\xe2\\x96\\x88\\xe2\\x96\\x88\\xe2\\x96\\x88\\xe2\\x96\\x88\\xe2\\x96\\x88\\xe2\\x96\\x8a | 565M/643M [00:04<00:00, 124MB/s]\\r 90%|\\xe2\\x96\\x88\\xe2\\x96\\x88\\xe2\\x96\\x88\\xe2\\x96\\x88\\xe2\\x96\\x88\\xe2\\x96\\x88\\xe2\\x96\\x88\\xe2\\x96\\x88\\xe2\\x96\\x88 | 582M/643M [00:04<00:00, 117MB/s]\\r 93%|\\xe2\\x96\\x88\\xe2\\x96\\x88\\xe2\\x96\\x88\\xe2\\x96\\x88\\xe2\\x96\\x88\\xe2\\x96\\x88\\xe2\\x96\\x88\\xe2\\x96\\x88\\xe2\\x96\\x88\\xe2\\x96\\x8e| 597M/643M [00:04<00:00, 123MB/s]\\r 96%|\\xe2\\x96\\x88\\xe2\\x96\\x88\\xe2\\x96\\x88\\xe2\\x96\\x88\\xe2\\x96\\x88\\xe2\\x96\\x88\\xe2\\x96\\x88\\xe2\\x96\\x88\\xe2\\x96\\x88\\xe2\\x96\\x8c| 619M/643M [00:04<00:00, 145MB/s]\\r 99%|\\xe2\\x96\\x88\\xe2\\x96\\x88\\xe2\\x96\\x88\\xe2\\x96\\x88\\xe2\\x96\\x88\\xe2\\x96\\x88\\xe2\\x96\\x88\\xe2\\x96\\x88\\xe2\\x96\\x88\\xe2\\x96\\x8a| 635M/643M [00:04<00:00, 125MB/s]\\r100%|\\xe2\\x96\\x88\\xe2\\x96\\x88\\xe2\\x96\\x88\\xe2\\x96\\x88\\xe2\\x96\\x88\\xe2\\x96\\x88\\xe2\\x96\\x88\\xe2\\x96\\x88\\xe2\\x96\\x88\\xe2\\x96\\x88| 643M/643M [00:04<00:00, 129MB/s]\\n\")\n",
            "CompletedProcess(args=['gdown', '--id', '1iWqF8dWpDPZbciufcUyPuprLfcP4Zs4w', '--output', 'data.zip'], returncode=0, stdout=b'', stderr=b\"/usr/local/lib/python3.7/dist-packages/gdown/cli.py:131: FutureWarning: Option `--id` was deprecated in version 4.3.1 and will be removed in 5.0. You don't need to pass it anymore to use a file ID.\\n  category=FutureWarning,\\nDownloading...\\nFrom: https://drive.google.com/uc?id=1iWqF8dWpDPZbciufcUyPuprLfcP4Zs4w\\nTo: /content/strv/data.zip\\n\\r  0%|          | 0.00/2.20G [00:00<?, ?B/s]\\r  0%|          | 4.72M/2.20G [00:00<02:38, 13.8MB/s]\\r  1%|          | 21.5M/2.20G [00:00<00:36, 59.3MB/s]\\r  2%|\\xe2\\x96\\x8f         | 34.1M/2.20G [00:00<00:31, 69.6MB/s]\\r  2%|\\xe2\\x96\\x8f         | 50.9M/2.20G [00:00<00:24, 89.4MB/s]\\r  3%|\\xe2\\x96\\x8e         | 67.6M/2.20G [00:00<00:20, 102MB/s] \\r  4%|\\xe2\\x96\\x8d         | 84.4M/2.20G [00:00<00:18, 115MB/s]\\r  4%|\\xe2\\x96\\x8d         | 98.6M/2.20G [00:01<00:17, 122MB/s]\\r  5%|\\xe2\\x96\\x8c         | 112M/2.20G [00:01<00:18, 115MB/s] \\r  6%|\\xe2\\x96\\x8c         | 125M/2.20G [00:01<00:17, 117MB/s]\\r  7%|\\xe2\\x96\\x8b         | 143M/2.20G [00:01<00:16, 124MB/s]\\r  7%|\\xe2\\x96\\x8b         | 156M/2.20G [00:01<00:17, 118MB/s]\\r  8%|\\xe2\\x96\\x8a         | 177M/2.20G [00:01<00:16, 121MB/s]\\r  9%|\\xe2\\x96\\x89         | 193M/2.20G [00:01<00:18, 111MB/s]\\r 10%|\\xe2\\x96\\x88         | 227M/2.20G [00:02<00:13, 145MB/s]\\r 12%|\\xe2\\x96\\x88\\xe2\\x96\\x8f        | 261M/2.20G [00:02<00:13, 147MB/s]\\r 13%|\\xe2\\x96\\x88\\xe2\\x96\\x8e        | 295M/2.20G [00:02<00:10, 186MB/s]\\r 14%|\\xe2\\x96\\x88\\xe2\\x96\\x8d        | 315M/2.20G [00:02<00:12, 155MB/s]\\r 16%|\\xe2\\x96\\x88\\xe2\\x96\\x8c        | 344M/2.20G [00:02<00:10, 183MB/s]\\r 17%|\\xe2\\x96\\x88\\xe2\\x96\\x8b        | 365M/2.20G [00:02<00:10, 167MB/s]\\r 17%|\\xe2\\x96\\x88\\xe2\\x96\\x8b        | 384M/2.20G [00:02<00:10, 169MB/s]\\r 18%|\\xe2\\x96\\x88\\xe2\\x96\\x8a        | 403M/2.20G [00:03<00:10, 165MB/s]\\r 20%|\\xe2\\x96\\x88\\xe2\\x96\\x89        | 434M/2.20G [00:03<00:08, 200MB/s]\\r 21%|\\xe2\\x96\\x88\\xe2\\x96\\x88        | 456M/2.20G [00:03<00:09, 185MB/s]\\r 22%|\\xe2\\x96\\x88\\xe2\\x96\\x88\\xe2\\x96\\x8f       | 479M/2.20G [00:03<00:09, 185MB/s]\\r 23%|\\xe2\\x96\\x88\\xe2\\x96\\x88\\xe2\\x96\\x8e       | 498M/2.20G [00:03<00:09, 181MB/s]\\r 24%|\\xe2\\x96\\x88\\xe2\\x96\\x88\\xe2\\x96\\x8e       | 521M/2.20G [00:03<00:09, 180MB/s]\\r 25%|\\xe2\\x96\\x88\\xe2\\x96\\x88\\xe2\\x96\\x8d       | 539M/2.20G [00:03<00:09, 172MB/s]\\r 26%|\\xe2\\x96\\x88\\xe2\\x96\\x88\\xe2\\x96\\x8c       | 565M/2.20G [00:03<00:08, 194MB/s]\\r 27%|\\xe2\\x96\\x88\\xe2\\x96\\x88\\xe2\\x96\\x8b       | 585M/2.20G [00:03<00:08, 194MB/s]\\r 27%|\\xe2\\x96\\x88\\xe2\\x96\\x88\\xe2\\x96\\x8b       | 605M/2.20G [00:04<00:11, 133MB/s]\\r 28%|\\xe2\\x96\\x88\\xe2\\x96\\x88\\xe2\\x96\\x8a       | 625M/2.20G [00:04<00:10, 148MB/s]\\r 29%|\\xe2\\x96\\x88\\xe2\\x96\\x88\\xe2\\x96\\x89       | 643M/2.20G [00:04<00:11, 135MB/s]\\r 30%|\\xe2\\x96\\x88\\xe2\\x96\\x88\\xe2\\x96\\x89       | 659M/2.20G [00:04<00:11, 129MB/s]\\r 31%|\\xe2\\x96\\x88\\xe2\\x96\\x88\\xe2\\x96\\x88       | 676M/2.20G [00:04<00:10, 139MB/s]\\r 31%|\\xe2\\x96\\x88\\xe2\\x96\\x88\\xe2\\x96\\x88\\xe2\\x96\\x8f      | 691M/2.20G [00:04<00:11, 126MB/s]\\r 32%|\\xe2\\x96\\x88\\xe2\\x96\\x88\\xe2\\x96\\x88\\xe2\\x96\\x8f      | 705M/2.20G [00:05<00:11, 128MB/s]\\r 33%|\\xe2\\x96\\x88\\xe2\\x96\\x88\\xe2\\x96\\x88\\xe2\\x96\\x8e      | 719M/2.20G [00:05<00:12, 122MB/s]\\r 33%|\\xe2\\x96\\x88\\xe2\\x96\\x88\\xe2\\x96\\x88\\xe2\\x96\\x8e      | 732M/2.20G [00:05<00:12, 117MB/s]\\r 34%|\\xe2\\x96\\x88\\xe2\\x96\\x88\\xe2\\x96\\x88\\xe2\\x96\\x8d      | 747M/2.20G [00:05<00:12, 115MB/s]\\r 35%|\\xe2\\x96\\x88\\xe2\\x96\\x88\\xe2\\x96\\x88\\xe2\\x96\\x8d      | 762M/2.20G [00:05<00:11, 124MB/s]\\r 35%|\\xe2\\x96\\x88\\xe2\\x96\\x88\\xe2\\x96\\x88\\xe2\\x96\\x8c      | 781M/2.20G [00:05<00:12, 118MB/s]\\r 36%|\\xe2\\x96\\x88\\xe2\\x96\\x88\\xe2\\x96\\x88\\xe2\\x96\\x8c      | 795M/2.20G [00:05<00:11, 125MB/s]\\r 37%|\\xe2\\x96\\x88\\xe2\\x96\\x88\\xe2\\x96\\x88\\xe2\\x96\\x8b      | 810M/2.20G [00:05<00:10, 130MB/s]\\r 37%|\\xe2\\x96\\x88\\xe2\\x96\\x88\\xe2\\x96\\x88\\xe2\\x96\\x8b      | 824M/2.20G [00:06<00:33, 41.3MB/s]\\r 38%|\\xe2\\x96\\x88\\xe2\\x96\\x88\\xe2\\x96\\x88\\xe2\\x96\\x8a      | 839M/2.20G [00:06<00:26, 52.2MB/s]\\r 39%|\\xe2\\x96\\x88\\xe2\\x96\\x88\\xe2\\x96\\x88\\xe2\\x96\\x8a      | 850M/2.20G [00:07<00:23, 57.0MB/s]\\r 39%|\\xe2\\x96\\x88\\xe2\\x96\\x88\\xe2\\x96\\x88\\xe2\\x96\\x89      | 865M/2.20G [00:07<00:19, 67.2MB/s]\\r 40%|\\xe2\\x96\\x88\\xe2\\x96\\x88\\xe2\\x96\\x88\\xe2\\x96\\x88      | 881M/2.20G [00:07<00:17, 75.2MB/s]\\r 41%|\\xe2\\x96\\x88\\xe2\\x96\\x88\\xe2\\x96\\x88\\xe2\\x96\\x88      | 898M/2.20G [00:07<00:14, 88.4MB/s]\\r 42%|\\xe2\\x96\\x88\\xe2\\x96\\x88\\xe2\\x96\\x88\\xe2\\x96\\x88\\xe2\\x96\\x8f     | 915M/2.20G [00:07<00:13, 96.3MB/s]\\r 42%|\\xe2\\x96\\x88\\xe2\\x96\\x88\\xe2\\x96\\x88\\xe2\\x96\\x88\\xe2\\x96\\x8f     | 932M/2.20G [00:07<00:13, 93.5MB/s]\\r 43%|\\xe2\\x96\\x88\\xe2\\x96\\x88\\xe2\\x96\\x88\\xe2\\x96\\x88\\xe2\\x96\\x8e     | 948M/2.20G [00:07<00:12, 100MB/s] \\r 44%|\\xe2\\x96\\x88\\xe2\\x96\\x88\\xe2\\x96\\x88\\xe2\\x96\\x88\\xe2\\x96\\x8d     | 965M/2.20G [00:08<00:11, 108MB/s]\\r 45%|\\xe2\\x96\\x88\\xe2\\x96\\x88\\xe2\\x96\\x88\\xe2\\x96\\x88\\xe2\\x96\\x8d     | 982M/2.20G [00:08<00:10, 113MB/s]\\r 45%|\\xe2\\x96\\x88\\xe2\\x96\\x88\\xe2\\x96\\x88\\xe2\\x96\\x88\\xe2\\x96\\x8c     | 999M/2.20G [00:08<00:11, 107MB/s]\\r 46%|\\xe2\\x96\\x88\\xe2\\x96\\x88\\xe2\\x96\\x88\\xe2\\x96\\x88\\xe2\\x96\\x8c     | 1.01G/2.20G [00:08<00:10, 109MB/s]\\r 47%|\\xe2\\x96\\x88\\xe2\\x96\\x88\\xe2\\x96\\x88\\xe2\\x96\\x88\\xe2\\x96\\x8b     | 1.03G/2.20G [00:08<00:09, 120MB/s]\\r 47%|\\xe2\\x96\\x88\\xe2\\x96\\x88\\xe2\\x96\\x88\\xe2\\x96\\x88\\xe2\\x96\\x8b     | 1.04G/2.20G [00:08<00:10, 112MB/s]\\r 48%|\\xe2\\x96\\x88\\xe2\\x96\\x88\\xe2\\x96\\x88\\xe2\\x96\\x88\\xe2\\x96\\x8a     | 1.05G/2.20G [00:08<00:10, 109MB/s]\\r 49%|\\xe2\\x96\\x88\\xe2\\x96\\x88\\xe2\\x96\\x88\\xe2\\x96\\x88\\xe2\\x96\\x8a     | 1.07G/2.20G [00:08<00:08, 128MB/s]\\r 49%|\\xe2\\x96\\x88\\xe2\\x96\\x88\\xe2\\x96\\x88\\xe2\\x96\\x88\\xe2\\x96\\x89     | 1.08G/2.20G [00:09<00:10, 111MB/s]\\r 50%|\\xe2\\x96\\x88\\xe2\\x96\\x88\\xe2\\x96\\x88\\xe2\\x96\\x88\\xe2\\x96\\x89     | 1.10G/2.20G [00:09<00:10, 108MB/s]\\r 51%|\\xe2\\x96\\x88\\xe2\\x96\\x88\\xe2\\x96\\x88\\xe2\\x96\\x88\\xe2\\x96\\x88     | 1.12G/2.20G [00:09<00:07, 136MB/s]\\r 52%|\\xe2\\x96\\x88\\xe2\\x96\\x88\\xe2\\x96\\x88\\xe2\\x96\\x88\\xe2\\x96\\x88\\xe2\\x96\\x8f    | 1.14G/2.20G [00:09<00:09, 115MB/s]\\r 52%|\\xe2\\x96\\x88\\xe2\\x96\\x88\\xe2\\x96\\x88\\xe2\\x96\\x88\\xe2\\x96\\x88\\xe2\\x96\\x8f    | 1.15G/2.20G [00:09<00:10, 103MB/s]\\r 53%|\\xe2\\x96\\x88\\xe2\\x96\\x88\\xe2\\x96\\x88\\xe2\\x96\\x88\\xe2\\x96\\x88\\xe2\\x96\\x8e    | 1.17G/2.20G [00:09<00:08, 121MB/s]\\r 54%|\\xe2\\x96\\x88\\xe2\\x96\\x88\\xe2\\x96\\x88\\xe2\\x96\\x88\\xe2\\x96\\x88\\xe2\\x96\\x8d    | 1.18G/2.20G [00:10<00:09, 103MB/s]\\r 54%|\\xe2\\x96\\x88\\xe2\\x96\\x88\\xe2\\x96\\x88\\xe2\\x96\\x88\\xe2\\x96\\x88\\xe2\\x96\\x8d    | 1.20G/2.20G [00:10<00:08, 112MB/s]\\r 55%|\\xe2\\x96\\x88\\xe2\\x96\\x88\\xe2\\x96\\x88\\xe2\\x96\\x88\\xe2\\x96\\x88\\xe2\\x96\\x8d    | 1.21G/2.20G [00:10<00:10, 96.2MB/s]\\r 56%|\\xe2\\x96\\x88\\xe2\\x96\\x88\\xe2\\x96\\x88\\xe2\\x96\\x88\\xe2\\x96\\x88\\xe2\\x96\\x8b    | 1.24G/2.20G [00:10<00:06, 145MB/s] \\r 57%|\\xe2\\x96\\x88\\xe2\\x96\\x88\\xe2\\x96\\x88\\xe2\\x96\\x88\\xe2\\x96\\x88\\xe2\\x96\\x8b    | 1.26G/2.20G [00:10<00:05, 157MB/s]\\r 58%|\\xe2\\x96\\x88\\xe2\\x96\\x88\\xe2\\x96\\x88\\xe2\\x96\\x88\\xe2\\x96\\x88\\xe2\\x96\\x8a    | 1.28G/2.20G [00:10<00:06, 152MB/s]\\r 59%|\\xe2\\x96\\x88\\xe2\\x96\\x88\\xe2\\x96\\x88\\xe2\\x96\\x88\\xe2\\x96\\x88\\xe2\\x96\\x89    | 1.30G/2.20G [00:10<00:05, 169MB/s]\\r 61%|\\xe2\\x96\\x88\\xe2\\x96\\x88\\xe2\\x96\\x88\\xe2\\x96\\x88\\xe2\\x96\\x88\\xe2\\x96\\x88    | 1.34G/2.20G [00:10<00:03, 218MB/s]\\r 62%|\\xe2\\x96\\x88\\xe2\\x96\\x88\\xe2\\x96\\x88\\xe2\\x96\\x88\\xe2\\x96\\x88\\xe2\\x96\\x88\\xe2\\x96\\x8f   | 1.37G/2.20G [00:10<00:03, 239MB/s]\\r 64%|\\xe2\\x96\\x88\\xe2\\x96\\x88\\xe2\\x96\\x88\\xe2\\x96\\x88\\xe2\\x96\\x88\\xe2\\x96\\x88\\xe2\\x96\\x8e   | 1.40G/2.20G [00:11<00:03, 260MB/s]\\r 65%|\\xe2\\x96\\x88\\xe2\\x96\\x88\\xe2\\x96\\x88\\xe2\\x96\\x88\\xe2\\x96\\x88\\xe2\\x96\\x88\\xe2\\x96\\x8d   | 1.43G/2.20G [00:11<00:04, 173MB/s]\\r 66%|\\xe2\\x96\\x88\\xe2\\x96\\x88\\xe2\\x96\\x88\\xe2\\x96\\x88\\xe2\\x96\\x88\\xe2\\x96\\x88\\xe2\\x96\\x8c   | 1.45G/2.20G [00:11<00:03, 188MB/s]\\r 67%|\\xe2\\x96\\x88\\xe2\\x96\\x88\\xe2\\x96\\x88\\xe2\\x96\\x88\\xe2\\x96\\x88\\xe2\\x96\\x88\\xe2\\x96\\x8b   | 1.48G/2.20G [00:11<00:03, 188MB/s]\\r 69%|\\xe2\\x96\\x88\\xe2\\x96\\x88\\xe2\\x96\\x88\\xe2\\x96\\x88\\xe2\\x96\\x88\\xe2\\x96\\x88\\xe2\\x96\\x8a   | 1.51G/2.20G [00:11<00:03, 216MB/s]\\r 70%|\\xe2\\x96\\x88\\xe2\\x96\\x88\\xe2\\x96\\x88\\xe2\\x96\\x88\\xe2\\x96\\x88\\xe2\\x96\\x88\\xe2\\x96\\x89   | 1.53G/2.20G [00:11<00:03, 210MB/s]\\r 71%|\\xe2\\x96\\x88\\xe2\\x96\\x88\\xe2\\x96\\x88\\xe2\\x96\\x88\\xe2\\x96\\x88\\xe2\\x96\\x88\\xe2\\x96\\x88   | 1.56G/2.20G [00:11<00:02, 229MB/s]\\r 72%|\\xe2\\x96\\x88\\xe2\\x96\\x88\\xe2\\x96\\x88\\xe2\\x96\\x88\\xe2\\x96\\x88\\xe2\\x96\\x88\\xe2\\x96\\x88\\xe2\\x96\\x8f  | 1.59G/2.20G [00:11<00:02, 232MB/s]\\r 73%|\\xe2\\x96\\x88\\xe2\\x96\\x88\\xe2\\x96\\x88\\xe2\\x96\\x88\\xe2\\x96\\x88\\xe2\\x96\\x88\\xe2\\x96\\x88\\xe2\\x96\\x8e  | 1.61G/2.20G [00:12<00:04, 127MB/s]\\r 74%|\\xe2\\x96\\x88\\xe2\\x96\\x88\\xe2\\x96\\x88\\xe2\\x96\\x88\\xe2\\x96\\x88\\xe2\\x96\\x88\\xe2\\x96\\x88\\xe2\\x96\\x8d  | 1.63G/2.20G [00:12<00:04, 126MB/s]\\r 75%|\\xe2\\x96\\x88\\xe2\\x96\\x88\\xe2\\x96\\x88\\xe2\\x96\\x88\\xe2\\x96\\x88\\xe2\\x96\\x88\\xe2\\x96\\x88\\xe2\\x96\\x8d  | 1.65G/2.20G [00:12<00:04, 113MB/s]\\r 76%|\\xe2\\x96\\x88\\xe2\\x96\\x88\\xe2\\x96\\x88\\xe2\\x96\\x88\\xe2\\x96\\x88\\xe2\\x96\\x88\\xe2\\x96\\x88\\xe2\\x96\\x8c  | 1.66G/2.20G [00:12<00:04, 112MB/s]\\r 76%|\\xe2\\x96\\x88\\xe2\\x96\\x88\\xe2\\x96\\x88\\xe2\\x96\\x88\\xe2\\x96\\x88\\xe2\\x96\\x88\\xe2\\x96\\x88\\xe2\\x96\\x8b  | 1.68G/2.20G [00:13<00:04, 115MB/s]\\r 77%|\\xe2\\x96\\x88\\xe2\\x96\\x88\\xe2\\x96\\x88\\xe2\\x96\\x88\\xe2\\x96\\x88\\xe2\\x96\\x88\\xe2\\x96\\x88\\xe2\\x96\\x8b  | 1.70G/2.20G [00:13<00:04, 118MB/s]\\r 78%|\\xe2\\x96\\x88\\xe2\\x96\\x88\\xe2\\x96\\x88\\xe2\\x96\\x88\\xe2\\x96\\x88\\xe2\\x96\\x88\\xe2\\x96\\x88\\xe2\\x96\\x8a  | 1.71G/2.20G [00:13<00:04, 102MB/s]\\r 79%|\\xe2\\x96\\x88\\xe2\\x96\\x88\\xe2\\x96\\x88\\xe2\\x96\\x88\\xe2\\x96\\x88\\xe2\\x96\\x88\\xe2\\x96\\x88\\xe2\\x96\\x89  | 1.74G/2.20G [00:13<00:03, 135MB/s]\\r 80%|\\xe2\\x96\\x88\\xe2\\x96\\x88\\xe2\\x96\\x88\\xe2\\x96\\x88\\xe2\\x96\\x88\\xe2\\x96\\x88\\xe2\\x96\\x88\\xe2\\x96\\x89  | 1.75G/2.20G [00:13<00:04, 101MB/s]\\r 81%|\\xe2\\x96\\x88\\xe2\\x96\\x88\\xe2\\x96\\x88\\xe2\\x96\\x88\\xe2\\x96\\x88\\xe2\\x96\\x88\\xe2\\x96\\x88\\xe2\\x96\\x88  | 1.77G/2.20G [00:13<00:04, 104MB/s]\\r 81%|\\xe2\\x96\\x88\\xe2\\x96\\x88\\xe2\\x96\\x88\\xe2\\x96\\x88\\xe2\\x96\\x88\\xe2\\x96\\x88\\xe2\\x96\\x88\\xe2\\x96\\x88  | 1.78G/2.20G [00:14<00:04, 99.4MB/s]\\r 82%|\\xe2\\x96\\x88\\xe2\\x96\\x88\\xe2\\x96\\x88\\xe2\\x96\\x88\\xe2\\x96\\x88\\xe2\\x96\\x88\\xe2\\x96\\x88\\xe2\\x96\\x88\\xe2\\x96\\x8f | 1.80G/2.20G [00:14<00:03, 118MB/s] \\r 83%|\\xe2\\x96\\x88\\xe2\\x96\\x88\\xe2\\x96\\x88\\xe2\\x96\\x88\\xe2\\x96\\x88\\xe2\\x96\\x88\\xe2\\x96\\x88\\xe2\\x96\\x88\\xe2\\x96\\x8e | 1.82G/2.20G [00:14<00:03, 110MB/s]\\r 83%|\\xe2\\x96\\x88\\xe2\\x96\\x88\\xe2\\x96\\x88\\xe2\\x96\\x88\\xe2\\x96\\x88\\xe2\\x96\\x88\\xe2\\x96\\x88\\xe2\\x96\\x88\\xe2\\x96\\x8e | 1.83G/2.20G [00:14<00:03, 103MB/s]\\r 84%|\\xe2\\x96\\x88\\xe2\\x96\\x88\\xe2\\x96\\x88\\xe2\\x96\\x88\\xe2\\x96\\x88\\xe2\\x96\\x88\\xe2\\x96\\x88\\xe2\\x96\\x88\\xe2\\x96\\x8d | 1.85G/2.20G [00:14<00:03, 105MB/s]\\r 85%|\\xe2\\x96\\x88\\xe2\\x96\\x88\\xe2\\x96\\x88\\xe2\\x96\\x88\\xe2\\x96\\x88\\xe2\\x96\\x88\\xe2\\x96\\x88\\xe2\\x96\\x88\\xe2\\x96\\x8d | 1.86G/2.20G [00:14<00:02, 119MB/s]\\r 85%|\\xe2\\x96\\x88\\xe2\\x96\\x88\\xe2\\x96\\x88\\xe2\\x96\\x88\\xe2\\x96\\x88\\xe2\\x96\\x88\\xe2\\x96\\x88\\xe2\\x96\\x88\\xe2\\x96\\x8c | 1.88G/2.20G [00:14<00:02, 114MB/s]\\r 86%|\\xe2\\x96\\x88\\xe2\\x96\\x88\\xe2\\x96\\x88\\xe2\\x96\\x88\\xe2\\x96\\x88\\xe2\\x96\\x88\\xe2\\x96\\x88\\xe2\\x96\\x88\\xe2\\x96\\x8c | 1.90G/2.20G [00:14<00:02, 118MB/s]\\r 87%|\\xe2\\x96\\x88\\xe2\\x96\\x88\\xe2\\x96\\x88\\xe2\\x96\\x88\\xe2\\x96\\x88\\xe2\\x96\\x88\\xe2\\x96\\x88\\xe2\\x96\\x88\\xe2\\x96\\x8b | 1.91G/2.20G [00:15<00:02, 123MB/s]\\r 88%|\\xe2\\x96\\x88\\xe2\\x96\\x88\\xe2\\x96\\x88\\xe2\\x96\\x88\\xe2\\x96\\x88\\xe2\\x96\\x88\\xe2\\x96\\x88\\xe2\\x96\\x88\\xe2\\x96\\x8a | 1.93G/2.20G [00:15<00:02, 123MB/s]\\r 88%|\\xe2\\x96\\x88\\xe2\\x96\\x88\\xe2\\x96\\x88\\xe2\\x96\\x88\\xe2\\x96\\x88\\xe2\\x96\\x88\\xe2\\x96\\x88\\xe2\\x96\\x88\\xe2\\x96\\x8a | 1.95G/2.20G [00:15<00:01, 140MB/s]\\r 89%|\\xe2\\x96\\x88\\xe2\\x96\\x88\\xe2\\x96\\x88\\xe2\\x96\\x88\\xe2\\x96\\x88\\xe2\\x96\\x88\\xe2\\x96\\x88\\xe2\\x96\\x88\\xe2\\x96\\x89 | 1.96G/2.20G [00:15<00:02, 118MB/s]\\r 90%|\\xe2\\x96\\x88\\xe2\\x96\\x88\\xe2\\x96\\x88\\xe2\\x96\\x88\\xe2\\x96\\x88\\xe2\\x96\\x88\\xe2\\x96\\x88\\xe2\\x96\\x88\\xe2\\x96\\x89 | 1.97G/2.20G [00:15<00:01, 119MB/s]\\r 90%|\\xe2\\x96\\x88\\xe2\\x96\\x88\\xe2\\x96\\x88\\xe2\\x96\\x88\\xe2\\x96\\x88\\xe2\\x96\\x88\\xe2\\x96\\x88\\xe2\\x96\\x88\\xe2\\x96\\x88 | 1.99G/2.20G [00:15<00:01, 114MB/s]\\r 91%|\\xe2\\x96\\x88\\xe2\\x96\\x88\\xe2\\x96\\x88\\xe2\\x96\\x88\\xe2\\x96\\x88\\xe2\\x96\\x88\\xe2\\x96\\x88\\xe2\\x96\\x88\\xe2\\x96\\x88\\xe2\\x96\\x8f| 2.01G/2.20G [00:15<00:01, 132MB/s]\\r 92%|\\xe2\\x96\\x88\\xe2\\x96\\x88\\xe2\\x96\\x88\\xe2\\x96\\x88\\xe2\\x96\\x88\\xe2\\x96\\x88\\xe2\\x96\\x88\\xe2\\x96\\x88\\xe2\\x96\\x88\\xe2\\x96\\x8f| 2.02G/2.20G [00:15<00:01, 126MB/s]\\r 93%|\\xe2\\x96\\x88\\xe2\\x96\\x88\\xe2\\x96\\x88\\xe2\\x96\\x88\\xe2\\x96\\x88\\xe2\\x96\\x88\\xe2\\x96\\x88\\xe2\\x96\\x88\\xe2\\x96\\x88\\xe2\\x96\\x8e| 2.04G/2.20G [00:16<00:01, 127MB/s]\\r 93%|\\xe2\\x96\\x88\\xe2\\x96\\x88\\xe2\\x96\\x88\\xe2\\x96\\x88\\xe2\\x96\\x88\\xe2\\x96\\x88\\xe2\\x96\\x88\\xe2\\x96\\x88\\xe2\\x96\\x88\\xe2\\x96\\x8e| 2.06G/2.20G [00:16<00:00, 148MB/s]\\r 94%|\\xe2\\x96\\x88\\xe2\\x96\\x88\\xe2\\x96\\x88\\xe2\\x96\\x88\\xe2\\x96\\x88\\xe2\\x96\\x88\\xe2\\x96\\x88\\xe2\\x96\\x88\\xe2\\x96\\x88\\xe2\\x96\\x8d| 2.07G/2.20G [00:16<00:00, 158MB/s]\\r 95%|\\xe2\\x96\\x88\\xe2\\x96\\x88\\xe2\\x96\\x88\\xe2\\x96\\x88\\xe2\\x96\\x88\\xe2\\x96\\x88\\xe2\\x96\\x88\\xe2\\x96\\x88\\xe2\\x96\\x88\\xe2\\x96\\x8c| 2.10G/2.20G [00:16<00:00, 172MB/s]\\r 97%|\\xe2\\x96\\x88\\xe2\\x96\\x88\\xe2\\x96\\x88\\xe2\\x96\\x88\\xe2\\x96\\x88\\xe2\\x96\\x88\\xe2\\x96\\x88\\xe2\\x96\\x88\\xe2\\x96\\x88\\xe2\\x96\\x8b| 2.12G/2.20G [00:16<00:00, 203MB/s]\\r 98%|\\xe2\\x96\\x88\\xe2\\x96\\x88\\xe2\\x96\\x88\\xe2\\x96\\x88\\xe2\\x96\\x88\\xe2\\x96\\x88\\xe2\\x96\\x88\\xe2\\x96\\x88\\xe2\\x96\\x88\\xe2\\x96\\x8a| 2.15G/2.20G [00:16<00:00, 229MB/s]\\r 99%|\\xe2\\x96\\x88\\xe2\\x96\\x88\\xe2\\x96\\x88\\xe2\\x96\\x88\\xe2\\x96\\x88\\xe2\\x96\\x88\\xe2\\x96\\x88\\xe2\\x96\\x88\\xe2\\x96\\x88\\xe2\\x96\\x89| 2.18G/2.20G [00:16<00:00, 247MB/s]\\r100%|\\xe2\\x96\\x88\\xe2\\x96\\x88\\xe2\\x96\\x88\\xe2\\x96\\x88\\xe2\\x96\\x88\\xe2\\x96\\x88\\xe2\\x96\\x88\\xe2\\x96\\x88\\xe2\\x96\\x88\\xe2\\x96\\x88| 2.20G/2.20G [00:16<00:00, 131MB/s]\\n\")\n",
            "CompletedProcess(args=['gdown', '--id', '1iWqF8dWpDPZbciufcUyPuprLfcP4Zs4w', '--output', 'data.zip'], returncode=0, stdout=b'', stderr=b\"/usr/local/lib/python3.7/dist-packages/gdown/cli.py:131: FutureWarning: Option `--id` was deprecated in version 4.3.1 and will be removed in 5.0. You don't need to pass it anymore to use a file ID.\\n  category=FutureWarning,\\nDownloading...\\nFrom: https://drive.google.com/uc?id=1iWqF8dWpDPZbciufcUyPuprLfcP4Zs4w\\nTo: /content/strv/data.zip\\n\\r  0%|          | 0.00/2.20G [00:00<?, ?B/s]\\r  0%|          | 4.72M/2.20G [00:00<02:38, 13.8MB/s]\\r  1%|          | 21.5M/2.20G [00:00<00:36, 59.3MB/s]\\r  2%|\\xe2\\x96\\x8f         | 34.1M/2.20G [00:00<00:31, 69.6MB/s]\\r  2%|\\xe2\\x96\\x8f         | 50.9M/2.20G [00:00<00:24, 89.4MB/s]\\r  3%|\\xe2\\x96\\x8e         | 67.6M/2.20G [00:00<00:20, 102MB/s] \\r  4%|\\xe2\\x96\\x8d         | 84.4M/2.20G [00:00<00:18, 115MB/s]\\r  4%|\\xe2\\x96\\x8d         | 98.6M/2.20G [00:01<00:17, 122MB/s]\\r  5%|\\xe2\\x96\\x8c         | 112M/2.20G [00:01<00:18, 115MB/s] \\r  6%|\\xe2\\x96\\x8c         | 125M/2.20G [00:01<00:17, 117MB/s]\\r  7%|\\xe2\\x96\\x8b         | 143M/2.20G [00:01<00:16, 124MB/s]\\r  7%|\\xe2\\x96\\x8b         | 156M/2.20G [00:01<00:17, 118MB/s]\\r  8%|\\xe2\\x96\\x8a         | 177M/2.20G [00:01<00:16, 121MB/s]\\r  9%|\\xe2\\x96\\x89         | 193M/2.20G [00:01<00:18, 111MB/s]\\r 10%|\\xe2\\x96\\x88         | 227M/2.20G [00:02<00:13, 145MB/s]\\r 12%|\\xe2\\x96\\x88\\xe2\\x96\\x8f        | 261M/2.20G [00:02<00:13, 147MB/s]\\r 13%|\\xe2\\x96\\x88\\xe2\\x96\\x8e        | 295M/2.20G [00:02<00:10, 186MB/s]\\r 14%|\\xe2\\x96\\x88\\xe2\\x96\\x8d        | 315M/2.20G [00:02<00:12, 155MB/s]\\r 16%|\\xe2\\x96\\x88\\xe2\\x96\\x8c        | 344M/2.20G [00:02<00:10, 183MB/s]\\r 17%|\\xe2\\x96\\x88\\xe2\\x96\\x8b        | 365M/2.20G [00:02<00:10, 167MB/s]\\r 17%|\\xe2\\x96\\x88\\xe2\\x96\\x8b        | 384M/2.20G [00:02<00:10, 169MB/s]\\r 18%|\\xe2\\x96\\x88\\xe2\\x96\\x8a        | 403M/2.20G [00:03<00:10, 165MB/s]\\r 20%|\\xe2\\x96\\x88\\xe2\\x96\\x89        | 434M/2.20G [00:03<00:08, 200MB/s]\\r 21%|\\xe2\\x96\\x88\\xe2\\x96\\x88        | 456M/2.20G [00:03<00:09, 185MB/s]\\r 22%|\\xe2\\x96\\x88\\xe2\\x96\\x88\\xe2\\x96\\x8f       | 479M/2.20G [00:03<00:09, 185MB/s]\\r 23%|\\xe2\\x96\\x88\\xe2\\x96\\x88\\xe2\\x96\\x8e       | 498M/2.20G [00:03<00:09, 181MB/s]\\r 24%|\\xe2\\x96\\x88\\xe2\\x96\\x88\\xe2\\x96\\x8e       | 521M/2.20G [00:03<00:09, 180MB/s]\\r 25%|\\xe2\\x96\\x88\\xe2\\x96\\x88\\xe2\\x96\\x8d       | 539M/2.20G [00:03<00:09, 172MB/s]\\r 26%|\\xe2\\x96\\x88\\xe2\\x96\\x88\\xe2\\x96\\x8c       | 565M/2.20G [00:03<00:08, 194MB/s]\\r 27%|\\xe2\\x96\\x88\\xe2\\x96\\x88\\xe2\\x96\\x8b       | 585M/2.20G [00:03<00:08, 194MB/s]\\r 27%|\\xe2\\x96\\x88\\xe2\\x96\\x88\\xe2\\x96\\x8b       | 605M/2.20G [00:04<00:11, 133MB/s]\\r 28%|\\xe2\\x96\\x88\\xe2\\x96\\x88\\xe2\\x96\\x8a       | 625M/2.20G [00:04<00:10, 148MB/s]\\r 29%|\\xe2\\x96\\x88\\xe2\\x96\\x88\\xe2\\x96\\x89       | 643M/2.20G [00:04<00:11, 135MB/s]\\r 30%|\\xe2\\x96\\x88\\xe2\\x96\\x88\\xe2\\x96\\x89       | 659M/2.20G [00:04<00:11, 129MB/s]\\r 31%|\\xe2\\x96\\x88\\xe2\\x96\\x88\\xe2\\x96\\x88       | 676M/2.20G [00:04<00:10, 139MB/s]\\r 31%|\\xe2\\x96\\x88\\xe2\\x96\\x88\\xe2\\x96\\x88\\xe2\\x96\\x8f      | 691M/2.20G [00:04<00:11, 126MB/s]\\r 32%|\\xe2\\x96\\x88\\xe2\\x96\\x88\\xe2\\x96\\x88\\xe2\\x96\\x8f      | 705M/2.20G [00:05<00:11, 128MB/s]\\r 33%|\\xe2\\x96\\x88\\xe2\\x96\\x88\\xe2\\x96\\x88\\xe2\\x96\\x8e      | 719M/2.20G [00:05<00:12, 122MB/s]\\r 33%|\\xe2\\x96\\x88\\xe2\\x96\\x88\\xe2\\x96\\x88\\xe2\\x96\\x8e      | 732M/2.20G [00:05<00:12, 117MB/s]\\r 34%|\\xe2\\x96\\x88\\xe2\\x96\\x88\\xe2\\x96\\x88\\xe2\\x96\\x8d      | 747M/2.20G [00:05<00:12, 115MB/s]\\r 35%|\\xe2\\x96\\x88\\xe2\\x96\\x88\\xe2\\x96\\x88\\xe2\\x96\\x8d      | 762M/2.20G [00:05<00:11, 124MB/s]\\r 35%|\\xe2\\x96\\x88\\xe2\\x96\\x88\\xe2\\x96\\x88\\xe2\\x96\\x8c      | 781M/2.20G [00:05<00:12, 118MB/s]\\r 36%|\\xe2\\x96\\x88\\xe2\\x96\\x88\\xe2\\x96\\x88\\xe2\\x96\\x8c      | 795M/2.20G [00:05<00:11, 125MB/s]\\r 37%|\\xe2\\x96\\x88\\xe2\\x96\\x88\\xe2\\x96\\x88\\xe2\\x96\\x8b      | 810M/2.20G [00:05<00:10, 130MB/s]\\r 37%|\\xe2\\x96\\x88\\xe2\\x96\\x88\\xe2\\x96\\x88\\xe2\\x96\\x8b      | 824M/2.20G [00:06<00:33, 41.3MB/s]\\r 38%|\\xe2\\x96\\x88\\xe2\\x96\\x88\\xe2\\x96\\x88\\xe2\\x96\\x8a      | 839M/2.20G [00:06<00:26, 52.2MB/s]\\r 39%|\\xe2\\x96\\x88\\xe2\\x96\\x88\\xe2\\x96\\x88\\xe2\\x96\\x8a      | 850M/2.20G [00:07<00:23, 57.0MB/s]\\r 39%|\\xe2\\x96\\x88\\xe2\\x96\\x88\\xe2\\x96\\x88\\xe2\\x96\\x89      | 865M/2.20G [00:07<00:19, 67.2MB/s]\\r 40%|\\xe2\\x96\\x88\\xe2\\x96\\x88\\xe2\\x96\\x88\\xe2\\x96\\x88      | 881M/2.20G [00:07<00:17, 75.2MB/s]\\r 41%|\\xe2\\x96\\x88\\xe2\\x96\\x88\\xe2\\x96\\x88\\xe2\\x96\\x88      | 898M/2.20G [00:07<00:14, 88.4MB/s]\\r 42%|\\xe2\\x96\\x88\\xe2\\x96\\x88\\xe2\\x96\\x88\\xe2\\x96\\x88\\xe2\\x96\\x8f     | 915M/2.20G [00:07<00:13, 96.3MB/s]\\r 42%|\\xe2\\x96\\x88\\xe2\\x96\\x88\\xe2\\x96\\x88\\xe2\\x96\\x88\\xe2\\x96\\x8f     | 932M/2.20G [00:07<00:13, 93.5MB/s]\\r 43%|\\xe2\\x96\\x88\\xe2\\x96\\x88\\xe2\\x96\\x88\\xe2\\x96\\x88\\xe2\\x96\\x8e     | 948M/2.20G [00:07<00:12, 100MB/s] \\r 44%|\\xe2\\x96\\x88\\xe2\\x96\\x88\\xe2\\x96\\x88\\xe2\\x96\\x88\\xe2\\x96\\x8d     | 965M/2.20G [00:08<00:11, 108MB/s]\\r 45%|\\xe2\\x96\\x88\\xe2\\x96\\x88\\xe2\\x96\\x88\\xe2\\x96\\x88\\xe2\\x96\\x8d     | 982M/2.20G [00:08<00:10, 113MB/s]\\r 45%|\\xe2\\x96\\x88\\xe2\\x96\\x88\\xe2\\x96\\x88\\xe2\\x96\\x88\\xe2\\x96\\x8c     | 999M/2.20G [00:08<00:11, 107MB/s]\\r 46%|\\xe2\\x96\\x88\\xe2\\x96\\x88\\xe2\\x96\\x88\\xe2\\x96\\x88\\xe2\\x96\\x8c     | 1.01G/2.20G [00:08<00:10, 109MB/s]\\r 47%|\\xe2\\x96\\x88\\xe2\\x96\\x88\\xe2\\x96\\x88\\xe2\\x96\\x88\\xe2\\x96\\x8b     | 1.03G/2.20G [00:08<00:09, 120MB/s]\\r 47%|\\xe2\\x96\\x88\\xe2\\x96\\x88\\xe2\\x96\\x88\\xe2\\x96\\x88\\xe2\\x96\\x8b     | 1.04G/2.20G [00:08<00:10, 112MB/s]\\r 48%|\\xe2\\x96\\x88\\xe2\\x96\\x88\\xe2\\x96\\x88\\xe2\\x96\\x88\\xe2\\x96\\x8a     | 1.05G/2.20G [00:08<00:10, 109MB/s]\\r 49%|\\xe2\\x96\\x88\\xe2\\x96\\x88\\xe2\\x96\\x88\\xe2\\x96\\x88\\xe2\\x96\\x8a     | 1.07G/2.20G [00:08<00:08, 128MB/s]\\r 49%|\\xe2\\x96\\x88\\xe2\\x96\\x88\\xe2\\x96\\x88\\xe2\\x96\\x88\\xe2\\x96\\x89     | 1.08G/2.20G [00:09<00:10, 111MB/s]\\r 50%|\\xe2\\x96\\x88\\xe2\\x96\\x88\\xe2\\x96\\x88\\xe2\\x96\\x88\\xe2\\x96\\x89     | 1.10G/2.20G [00:09<00:10, 108MB/s]\\r 51%|\\xe2\\x96\\x88\\xe2\\x96\\x88\\xe2\\x96\\x88\\xe2\\x96\\x88\\xe2\\x96\\x88     | 1.12G/2.20G [00:09<00:07, 136MB/s]\\r 52%|\\xe2\\x96\\x88\\xe2\\x96\\x88\\xe2\\x96\\x88\\xe2\\x96\\x88\\xe2\\x96\\x88\\xe2\\x96\\x8f    | 1.14G/2.20G [00:09<00:09, 115MB/s]\\r 52%|\\xe2\\x96\\x88\\xe2\\x96\\x88\\xe2\\x96\\x88\\xe2\\x96\\x88\\xe2\\x96\\x88\\xe2\\x96\\x8f    | 1.15G/2.20G [00:09<00:10, 103MB/s]\\r 53%|\\xe2\\x96\\x88\\xe2\\x96\\x88\\xe2\\x96\\x88\\xe2\\x96\\x88\\xe2\\x96\\x88\\xe2\\x96\\x8e    | 1.17G/2.20G [00:09<00:08, 121MB/s]\\r 54%|\\xe2\\x96\\x88\\xe2\\x96\\x88\\xe2\\x96\\x88\\xe2\\x96\\x88\\xe2\\x96\\x88\\xe2\\x96\\x8d    | 1.18G/2.20G [00:10<00:09, 103MB/s]\\r 54%|\\xe2\\x96\\x88\\xe2\\x96\\x88\\xe2\\x96\\x88\\xe2\\x96\\x88\\xe2\\x96\\x88\\xe2\\x96\\x8d    | 1.20G/2.20G [00:10<00:08, 112MB/s]\\r 55%|\\xe2\\x96\\x88\\xe2\\x96\\x88\\xe2\\x96\\x88\\xe2\\x96\\x88\\xe2\\x96\\x88\\xe2\\x96\\x8d    | 1.21G/2.20G [00:10<00:10, 96.2MB/s]\\r 56%|\\xe2\\x96\\x88\\xe2\\x96\\x88\\xe2\\x96\\x88\\xe2\\x96\\x88\\xe2\\x96\\x88\\xe2\\x96\\x8b    | 1.24G/2.20G [00:10<00:06, 145MB/s] \\r 57%|\\xe2\\x96\\x88\\xe2\\x96\\x88\\xe2\\x96\\x88\\xe2\\x96\\x88\\xe2\\x96\\x88\\xe2\\x96\\x8b    | 1.26G/2.20G [00:10<00:05, 157MB/s]\\r 58%|\\xe2\\x96\\x88\\xe2\\x96\\x88\\xe2\\x96\\x88\\xe2\\x96\\x88\\xe2\\x96\\x88\\xe2\\x96\\x8a    | 1.28G/2.20G [00:10<00:06, 152MB/s]\\r 59%|\\xe2\\x96\\x88\\xe2\\x96\\x88\\xe2\\x96\\x88\\xe2\\x96\\x88\\xe2\\x96\\x88\\xe2\\x96\\x89    | 1.30G/2.20G [00:10<00:05, 169MB/s]\\r 61%|\\xe2\\x96\\x88\\xe2\\x96\\x88\\xe2\\x96\\x88\\xe2\\x96\\x88\\xe2\\x96\\x88\\xe2\\x96\\x88    | 1.34G/2.20G [00:10<00:03, 218MB/s]\\r 62%|\\xe2\\x96\\x88\\xe2\\x96\\x88\\xe2\\x96\\x88\\xe2\\x96\\x88\\xe2\\x96\\x88\\xe2\\x96\\x88\\xe2\\x96\\x8f   | 1.37G/2.20G [00:10<00:03, 239MB/s]\\r 64%|\\xe2\\x96\\x88\\xe2\\x96\\x88\\xe2\\x96\\x88\\xe2\\x96\\x88\\xe2\\x96\\x88\\xe2\\x96\\x88\\xe2\\x96\\x8e   | 1.40G/2.20G [00:11<00:03, 260MB/s]\\r 65%|\\xe2\\x96\\x88\\xe2\\x96\\x88\\xe2\\x96\\x88\\xe2\\x96\\x88\\xe2\\x96\\x88\\xe2\\x96\\x88\\xe2\\x96\\x8d   | 1.43G/2.20G [00:11<00:04, 173MB/s]\\r 66%|\\xe2\\x96\\x88\\xe2\\x96\\x88\\xe2\\x96\\x88\\xe2\\x96\\x88\\xe2\\x96\\x88\\xe2\\x96\\x88\\xe2\\x96\\x8c   | 1.45G/2.20G [00:11<00:03, 188MB/s]\\r 67%|\\xe2\\x96\\x88\\xe2\\x96\\x88\\xe2\\x96\\x88\\xe2\\x96\\x88\\xe2\\x96\\x88\\xe2\\x96\\x88\\xe2\\x96\\x8b   | 1.48G/2.20G [00:11<00:03, 188MB/s]\\r 69%|\\xe2\\x96\\x88\\xe2\\x96\\x88\\xe2\\x96\\x88\\xe2\\x96\\x88\\xe2\\x96\\x88\\xe2\\x96\\x88\\xe2\\x96\\x8a   | 1.51G/2.20G [00:11<00:03, 216MB/s]\\r 70%|\\xe2\\x96\\x88\\xe2\\x96\\x88\\xe2\\x96\\x88\\xe2\\x96\\x88\\xe2\\x96\\x88\\xe2\\x96\\x88\\xe2\\x96\\x89   | 1.53G/2.20G [00:11<00:03, 210MB/s]\\r 71%|\\xe2\\x96\\x88\\xe2\\x96\\x88\\xe2\\x96\\x88\\xe2\\x96\\x88\\xe2\\x96\\x88\\xe2\\x96\\x88\\xe2\\x96\\x88   | 1.56G/2.20G [00:11<00:02, 229MB/s]\\r 72%|\\xe2\\x96\\x88\\xe2\\x96\\x88\\xe2\\x96\\x88\\xe2\\x96\\x88\\xe2\\x96\\x88\\xe2\\x96\\x88\\xe2\\x96\\x88\\xe2\\x96\\x8f  | 1.59G/2.20G [00:11<00:02, 232MB/s]\\r 73%|\\xe2\\x96\\x88\\xe2\\x96\\x88\\xe2\\x96\\x88\\xe2\\x96\\x88\\xe2\\x96\\x88\\xe2\\x96\\x88\\xe2\\x96\\x88\\xe2\\x96\\x8e  | 1.61G/2.20G [00:12<00:04, 127MB/s]\\r 74%|\\xe2\\x96\\x88\\xe2\\x96\\x88\\xe2\\x96\\x88\\xe2\\x96\\x88\\xe2\\x96\\x88\\xe2\\x96\\x88\\xe2\\x96\\x88\\xe2\\x96\\x8d  | 1.63G/2.20G [00:12<00:04, 126MB/s]\\r 75%|\\xe2\\x96\\x88\\xe2\\x96\\x88\\xe2\\x96\\x88\\xe2\\x96\\x88\\xe2\\x96\\x88\\xe2\\x96\\x88\\xe2\\x96\\x88\\xe2\\x96\\x8d  | 1.65G/2.20G [00:12<00:04, 113MB/s]\\r 76%|\\xe2\\x96\\x88\\xe2\\x96\\x88\\xe2\\x96\\x88\\xe2\\x96\\x88\\xe2\\x96\\x88\\xe2\\x96\\x88\\xe2\\x96\\x88\\xe2\\x96\\x8c  | 1.66G/2.20G [00:12<00:04, 112MB/s]\\r 76%|\\xe2\\x96\\x88\\xe2\\x96\\x88\\xe2\\x96\\x88\\xe2\\x96\\x88\\xe2\\x96\\x88\\xe2\\x96\\x88\\xe2\\x96\\x88\\xe2\\x96\\x8b  | 1.68G/2.20G [00:13<00:04, 115MB/s]\\r 77%|\\xe2\\x96\\x88\\xe2\\x96\\x88\\xe2\\x96\\x88\\xe2\\x96\\x88\\xe2\\x96\\x88\\xe2\\x96\\x88\\xe2\\x96\\x88\\xe2\\x96\\x8b  | 1.70G/2.20G [00:13<00:04, 118MB/s]\\r 78%|\\xe2\\x96\\x88\\xe2\\x96\\x88\\xe2\\x96\\x88\\xe2\\x96\\x88\\xe2\\x96\\x88\\xe2\\x96\\x88\\xe2\\x96\\x88\\xe2\\x96\\x8a  | 1.71G/2.20G [00:13<00:04, 102MB/s]\\r 79%|\\xe2\\x96\\x88\\xe2\\x96\\x88\\xe2\\x96\\x88\\xe2\\x96\\x88\\xe2\\x96\\x88\\xe2\\x96\\x88\\xe2\\x96\\x88\\xe2\\x96\\x89  | 1.74G/2.20G [00:13<00:03, 135MB/s]\\r 80%|\\xe2\\x96\\x88\\xe2\\x96\\x88\\xe2\\x96\\x88\\xe2\\x96\\x88\\xe2\\x96\\x88\\xe2\\x96\\x88\\xe2\\x96\\x88\\xe2\\x96\\x89  | 1.75G/2.20G [00:13<00:04, 101MB/s]\\r 81%|\\xe2\\x96\\x88\\xe2\\x96\\x88\\xe2\\x96\\x88\\xe2\\x96\\x88\\xe2\\x96\\x88\\xe2\\x96\\x88\\xe2\\x96\\x88\\xe2\\x96\\x88  | 1.77G/2.20G [00:13<00:04, 104MB/s]\\r 81%|\\xe2\\x96\\x88\\xe2\\x96\\x88\\xe2\\x96\\x88\\xe2\\x96\\x88\\xe2\\x96\\x88\\xe2\\x96\\x88\\xe2\\x96\\x88\\xe2\\x96\\x88  | 1.78G/2.20G [00:14<00:04, 99.4MB/s]\\r 82%|\\xe2\\x96\\x88\\xe2\\x96\\x88\\xe2\\x96\\x88\\xe2\\x96\\x88\\xe2\\x96\\x88\\xe2\\x96\\x88\\xe2\\x96\\x88\\xe2\\x96\\x88\\xe2\\x96\\x8f | 1.80G/2.20G [00:14<00:03, 118MB/s] \\r 83%|\\xe2\\x96\\x88\\xe2\\x96\\x88\\xe2\\x96\\x88\\xe2\\x96\\x88\\xe2\\x96\\x88\\xe2\\x96\\x88\\xe2\\x96\\x88\\xe2\\x96\\x88\\xe2\\x96\\x8e | 1.82G/2.20G [00:14<00:03, 110MB/s]\\r 83%|\\xe2\\x96\\x88\\xe2\\x96\\x88\\xe2\\x96\\x88\\xe2\\x96\\x88\\xe2\\x96\\x88\\xe2\\x96\\x88\\xe2\\x96\\x88\\xe2\\x96\\x88\\xe2\\x96\\x8e | 1.83G/2.20G [00:14<00:03, 103MB/s]\\r 84%|\\xe2\\x96\\x88\\xe2\\x96\\x88\\xe2\\x96\\x88\\xe2\\x96\\x88\\xe2\\x96\\x88\\xe2\\x96\\x88\\xe2\\x96\\x88\\xe2\\x96\\x88\\xe2\\x96\\x8d | 1.85G/2.20G [00:14<00:03, 105MB/s]\\r 85%|\\xe2\\x96\\x88\\xe2\\x96\\x88\\xe2\\x96\\x88\\xe2\\x96\\x88\\xe2\\x96\\x88\\xe2\\x96\\x88\\xe2\\x96\\x88\\xe2\\x96\\x88\\xe2\\x96\\x8d | 1.86G/2.20G [00:14<00:02, 119MB/s]\\r 85%|\\xe2\\x96\\x88\\xe2\\x96\\x88\\xe2\\x96\\x88\\xe2\\x96\\x88\\xe2\\x96\\x88\\xe2\\x96\\x88\\xe2\\x96\\x88\\xe2\\x96\\x88\\xe2\\x96\\x8c | 1.88G/2.20G [00:14<00:02, 114MB/s]\\r 86%|\\xe2\\x96\\x88\\xe2\\x96\\x88\\xe2\\x96\\x88\\xe2\\x96\\x88\\xe2\\x96\\x88\\xe2\\x96\\x88\\xe2\\x96\\x88\\xe2\\x96\\x88\\xe2\\x96\\x8c | 1.90G/2.20G [00:14<00:02, 118MB/s]\\r 87%|\\xe2\\x96\\x88\\xe2\\x96\\x88\\xe2\\x96\\x88\\xe2\\x96\\x88\\xe2\\x96\\x88\\xe2\\x96\\x88\\xe2\\x96\\x88\\xe2\\x96\\x88\\xe2\\x96\\x8b | 1.91G/2.20G [00:15<00:02, 123MB/s]\\r 88%|\\xe2\\x96\\x88\\xe2\\x96\\x88\\xe2\\x96\\x88\\xe2\\x96\\x88\\xe2\\x96\\x88\\xe2\\x96\\x88\\xe2\\x96\\x88\\xe2\\x96\\x88\\xe2\\x96\\x8a | 1.93G/2.20G [00:15<00:02, 123MB/s]\\r 88%|\\xe2\\x96\\x88\\xe2\\x96\\x88\\xe2\\x96\\x88\\xe2\\x96\\x88\\xe2\\x96\\x88\\xe2\\x96\\x88\\xe2\\x96\\x88\\xe2\\x96\\x88\\xe2\\x96\\x8a | 1.95G/2.20G [00:15<00:01, 140MB/s]\\r 89%|\\xe2\\x96\\x88\\xe2\\x96\\x88\\xe2\\x96\\x88\\xe2\\x96\\x88\\xe2\\x96\\x88\\xe2\\x96\\x88\\xe2\\x96\\x88\\xe2\\x96\\x88\\xe2\\x96\\x89 | 1.96G/2.20G [00:15<00:02, 118MB/s]\\r 90%|\\xe2\\x96\\x88\\xe2\\x96\\x88\\xe2\\x96\\x88\\xe2\\x96\\x88\\xe2\\x96\\x88\\xe2\\x96\\x88\\xe2\\x96\\x88\\xe2\\x96\\x88\\xe2\\x96\\x89 | 1.97G/2.20G [00:15<00:01, 119MB/s]\\r 90%|\\xe2\\x96\\x88\\xe2\\x96\\x88\\xe2\\x96\\x88\\xe2\\x96\\x88\\xe2\\x96\\x88\\xe2\\x96\\x88\\xe2\\x96\\x88\\xe2\\x96\\x88\\xe2\\x96\\x88 | 1.99G/2.20G [00:15<00:01, 114MB/s]\\r 91%|\\xe2\\x96\\x88\\xe2\\x96\\x88\\xe2\\x96\\x88\\xe2\\x96\\x88\\xe2\\x96\\x88\\xe2\\x96\\x88\\xe2\\x96\\x88\\xe2\\x96\\x88\\xe2\\x96\\x88\\xe2\\x96\\x8f| 2.01G/2.20G [00:15<00:01, 132MB/s]\\r 92%|\\xe2\\x96\\x88\\xe2\\x96\\x88\\xe2\\x96\\x88\\xe2\\x96\\x88\\xe2\\x96\\x88\\xe2\\x96\\x88\\xe2\\x96\\x88\\xe2\\x96\\x88\\xe2\\x96\\x88\\xe2\\x96\\x8f| 2.02G/2.20G [00:15<00:01, 126MB/s]\\r 93%|\\xe2\\x96\\x88\\xe2\\x96\\x88\\xe2\\x96\\x88\\xe2\\x96\\x88\\xe2\\x96\\x88\\xe2\\x96\\x88\\xe2\\x96\\x88\\xe2\\x96\\x88\\xe2\\x96\\x88\\xe2\\x96\\x8e| 2.04G/2.20G [00:16<00:01, 127MB/s]\\r 93%|\\xe2\\x96\\x88\\xe2\\x96\\x88\\xe2\\x96\\x88\\xe2\\x96\\x88\\xe2\\x96\\x88\\xe2\\x96\\x88\\xe2\\x96\\x88\\xe2\\x96\\x88\\xe2\\x96\\x88\\xe2\\x96\\x8e| 2.06G/2.20G [00:16<00:00, 148MB/s]\\r 94%|\\xe2\\x96\\x88\\xe2\\x96\\x88\\xe2\\x96\\x88\\xe2\\x96\\x88\\xe2\\x96\\x88\\xe2\\x96\\x88\\xe2\\x96\\x88\\xe2\\x96\\x88\\xe2\\x96\\x88\\xe2\\x96\\x8d| 2.07G/2.20G [00:16<00:00, 158MB/s]\\r 95%|\\xe2\\x96\\x88\\xe2\\x96\\x88\\xe2\\x96\\x88\\xe2\\x96\\x88\\xe2\\x96\\x88\\xe2\\x96\\x88\\xe2\\x96\\x88\\xe2\\x96\\x88\\xe2\\x96\\x88\\xe2\\x96\\x8c| 2.10G/2.20G [00:16<00:00, 172MB/s]\\r 97%|\\xe2\\x96\\x88\\xe2\\x96\\x88\\xe2\\x96\\x88\\xe2\\x96\\x88\\xe2\\x96\\x88\\xe2\\x96\\x88\\xe2\\x96\\x88\\xe2\\x96\\x88\\xe2\\x96\\x88\\xe2\\x96\\x8b| 2.12G/2.20G [00:16<00:00, 203MB/s]\\r 98%|\\xe2\\x96\\x88\\xe2\\x96\\x88\\xe2\\x96\\x88\\xe2\\x96\\x88\\xe2\\x96\\x88\\xe2\\x96\\x88\\xe2\\x96\\x88\\xe2\\x96\\x88\\xe2\\x96\\x88\\xe2\\x96\\x8a| 2.15G/2.20G [00:16<00:00, 229MB/s]\\r 99%|\\xe2\\x96\\x88\\xe2\\x96\\x88\\xe2\\x96\\x88\\xe2\\x96\\x88\\xe2\\x96\\x88\\xe2\\x96\\x88\\xe2\\x96\\x88\\xe2\\x96\\x88\\xe2\\x96\\x88\\xe2\\x96\\x89| 2.18G/2.20G [00:16<00:00, 247MB/s]\\r100%|\\xe2\\x96\\x88\\xe2\\x96\\x88\\xe2\\x96\\x88\\xe2\\x96\\x88\\xe2\\x96\\x88\\xe2\\x96\\x88\\xe2\\x96\\x88\\xe2\\x96\\x88\\xe2\\x96\\x88\\xe2\\x96\\x88| 2.20G/2.20G [00:16<00:00, 131MB/s]\\n\")\n"
          ]
        }
      ]
    },
    {
      "cell_type": "code",
      "execution_count": 13,
      "metadata": {
        "id": "gGbw5uutr0PP"
      },
      "outputs": [],
      "source": [
        "# Check if dataset is already downloaded or needs to be downloaded.\n",
        "configuration = Configuration()\n",
        "dataset_path = configuration.get('input_images_path')\n",
        "if(exists(MTF_MODEL_NAME) == False):\n",
        "  if os.path.isdir(dataset_path):\n",
        "      print('Dataset already downloaded')\n",
        "  else:\n",
        "      print('Downloading dataset')\n",
        "      print('Downloading dataset')\n",
        "      dataset_archive_path = os.path.join('data', 'lfw-deepfunneled.tgz')\n",
        "      download_data('http://vis-www.cs.umass.edu/lfw/lfw-deepfunneled.tgz', dataset_archive_path)\n",
        "      print('Extracting dataset')\n",
        "      tar = tarfile.open(dataset_archive_path, 'r:gz')\n",
        "      tar.extractall('data')\n",
        "      tar.close()\n",
        "      print('Done')"
      ]
    },
    {
      "cell_type": "markdown",
      "metadata": {
        "id": "uyfxprTdr0PP"
      },
      "source": [
        "## 2) Data generation\n",
        "Next step is to generate data for neural network training. We need input images (person with a face mask) and corresponding output image (the same image as input but without the face mask). We already have output images in downloaded dataset. Input images will be created by adding mask on the faces with a help from [MaskTheFace GitHub](https://github.com/aqeelanwar/MaskTheFace) project."
      ]
    },
    {
      "cell_type": "code",
      "execution_count": 14,
      "metadata": {
        "id": "n0wNPwY-r0PQ",
        "colab": {
          "base_uri": "https://localhost:8080/",
          "height": 85,
          "referenced_widgets": [
            "53c5a2138e954ce6b205000be7bcfb2c",
            "6e1f7407a1f340d8aa2b10d50ab71297",
            "ccd5265e398f4c5b9ee3ced4a55aea2a",
            "4e8f4c61021e49b09f957a1e6471f983",
            "285b7e52697c4cae865f9f8f0e9f2641",
            "3713ab492f7f41b49df011de653a46d8",
            "2041c7f58a2d4fce8fb74c657c913214",
            "eec0807889f84e93b93434c639284dab",
            "25679471d86b4de29ac2f6dbd540176b",
            "f06b9115353f4b3b97f4028b74ad7061",
            "7d4dde71611741258e243fa9aa1126f0"
          ]
        },
        "outputId": "0122aaff-c77c-43df-cb6f-912450ba70f5"
      },
      "outputs": [
        {
          "output_type": "stream",
          "name": "stdout",
          "text": [
            "Downloading missing predictor.\n"
          ]
        },
        {
          "output_type": "display_data",
          "data": {
            "text/plain": [
              "  0%|          | 0/64040097 [00:00<?, ?it/s]"
            ],
            "application/vnd.jupyter.widget-view+json": {
              "version_major": 2,
              "version_minor": 0,
              "model_id": "53c5a2138e954ce6b205000be7bcfb2c"
            }
          },
          "metadata": {}
        },
        {
          "output_type": "stream",
          "name": "stdout",
          "text": [
            "Decompressing downloaded file into shape_predictor_68_face_landmarks.dat\n"
          ]
        }
      ],
      "source": [
        "# setup the pipeline and generate data\n",
        "dg = DataGenerator(configuration)  \n",
        "train_folder = configuration.get('train_data_path')\n",
        "test_folder = configuration.get('test_data_path')\n",
        "if(exists(MTF_MODEL_NAME) == False):\n",
        "  if os.path.exists(train_folder) and os.path.exists(test_folder):\n",
        "      print('Testing and training data already generated')\n",
        "  else:\n",
        "    dg.generate_images()\n",
        "\n",
        "  print('Here are few examples of generated data.')\n",
        "  n_examples = 5\n",
        "  inputs, outputs = dg.get_dataset_examples(n_examples)\n",
        "  f, axarr = plt.subplots(2, n_examples, figsize=(20, 10))\n",
        "  for i in range(len(inputs)):\n",
        "      axarr[1, i].imshow(mpimg.imread(inputs[i]))\n",
        "      axarr[1, i].axis('off')\n",
        "      axarr[0, i].imshow(mpimg.imread(outputs[i]))\n",
        "      axarr[0, i].axis('off')"
      ]
    },
    {
      "cell_type": "markdown",
      "metadata": {
        "id": "6mujeaF2r0PQ"
      },
      "source": [
        "## 3) Model training\n",
        "Now we have all the data, and we can initiate model and start training."
      ]
    },
    {
      "cell_type": "code",
      "execution_count": 15,
      "metadata": {
        "id": "-xL1SHPYr0PR"
      },
      "outputs": [],
      "source": [
        "# Feel free to experiment with the number of filters, their sizes or any other parameters\n",
        "if(exists(MTF_MODEL_NAME) == False):\n",
        "  filters = (64, 128, 128, 256, 256, 512)\n",
        "  kernels = (7, 7, 7, 3, 3, 3)\n",
        "  input_image_size = (256, 256, 3)\n",
        "  architecture = UNet.RESNET\n",
        "  training_epochs = 20\n",
        "  batch_size = 12\n",
        "\n",
        "  # Create instance of model and start training\n",
        "  model = Mask2FaceModel.build_model(architecture=architecture, input_size=input_image_size, filters=filters,\n",
        "                                    kernels=kernels, configuration=configuration)\n",
        "  model.train(epochs=training_epochs, batch_size=batch_size, loss_function='ssim_l1_loss')\n",
        "\n",
        "  model.compute_output_shape(input_shape=(None, 256,256,3))\n",
        "else:\n",
        "  trained_model = Mask2FaceModel.load_model('model_epochs-20_batch-12_loss-ssim_l1_loss_20220518_03_20_51.h5')"
      ]
    },
    {
      "cell_type": "markdown",
      "metadata": {
        "id": "IIac0QCCr0PS"
      },
      "source": [
        "## 4) Results\n",
        "Our model is trained, and we can look at it's performance"
      ]
    },
    {
      "cell_type": "code",
      "execution_count": 16,
      "metadata": {
        "id": "gqz5gEBar0PS",
        "colab": {
          "base_uri": "https://localhost:8080/",
          "height": 610
        },
        "outputId": "c2e2eb2c-f18a-4f45-b69e-43a8808a78de"
      },
      "outputs": [
        {
          "output_type": "stream",
          "name": "stdout",
          "text": [
            "WARNING:tensorflow:5 out of the last 11 calls to <function Model.make_predict_function.<locals>.predict_function at 0x7f3eaece1e60> triggered tf.function retracing. Tracing is expensive and the excessive number of tracings could be due to (1) creating @tf.function repeatedly in a loop, (2) passing tensors with different shapes, (3) passing Python objects instead of tensors. For (1), please define your @tf.function outside of the loop. For (2), @tf.function has experimental_relax_shapes=True option that relaxes argument shapes that can avoid unnecessary retracing. For (3), please refer to https://www.tensorflow.org/guide/function#controlling_retracing and https://www.tensorflow.org/api_docs/python/tf/function for  more details.\n",
            "WARNING:tensorflow:5 out of the last 11 calls to <function Model.make_predict_function.<locals>.predict_function at 0x7f3eaed2a8c0> triggered tf.function retracing. Tracing is expensive and the excessive number of tracings could be due to (1) creating @tf.function repeatedly in a loop, (2) passing tensors with different shapes, (3) passing Python objects instead of tensors. For (1), please define your @tf.function outside of the loop. For (2), @tf.function has experimental_relax_shapes=True option that relaxes argument shapes that can avoid unnecessary retracing. For (3), please refer to https://www.tensorflow.org/guide/function#controlling_retracing and https://www.tensorflow.org/api_docs/python/tf/function for  more details.\n",
            "Outputs generated on previously unseen data.\n"
          ]
        },
        {
          "output_type": "display_data",
          "data": {
            "text/plain": [
              "<Figure size 720x648 with 9 Axes>"
            ],
            "image/png": "[encoded data removed]"
          },
          "metadata": {
            "needs_background": "light"
          }
        }
      ],
      "source": [
        "# Let's see the results on a random testing image unseen by the model before.\n",
        "# Run this cell multiple times to see different results\n",
        "n_examples = 3\n",
        "input_imgs, true_output_imgs = dg.get_dataset_examples(n_examples, test_dataset=False)\n",
        "f, axarr = plt.subplots(n_examples, 3, figsize=(10, n_examples * 3))\n",
        "for i, img in enumerate(input_imgs):\n",
        "    generated_output = trained_model.predict(img)\n",
        "    axarr[i, 0].imshow(mpimg.imread(input_imgs[i]))\n",
        "    axarr[i, 0].axis('off')\n",
        "    axarr[i, 1].imshow(mpimg.imread(true_output_imgs[i]))\n",
        "    axarr[i, 1].axis('off')\n",
        "    axarr[i, 2].imshow(generated_output)\n",
        "    axarr[i, 2].axis('off')\n",
        "\n",
        "axarr[0, 0].set_title('Input images')\n",
        "axarr[0, 1].set_title('Real outputs')\n",
        "axarr[0, 2].set_title('Generated outputs')\n",
        "print('Outputs generated on previously unseen data.')"
      ]
    },
    {
      "cell_type": "code",
      "source": [
        "download_data('http://vis-www.cs.umass.edu/lfw/lfw-deepfunneled.tgz', \"lfw-deepfunneled.tgz\")\n",
        "!mv  lfw-deepfunneled.tgz /tmp/"
      ],
      "metadata": {
        "colab": {
          "base_uri": "https://localhost:8080/",
          "height": 49,
          "referenced_widgets": [
            "efe644aff0234e1bbad0679fa3e10201",
            "f7fad655c0c0476791e743f0b09a07c8",
            "2e934d7708c24a989aa5f26a4671f558",
            "82f8a8511ee44bbca3ebe04b88c51a73",
            "e03d9caf738d4616b408299f94ffa2a5",
            "92c58244e5fc4b4ca76125befbb5befe",
            "6ec4a0e5c5c74656918995324c329558",
            "21319587e93b47968acab19533904743",
            "79dea4f21b0345a199b127791f4a50cf",
            "e9aafc8374ad40e7b4ff3c0a14f3cf23",
            "c52b8f0dd3fa4c11995bc76b15a0297f"
          ]
        },
        "id": "PMewAi2MxWx5",
        "outputId": "060a6c35-4e1d-43ba-d4d2-d0e3fddd80af"
      },
      "execution_count": 17,
      "outputs": [
        {
          "output_type": "display_data",
          "data": {
            "text/plain": [
              "  0%|          | 0/108761145 [00:00<?, ?it/s]"
            ],
            "application/vnd.jupyter.widget-view+json": {
              "version_major": 2,
              "version_minor": 0,
              "model_id": "efe644aff0234e1bbad0679fa3e10201"
            }
          },
          "metadata": {}
        }
      ]
    },
    {
      "cell_type": "code",
      "source": [
        "download_from_drive(\"1cSDdwsCbshVPy5V9n7-BRfxxXzGIh_hH\",'MLFW.zip')\n",
        "!mv MLFW.zip /tmp/"
      ],
      "metadata": {
        "colab": {
          "base_uri": "https://localhost:8080/"
        },
        "id": "muzKgU89B7Bx",
        "outputId": "217f4d10-78e1-482d-b908-c001b66de012"
      },
      "execution_count": 18,
      "outputs": [
        {
          "output_type": "stream",
          "name": "stdout",
          "text": [
            "CompletedProcess(args=['gdown', '--id', '1cSDdwsCbshVPy5V9n7-BRfxxXzGIh_hH', '--output', 'MLFW.zip'], returncode=0, stdout=b'', stderr=b\"/usr/local/lib/python3.7/dist-packages/gdown/cli.py:131: FutureWarning: Option `--id` was deprecated in version 4.3.1 and will be removed in 5.0. You don't need to pass it anymore to use a file ID.\\n  category=FutureWarning,\\nDownloading...\\nFrom: https://drive.google.com/uc?id=1cSDdwsCbshVPy5V9n7-BRfxxXzGIh_hH\\nTo: /content/strv/MLFW.zip\\n\\r  0%|          | 0.00/275M [00:00<?, ?B/s]\\r  2%|\\xe2\\x96\\x8f         | 4.72M/275M [00:00<00:09, 27.3MB/s]\\r 12%|\\xe2\\x96\\x88\\xe2\\x96\\x8f        | 34.1M/275M [00:00<00:02, 102MB/s] \\r 16%|\\xe2\\x96\\x88\\xe2\\x96\\x8c        | 44.0M/275M [00:00<00:02, 97.7MB/s]\\r 25%|\\xe2\\x96\\x88\\xe2\\x96\\x88\\xe2\\x96\\x8d       | 67.6M/275M [00:00<00:01, 136MB/s] \\r 30%|\\xe2\\x96\\x88\\xe2\\x96\\x88\\xe2\\x96\\x89       | 82.3M/275M [00:00<00:01, 136MB/s]\\r 40%|\\xe2\\x96\\x88\\xe2\\x96\\x88\\xe2\\x96\\x88\\xe2\\x96\\x89      | 110M/275M [00:00<00:01, 145MB/s] \\r 51%|\\xe2\\x96\\x88\\xe2\\x96\\x88\\xe2\\x96\\x88\\xe2\\x96\\x88\\xe2\\x96\\x88\\xe2\\x96\\x8f    | 141M/275M [00:00<00:00, 188MB/s]\\r 59%|\\xe2\\x96\\x88\\xe2\\x96\\x88\\xe2\\x96\\x88\\xe2\\x96\\x88\\xe2\\x96\\x88\\xe2\\x96\\x8a    | 161M/275M [00:01<00:01, 106MB/s]\\r 70%|\\xe2\\x96\\x88\\xe2\\x96\\x88\\xe2\\x96\\x88\\xe2\\x96\\x88\\xe2\\x96\\x88\\xe2\\x96\\x88\\xe2\\x96\\x88   | 193M/275M [00:01<00:00, 97.8MB/s]\\r 83%|\\xe2\\x96\\x88\\xe2\\x96\\x88\\xe2\\x96\\x88\\xe2\\x96\\x88\\xe2\\x96\\x88\\xe2\\x96\\x88\\xe2\\x96\\x88\\xe2\\x96\\x88\\xe2\\x96\\x8e | 227M/275M [00:01<00:00, 112MB/s] \\r 95%|\\xe2\\x96\\x88\\xe2\\x96\\x88\\xe2\\x96\\x88\\xe2\\x96\\x88\\xe2\\x96\\x88\\xe2\\x96\\x88\\xe2\\x96\\x88\\xe2\\x96\\x88\\xe2\\x96\\x88\\xe2\\x96\\x8d| 261M/275M [00:02<00:00, 137MB/s]\\r100%|\\xe2\\x96\\x88\\xe2\\x96\\x88\\xe2\\x96\\x88\\xe2\\x96\\x88\\xe2\\x96\\x88\\xe2\\x96\\x88\\xe2\\x96\\x88\\xe2\\x96\\x88\\xe2\\x96\\x88\\xe2\\x96\\x88| 275M/275M [00:02<00:00, 124MB/s]\\n\")\n"
          ]
        }
      ]
    },
    {
      "cell_type": "code",
      "source": [
        "LFW_EXTRACTION_PATH = \"/tmp/lfw\"\n",
        "LFW_EXTRACTION_COMMAND = \"tar -xvf /tmp/lfw-deepfunneled.tgz -C /tmp/\"\n",
        "LFWD_EXTRACED_PATH = \"/tmp/lfw-deepfunneled\"\n",
        "MLFW_EXTRACTION_PATH = \"/tmp/mlfw\"\n",
        "MLFW_EXTRACTION_FILE = \"/tmp/MLFW.zip\"\n",
        "MLFW_IMAGE_ORIGIN_PATH=\"/tmp/mlfw/aligned/*.jpg\"\n",
        "DRIVE_PATH='/content/gdrive'\n",
        "DATASET_TRAIN_PATH='/tmp/dataset/train'\n",
        "DATASET_TEST_PATH='/tmp/dataset/test'\n",
        "DATASET_ROOT_PATH='/tmp/dataset'\n",
        "MASKTHE_FACE_PATH=\"/content/MaskTheFace/\""
      ],
      "metadata": {
        "id": "pw0l-c0kO5pA"
      },
      "execution_count": 19,
      "outputs": []
    },
    {
      "cell_type": "code",
      "source": [
        "def extract_lfw_mlfw(force=False):\n",
        "  if(force):\n",
        "    print(\"deleting \", LFW_EXTRACTION_PATH)\n",
        "    if(os.path.isdir(LFW_EXTRACTION_PATH) == True):\n",
        "      shutil.rmtree(LFW_EXTRACTION_PATH)\n",
        "    print(\"deleting \", LFWD_EXTRACED_PATH)\n",
        "    if(os.path.isdir(LFWD_EXTRACED_PATH) == True):\n",
        "      shutil.rmtree(LFWD_EXTRACED_PATH)\n",
        "    print(\"deleting \", MLFW_EXTRACTION_PATH)\n",
        "    if(os.path.isdir(MLFW_EXTRACTION_PATH) == True):\n",
        "      shutil.rmtree(MLFW_EXTRACTION_PATH)\n",
        "\n",
        "  print(\"Extracing lfw and mlfw ..\")\n",
        "  if(os.path.isdir(LFW_EXTRACTION_PATH) == False):\n",
        "    print(\"extracing lfw-deepfunneled..\")\n",
        "    # cmd = \"tar -xvf gdrive/MyDrive/datasets/lfw.tar -C /tmp/\"\n",
        "    returned_value = os.system(LFW_EXTRACTION_COMMAND)\n",
        "  if(os.path.isdir(LFWD_EXTRACED_PATH) == True):\n",
        "    print(\"renaming to lfw..\")\n",
        "    os.rename(LFWD_EXTRACED_PATH, LFW_EXTRACTION_PATH)\n",
        "\n",
        "  if(os.path.isdir(MLFW_EXTRACTION_PATH)== False):\n",
        "    print(\"extracting mlfw..\")\n",
        "    zip_ref = zipfile.ZipFile(MLFW_EXTRACTION_FILE, 'r')\n",
        "    zip_ref.extractall(MLFW_EXTRACTION_PATH)\n",
        "    zip_ref.close()"
      ],
      "metadata": {
        "id": "KvEZvN4LO8bd"
      },
      "execution_count": 20,
      "outputs": []
    },
    {
      "cell_type": "code",
      "source": [
        "extract_lfw_mlfw(force = True)"
      ],
      "metadata": {
        "id": "bzpgRumCO9hZ",
        "colab": {
          "base_uri": "https://localhost:8080/"
        },
        "outputId": "2842405a-08f2-4a47-94b6-e60e19b484bc"
      },
      "execution_count": 21,
      "outputs": [
        {
          "output_type": "stream",
          "name": "stdout",
          "text": [
            "deleting  /tmp/lfw\n",
            "deleting  /tmp/lfw-deepfunneled\n",
            "deleting  /tmp/mlfw\n",
            "Extracing lfw and mlfw ..\n",
            "extracing lfw-deepfunneled..\n",
            "renaming to lfw..\n",
            "extracting mlfw..\n"
          ]
        }
      ]
    },
    {
      "cell_type": "code",
      "source": [
        "! ls -l /tmp/"
      ],
      "metadata": {
        "id": "JsH-6IO4POh2",
        "colab": {
          "base_uri": "https://localhost:8080/"
        },
        "outputId": "66f9b03b-7f93-4afd-f5f8-4500e033fc2d"
      },
      "execution_count": 22,
      "outputs": [
        {
          "output_type": "stream",
          "name": "stdout",
          "text": [
            "total 375000\n",
            "-rw-------    1 root root       880 May 22 12:49 __autograph_generated_fileve08htaa.py\n",
            "-rw-r--r--    1 root root      1165 May 22 12:37 dap_multiplexer.ec3d8a57a393.root.log.INFO.20220522-123724.63\n",
            "lrwxrwxrwx    1 root root        61 May 22 12:37 dap_multiplexer.INFO -> dap_multiplexer.ec3d8a57a393.root.log.INFO.20220522-123724.63\n",
            "srwxr-xr-x    1 root root         0 May 22 12:37 debugger_nf1cultuv\n",
            "drwx------    2 root root      4096 May 22 12:37 initgoogle_syslog_dir.0\n",
            "drwxr-xr-x 5751 root root    204800 May 22 12:49 lfw\n",
            "-rw-r--r--    1 root root 108761145 May 22 12:49 lfw-deepfunneled.tgz\n",
            "drwxr-xr-x    4 root root      4096 May 22 12:49 mlfw\n",
            "-rw-r--r--    1 root root 274972231 May 22 12:49 MLFW.zip\n",
            "drwxr-xr-x    2 root root      4096 May 22 12:49 __pycache__\n",
            "drwx------    2 root root      4096 May 22 12:42 pyright-125-EqGk5QCETMDJ\n",
            "drwx------    2 root root      4096 May 22 12:42 pyright-125-OfHoDvCpqdTR\n",
            "drwx------    2 root root      4096 May 22 12:47 pyright-234-7J1jsqulFn3W\n",
            "drwx------    2 root root      4096 May 22 12:47 pyright-234-ghibhzcxUQ1R\n",
            "drwx------    2 root root      4096 May 22 12:48 pyright-375-8ntiBeJSjeiq\n",
            "drwx------    2 root root      4096 May 22 12:48 pyright-375-nBpreBebnXzI\n",
            "drwxr-xr-x    3 root root      4096 May 22 12:48 python-languageserver-cancellation\n"
          ]
        }
      ]
    },
    {
      "cell_type": "code",
      "source": [
        "# Get file list from lfw\n",
        "lfw_files = []\n",
        "for file in Path(LFW_EXTRACTION_PATH).rglob('*.jpg'):\n",
        "  lfw_files.append(file)\n",
        "mlfw_files = []\n",
        "for file in Path(MLFW_EXTRACTION_PATH).rglob('*.jpg'):\n",
        "  mlfw_files.append(file)\n",
        "print(len(lfw_files))\n",
        "print(len(mlfw_files))"
      ],
      "metadata": {
        "id": "jNRzvsjC0bQo",
        "colab": {
          "base_uri": "https://localhost:8080/"
        },
        "outputId": "f4d30024-f537-4df2-f714-94136aa16c79"
      },
      "execution_count": 23,
      "outputs": [
        {
          "output_type": "stream",
          "name": "stdout",
          "text": [
            "13233\n",
            "24000\n"
          ]
        }
      ]
    },
    {
      "cell_type": "code",
      "source": [
        "def pick_images_lfw(max_samples):\n",
        "  print(\"Picking images from lfw ..\")\n",
        "  lfw_images = []\n",
        "  lfw_train = sorted(os.listdir(LFW_EXTRACTION_PATH))\n",
        "  for directory in lfw_train:\n",
        "    dir_path = LFW_EXTRACTION_PATH + \"/\" + directory\n",
        "    no_of_files = len(os.listdir(dir_path)) \n",
        "    if(no_of_files >= max_samples ):\n",
        "      lfw_images.append(directory)\n",
        "  return lfw_images;"
      ],
      "metadata": {
        "id": "W2dUSRY92O0z"
      },
      "execution_count": 24,
      "outputs": []
    },
    {
      "cell_type": "code",
      "source": [
        "def pick_images_mlfw(max_samples):\n",
        "  print(\"Picking images from mlfw ..\")\n",
        "  file_list = glob.glob(MLFW_IMAGE_ORIGIN_PATH)\n",
        "  final_name_list = []\n",
        "  for file in file_list:\n",
        "      file_name = Path(file).name\n",
        "      final_str = \"\"\n",
        "      tokens = file_name.split(\"_\")\n",
        "      for token in tokens:\n",
        "          if(token.isnumeric()):\n",
        "              break;\n",
        "          else:\n",
        "              final_str += token\n",
        "              final_str += \"_\"\n",
        "      final_name_list.append(final_str)  \n",
        "  df = pd.DataFrame(final_name_list)\n",
        "  df.columns = ['name']\n",
        "  new_df = df.groupby('name').filter(lambda x : (len(x) >= max_samples))\n",
        "  mlfw_images = new_df.values.tolist()\n",
        "  mlfw_images = [sub[0][ : -1] for sub in mlfw_images]\n",
        "  return list(set(mlfw_images))"
      ],
      "metadata": {
        "id": "G9CwIXcA2s9Q"
      },
      "execution_count": 25,
      "outputs": []
    },
    {
      "cell_type": "code",
      "source": [
        "def create_common_dir_list(max_samples):\n",
        "  print(\"create_common_dir_list ..\")\n",
        "  extract_lfw_mlfw();\n",
        "  lfw_dir = pick_images_lfw(max_samples);\n",
        "  mlfw_dir = pick_images_mlfw(max_samples)\n",
        "  common_set = set(lfw_dir) & set(mlfw_dir)\n",
        "  print(\"common_dir_list = \" + str(len(common_set)))\n",
        "  return list(common_set)"
      ],
      "metadata": {
        "id": "948k6Y2k3HAl"
      },
      "execution_count": 26,
      "outputs": []
    },
    {
      "cell_type": "code",
      "source": [
        "def pick_classes(no_of_classes, max_samples):\n",
        "  print(\"Picking classes ..\")\n",
        "  final_list = []\n",
        "  filtered_list =  create_common_dir_list(max_samples)\n",
        "  print(\"filtered_list_length = \" + str(len(filtered_list)))\n",
        "  for i in range(0, no_of_classes):\n",
        "      final_list.append(random.choice(filtered_list))\n",
        "  return final_list"
      ],
      "metadata": {
        "id": "GE0rFmqJq6QC"
      },
      "execution_count": 27,
      "outputs": []
    },
    {
      "cell_type": "code",
      "source": [
        "common_dir_list = create_common_dir_list(5)\n",
        "len(common_dir_list)"
      ],
      "metadata": {
        "id": "5FE8T1Yq3LrU",
        "colab": {
          "base_uri": "https://localhost:8080/"
        },
        "outputId": "ad5c62ff-a7b9-4f2b-e109-b3fb28d0de88"
      },
      "execution_count": 28,
      "outputs": [
        {
          "output_type": "stream",
          "name": "stdout",
          "text": [
            "create_common_dir_list ..\n",
            "Extracing lfw and mlfw ..\n",
            "Picking images from lfw ..\n",
            "Picking images from mlfw ..\n",
            "common_dir_list = 216\n"
          ]
        },
        {
          "output_type": "execute_result",
          "data": {
            "text/plain": [
              "216"
            ]
          },
          "metadata": {},
          "execution_count": 28
        }
      ]
    },
    {
      "cell_type": "code",
      "source": [
        "def create_train_test_set_from_lfw_mlfw(number_of_classes, max_samples):\n",
        "  print(\"create_train_test_set_from_lfw_mlfw ..\")\n",
        "  final_class_list = pick_classes(number_of_classes, max_samples)\n",
        "  print(\"length of final_class_list =>\", len(final_class_list))\n",
        "  if(os.path.isdir(DATASET_TRAIN_PATH) == True):\n",
        "    shutil.rmtree(DATASET_TRAIN_PATH)\n",
        "  if(os.path.isdir(DATASET_TEST_PATH) == True):\n",
        "    shutil.rmtree(DATASET_TEST_PATH)\n",
        "  if(os.path.isdir(DATASET_ROOT_PATH)  == False):\n",
        "    os.mkdir(DATASET_ROOT_PATH)\n",
        "  if(os.path.isdir(DATASET_TRAIN_PATH)== False):\n",
        "    os.mkdir(DATASET_TRAIN_PATH)\n",
        "  if(os.path.isdir(DATASET_TEST_PATH)== False):\n",
        "    os.mkdir(DATASET_TEST_PATH)\n",
        "\n",
        "  for dir in final_class_list:\n",
        "    cmd_str = \"cp -r \" + LFW_EXTRACTION_PATH + \"/\" +dir + \" \" + DATASET_TRAIN_PATH\n",
        "    # print(cmd_str)\n",
        "    os.system(cmd_str)\n",
        "  \n",
        "  mlfw_jpg_list = glob.glob(MLFW_IMAGE_ORIGIN_PATH);\n",
        "  # print\n",
        "  # for path, subdirs, files in os.walk(MLFW_IMAGE_ORIGIN_PATH):\n",
        "  #     print(\"path = \",path)\n",
        "  #     for name in files:\n",
        "  #         mlfw_jpg_list.append(os.path.join(path, name))\n",
        "\n",
        "  # print(\"mlfw_jpg_list\", mlfw_jpg_list)\n",
        "  for dir in final_class_list:\n",
        "    test_dir = DATASET_TEST_PATH + \"/\"+ dir\n",
        "    # print(test_dir)\n",
        "    if(os.path.isdir(test_dir)  == False):\n",
        "      os.mkdir(DATASET_TEST_PATH + \"/\" +dir)\n",
        "    name_list = [k for k in mlfw_jpg_list if dir in k]\n",
        "    # print(\"name_list\", name_list)\n",
        "    for nme in name_list:\n",
        "      copy_path = DATASET_TEST_PATH +  \"/\"+ dir + \"/\"\n",
        "      # print(nme, copy_path)\n",
        "      shutil.copy(nme, DATASET_TEST_PATH +  \"/\"+ dir + \"/\")"
      ],
      "metadata": {
        "id": "RQxTU--4DW7i"
      },
      "execution_count": 29,
      "outputs": []
    },
    {
      "cell_type": "code",
      "source": [
        "create_train_test_set_from_lfw_mlfw(50, 5)"
      ],
      "metadata": {
        "colab": {
          "base_uri": "https://localhost:8080/"
        },
        "id": "16iXRjbEtBau",
        "outputId": "cc784fc5-7575-463a-9045-edc6fe618c97"
      },
      "execution_count": 30,
      "outputs": [
        {
          "output_type": "stream",
          "name": "stdout",
          "text": [
            "create_train_test_set_from_lfw_mlfw ..\n",
            "Picking classes ..\n",
            "create_common_dir_list ..\n",
            "Extracing lfw and mlfw ..\n",
            "Picking images from lfw ..\n",
            "Picking images from mlfw ..\n",
            "common_dir_list = 216\n",
            "filtered_list_length = 216\n",
            "length of final_class_list => 50\n"
          ]
        }
      ]
    },
    {
      "cell_type": "code",
      "source": [
        "def create_train_samples_from_main_dataset(no_of_classes, no_of_samples):\n",
        "  new_dataset_name = \"/tmp/mfr/dataset_\"+str(no_of_classes) + \"_\" + str(no_of_samples)\n",
        "  train_folder = new_dataset_name + \"/\" + \"train\"\n",
        "  if(exists(new_dataset_name) == False):\n",
        "    print(\"creating \", new_dataset_name)\n",
        "    shutil.copytree('/tmp/dataset/', new_dataset_name)\n",
        "  classes = 0\n",
        "  train_dir_list = []\n",
        "  for train_dir in os.listdir(train_folder):\n",
        "    # for sample in os.listdir(train_dir):\n",
        "    file_path = os.path.join(train_folder, train_dir)\n",
        "    if(classes >= no_of_classes):\n",
        "      shutil.rmtree(file_path)\n",
        "      continue\n",
        "    classes = classes + 1\n",
        "    samples = 0\n",
        "    train_dir_list.append(train_dir)\n",
        "    for file_name in os.listdir(file_path):\n",
        "      name = os.path.join(file_path, file_name)\n",
        "      if(samples >= no_of_samples):\n",
        "        os.remove(name)\n",
        "        continue\n",
        "      samples = samples + 1\n",
        "\n",
        "  test_folder = new_dataset_name + \"/\" + \"test\"\n",
        "  # print(\"train_dir_list\", train_dir_list)\n",
        "  for test_dir in os.listdir(test_folder):\n",
        "    # for sample in os.listdir(train_dir):\n",
        "    file_path = os.path.join(test_folder, test_dir)\n",
        "    # print(\"test_dir = \", test_dir)\n",
        "    # print(\"test_dir in train_dir_list \", test_dir in train_dir_list )\n",
        "    if((test_dir in train_dir_list) == False):\n",
        "      # print(\"deleting\", file_path)\n",
        "      shutil.rmtree(file_path)\n",
        "      continue\n",
        "  return new_dataset_name, train_folder, test_folder"
      ],
      "metadata": {
        "id": "JopUrC46vz8L"
      },
      "execution_count": 31,
      "outputs": []
    },
    {
      "cell_type": "code",
      "source": [
        "# extract a single face from a given photograph\n",
        "def process_and_save_image(image, filename, required_size=(256, 256)):\n",
        "    # convert to array\n",
        "    # image = Image.fromarray(image_pixels)\n",
        "    # image = cv2.cvtColor(face, cv2.COLOR_BGR2RGB)\n",
        "    image = image.resize(required_size)\n",
        "    # cv2.resize(image, required_size)\n",
        "    # face_array = asarray(image)\n",
        "    # cv2.imwrite(filename, image)\n",
        "    # print('processed and saved file ===> ', filename)\n",
        "    image.save(filename)"
      ],
      "metadata": {
        "id": "iVQhaJE5FNzn"
      },
      "execution_count": 32,
      "outputs": []
    },
    {
      "cell_type": "code",
      "source": [
        "from mtcnn.mtcnn import MTCNN\n",
        "from numpy import asarray\n",
        "import cv2\n",
        " \n",
        "# extract a single face from a given photograph\n",
        "def process_face(filename, required_size=(256, 256)):\n",
        "  # load image from file\n",
        "  image = Image.open(filename)\n",
        "  # convert to RGB, if needed\n",
        "  # image = cv2.imread(filename)\n",
        "  if(image.width != required_size[0]):\n",
        "    # convert to array\n",
        "    pixels = asarray(image)\n",
        "    # create the detector, using default weights\n",
        "    detector = MTCNN()\n",
        "    # detect faces in the image\n",
        "    results = detector.detect_faces(pixels)\n",
        "    if(results):\n",
        "      # extract the bounding box from the first face\n",
        "      x1, y1, width, height = results[0]['box']\n",
        "      # bug fix\n",
        "      x1, y1 = abs(x1), abs(y1)\n",
        "      x2, y2 = x1 + width, y1 + height\n",
        "      # extract the face\n",
        "      # image = image[y1:y2, x1:x2]\n",
        "      facepixels = pixels[y1:y2, x1:x2]\n",
        "      # resize pixels to the model size\n",
        "      image = Image.fromarray(facepixels)\n",
        "      # image = cv2.cvtColor(face, cv2.COLOR_BGR2RGB)\n",
        "      image = image.resize(required_size)\n",
        "      # cv2.resize(image, required_size)\n",
        "      # face_array = asarray(image)\n",
        "      # cv2.imwrite(filename, image)\n",
        "      # print('processed and saved file', filename)\n",
        "      image.save(filename)"
      ],
      "metadata": {
        "id": "2B1ZFWMCEopX"
      },
      "execution_count": 33,
      "outputs": []
    },
    {
      "cell_type": "code",
      "source": [
        "def augument_mask_data(train_folder, augument):\n",
        "  triplets = []\n",
        "  print(\"Augumenting data ..\")\n",
        "  os.chdir(MASKTHE_FACE_PATH)\n",
        "  if(augument == 'None'):\n",
        "    return\n",
        "  # print(\"Current path=\",os.getcwd())\n",
        "  # os.system('pip install -r requirements.txt')\n",
        "  f = [y for y in  Path(train_folder).rglob('*.jpg')] \n",
        "  print(\"total samples = >\", len(f))\n",
        "  for path in  Path(train_folder).rglob('*.jpg'):\n",
        "    # print(path)\n",
        "    normal_img_path = str(path)\n",
        "    process_face(normal_img_path)\n",
        "    for mask_type in [\"Surgical\", \"N95\", \"KN95\", \"Cloth\"]:\n",
        "      subprocess.run([\"python\", \"/content/MaskTheFace/mask_the_face.py\",'--path', path, '--mask_type', mask_type, '--verbose', '--write_original_image'])\n",
        "      files = Path(train_folder).rglob('*.jpg')\n",
        "      recent_file =  max(files , key=os.path.getctime)\n",
        "      process_face(recent_file)\n",
        "      # print(\"recent file ==>\", str(recent_file))\n",
        "      # model = keras.models.load_model('/content/gdrive/MyDrive/mfr_test_repo/strv-ml-mask2face/mask2face_siva_trained/')\n",
        "      # print((recent_file))\n",
        "      masked_img_path  = str(recent_file)\n",
        "      if(str(recent_file).find(\"unmask\") == -1 and (augument == 'All')):\n",
        "        image = Image.open(recent_file)\n",
        "        # print(image.size)\n",
        "        image = tf.expand_dims(img_to_array(image), axis=0)  \n",
        "        # print(image.dim)\n",
        "        # img_to_array\n",
        "        # print(\"=========>\", image.shape)\n",
        "        generated_output = trained_model.predict((recent_file))\n",
        "        # process_and_save_image(generated_output, recent_file)\n",
        "        unmask_image_path = Path(recent_file)\n",
        "        # print(\"stem ==>\", unmask_image_path.stem)\n",
        "        latest_unmasked_file = str(unmask_image_path.parent) +\"/\" +unmask_image_path.stem +\"_unmask\" + unmask_image_path.suffix\n",
        "        # unmask_image_path.rename(Path(unmask_image_path.parent, latest_unmasked_file))\n",
        "        # print(\"latest_unmasked_file\", latest_unmasked_file)\n",
        "        triplets.append([normal_img_path, masked_img_path, str(latest_unmasked_file)])\n",
        "        # print(type(generated_output))\n",
        "        # cv2_imshow(generated_output)\n",
        "        process_and_save_image(generated_output, str(latest_unmasked_file))\n",
        "      # print(\"-----------------------------------------------\")\n",
        "  return triplets\n",
        " "
      ],
      "metadata": {
        "id": "2A4TTmyjXuts"
      },
      "execution_count": 60,
      "outputs": []
    },
    {
      "cell_type": "code",
      "source": [
        "def plot_triplets(triplets):\n",
        "  import matplotlib.image as mpimg\n",
        "  images = []\n",
        "  image_names = []\n",
        "\n",
        "  for triplet in triplets:\n",
        "      for i in triplet:\n",
        "        images.append(mpimg.imread(i))\n",
        "        image_names.append(i)\n",
        "\n",
        "  plt.figure(figsize=(20,20))\n",
        "  columns = 3\n",
        "  for i, image in enumerate(images):\n",
        "      ax = plt.subplot(len(images) / columns + 1, columns, i + 1)\n",
        "      ax.set_title(Path(image_names[i]).stem)\n",
        "      plt.imshow(image)\n",
        "      plt.xticks([])\n",
        "      plt.yticks([])"
      ],
      "metadata": {
        "id": "rbtaud5j1uuv"
      },
      "execution_count": 35,
      "outputs": []
    },
    {
      "cell_type": "code",
      "source": [
        "def get_image_list_from_folder(path):\n",
        "  final_list = []\n",
        "  for path, subdirs, files in os.walk(path):\n",
        "    for name in files:\n",
        "        final_list.append(os.path.join(path, name))\n",
        "  return sorted(final_list)"
      ],
      "metadata": {
        "id": "2P3a_pADtvkW"
      },
      "execution_count": 36,
      "outputs": []
    },
    {
      "cell_type": "code",
      "source": [
        "!pip install deepface"
      ],
      "metadata": {
        "id": "3L1ueaNsIU2F",
        "outputId": "9aa18c88-35ff-42da-aec2-1fd7ae103119",
        "colab": {
          "base_uri": "https://localhost:8080/",
          "height": 1000
        }
      },
      "execution_count": 37,
      "outputs": [
        {
          "output_type": "stream",
          "name": "stdout",
          "text": [
            "Collecting deepface\n",
            "  Downloading deepface-0.0.75-py3-none-any.whl (65 kB)\n",
            "\u001b[?25l\r\u001b[K     |█████                           | 10 kB 33.3 MB/s eta 0:00:01\r\u001b[K     |██████████                      | 20 kB 18.6 MB/s eta 0:00:01\r\u001b[K     |███████████████▏                | 30 kB 14.7 MB/s eta 0:00:01\r\u001b[K     |████████████████████▏           | 40 kB 13.8 MB/s eta 0:00:01\r\u001b[K     |█████████████████████████▏      | 51 kB 6.7 MB/s eta 0:00:01\r\u001b[K     |██████████████████████████████▎ | 61 kB 7.9 MB/s eta 0:00:01\r\u001b[K     |████████████████████████████████| 65 kB 3.0 MB/s \n",
            "\u001b[?25hRequirement already satisfied: keras>=2.2.0 in /usr/local/lib/python3.7/dist-packages (from deepface) (2.8.0)\n",
            "Requirement already satisfied: Flask>=1.1.2 in /usr/local/lib/python3.7/dist-packages (from deepface) (1.1.4)\n",
            "Collecting fire>=0.4.0\n",
            "  Downloading fire-0.4.0.tar.gz (87 kB)\n",
            "\u001b[?25l\r\u001b[K     |███▊                            | 10 kB 53.4 MB/s eta 0:00:01\r\u001b[K     |███████▌                        | 20 kB 61.7 MB/s eta 0:00:01\r\u001b[K     |███████████▏                    | 30 kB 69.5 MB/s eta 0:00:01\r\u001b[K     |███████████████                 | 40 kB 73.2 MB/s eta 0:00:01\r\u001b[K     |██████████████████▊             | 51 kB 74.5 MB/s eta 0:00:01\r\u001b[K     |██████████████████████▍         | 61 kB 78.2 MB/s eta 0:00:01\r\u001b[K     |██████████████████████████▏     | 71 kB 45.2 MB/s eta 0:00:01\r\u001b[K     |██████████████████████████████  | 81 kB 46.5 MB/s eta 0:00:01\r\u001b[K     |████████████████████████████████| 87 kB 7.8 MB/s \n",
            "\u001b[?25hRequirement already satisfied: mtcnn>=0.1.0 in /usr/local/lib/python3.7/dist-packages (from deepface) (0.1.1)\n",
            "Requirement already satisfied: tensorflow>=1.9.0 in /usr/local/lib/python3.7/dist-packages (from deepface) (2.8.0+zzzcolab20220506162203)\n",
            "Collecting retina-face>=0.0.1\n",
            "  Downloading retina_face-0.0.11-py3-none-any.whl (15 kB)\n",
            "Requirement already satisfied: Pillow>=5.2.0 in /usr/local/lib/python3.7/dist-packages (from deepface) (7.1.2)\n",
            "Requirement already satisfied: gdown>=3.10.1 in /usr/local/lib/python3.7/dist-packages (from deepface) (4.4.0)\n",
            "Requirement already satisfied: tqdm>=4.30.0 in /usr/local/lib/python3.7/dist-packages (from deepface) (4.64.0)\n",
            "Collecting opencv-python>=4.5.5.64\n",
            "  Downloading opencv_python-4.5.5.64-cp36-abi3-manylinux_2_17_x86_64.manylinux2014_x86_64.whl (60.5 MB)\n",
            "\u001b[K     |████████████████████████████████| 60.5 MB 150 kB/s \n",
            "\u001b[?25hRequirement already satisfied: pandas>=0.23.4 in /usr/local/lib/python3.7/dist-packages (from deepface) (1.3.5)\n",
            "Requirement already satisfied: numpy>=1.14.0 in /usr/local/lib/python3.7/dist-packages (from deepface) (1.21.6)\n",
            "Requirement already satisfied: six in /usr/local/lib/python3.7/dist-packages (from fire>=0.4.0->deepface) (1.15.0)\n",
            "Requirement already satisfied: termcolor in /usr/local/lib/python3.7/dist-packages (from fire>=0.4.0->deepface) (1.1.0)\n",
            "Requirement already satisfied: Werkzeug<2.0,>=0.15 in /usr/local/lib/python3.7/dist-packages (from Flask>=1.1.2->deepface) (1.0.1)\n",
            "Requirement already satisfied: Jinja2<3.0,>=2.10.1 in /usr/local/lib/python3.7/dist-packages (from Flask>=1.1.2->deepface) (2.11.3)\n",
            "Requirement already satisfied: click<8.0,>=5.1 in /usr/local/lib/python3.7/dist-packages (from Flask>=1.1.2->deepface) (7.1.2)\n",
            "Requirement already satisfied: itsdangerous<2.0,>=0.24 in /usr/local/lib/python3.7/dist-packages (from Flask>=1.1.2->deepface) (1.1.0)\n",
            "Requirement already satisfied: filelock in /usr/local/lib/python3.7/dist-packages (from gdown>=3.10.1->deepface) (3.7.0)\n",
            "Requirement already satisfied: beautifulsoup4 in /usr/local/lib/python3.7/dist-packages (from gdown>=3.10.1->deepface) (4.6.3)\n",
            "Requirement already satisfied: requests[socks] in /usr/local/lib/python3.7/dist-packages (from gdown>=3.10.1->deepface) (2.23.0)\n",
            "Requirement already satisfied: MarkupSafe>=0.23 in /usr/local/lib/python3.7/dist-packages (from Jinja2<3.0,>=2.10.1->Flask>=1.1.2->deepface) (2.0.1)\n",
            "Requirement already satisfied: python-dateutil>=2.7.3 in /usr/local/lib/python3.7/dist-packages (from pandas>=0.23.4->deepface) (2.8.2)\n",
            "Requirement already satisfied: pytz>=2017.3 in /usr/local/lib/python3.7/dist-packages (from pandas>=0.23.4->deepface) (2022.1)\n",
            "Requirement already satisfied: flatbuffers>=1.12 in /usr/local/lib/python3.7/dist-packages (from tensorflow>=1.9.0->deepface) (2.0)\n",
            "Requirement already satisfied: typing-extensions>=3.6.6 in /usr/local/lib/python3.7/dist-packages (from tensorflow>=1.9.0->deepface) (4.2.0)\n",
            "Requirement already satisfied: h5py>=2.9.0 in /usr/local/lib/python3.7/dist-packages (from tensorflow>=1.9.0->deepface) (3.1.0)\n",
            "Requirement already satisfied: protobuf>=3.9.2 in /usr/local/lib/python3.7/dist-packages (from tensorflow>=1.9.0->deepface) (3.17.3)\n",
            "Requirement already satisfied: wrapt>=1.11.0 in /usr/local/lib/python3.7/dist-packages (from tensorflow>=1.9.0->deepface) (1.14.1)\n",
            "Requirement already satisfied: astunparse>=1.6.0 in /usr/local/lib/python3.7/dist-packages (from tensorflow>=1.9.0->deepface) (1.6.3)\n",
            "Requirement already satisfied: setuptools in /usr/local/lib/python3.7/dist-packages (from tensorflow>=1.9.0->deepface) (57.4.0)\n",
            "Requirement already satisfied: tensorflow-io-gcs-filesystem>=0.23.1 in /usr/local/lib/python3.7/dist-packages (from tensorflow>=1.9.0->deepface) (0.25.0)\n",
            "Collecting tf-estimator-nightly==2.8.0.dev2021122109\n",
            "  Downloading tf_estimator_nightly-2.8.0.dev2021122109-py2.py3-none-any.whl (462 kB)\n",
            "\u001b[K     |████████████████████████████████| 462 kB 99.1 MB/s \n",
            "\u001b[?25hRequirement already satisfied: opt-einsum>=2.3.2 in /usr/local/lib/python3.7/dist-packages (from tensorflow>=1.9.0->deepface) (3.3.0)\n",
            "Requirement already satisfied: libclang>=9.0.1 in /usr/local/lib/python3.7/dist-packages (from tensorflow>=1.9.0->deepface) (14.0.1)\n",
            "Requirement already satisfied: keras-preprocessing>=1.1.1 in /usr/local/lib/python3.7/dist-packages (from tensorflow>=1.9.0->deepface) (1.1.2)\n",
            "Requirement already satisfied: absl-py>=0.4.0 in /usr/local/lib/python3.7/dist-packages (from tensorflow>=1.9.0->deepface) (1.0.0)\n",
            "Requirement already satisfied: google-pasta>=0.1.1 in /usr/local/lib/python3.7/dist-packages (from tensorflow>=1.9.0->deepface) (0.2.0)\n",
            "Requirement already satisfied: tensorboard<2.9,>=2.8 in /usr/local/lib/python3.7/dist-packages (from tensorflow>=1.9.0->deepface) (2.8.0)\n",
            "Requirement already satisfied: grpcio<2.0,>=1.24.3 in /usr/local/lib/python3.7/dist-packages (from tensorflow>=1.9.0->deepface) (1.46.1)\n",
            "Requirement already satisfied: gast>=0.2.1 in /usr/local/lib/python3.7/dist-packages (from tensorflow>=1.9.0->deepface) (0.5.3)\n",
            "Requirement already satisfied: wheel<1.0,>=0.23.0 in /usr/local/lib/python3.7/dist-packages (from astunparse>=1.6.0->tensorflow>=1.9.0->deepface) (0.37.1)\n",
            "Requirement already satisfied: cached-property in /usr/local/lib/python3.7/dist-packages (from h5py>=2.9.0->tensorflow>=1.9.0->deepface) (1.5.2)\n",
            "Requirement already satisfied: google-auth-oauthlib<0.5,>=0.4.1 in /usr/local/lib/python3.7/dist-packages (from tensorboard<2.9,>=2.8->tensorflow>=1.9.0->deepface) (0.4.6)\n",
            "Requirement already satisfied: markdown>=2.6.8 in /usr/local/lib/python3.7/dist-packages (from tensorboard<2.9,>=2.8->tensorflow>=1.9.0->deepface) (3.3.7)\n",
            "Requirement already satisfied: tensorboard-data-server<0.7.0,>=0.6.0 in /usr/local/lib/python3.7/dist-packages (from tensorboard<2.9,>=2.8->tensorflow>=1.9.0->deepface) (0.6.1)\n",
            "Requirement already satisfied: tensorboard-plugin-wit>=1.6.0 in /usr/local/lib/python3.7/dist-packages (from tensorboard<2.9,>=2.8->tensorflow>=1.9.0->deepface) (1.8.1)\n",
            "Requirement already satisfied: google-auth<3,>=1.6.3 in /usr/local/lib/python3.7/dist-packages (from tensorboard<2.9,>=2.8->tensorflow>=1.9.0->deepface) (1.35.0)\n",
            "Requirement already satisfied: cachetools<5.0,>=2.0.0 in /usr/local/lib/python3.7/dist-packages (from google-auth<3,>=1.6.3->tensorboard<2.9,>=2.8->tensorflow>=1.9.0->deepface) (4.2.4)\n",
            "Requirement already satisfied: rsa<5,>=3.1.4 in /usr/local/lib/python3.7/dist-packages (from google-auth<3,>=1.6.3->tensorboard<2.9,>=2.8->tensorflow>=1.9.0->deepface) (4.8)\n",
            "Requirement already satisfied: pyasn1-modules>=0.2.1 in /usr/local/lib/python3.7/dist-packages (from google-auth<3,>=1.6.3->tensorboard<2.9,>=2.8->tensorflow>=1.9.0->deepface) (0.2.8)\n",
            "Requirement already satisfied: requests-oauthlib>=0.7.0 in /usr/local/lib/python3.7/dist-packages (from google-auth-oauthlib<0.5,>=0.4.1->tensorboard<2.9,>=2.8->tensorflow>=1.9.0->deepface) (1.3.1)\n",
            "Requirement already satisfied: importlib-metadata>=4.4 in /usr/local/lib/python3.7/dist-packages (from markdown>=2.6.8->tensorboard<2.9,>=2.8->tensorflow>=1.9.0->deepface) (4.11.3)\n",
            "Requirement already satisfied: zipp>=0.5 in /usr/local/lib/python3.7/dist-packages (from importlib-metadata>=4.4->markdown>=2.6.8->tensorboard<2.9,>=2.8->tensorflow>=1.9.0->deepface) (3.8.0)\n",
            "Requirement already satisfied: pyasn1<0.5.0,>=0.4.6 in /usr/local/lib/python3.7/dist-packages (from pyasn1-modules>=0.2.1->google-auth<3,>=1.6.3->tensorboard<2.9,>=2.8->tensorflow>=1.9.0->deepface) (0.4.8)\n",
            "Requirement already satisfied: certifi>=2017.4.17 in /usr/local/lib/python3.7/dist-packages (from requests[socks]->gdown>=3.10.1->deepface) (2021.10.8)\n",
            "Requirement already satisfied: chardet<4,>=3.0.2 in /usr/local/lib/python3.7/dist-packages (from requests[socks]->gdown>=3.10.1->deepface) (3.0.4)\n",
            "Requirement already satisfied: idna<3,>=2.5 in /usr/local/lib/python3.7/dist-packages (from requests[socks]->gdown>=3.10.1->deepface) (2.10)\n",
            "Requirement already satisfied: urllib3!=1.25.0,!=1.25.1,<1.26,>=1.21.1 in /usr/local/lib/python3.7/dist-packages (from requests[socks]->gdown>=3.10.1->deepface) (1.24.3)\n",
            "Requirement already satisfied: oauthlib>=3.0.0 in /usr/local/lib/python3.7/dist-packages (from requests-oauthlib>=0.7.0->google-auth-oauthlib<0.5,>=0.4.1->tensorboard<2.9,>=2.8->tensorflow>=1.9.0->deepface) (3.2.0)\n",
            "Requirement already satisfied: PySocks!=1.5.7,>=1.5.6 in /usr/local/lib/python3.7/dist-packages (from requests[socks]->gdown>=3.10.1->deepface) (1.7.1)\n",
            "Building wheels for collected packages: fire\n",
            "  Building wheel for fire (setup.py) ... \u001b[?25l\u001b[?25hdone\n",
            "  Created wheel for fire: filename=fire-0.4.0-py2.py3-none-any.whl size=115942 sha256=b0158793cad297c4bde41541c6deee4a582054bf0b3695ec623c52066e03d197\n",
            "  Stored in directory: /root/.cache/pip/wheels/8a/67/fb/2e8a12fa16661b9d5af1f654bd199366799740a85c64981226\n",
            "Successfully built fire\n",
            "Installing collected packages: tf-estimator-nightly, opencv-python, retina-face, fire, deepface\n",
            "  Attempting uninstall: opencv-python\n",
            "    Found existing installation: opencv-python 4.4.0.44\n",
            "    Uninstalling opencv-python-4.4.0.44:\n",
            "      Successfully uninstalled opencv-python-4.4.0.44\n",
            "Successfully installed deepface-0.0.75 fire-0.4.0 opencv-python-4.5.5.64 retina-face-0.0.11 tf-estimator-nightly-2.8.0.dev2021122109\n"
          ]
        },
        {
          "output_type": "display_data",
          "data": {
            "application/vnd.colab-display-data+json": {
              "pip_warning": {
                "packages": [
                  "cv2"
                ]
              }
            }
          },
          "metadata": {}
        }
      ]
    },
    {
      "cell_type": "code",
      "source": [
        "from deepface import DeepFace\n",
        "def get_embedding_list(path, model_name):\n",
        "  print(\"get_embedding_list ...\")\n",
        "  img_list = get_image_list_from_folder(path)\n",
        "  embedding_list = list()\n",
        "  for file in img_list:\n",
        "    embedding = DeepFace.represent(file, model_name = model_name, enforce_detection =False)\n",
        "    embedding_list.append(embedding)\n",
        "  final_name_list = []\n",
        "  for file in img_list:\n",
        "      file_name = Path(file).name\n",
        "      final_str = \"\"\n",
        "      tokens = file_name.split(\"_\")\n",
        "      for token in tokens:\n",
        "          token = token.split(\".\",1)[0]\n",
        "          if(token.isnumeric()):\n",
        "              break;\n",
        "          else:\n",
        "              final_str += token\n",
        "              final_str += \"_\"\n",
        "      final_name_list.append(final_str) \n",
        "  final_name_list = [sub[ : -1] for sub in final_name_list]\n",
        "  return embedding_list, final_name_list"
      ],
      "metadata": {
        "id": "9Z1HNkoCqakC",
        "colab": {
          "base_uri": "https://localhost:8080/"
        },
        "outputId": "2bb0e375-95ea-4e7b-c0df-f17c0ec206ec"
      },
      "execution_count": 38,
      "outputs": [
        {
          "output_type": "stream",
          "name": "stdout",
          "text": [
            "Directory  /root /.deepface created\n",
            "Directory  /root /.deepface/weights created\n"
          ]
        }
      ]
    },
    {
      "cell_type": "code",
      "source": [
        "def get_sample_length(folder):\n",
        "  return len([y for y in  Path(folder).rglob('*.jpg')] )"
      ],
      "metadata": {
        "id": "sLpAotV_q95M"
      },
      "execution_count": 39,
      "outputs": []
    },
    {
      "cell_type": "code",
      "source": [
        "def create_embeddings(model_name, number_of_classes, max_samples, augument):\n",
        "  # create_train_test_set_from_lfw_mlfw(number_of_classes, max_samples)\n",
        "  new_dataset_name, train_folder, test_folder = create_train_samples_from_main_dataset(number_of_classes, max_samples)\n",
        "  print(\"total samples before augumentation= >\",  get_sample_length(train_folder))\n",
        "  if((augument == 'All') or (augument =='Mask')):\n",
        "    triplets = augument_mask_data(train_folder, augument)\n",
        "  print(\"total samples after augumentation= >\", get_sample_length(train_folder))\n",
        "  # plot_triplets(triplets)\n",
        "  # process_train_images()\n",
        "  # plot_train_list()\n",
        "  # plot_test_list()\n",
        "  print(\"creating embeddings ...\")\n",
        "  newTrainX, trainy = get_embedding_list(train_folder, model_name)\n",
        "  newTrainX = asarray(newTrainX)\n",
        "  newTestX, testy = get_embedding_list(test_folder, model_name)\n",
        "  newTestX = asarray(newTestX)\n",
        "  return newTrainX, trainy, newTestX, testy"
      ],
      "metadata": {
        "id": "xjY_WXpxqghf"
      },
      "execution_count": 59,
      "outputs": []
    },
    {
      "cell_type": "code",
      "source": [
        "def rearrange_dim(input):\n",
        "  in_encoder = Normalizer(norm='l2')\n",
        "  # nsamples, nx, ny = input.shape\n",
        "  # input = input.reshape((nsamples,nx*ny))\n",
        "  input = in_encoder.transform(input)\n",
        "  return input"
      ],
      "metadata": {
        "id": "zJ4VKVjk3Mcq"
      },
      "execution_count": 41,
      "outputs": []
    },
    {
      "cell_type": "code",
      "source": [
        "from sklearn.metrics import confusion_matrix\n",
        "from sklearn.metrics import precision_recall_fscore_support\n",
        "import seaborn as sns\n",
        "def predict_accuracy(trainX, trainy, testX, testy):\n",
        "  print(\"predicting accuracy ...\")\n",
        "  in_encoder = Normalizer(norm='l2')\n",
        "  trainX = rearrange_dim(trainX)\n",
        "  testX = rearrange_dim(testX)\n",
        "  # nsamples, nx, ny = trainX.shape\n",
        "  # trainX = trainX.reshape((nsamples,nx*ny))\n",
        "  # trainX = in_encoder.transform(trainX)\n",
        "  # nsamples, nx, ny = testX.shape\n",
        "  # testX = testX.reshape((nsamples,nx*ny))\n",
        "  # testX = in_encoder.transform(testX)\n",
        "  # label encode targets\n",
        "  out_encoder = LabelEncoder()\n",
        "  out_encoder.fit(trainy)\n",
        "\n",
        "  trainy = out_encoder.transform(trainy)\n",
        "  testy = out_encoder.transform(testy)\n",
        "  # trainy = rearrange_dim(trainy)\n",
        "  # testy = rearrange_dim(testy)\n",
        "  # fit model\n",
        "  model = SVC(kernel='linear', probability=True)\n",
        "  model.fit(trainX, trainy)\n",
        "  # predict\n",
        "  yhat_train = model.predict(trainX)\n",
        "  yhat_test = model.predict(testX)\n",
        "  # score\n",
        "  score_train = accuracy_score(trainy, yhat_train)\n",
        "  score_test = accuracy_score(testy, yhat_test)\n",
        "  print(\"test score = >\", score_test)\n",
        "  # pos_label = 'micro'\n",
        "  # if(multi_label):\n",
        "  #   pos_label  = \"samples\"\n",
        "    \n",
        "  prf1 = precision_recall_fscore_support(testy, yhat_test, average='weighted')\n",
        "\n",
        "  precision = prf1[0]\n",
        "  recall = prf1[1]\n",
        "  f1_score = prf1[1]\n",
        "\n",
        "  # summarize\n",
        "  #Generate the confusion matrix\n",
        "  # cf_matrix = confusion_matrix(testy, yhat_test)\n",
        "  # print(cf_matrix)\n",
        "  # print('Accuracy: train=%.3f, test=%.3f' % (score_train*100, score_test*100))\n",
        "\n",
        "  # ax = sns.heatmap(cf_matrix, annot=True, cmap='Blues')\n",
        "\n",
        "  # ax.set_title('Seaborn Confusion Matrix with labels\\n\\n');\n",
        "  # ax.set_xlabel('\\nPredicted Values')\n",
        "  # ax.set_ylabel('Actual Values ');\n",
        "\n",
        "  # ## Ticket labels - List must be in alphabetical order\n",
        "  # ax.xaxis.set_ticklabels(['False','True'])\n",
        "  # ax.yaxis.set_ticklabels(['False','True'])\n",
        "\n",
        "  # disp = plot_confusion_matrix(model, testX, testy,\n",
        "  #                                display_labels=class_names,\n",
        "  #                                cmap=plt.cm.Blues)\n",
        "  # plt.show()\n",
        "\n",
        "  ## Display the visualization of the Confusion Matrix.\n",
        "  # plt.show()\n",
        "  return score_test, precision, recall, f1_score"
      ],
      "metadata": {
        "id": "X4IrKjv02En_"
      },
      "execution_count": 50,
      "outputs": []
    },
    {
      "cell_type": "code",
      "source": [
        "from deepface import DeepFace\n",
        "from numpy import asarray\n",
        "def run_fr_test( number_of_classes, max_classes, model_name, augument):\n",
        "  trainX, trainy, testX, testy = create_embeddings(model_name,  number_of_classes, max_classes, augument)\n",
        "  print(\"Trying with model \" + model_name)\n",
        "  return predict_accuracy(trainX, trainy, testX, testy)"
      ],
      "metadata": {
        "id": "lUNWc4hF21zu"
      },
      "execution_count": 58,
      "outputs": []
    },
    {
      "cell_type": "code",
      "source": [
        "from google.colab import drive\n",
        "\n",
        "drive.mount('/content/gdrive')"
      ],
      "metadata": {
        "colab": {
          "base_uri": "https://localhost:8080/"
        },
        "id": "mXKGQioJ4O4g",
        "outputId": "9048162c-2183-48e7-a997-e79cf98201ea"
      },
      "execution_count": 54,
      "outputs": [
        {
          "output_type": "stream",
          "name": "stdout",
          "text": [
            "Mounted at /content/gdrive\n"
          ]
        }
      ]
    },
    {
      "cell_type": "code",
      "source": [
        "import pandas as pd\n",
        "from google.colab import files\n",
        "class_list = [\"2\", \"5\", \"10\", \"25\", \"50\"]\n",
        "column_list = [\"no_of_classes\", \"no_of_samples\", \"accuracy\", \"precision\", \"recall\", \"f1_score\"]\n",
        "sample_list = [\"1\", \"2\", \"3\", \"4\", \"5\"]\n",
        "\n",
        "# class_list = [\"5\"]\n",
        "# sample_list = [\"1\", \"2\"]\n",
        "models_list = ['OpenFace', 'DeepFace', 'VGG-Face']\n",
        "# ['Facenet', 'OpenFace', 'DeepFace', 'VGG-Face']\n",
        "# ['None', 'All', 'Mask']\n",
        "for model in models_list:\n",
        "  for augument in ['None']:\n",
        "    create_train_samples_from_main_dataset(50,5)\n",
        "    report_df = pd.DataFrame(columns = column_list)  \n",
        "    shutil.rmtree('/tmp/mfr/')\n",
        "    result_list = []\n",
        "    for c in  class_list:\n",
        "      result_list = []\n",
        "      for s in sample_list:\n",
        "        test_accuracy, precision, recall, f1_score = run_fr_test(int(c), int(s), model, augument)\n",
        "        result = {'no_of_classes' : c, \n",
        "                  'no_of_samples' :s,\n",
        "                  'accuracy': str(round(test_accuracy,2)), \n",
        "                  'precision': str(round(precision, 2)),\n",
        "                  'recall':str(round(recall,2)), \n",
        "                  'f1_score': str(round(f1_score,2))}\n",
        "        report_df = report_df.append(result, ignore_index = True)\n",
        "        print(report_df)\n",
        "    file_name = 'mfr_'+model+'_'+augument+\".csv\"\n",
        "    file_path = os.getcwd()+  \"/\" + file_name\n",
        "    print(\"saving data to file\", file_path)\n",
        "    report_df.to_csv()\n",
        "    # files.download(file_name)\n",
        "    shutil.copy2(file_path, '/content/gdrive/MyDrive/thesis_work/experiment_results/')"
      ],
      "metadata": {
        "colab": {
          "base_uri": "https://localhost:8080/",
          "height": 1000
        },
        "id": "g4sUCZfZ3BVz",
        "outputId": "56635a68-7c35-4b39-ae0f-b2c5a16a407d"
      },
      "execution_count": 74,
      "outputs": [
        {
          "output_type": "stream",
          "name": "stdout",
          "text": [
            "creating  /tmp/mfr/dataset_50_5\n",
            "creating  /tmp/mfr/dataset_2_1\n",
            "total samples before augumentation= > 2\n",
            "total samples after augumentation= > 2\n",
            "creating embeddings ...\n",
            "get_embedding_list ...\n",
            "get_embedding_list ...\n",
            "Trying with model OpenFace\n",
            "predicting accuracy ...\n",
            "test score = > 0.59375\n",
            "  no_of_classes no_of_samples accuracy precision recall f1_score\n",
            "0             2             1     0.59      0.35   0.59     0.59\n",
            "creating  /tmp/mfr/dataset_2_2\n",
            "total samples before augumentation= > 4\n",
            "total samples after augumentation= > 4\n",
            "creating embeddings ...\n",
            "get_embedding_list ...\n",
            "get_embedding_list ...\n",
            "Trying with model OpenFace\n",
            "predicting accuracy ...\n",
            "test score = > 0.59375\n",
            "  no_of_classes no_of_samples accuracy precision recall f1_score\n",
            "0             2             1     0.59      0.35   0.59     0.59\n",
            "1             2             2     0.59      0.56   0.59     0.59\n",
            "creating  /tmp/mfr/dataset_2_3\n",
            "total samples before augumentation= > 6\n",
            "total samples after augumentation= > 6\n",
            "creating embeddings ...\n",
            "get_embedding_list ...\n",
            "get_embedding_list ...\n",
            "Trying with model OpenFace\n",
            "predicting accuracy ...\n",
            "test score = > 0.6875\n",
            "  no_of_classes no_of_samples accuracy precision recall f1_score\n",
            "0             2             1     0.59      0.35   0.59     0.59\n",
            "1             2             2     0.59      0.56   0.59     0.59\n",
            "2             2             3     0.69      0.72   0.69     0.69\n",
            "creating  /tmp/mfr/dataset_2_4\n",
            "total samples before augumentation= > 8\n",
            "total samples after augumentation= > 8\n",
            "creating embeddings ...\n",
            "get_embedding_list ...\n",
            "get_embedding_list ...\n",
            "Trying with model OpenFace\n",
            "predicting accuracy ...\n",
            "test score = > 0.71875\n",
            "  no_of_classes no_of_samples accuracy precision recall f1_score\n",
            "0             2             1     0.59      0.35   0.59     0.59\n",
            "1             2             2     0.59      0.56   0.59     0.59\n",
            "2             2             3     0.69      0.72   0.69     0.69\n",
            "3             2             4     0.72      0.73   0.72     0.72\n",
            "creating  /tmp/mfr/dataset_2_5\n",
            "total samples before augumentation= > 10\n",
            "total samples after augumentation= > 10\n",
            "creating embeddings ...\n",
            "get_embedding_list ...\n",
            "get_embedding_list ...\n",
            "Trying with model OpenFace\n",
            "predicting accuracy ...\n",
            "test score = > 0.8125\n",
            "  no_of_classes no_of_samples accuracy precision recall f1_score\n",
            "0             2             1     0.59      0.35   0.59     0.59\n",
            "1             2             2     0.59      0.56   0.59     0.59\n",
            "2             2             3     0.69      0.72   0.69     0.69\n",
            "3             2             4     0.72      0.73   0.72     0.72\n",
            "4             2             5     0.81      0.81   0.81     0.81\n",
            "creating  /tmp/mfr/dataset_5_1\n",
            "total samples before augumentation= > 5\n",
            "total samples after augumentation= > 5\n",
            "creating embeddings ...\n",
            "get_embedding_list ...\n",
            "get_embedding_list ...\n",
            "Trying with model OpenFace\n",
            "predicting accuracy ...\n",
            "test score = > 0.3584905660377358\n",
            "  no_of_classes no_of_samples accuracy precision recall f1_score\n",
            "0             2             1     0.59      0.35   0.59     0.59\n",
            "1             2             2     0.59      0.56   0.59     0.59\n",
            "2             2             3     0.69      0.72   0.69     0.69\n",
            "3             2             4     0.72      0.73   0.72     0.72\n",
            "4             2             5     0.81      0.81   0.81     0.81\n",
            "5             5             1     0.36      0.29   0.36     0.36\n",
            "creating  /tmp/mfr/dataset_5_2\n",
            "total samples before augumentation= > 10\n",
            "total samples after augumentation= > 10\n",
            "creating embeddings ...\n",
            "get_embedding_list ...\n",
            "get_embedding_list ...\n",
            "Trying with model OpenFace\n",
            "predicting accuracy ...\n",
            "test score = > 0.32075471698113206\n",
            "  no_of_classes no_of_samples accuracy precision recall f1_score\n",
            "0             2             1     0.59      0.35   0.59     0.59\n",
            "1             2             2     0.59      0.56   0.59     0.59\n",
            "2             2             3     0.69      0.72   0.69     0.69\n",
            "3             2             4     0.72      0.73   0.72     0.72\n",
            "4             2             5     0.81      0.81   0.81     0.81\n",
            "5             5             1     0.36      0.29   0.36     0.36\n",
            "6             5             2     0.32      0.35   0.32     0.32\n",
            "creating  /tmp/mfr/dataset_5_3\n",
            "total samples before augumentation= > 15\n",
            "total samples after augumentation= > 15\n",
            "creating embeddings ...\n",
            "get_embedding_list ...\n",
            "get_embedding_list ...\n",
            "Trying with model OpenFace\n",
            "predicting accuracy ...\n",
            "test score = > 0.33962264150943394\n",
            "  no_of_classes no_of_samples accuracy precision recall f1_score\n",
            "0             2             1     0.59      0.35   0.59     0.59\n",
            "1             2             2     0.59      0.56   0.59     0.59\n",
            "2             2             3     0.69      0.72   0.69     0.69\n",
            "3             2             4     0.72      0.73   0.72     0.72\n",
            "4             2             5     0.81      0.81   0.81     0.81\n",
            "5             5             1     0.36      0.29   0.36     0.36\n",
            "6             5             2     0.32      0.35   0.32     0.32\n",
            "7             5             3     0.34      0.35   0.34     0.34\n",
            "creating  /tmp/mfr/dataset_5_4\n",
            "total samples before augumentation= > 20\n",
            "total samples after augumentation= > 20\n",
            "creating embeddings ...\n",
            "get_embedding_list ...\n",
            "get_embedding_list ...\n",
            "Trying with model OpenFace\n",
            "predicting accuracy ...\n",
            "test score = > 0.4339622641509434\n",
            "  no_of_classes no_of_samples accuracy precision recall f1_score\n",
            "0             2             1     0.59      0.35   0.59     0.59\n",
            "1             2             2     0.59      0.56   0.59     0.59\n",
            "2             2             3     0.69      0.72   0.69     0.69\n",
            "3             2             4     0.72      0.73   0.72     0.72\n",
            "4             2             5     0.81      0.81   0.81     0.81\n",
            "5             5             1     0.36      0.29   0.36     0.36\n",
            "6             5             2     0.32      0.35   0.32     0.32\n",
            "7             5             3     0.34      0.35   0.34     0.34\n",
            "8             5             4     0.43      0.51   0.43     0.43\n",
            "creating  /tmp/mfr/dataset_5_5\n",
            "total samples before augumentation= > 25\n",
            "total samples after augumentation= > 25\n",
            "creating embeddings ...\n",
            "get_embedding_list ...\n",
            "get_embedding_list ...\n",
            "Trying with model OpenFace\n",
            "predicting accuracy ...\n",
            "test score = > 0.5094339622641509\n",
            "  no_of_classes no_of_samples accuracy precision recall f1_score\n",
            "0             2             1     0.59      0.35   0.59     0.59\n",
            "1             2             2     0.59      0.56   0.59     0.59\n",
            "2             2             3     0.69      0.72   0.69     0.69\n",
            "3             2             4     0.72      0.73   0.72     0.72\n",
            "4             2             5     0.81      0.81   0.81     0.81\n",
            "5             5             1     0.36      0.29   0.36     0.36\n",
            "6             5             2     0.32      0.35   0.32     0.32\n",
            "7             5             3     0.34      0.35   0.34     0.34\n",
            "8             5             4     0.43      0.51   0.43     0.43\n",
            "9             5             5     0.51      0.55   0.51     0.51\n",
            "creating  /tmp/mfr/dataset_10_1\n",
            "total samples before augumentation= > 10\n",
            "total samples after augumentation= > 10\n",
            "creating embeddings ...\n",
            "get_embedding_list ...\n",
            "get_embedding_list ...\n",
            "Trying with model OpenFace\n",
            "predicting accuracy ...\n",
            "test score = > 0.17293233082706766\n",
            "   no_of_classes no_of_samples accuracy precision recall f1_score\n",
            "0              2             1     0.59      0.35   0.59     0.59\n",
            "1              2             2     0.59      0.56   0.59     0.59\n",
            "2              2             3     0.69      0.72   0.69     0.69\n",
            "3              2             4     0.72      0.73   0.72     0.72\n",
            "4              2             5     0.81      0.81   0.81     0.81\n",
            "5              5             1     0.36      0.29   0.36     0.36\n",
            "6              5             2     0.32      0.35   0.32     0.32\n",
            "7              5             3     0.34      0.35   0.34     0.34\n",
            "8              5             4     0.43      0.51   0.43     0.43\n",
            "9              5             5     0.51      0.55   0.51     0.51\n",
            "10            10             1     0.17      0.09   0.17     0.17\n",
            "creating  /tmp/mfr/dataset_10_2\n",
            "total samples before augumentation= > 20\n",
            "total samples after augumentation= > 20\n",
            "creating embeddings ...\n",
            "get_embedding_list ...\n",
            "get_embedding_list ...\n",
            "Trying with model OpenFace\n",
            "predicting accuracy ...\n",
            "test score = > 0.21052631578947367\n",
            "   no_of_classes no_of_samples accuracy precision recall f1_score\n",
            "0              2             1     0.59      0.35   0.59     0.59\n",
            "1              2             2     0.59      0.56   0.59     0.59\n",
            "2              2             3     0.69      0.72   0.69     0.69\n",
            "3              2             4     0.72      0.73   0.72     0.72\n",
            "4              2             5     0.81      0.81   0.81     0.81\n",
            "5              5             1     0.36      0.29   0.36     0.36\n",
            "6              5             2     0.32      0.35   0.32     0.32\n",
            "7              5             3     0.34      0.35   0.34     0.34\n",
            "8              5             4     0.43      0.51   0.43     0.43\n",
            "9              5             5     0.51      0.55   0.51     0.51\n",
            "10            10             1     0.17      0.09   0.17     0.17\n",
            "11            10             2     0.21      0.09   0.21     0.21\n",
            "creating  /tmp/mfr/dataset_10_3\n",
            "total samples before augumentation= > 30\n",
            "total samples after augumentation= > 30\n",
            "creating embeddings ...\n",
            "get_embedding_list ...\n",
            "get_embedding_list ...\n",
            "Trying with model OpenFace\n",
            "predicting accuracy ...\n",
            "test score = > 0.23308270676691728\n",
            "   no_of_classes no_of_samples accuracy precision recall f1_score\n",
            "0              2             1     0.59      0.35   0.59     0.59\n",
            "1              2             2     0.59      0.56   0.59     0.59\n",
            "2              2             3     0.69      0.72   0.69     0.69\n",
            "3              2             4     0.72      0.73   0.72     0.72\n",
            "4              2             5     0.81      0.81   0.81     0.81\n",
            "5              5             1     0.36      0.29   0.36     0.36\n",
            "6              5             2     0.32      0.35   0.32     0.32\n",
            "7              5             3     0.34      0.35   0.34     0.34\n",
            "8              5             4     0.43      0.51   0.43     0.43\n",
            "9              5             5     0.51      0.55   0.51     0.51\n",
            "10            10             1     0.17      0.09   0.17     0.17\n",
            "11            10             2     0.21      0.09   0.21     0.21\n",
            "12            10             3     0.23      0.23   0.23     0.23\n",
            "creating  /tmp/mfr/dataset_10_4\n",
            "total samples before augumentation= > 40\n",
            "total samples after augumentation= > 40\n",
            "creating embeddings ...\n",
            "get_embedding_list ...\n",
            "get_embedding_list ...\n",
            "Trying with model OpenFace\n",
            "predicting accuracy ...\n",
            "test score = > 0.23308270676691728\n",
            "   no_of_classes no_of_samples accuracy precision recall f1_score\n",
            "0              2             1     0.59      0.35   0.59     0.59\n",
            "1              2             2     0.59      0.56   0.59     0.59\n",
            "2              2             3     0.69      0.72   0.69     0.69\n",
            "3              2             4     0.72      0.73   0.72     0.72\n",
            "4              2             5     0.81      0.81   0.81     0.81\n",
            "5              5             1     0.36      0.29   0.36     0.36\n",
            "6              5             2     0.32      0.35   0.32     0.32\n",
            "7              5             3     0.34      0.35   0.34     0.34\n",
            "8              5             4     0.43      0.51   0.43     0.43\n",
            "9              5             5     0.51      0.55   0.51     0.51\n",
            "10            10             1     0.17      0.09   0.17     0.17\n",
            "11            10             2     0.21      0.09   0.21     0.21\n",
            "12            10             3     0.23      0.23   0.23     0.23\n",
            "13            10             4     0.23      0.26   0.23     0.23\n",
            "creating  /tmp/mfr/dataset_10_5\n",
            "total samples before augumentation= > 50\n",
            "total samples after augumentation= > 50\n",
            "creating embeddings ...\n",
            "get_embedding_list ...\n",
            "get_embedding_list ...\n",
            "Trying with model OpenFace\n",
            "predicting accuracy ...\n",
            "test score = > 0.24812030075187969\n",
            "   no_of_classes no_of_samples accuracy precision recall f1_score\n",
            "0              2             1     0.59      0.35   0.59     0.59\n",
            "1              2             2     0.59      0.56   0.59     0.59\n",
            "2              2             3     0.69      0.72   0.69     0.69\n",
            "3              2             4     0.72      0.73   0.72     0.72\n",
            "4              2             5     0.81      0.81   0.81     0.81\n",
            "5              5             1     0.36      0.29   0.36     0.36\n",
            "6              5             2     0.32      0.35   0.32     0.32\n",
            "7              5             3     0.34      0.35   0.34     0.34\n",
            "8              5             4     0.43      0.51   0.43     0.43\n",
            "9              5             5     0.51      0.55   0.51     0.51\n",
            "10            10             1     0.17      0.09   0.17     0.17\n",
            "11            10             2     0.21      0.09   0.21     0.21\n",
            "12            10             3     0.23      0.23   0.23     0.23\n",
            "13            10             4     0.23      0.26   0.23     0.23\n",
            "14            10             5     0.25      0.21   0.25     0.25\n",
            "creating  /tmp/mfr/dataset_25_1\n",
            "total samples before augumentation= > 25\n",
            "total samples after augumentation= > 25\n",
            "creating embeddings ...\n",
            "get_embedding_list ...\n",
            "get_embedding_list ...\n",
            "Trying with model OpenFace\n",
            "predicting accuracy ...\n",
            "test score = > 0.078125\n",
            "   no_of_classes no_of_samples accuracy precision recall f1_score\n",
            "0              2             1     0.59      0.35   0.59     0.59\n",
            "1              2             2     0.59      0.56   0.59     0.59\n",
            "2              2             3     0.69      0.72   0.69     0.69\n",
            "3              2             4     0.72      0.73   0.72     0.72\n",
            "4              2             5     0.81      0.81   0.81     0.81\n",
            "5              5             1     0.36      0.29   0.36     0.36\n",
            "6              5             2     0.32      0.35   0.32     0.32\n",
            "7              5             3     0.34      0.35   0.34     0.34\n",
            "8              5             4     0.43      0.51   0.43     0.43\n",
            "9              5             5     0.51      0.55   0.51     0.51\n",
            "10            10             1     0.17      0.09   0.17     0.17\n",
            "11            10             2     0.21      0.09   0.21     0.21\n",
            "12            10             3     0.23      0.23   0.23     0.23\n",
            "13            10             4     0.23      0.26   0.23     0.23\n",
            "14            10             5     0.25      0.21   0.25     0.25\n",
            "15            25             1     0.08      0.07   0.08     0.08\n",
            "creating  /tmp/mfr/dataset_25_2\n",
            "total samples before augumentation= > 50\n",
            "total samples after augumentation= > 50\n",
            "creating embeddings ...\n",
            "get_embedding_list ...\n",
            "get_embedding_list ...\n",
            "Trying with model OpenFace\n",
            "predicting accuracy ...\n",
            "test score = > 0.0859375\n",
            "   no_of_classes no_of_samples accuracy precision recall f1_score\n",
            "0              2             1     0.59      0.35   0.59     0.59\n",
            "1              2             2     0.59      0.56   0.59     0.59\n",
            "2              2             3     0.69      0.72   0.69     0.69\n",
            "3              2             4     0.72      0.73   0.72     0.72\n",
            "4              2             5     0.81      0.81   0.81     0.81\n",
            "5              5             1     0.36      0.29   0.36     0.36\n",
            "6              5             2     0.32      0.35   0.32     0.32\n",
            "7              5             3     0.34      0.35   0.34     0.34\n",
            "8              5             4     0.43      0.51   0.43     0.43\n",
            "9              5             5     0.51      0.55   0.51     0.51\n",
            "10            10             1     0.17      0.09   0.17     0.17\n",
            "11            10             2     0.21      0.09   0.21     0.21\n",
            "12            10             3     0.23      0.23   0.23     0.23\n",
            "13            10             4     0.23      0.26   0.23     0.23\n",
            "14            10             5     0.25      0.21   0.25     0.25\n",
            "15            25             1     0.08      0.07   0.08     0.08\n",
            "16            25             2     0.09      0.09   0.09     0.09\n",
            "creating  /tmp/mfr/dataset_25_3\n",
            "total samples before augumentation= > 75\n",
            "total samples after augumentation= > 75\n",
            "creating embeddings ...\n",
            "get_embedding_list ...\n",
            "get_embedding_list ...\n",
            "Trying with model OpenFace\n",
            "predicting accuracy ...\n",
            "test score = > 0.109375\n",
            "   no_of_classes no_of_samples accuracy precision recall f1_score\n",
            "0              2             1     0.59      0.35   0.59     0.59\n",
            "1              2             2     0.59      0.56   0.59     0.59\n",
            "2              2             3     0.69      0.72   0.69     0.69\n",
            "3              2             4     0.72      0.73   0.72     0.72\n",
            "4              2             5     0.81      0.81   0.81     0.81\n",
            "5              5             1     0.36      0.29   0.36     0.36\n",
            "6              5             2     0.32      0.35   0.32     0.32\n",
            "7              5             3     0.34      0.35   0.34     0.34\n",
            "8              5             4     0.43      0.51   0.43     0.43\n",
            "9              5             5     0.51      0.55   0.51     0.51\n",
            "10            10             1     0.17      0.09   0.17     0.17\n",
            "11            10             2     0.21      0.09   0.21     0.21\n",
            "12            10             3     0.23      0.23   0.23     0.23\n",
            "13            10             4     0.23      0.26   0.23     0.23\n",
            "14            10             5     0.25      0.21   0.25     0.25\n",
            "15            25             1     0.08      0.07   0.08     0.08\n",
            "16            25             2     0.09      0.09   0.09     0.09\n",
            "17            25             3     0.11      0.15   0.11     0.11\n",
            "creating  /tmp/mfr/dataset_25_4\n",
            "total samples before augumentation= > 100\n",
            "total samples after augumentation= > 100\n",
            "creating embeddings ...\n",
            "get_embedding_list ...\n",
            "get_embedding_list ...\n",
            "Trying with model OpenFace\n",
            "predicting accuracy ...\n",
            "test score = > 0.09375\n",
            "   no_of_classes no_of_samples accuracy precision recall f1_score\n",
            "0              2             1     0.59      0.35   0.59     0.59\n",
            "1              2             2     0.59      0.56   0.59     0.59\n",
            "2              2             3     0.69      0.72   0.69     0.69\n",
            "3              2             4     0.72      0.73   0.72     0.72\n",
            "4              2             5     0.81      0.81   0.81     0.81\n",
            "5              5             1     0.36      0.29   0.36     0.36\n",
            "6              5             2     0.32      0.35   0.32     0.32\n",
            "7              5             3     0.34      0.35   0.34     0.34\n",
            "8              5             4     0.43      0.51   0.43     0.43\n",
            "9              5             5     0.51      0.55   0.51     0.51\n",
            "10            10             1     0.17      0.09   0.17     0.17\n",
            "11            10             2     0.21      0.09   0.21     0.21\n",
            "12            10             3     0.23      0.23   0.23     0.23\n",
            "13            10             4     0.23      0.26   0.23     0.23\n",
            "14            10             5     0.25      0.21   0.25     0.25\n",
            "15            25             1     0.08      0.07   0.08     0.08\n",
            "16            25             2     0.09      0.09   0.09     0.09\n",
            "17            25             3     0.11      0.15   0.11     0.11\n",
            "18            25             4     0.09      0.16   0.09     0.09\n",
            "creating  /tmp/mfr/dataset_25_5\n",
            "total samples before augumentation= > 125\n",
            "total samples after augumentation= > 125\n",
            "creating embeddings ...\n",
            "get_embedding_list ...\n",
            "get_embedding_list ...\n",
            "Trying with model OpenFace\n",
            "predicting accuracy ...\n",
            "test score = > 0.0859375\n",
            "   no_of_classes no_of_samples accuracy precision recall f1_score\n",
            "0              2             1     0.59      0.35   0.59     0.59\n",
            "1              2             2     0.59      0.56   0.59     0.59\n",
            "2              2             3     0.69      0.72   0.69     0.69\n",
            "3              2             4     0.72      0.73   0.72     0.72\n",
            "4              2             5     0.81      0.81   0.81     0.81\n",
            "5              5             1     0.36      0.29   0.36     0.36\n",
            "6              5             2     0.32      0.35   0.32     0.32\n",
            "7              5             3     0.34      0.35   0.34     0.34\n",
            "8              5             4     0.43      0.51   0.43     0.43\n",
            "9              5             5     0.51      0.55   0.51     0.51\n",
            "10            10             1     0.17      0.09   0.17     0.17\n",
            "11            10             2     0.21      0.09   0.21     0.21\n",
            "12            10             3     0.23      0.23   0.23     0.23\n",
            "13            10             4     0.23      0.26   0.23     0.23\n",
            "14            10             5     0.25      0.21   0.25     0.25\n",
            "15            25             1     0.08      0.07   0.08     0.08\n",
            "16            25             2     0.09      0.09   0.09     0.09\n",
            "17            25             3     0.11      0.15   0.11     0.11\n",
            "18            25             4     0.09      0.16   0.09     0.09\n",
            "19            25             5     0.09      0.14   0.09     0.09\n",
            "creating  /tmp/mfr/dataset_50_1\n",
            "total samples before augumentation= > 44\n",
            "total samples after augumentation= > 44\n",
            "creating embeddings ...\n",
            "get_embedding_list ...\n",
            "get_embedding_list ...\n",
            "Trying with model OpenFace\n",
            "predicting accuracy ...\n",
            "test score = > 0.054455445544554455\n",
            "   no_of_classes no_of_samples accuracy precision recall f1_score\n",
            "0              2             1     0.59      0.35   0.59     0.59\n",
            "1              2             2     0.59      0.56   0.59     0.59\n",
            "2              2             3     0.69      0.72   0.69     0.69\n",
            "3              2             4     0.72      0.73   0.72     0.72\n",
            "4              2             5     0.81      0.81   0.81     0.81\n",
            "5              5             1     0.36      0.29   0.36     0.36\n",
            "6              5             2     0.32      0.35   0.32     0.32\n",
            "7              5             3     0.34      0.35   0.34     0.34\n",
            "8              5             4     0.43      0.51   0.43     0.43\n",
            "9              5             5     0.51      0.55   0.51     0.51\n",
            "10            10             1     0.17      0.09   0.17     0.17\n",
            "11            10             2     0.21      0.09   0.21     0.21\n",
            "12            10             3     0.23      0.23   0.23     0.23\n",
            "13            10             4     0.23      0.26   0.23     0.23\n",
            "14            10             5     0.25      0.21   0.25     0.25\n",
            "15            25             1     0.08      0.07   0.08     0.08\n",
            "16            25             2     0.09      0.09   0.09     0.09\n",
            "17            25             3     0.11      0.15   0.11     0.11\n",
            "18            25             4     0.09      0.16   0.09     0.09\n",
            "19            25             5     0.09      0.14   0.09     0.09\n",
            "20            50             1     0.05      0.09   0.05     0.05\n",
            "creating  /tmp/mfr/dataset_50_2\n",
            "total samples before augumentation= > 88\n",
            "total samples after augumentation= > 88\n",
            "creating embeddings ...\n",
            "get_embedding_list ...\n",
            "get_embedding_list ...\n",
            "Trying with model OpenFace\n",
            "predicting accuracy ...\n",
            "test score = > 0.08168316831683169\n",
            "   no_of_classes no_of_samples accuracy precision recall f1_score\n",
            "0              2             1     0.59      0.35   0.59     0.59\n",
            "1              2             2     0.59      0.56   0.59     0.59\n",
            "2              2             3     0.69      0.72   0.69     0.69\n",
            "3              2             4     0.72      0.73   0.72     0.72\n",
            "4              2             5     0.81      0.81   0.81     0.81\n",
            "5              5             1     0.36      0.29   0.36     0.36\n",
            "6              5             2     0.32      0.35   0.32     0.32\n",
            "7              5             3     0.34      0.35   0.34     0.34\n",
            "8              5             4     0.43      0.51   0.43     0.43\n",
            "9              5             5     0.51      0.55   0.51     0.51\n",
            "10            10             1     0.17      0.09   0.17     0.17\n",
            "11            10             2     0.21      0.09   0.21     0.21\n",
            "12            10             3     0.23      0.23   0.23     0.23\n",
            "13            10             4     0.23      0.26   0.23     0.23\n",
            "14            10             5     0.25      0.21   0.25     0.25\n",
            "15            25             1     0.08      0.07   0.08     0.08\n",
            "16            25             2     0.09      0.09   0.09     0.09\n",
            "17            25             3     0.11      0.15   0.11     0.11\n",
            "18            25             4     0.09      0.16   0.09     0.09\n",
            "19            25             5     0.09      0.14   0.09     0.09\n",
            "20            50             1     0.05      0.09   0.05     0.05\n",
            "21            50             2     0.08      0.09   0.08     0.08\n",
            "creating  /tmp/mfr/dataset_50_3\n",
            "total samples before augumentation= > 132\n",
            "total samples after augumentation= > 132\n",
            "creating embeddings ...\n",
            "get_embedding_list ...\n",
            "get_embedding_list ...\n",
            "Trying with model OpenFace\n",
            "predicting accuracy ...\n",
            "test score = > 0.08415841584158416\n",
            "   no_of_classes no_of_samples accuracy precision recall f1_score\n",
            "0              2             1     0.59      0.35   0.59     0.59\n",
            "1              2             2     0.59      0.56   0.59     0.59\n",
            "2              2             3     0.69      0.72   0.69     0.69\n",
            "3              2             4     0.72      0.73   0.72     0.72\n",
            "4              2             5     0.81      0.81   0.81     0.81\n",
            "5              5             1     0.36      0.29   0.36     0.36\n",
            "6              5             2     0.32      0.35   0.32     0.32\n",
            "7              5             3     0.34      0.35   0.34     0.34\n",
            "8              5             4     0.43      0.51   0.43     0.43\n",
            "9              5             5     0.51      0.55   0.51     0.51\n",
            "10            10             1     0.17      0.09   0.17     0.17\n",
            "11            10             2     0.21      0.09   0.21     0.21\n",
            "12            10             3     0.23      0.23   0.23     0.23\n",
            "13            10             4     0.23      0.26   0.23     0.23\n",
            "14            10             5     0.25      0.21   0.25     0.25\n",
            "15            25             1     0.08      0.07   0.08     0.08\n",
            "16            25             2     0.09      0.09   0.09     0.09\n",
            "17            25             3     0.11      0.15   0.11     0.11\n",
            "18            25             4     0.09      0.16   0.09     0.09\n",
            "19            25             5     0.09      0.14   0.09     0.09\n",
            "20            50             1     0.05      0.09   0.05     0.05\n",
            "21            50             2     0.08      0.09   0.08     0.08\n",
            "22            50             3     0.08      0.08   0.08     0.08\n",
            "creating  /tmp/mfr/dataset_50_4\n",
            "total samples before augumentation= > 176\n",
            "total samples after augumentation= > 176\n",
            "creating embeddings ...\n",
            "get_embedding_list ...\n",
            "get_embedding_list ...\n",
            "Trying with model OpenFace\n",
            "predicting accuracy ...\n",
            "test score = > 0.07425742574257425\n",
            "   no_of_classes no_of_samples accuracy precision recall f1_score\n",
            "0              2             1     0.59      0.35   0.59     0.59\n",
            "1              2             2     0.59      0.56   0.59     0.59\n",
            "2              2             3     0.69      0.72   0.69     0.69\n",
            "3              2             4     0.72      0.73   0.72     0.72\n",
            "4              2             5     0.81      0.81   0.81     0.81\n",
            "5              5             1     0.36      0.29   0.36     0.36\n",
            "6              5             2     0.32      0.35   0.32     0.32\n",
            "7              5             3     0.34      0.35   0.34     0.34\n",
            "8              5             4     0.43      0.51   0.43     0.43\n",
            "9              5             5     0.51      0.55   0.51     0.51\n",
            "10            10             1     0.17      0.09   0.17     0.17\n",
            "11            10             2     0.21      0.09   0.21     0.21\n",
            "12            10             3     0.23      0.23   0.23     0.23\n",
            "13            10             4     0.23      0.26   0.23     0.23\n",
            "14            10             5     0.25      0.21   0.25     0.25\n",
            "15            25             1     0.08      0.07   0.08     0.08\n",
            "16            25             2     0.09      0.09   0.09     0.09\n",
            "17            25             3     0.11      0.15   0.11     0.11\n",
            "18            25             4     0.09      0.16   0.09     0.09\n",
            "19            25             5     0.09      0.14   0.09     0.09\n",
            "20            50             1     0.05      0.09   0.05     0.05\n",
            "21            50             2     0.08      0.09   0.08     0.08\n",
            "22            50             3     0.08      0.08   0.08     0.08\n",
            "23            50             4     0.07      0.09   0.07     0.07\n",
            "creating  /tmp/mfr/dataset_50_5\n",
            "total samples before augumentation= > 220\n",
            "total samples after augumentation= > 220\n",
            "creating embeddings ...\n",
            "get_embedding_list ...\n",
            "get_embedding_list ...\n",
            "Trying with model OpenFace\n",
            "predicting accuracy ...\n",
            "test score = > 0.08168316831683169\n",
            "   no_of_classes no_of_samples accuracy precision recall f1_score\n",
            "0              2             1     0.59      0.35   0.59     0.59\n",
            "1              2             2     0.59      0.56   0.59     0.59\n",
            "2              2             3     0.69      0.72   0.69     0.69\n",
            "3              2             4     0.72      0.73   0.72     0.72\n",
            "4              2             5     0.81      0.81   0.81     0.81\n",
            "5              5             1     0.36      0.29   0.36     0.36\n",
            "6              5             2     0.32      0.35   0.32     0.32\n",
            "7              5             3     0.34      0.35   0.34     0.34\n",
            "8              5             4     0.43      0.51   0.43     0.43\n",
            "9              5             5     0.51      0.55   0.51     0.51\n",
            "10            10             1     0.17      0.09   0.17     0.17\n",
            "11            10             2     0.21      0.09   0.21     0.21\n",
            "12            10             3     0.23      0.23   0.23     0.23\n",
            "13            10             4     0.23      0.26   0.23     0.23\n",
            "14            10             5     0.25      0.21   0.25     0.25\n",
            "15            25             1     0.08      0.07   0.08     0.08\n",
            "16            25             2     0.09      0.09   0.09     0.09\n",
            "17            25             3     0.11      0.15   0.11     0.11\n",
            "18            25             4     0.09      0.16   0.09     0.09\n",
            "19            25             5     0.09      0.14   0.09     0.09\n",
            "20            50             1     0.05      0.09   0.05     0.05\n",
            "21            50             2     0.08      0.09   0.08     0.08\n",
            "22            50             3     0.08      0.08   0.08     0.08\n",
            "23            50             4     0.07      0.09   0.07     0.07\n",
            "24            50             5     0.08      0.12   0.08     0.08\n",
            "saving data to file /content/MaskTheFace/mfr_OpenFace_None.csv\n",
            "creating  /tmp/mfr/dataset_2_1\n",
            "total samples before augumentation= > 2\n",
            "total samples after augumentation= > 2\n",
            "creating embeddings ...\n",
            "get_embedding_list ...\n",
            "get_embedding_list ...\n",
            "Trying with model DeepFace\n",
            "predicting accuracy ...\n",
            "test score = > 0.5625\n",
            "  no_of_classes no_of_samples accuracy precision recall f1_score\n",
            "0             2             1     0.56      0.66   0.56     0.56\n",
            "creating  /tmp/mfr/dataset_2_2\n",
            "total samples before augumentation= > 4\n",
            "total samples after augumentation= > 4\n",
            "creating embeddings ...\n",
            "get_embedding_list ...\n",
            "get_embedding_list ...\n",
            "Trying with model DeepFace\n",
            "predicting accuracy ...\n",
            "test score = > 0.71875\n",
            "  no_of_classes no_of_samples accuracy precision recall f1_score\n",
            "0             2             1     0.56      0.66   0.56     0.56\n",
            "1             2             2     0.72      0.73   0.72     0.72\n",
            "creating  /tmp/mfr/dataset_2_3\n",
            "total samples before augumentation= > 6\n",
            "total samples after augumentation= > 6\n",
            "creating embeddings ...\n",
            "get_embedding_list ...\n",
            "get_embedding_list ...\n",
            "Trying with model DeepFace\n",
            "predicting accuracy ...\n",
            "test score = > 0.625\n",
            "  no_of_classes no_of_samples accuracy precision recall f1_score\n",
            "0             2             1     0.56      0.66   0.56     0.56\n",
            "1             2             2     0.72      0.73   0.72     0.72\n",
            "2             2             3     0.62      0.62   0.62     0.62\n",
            "creating  /tmp/mfr/dataset_2_4\n",
            "total samples before augumentation= > 8\n",
            "total samples after augumentation= > 8\n",
            "creating embeddings ...\n",
            "get_embedding_list ...\n",
            "get_embedding_list ...\n",
            "Trying with model DeepFace\n",
            "predicting accuracy ...\n",
            "test score = > 0.6875\n",
            "  no_of_classes no_of_samples accuracy precision recall f1_score\n",
            "0             2             1     0.56      0.66   0.56     0.56\n",
            "1             2             2     0.72      0.73   0.72     0.72\n",
            "2             2             3     0.62      0.62   0.62     0.62\n",
            "3             2             4     0.69      0.68   0.69     0.69\n",
            "creating  /tmp/mfr/dataset_2_5\n",
            "total samples before augumentation= > 10\n",
            "total samples after augumentation= > 10\n",
            "creating embeddings ...\n",
            "get_embedding_list ...\n",
            "get_embedding_list ...\n",
            "Trying with model DeepFace\n",
            "predicting accuracy ...\n",
            "test score = > 0.625\n",
            "  no_of_classes no_of_samples accuracy precision recall f1_score\n",
            "0             2             1     0.56      0.66   0.56     0.56\n",
            "1             2             2     0.72      0.73   0.72     0.72\n",
            "2             2             3     0.62      0.62   0.62     0.62\n",
            "3             2             4     0.69      0.68   0.69     0.69\n",
            "4             2             5     0.62      0.77   0.62     0.62\n",
            "creating  /tmp/mfr/dataset_5_1\n",
            "total samples before augumentation= > 5\n",
            "total samples after augumentation= > 5\n",
            "creating embeddings ...\n",
            "get_embedding_list ...\n",
            "get_embedding_list ...\n",
            "Trying with model DeepFace\n",
            "predicting accuracy ...\n",
            "test score = > 0.37735849056603776\n",
            "  no_of_classes no_of_samples accuracy precision recall f1_score\n",
            "0             2             1     0.56      0.66   0.56     0.56\n",
            "1             2             2     0.72      0.73   0.72     0.72\n",
            "2             2             3     0.62      0.62   0.62     0.62\n",
            "3             2             4     0.69      0.68   0.69     0.69\n",
            "4             2             5     0.62      0.77   0.62     0.62\n",
            "5             5             1     0.38      0.62   0.38     0.38\n",
            "creating  /tmp/mfr/dataset_5_2\n",
            "total samples before augumentation= > 10\n",
            "total samples after augumentation= > 10\n",
            "creating embeddings ...\n",
            "get_embedding_list ...\n",
            "get_embedding_list ...\n",
            "Trying with model DeepFace\n",
            "predicting accuracy ...\n",
            "test score = > 0.32075471698113206\n",
            "  no_of_classes no_of_samples accuracy precision recall f1_score\n",
            "0             2             1     0.56      0.66   0.56     0.56\n",
            "1             2             2     0.72      0.73   0.72     0.72\n",
            "2             2             3     0.62      0.62   0.62     0.62\n",
            "3             2             4     0.69      0.68   0.69     0.69\n",
            "4             2             5     0.62      0.77   0.62     0.62\n",
            "5             5             1     0.38      0.62   0.38     0.38\n",
            "6             5             2     0.32      0.51   0.32     0.32\n",
            "creating  /tmp/mfr/dataset_5_3\n",
            "total samples before augumentation= > 15\n",
            "total samples after augumentation= > 15\n",
            "creating embeddings ...\n",
            "get_embedding_list ...\n",
            "get_embedding_list ...\n",
            "Trying with model DeepFace\n",
            "predicting accuracy ...\n",
            "test score = > 0.2641509433962264\n",
            "  no_of_classes no_of_samples accuracy precision recall f1_score\n",
            "0             2             1     0.56      0.66   0.56     0.56\n",
            "1             2             2     0.72      0.73   0.72     0.72\n",
            "2             2             3     0.62      0.62   0.62     0.62\n",
            "3             2             4     0.69      0.68   0.69     0.69\n",
            "4             2             5     0.62      0.77   0.62     0.62\n",
            "5             5             1     0.38      0.62   0.38     0.38\n",
            "6             5             2     0.32      0.51   0.32     0.32\n",
            "7             5             3     0.26       0.4   0.26     0.26\n",
            "creating  /tmp/mfr/dataset_5_4\n",
            "total samples before augumentation= > 20\n",
            "total samples after augumentation= > 20\n",
            "creating embeddings ...\n",
            "get_embedding_list ...\n"
          ]
        },
        {
          "output_type": "error",
          "ename": "KeyboardInterrupt",
          "evalue": "ignored",
          "traceback": [
            "\u001b[0;31m---------------------------------------------------------------------------\u001b[0m",
            "\u001b[0;31mKeyboardInterrupt\u001b[0m                         Traceback (most recent call last)",
            "\u001b[0;32m<ipython-input-74-69c68d68d667>\u001b[0m in \u001b[0;36m<module>\u001b[0;34m()\u001b[0m\n\u001b[1;32m     19\u001b[0m       \u001b[0mresult_list\u001b[0m \u001b[0;34m=\u001b[0m \u001b[0;34m[\u001b[0m\u001b[0;34m]\u001b[0m\u001b[0;34m\u001b[0m\u001b[0;34m\u001b[0m\u001b[0m\n\u001b[1;32m     20\u001b[0m       \u001b[0;32mfor\u001b[0m \u001b[0ms\u001b[0m \u001b[0;32min\u001b[0m \u001b[0msample_list\u001b[0m\u001b[0;34m:\u001b[0m\u001b[0;34m\u001b[0m\u001b[0;34m\u001b[0m\u001b[0m\n\u001b[0;32m---> 21\u001b[0;31m         \u001b[0mtest_accuracy\u001b[0m\u001b[0;34m,\u001b[0m \u001b[0mprecision\u001b[0m\u001b[0;34m,\u001b[0m \u001b[0mrecall\u001b[0m\u001b[0;34m,\u001b[0m \u001b[0mf1_score\u001b[0m \u001b[0;34m=\u001b[0m \u001b[0mrun_fr_test\u001b[0m\u001b[0;34m(\u001b[0m\u001b[0mint\u001b[0m\u001b[0;34m(\u001b[0m\u001b[0mc\u001b[0m\u001b[0;34m)\u001b[0m\u001b[0;34m,\u001b[0m \u001b[0mint\u001b[0m\u001b[0;34m(\u001b[0m\u001b[0ms\u001b[0m\u001b[0;34m)\u001b[0m\u001b[0;34m,\u001b[0m \u001b[0mmodel\u001b[0m\u001b[0;34m,\u001b[0m \u001b[0maugument\u001b[0m\u001b[0;34m)\u001b[0m\u001b[0;34m\u001b[0m\u001b[0;34m\u001b[0m\u001b[0m\n\u001b[0m\u001b[1;32m     22\u001b[0m         result = {'no_of_classes' : c, \n\u001b[1;32m     23\u001b[0m                   \u001b[0;34m'no_of_samples'\u001b[0m \u001b[0;34m:\u001b[0m\u001b[0ms\u001b[0m\u001b[0;34m,\u001b[0m\u001b[0;34m\u001b[0m\u001b[0;34m\u001b[0m\u001b[0m\n",
            "\u001b[0;32m<ipython-input-58-9e9738885ec0>\u001b[0m in \u001b[0;36mrun_fr_test\u001b[0;34m(number_of_classes, max_classes, model_name, augument)\u001b[0m\n\u001b[1;32m      2\u001b[0m \u001b[0;32mfrom\u001b[0m \u001b[0mnumpy\u001b[0m \u001b[0;32mimport\u001b[0m \u001b[0masarray\u001b[0m\u001b[0;34m\u001b[0m\u001b[0;34m\u001b[0m\u001b[0m\n\u001b[1;32m      3\u001b[0m \u001b[0;32mdef\u001b[0m \u001b[0mrun_fr_test\u001b[0m\u001b[0;34m(\u001b[0m \u001b[0mnumber_of_classes\u001b[0m\u001b[0;34m,\u001b[0m \u001b[0mmax_classes\u001b[0m\u001b[0;34m,\u001b[0m \u001b[0mmodel_name\u001b[0m\u001b[0;34m,\u001b[0m \u001b[0maugument\u001b[0m\u001b[0;34m)\u001b[0m\u001b[0;34m:\u001b[0m\u001b[0;34m\u001b[0m\u001b[0;34m\u001b[0m\u001b[0m\n\u001b[0;32m----> 4\u001b[0;31m   \u001b[0mtrainX\u001b[0m\u001b[0;34m,\u001b[0m \u001b[0mtrainy\u001b[0m\u001b[0;34m,\u001b[0m \u001b[0mtestX\u001b[0m\u001b[0;34m,\u001b[0m \u001b[0mtesty\u001b[0m \u001b[0;34m=\u001b[0m \u001b[0mcreate_embeddings\u001b[0m\u001b[0;34m(\u001b[0m\u001b[0mmodel_name\u001b[0m\u001b[0;34m,\u001b[0m  \u001b[0mnumber_of_classes\u001b[0m\u001b[0;34m,\u001b[0m \u001b[0mmax_classes\u001b[0m\u001b[0;34m,\u001b[0m \u001b[0maugument\u001b[0m\u001b[0;34m)\u001b[0m\u001b[0;34m\u001b[0m\u001b[0;34m\u001b[0m\u001b[0m\n\u001b[0m\u001b[1;32m      5\u001b[0m   \u001b[0mprint\u001b[0m\u001b[0;34m(\u001b[0m\u001b[0;34m\"Trying with model \"\u001b[0m \u001b[0;34m+\u001b[0m \u001b[0mmodel_name\u001b[0m\u001b[0;34m)\u001b[0m\u001b[0;34m\u001b[0m\u001b[0;34m\u001b[0m\u001b[0m\n\u001b[1;32m      6\u001b[0m   \u001b[0;32mreturn\u001b[0m \u001b[0mpredict_accuracy\u001b[0m\u001b[0;34m(\u001b[0m\u001b[0mtrainX\u001b[0m\u001b[0;34m,\u001b[0m \u001b[0mtrainy\u001b[0m\u001b[0;34m,\u001b[0m \u001b[0mtestX\u001b[0m\u001b[0;34m,\u001b[0m \u001b[0mtesty\u001b[0m\u001b[0;34m)\u001b[0m\u001b[0;34m\u001b[0m\u001b[0;34m\u001b[0m\u001b[0m\n",
            "\u001b[0;32m<ipython-input-59-f2801b93c179>\u001b[0m in \u001b[0;36mcreate_embeddings\u001b[0;34m(model_name, number_of_classes, max_samples, augument)\u001b[0m\n\u001b[1;32m     11\u001b[0m   \u001b[0;31m# plot_test_list()\u001b[0m\u001b[0;34m\u001b[0m\u001b[0;34m\u001b[0m\u001b[0;34m\u001b[0m\u001b[0m\n\u001b[1;32m     12\u001b[0m   \u001b[0mprint\u001b[0m\u001b[0;34m(\u001b[0m\u001b[0;34m\"creating embeddings ...\"\u001b[0m\u001b[0;34m)\u001b[0m\u001b[0;34m\u001b[0m\u001b[0;34m\u001b[0m\u001b[0m\n\u001b[0;32m---> 13\u001b[0;31m   \u001b[0mnewTrainX\u001b[0m\u001b[0;34m,\u001b[0m \u001b[0mtrainy\u001b[0m \u001b[0;34m=\u001b[0m \u001b[0mget_embedding_list\u001b[0m\u001b[0;34m(\u001b[0m\u001b[0mtrain_folder\u001b[0m\u001b[0;34m,\u001b[0m \u001b[0mmodel_name\u001b[0m\u001b[0;34m)\u001b[0m\u001b[0;34m\u001b[0m\u001b[0;34m\u001b[0m\u001b[0m\n\u001b[0m\u001b[1;32m     14\u001b[0m   \u001b[0mnewTrainX\u001b[0m \u001b[0;34m=\u001b[0m \u001b[0masarray\u001b[0m\u001b[0;34m(\u001b[0m\u001b[0mnewTrainX\u001b[0m\u001b[0;34m)\u001b[0m\u001b[0;34m\u001b[0m\u001b[0;34m\u001b[0m\u001b[0m\n\u001b[1;32m     15\u001b[0m   \u001b[0mnewTestX\u001b[0m\u001b[0;34m,\u001b[0m \u001b[0mtesty\u001b[0m \u001b[0;34m=\u001b[0m \u001b[0mget_embedding_list\u001b[0m\u001b[0;34m(\u001b[0m\u001b[0mtest_folder\u001b[0m\u001b[0;34m,\u001b[0m \u001b[0mmodel_name\u001b[0m\u001b[0;34m)\u001b[0m\u001b[0;34m\u001b[0m\u001b[0;34m\u001b[0m\u001b[0m\n",
            "\u001b[0;32m<ipython-input-38-bd76d6f9d312>\u001b[0m in \u001b[0;36mget_embedding_list\u001b[0;34m(path, model_name)\u001b[0m\n\u001b[1;32m      5\u001b[0m   \u001b[0membedding_list\u001b[0m \u001b[0;34m=\u001b[0m \u001b[0mlist\u001b[0m\u001b[0;34m(\u001b[0m\u001b[0;34m)\u001b[0m\u001b[0;34m\u001b[0m\u001b[0;34m\u001b[0m\u001b[0m\n\u001b[1;32m      6\u001b[0m   \u001b[0;32mfor\u001b[0m \u001b[0mfile\u001b[0m \u001b[0;32min\u001b[0m \u001b[0mimg_list\u001b[0m\u001b[0;34m:\u001b[0m\u001b[0;34m\u001b[0m\u001b[0;34m\u001b[0m\u001b[0m\n\u001b[0;32m----> 7\u001b[0;31m     \u001b[0membedding\u001b[0m \u001b[0;34m=\u001b[0m \u001b[0mDeepFace\u001b[0m\u001b[0;34m.\u001b[0m\u001b[0mrepresent\u001b[0m\u001b[0;34m(\u001b[0m\u001b[0mfile\u001b[0m\u001b[0;34m,\u001b[0m \u001b[0mmodel_name\u001b[0m \u001b[0;34m=\u001b[0m \u001b[0mmodel_name\u001b[0m\u001b[0;34m,\u001b[0m \u001b[0menforce_detection\u001b[0m \u001b[0;34m=\u001b[0m\u001b[0;32mFalse\u001b[0m\u001b[0;34m)\u001b[0m\u001b[0;34m\u001b[0m\u001b[0;34m\u001b[0m\u001b[0m\n\u001b[0m\u001b[1;32m      8\u001b[0m     \u001b[0membedding_list\u001b[0m\u001b[0;34m.\u001b[0m\u001b[0mappend\u001b[0m\u001b[0;34m(\u001b[0m\u001b[0membedding\u001b[0m\u001b[0;34m)\u001b[0m\u001b[0;34m\u001b[0m\u001b[0;34m\u001b[0m\u001b[0m\n\u001b[1;32m      9\u001b[0m   \u001b[0mfinal_name_list\u001b[0m \u001b[0;34m=\u001b[0m \u001b[0;34m[\u001b[0m\u001b[0;34m]\u001b[0m\u001b[0;34m\u001b[0m\u001b[0;34m\u001b[0m\u001b[0m\n",
            "\u001b[0;32m/usr/local/lib/python3.7/dist-packages/deepface/DeepFace.py\u001b[0m in \u001b[0;36mrepresent\u001b[0;34m(img_path, model_name, model, enforce_detection, detector_backend, align, normalization)\u001b[0m\n\u001b[1;32m    766\u001b[0m \u001b[0;34m\u001b[0m\u001b[0m\n\u001b[1;32m    767\u001b[0m         \u001b[0;31m#represent\u001b[0m\u001b[0;34m\u001b[0m\u001b[0;34m\u001b[0m\u001b[0;34m\u001b[0m\u001b[0m\n\u001b[0;32m--> 768\u001b[0;31m         \u001b[0membedding\u001b[0m \u001b[0;34m=\u001b[0m \u001b[0mmodel\u001b[0m\u001b[0;34m.\u001b[0m\u001b[0mpredict\u001b[0m\u001b[0;34m(\u001b[0m\u001b[0mimg\u001b[0m\u001b[0;34m)\u001b[0m\u001b[0;34m[\u001b[0m\u001b[0;36m0\u001b[0m\u001b[0;34m]\u001b[0m\u001b[0;34m.\u001b[0m\u001b[0mtolist\u001b[0m\u001b[0;34m(\u001b[0m\u001b[0;34m)\u001b[0m\u001b[0;34m\u001b[0m\u001b[0;34m\u001b[0m\u001b[0m\n\u001b[0m\u001b[1;32m    769\u001b[0m \u001b[0;34m\u001b[0m\u001b[0m\n\u001b[1;32m    770\u001b[0m         \u001b[0;32mreturn\u001b[0m \u001b[0membedding\u001b[0m\u001b[0;34m\u001b[0m\u001b[0;34m\u001b[0m\u001b[0m\n",
            "\u001b[0;32m/usr/local/lib/python3.7/dist-packages/keras/utils/traceback_utils.py\u001b[0m in \u001b[0;36merror_handler\u001b[0;34m(*args, **kwargs)\u001b[0m\n\u001b[1;32m     62\u001b[0m     \u001b[0mfiltered_tb\u001b[0m \u001b[0;34m=\u001b[0m \u001b[0;32mNone\u001b[0m\u001b[0;34m\u001b[0m\u001b[0;34m\u001b[0m\u001b[0m\n\u001b[1;32m     63\u001b[0m     \u001b[0;32mtry\u001b[0m\u001b[0;34m:\u001b[0m\u001b[0;34m\u001b[0m\u001b[0;34m\u001b[0m\u001b[0m\n\u001b[0;32m---> 64\u001b[0;31m       \u001b[0;32mreturn\u001b[0m \u001b[0mfn\u001b[0m\u001b[0;34m(\u001b[0m\u001b[0;34m*\u001b[0m\u001b[0margs\u001b[0m\u001b[0;34m,\u001b[0m \u001b[0;34m**\u001b[0m\u001b[0mkwargs\u001b[0m\u001b[0;34m)\u001b[0m\u001b[0;34m\u001b[0m\u001b[0;34m\u001b[0m\u001b[0m\n\u001b[0m\u001b[1;32m     65\u001b[0m     \u001b[0;32mexcept\u001b[0m \u001b[0mException\u001b[0m \u001b[0;32mas\u001b[0m \u001b[0me\u001b[0m\u001b[0;34m:\u001b[0m  \u001b[0;31m# pylint: disable=broad-except\u001b[0m\u001b[0;34m\u001b[0m\u001b[0;34m\u001b[0m\u001b[0m\n\u001b[1;32m     66\u001b[0m       \u001b[0mfiltered_tb\u001b[0m \u001b[0;34m=\u001b[0m \u001b[0m_process_traceback_frames\u001b[0m\u001b[0;34m(\u001b[0m\u001b[0me\u001b[0m\u001b[0;34m.\u001b[0m\u001b[0m__traceback__\u001b[0m\u001b[0;34m)\u001b[0m\u001b[0;34m\u001b[0m\u001b[0;34m\u001b[0m\u001b[0m\n",
            "\u001b[0;32m/usr/local/lib/python3.7/dist-packages/keras/engine/training.py\u001b[0m in \u001b[0;36mpredict\u001b[0;34m(self, x, batch_size, verbose, steps, callbacks, max_queue_size, workers, use_multiprocessing)\u001b[0m\n\u001b[1;32m   1980\u001b[0m           \u001b[0;32mfor\u001b[0m \u001b[0mstep\u001b[0m \u001b[0;32min\u001b[0m \u001b[0mdata_handler\u001b[0m\u001b[0;34m.\u001b[0m\u001b[0msteps\u001b[0m\u001b[0;34m(\u001b[0m\u001b[0;34m)\u001b[0m\u001b[0;34m:\u001b[0m\u001b[0;34m\u001b[0m\u001b[0;34m\u001b[0m\u001b[0m\n\u001b[1;32m   1981\u001b[0m             \u001b[0mcallbacks\u001b[0m\u001b[0;34m.\u001b[0m\u001b[0mon_predict_batch_begin\u001b[0m\u001b[0;34m(\u001b[0m\u001b[0mstep\u001b[0m\u001b[0;34m)\u001b[0m\u001b[0;34m\u001b[0m\u001b[0;34m\u001b[0m\u001b[0m\n\u001b[0;32m-> 1982\u001b[0;31m             \u001b[0mtmp_batch_outputs\u001b[0m \u001b[0;34m=\u001b[0m \u001b[0mself\u001b[0m\u001b[0;34m.\u001b[0m\u001b[0mpredict_function\u001b[0m\u001b[0;34m(\u001b[0m\u001b[0miterator\u001b[0m\u001b[0;34m)\u001b[0m\u001b[0;34m\u001b[0m\u001b[0;34m\u001b[0m\u001b[0m\n\u001b[0m\u001b[1;32m   1983\u001b[0m             \u001b[0;32mif\u001b[0m \u001b[0mdata_handler\u001b[0m\u001b[0;34m.\u001b[0m\u001b[0mshould_sync\u001b[0m\u001b[0;34m:\u001b[0m\u001b[0;34m\u001b[0m\u001b[0;34m\u001b[0m\u001b[0m\n\u001b[1;32m   1984\u001b[0m               \u001b[0mcontext\u001b[0m\u001b[0;34m.\u001b[0m\u001b[0masync_wait\u001b[0m\u001b[0;34m(\u001b[0m\u001b[0;34m)\u001b[0m\u001b[0;34m\u001b[0m\u001b[0;34m\u001b[0m\u001b[0m\n",
            "\u001b[0;32m/usr/local/lib/python3.7/dist-packages/tensorflow/python/util/traceback_utils.py\u001b[0m in \u001b[0;36merror_handler\u001b[0;34m(*args, **kwargs)\u001b[0m\n\u001b[1;32m    148\u001b[0m     \u001b[0mfiltered_tb\u001b[0m \u001b[0;34m=\u001b[0m \u001b[0;32mNone\u001b[0m\u001b[0;34m\u001b[0m\u001b[0;34m\u001b[0m\u001b[0m\n\u001b[1;32m    149\u001b[0m     \u001b[0;32mtry\u001b[0m\u001b[0;34m:\u001b[0m\u001b[0;34m\u001b[0m\u001b[0;34m\u001b[0m\u001b[0m\n\u001b[0;32m--> 150\u001b[0;31m       \u001b[0;32mreturn\u001b[0m \u001b[0mfn\u001b[0m\u001b[0;34m(\u001b[0m\u001b[0;34m*\u001b[0m\u001b[0margs\u001b[0m\u001b[0;34m,\u001b[0m \u001b[0;34m**\u001b[0m\u001b[0mkwargs\u001b[0m\u001b[0;34m)\u001b[0m\u001b[0;34m\u001b[0m\u001b[0;34m\u001b[0m\u001b[0m\n\u001b[0m\u001b[1;32m    151\u001b[0m     \u001b[0;32mexcept\u001b[0m \u001b[0mException\u001b[0m \u001b[0;32mas\u001b[0m \u001b[0me\u001b[0m\u001b[0;34m:\u001b[0m\u001b[0;34m\u001b[0m\u001b[0;34m\u001b[0m\u001b[0m\n\u001b[1;32m    152\u001b[0m       \u001b[0mfiltered_tb\u001b[0m \u001b[0;34m=\u001b[0m \u001b[0m_process_traceback_frames\u001b[0m\u001b[0;34m(\u001b[0m\u001b[0me\u001b[0m\u001b[0;34m.\u001b[0m\u001b[0m__traceback__\u001b[0m\u001b[0;34m)\u001b[0m\u001b[0;34m\u001b[0m\u001b[0;34m\u001b[0m\u001b[0m\n",
            "\u001b[0;32m/usr/local/lib/python3.7/dist-packages/tensorflow/python/eager/def_function.py\u001b[0m in \u001b[0;36m__call__\u001b[0;34m(self, *args, **kwds)\u001b[0m\n\u001b[1;32m    913\u001b[0m \u001b[0;34m\u001b[0m\u001b[0m\n\u001b[1;32m    914\u001b[0m       \u001b[0;32mwith\u001b[0m \u001b[0mOptionalXlaContext\u001b[0m\u001b[0;34m(\u001b[0m\u001b[0mself\u001b[0m\u001b[0;34m.\u001b[0m\u001b[0m_jit_compile\u001b[0m\u001b[0;34m)\u001b[0m\u001b[0;34m:\u001b[0m\u001b[0;34m\u001b[0m\u001b[0;34m\u001b[0m\u001b[0m\n\u001b[0;32m--> 915\u001b[0;31m         \u001b[0mresult\u001b[0m \u001b[0;34m=\u001b[0m \u001b[0mself\u001b[0m\u001b[0;34m.\u001b[0m\u001b[0m_call\u001b[0m\u001b[0;34m(\u001b[0m\u001b[0;34m*\u001b[0m\u001b[0margs\u001b[0m\u001b[0;34m,\u001b[0m \u001b[0;34m**\u001b[0m\u001b[0mkwds\u001b[0m\u001b[0;34m)\u001b[0m\u001b[0;34m\u001b[0m\u001b[0;34m\u001b[0m\u001b[0m\n\u001b[0m\u001b[1;32m    916\u001b[0m \u001b[0;34m\u001b[0m\u001b[0m\n\u001b[1;32m    917\u001b[0m       \u001b[0mnew_tracing_count\u001b[0m \u001b[0;34m=\u001b[0m \u001b[0mself\u001b[0m\u001b[0;34m.\u001b[0m\u001b[0mexperimental_get_tracing_count\u001b[0m\u001b[0;34m(\u001b[0m\u001b[0;34m)\u001b[0m\u001b[0;34m\u001b[0m\u001b[0;34m\u001b[0m\u001b[0m\n",
            "\u001b[0;32m/usr/local/lib/python3.7/dist-packages/tensorflow/python/eager/def_function.py\u001b[0m in \u001b[0;36m_call\u001b[0;34m(self, *args, **kwds)\u001b[0m\n\u001b[1;32m    952\u001b[0m       \u001b[0;31m# In this case we have not created variables on the first call. So we can\u001b[0m\u001b[0;34m\u001b[0m\u001b[0;34m\u001b[0m\u001b[0;34m\u001b[0m\u001b[0m\n\u001b[1;32m    953\u001b[0m       \u001b[0;31m# run the first trace but we should fail if variables are created.\u001b[0m\u001b[0;34m\u001b[0m\u001b[0;34m\u001b[0m\u001b[0;34m\u001b[0m\u001b[0m\n\u001b[0;32m--> 954\u001b[0;31m       \u001b[0mresults\u001b[0m \u001b[0;34m=\u001b[0m \u001b[0mself\u001b[0m\u001b[0;34m.\u001b[0m\u001b[0m_stateful_fn\u001b[0m\u001b[0;34m(\u001b[0m\u001b[0;34m*\u001b[0m\u001b[0margs\u001b[0m\u001b[0;34m,\u001b[0m \u001b[0;34m**\u001b[0m\u001b[0mkwds\u001b[0m\u001b[0;34m)\u001b[0m\u001b[0;34m\u001b[0m\u001b[0;34m\u001b[0m\u001b[0m\n\u001b[0m\u001b[1;32m    955\u001b[0m       \u001b[0;32mif\u001b[0m \u001b[0mself\u001b[0m\u001b[0;34m.\u001b[0m\u001b[0m_created_variables\u001b[0m \u001b[0;32mand\u001b[0m \u001b[0;32mnot\u001b[0m \u001b[0mALLOW_DYNAMIC_VARIABLE_CREATION\u001b[0m\u001b[0;34m:\u001b[0m\u001b[0;34m\u001b[0m\u001b[0;34m\u001b[0m\u001b[0m\n\u001b[1;32m    956\u001b[0m         raise ValueError(\"Creating variables on a non-first call to a function\"\n",
            "\u001b[0;32m/usr/local/lib/python3.7/dist-packages/tensorflow/python/eager/function.py\u001b[0m in \u001b[0;36m__call__\u001b[0;34m(self, *args, **kwargs)\u001b[0m\n\u001b[1;32m   2955\u001b[0m        filtered_flat_args) = self._maybe_define_function(args, kwargs)\n\u001b[1;32m   2956\u001b[0m     return graph_function._call_flat(\n\u001b[0;32m-> 2957\u001b[0;31m         filtered_flat_args, captured_inputs=graph_function.captured_inputs)  # pylint: disable=protected-access\n\u001b[0m\u001b[1;32m   2958\u001b[0m \u001b[0;34m\u001b[0m\u001b[0m\n\u001b[1;32m   2959\u001b[0m   \u001b[0;34m@\u001b[0m\u001b[0mproperty\u001b[0m\u001b[0;34m\u001b[0m\u001b[0;34m\u001b[0m\u001b[0m\n",
            "\u001b[0;32m/usr/local/lib/python3.7/dist-packages/tensorflow/python/eager/function.py\u001b[0m in \u001b[0;36m_call_flat\u001b[0;34m(self, args, captured_inputs, cancellation_manager)\u001b[0m\n\u001b[1;32m   1852\u001b[0m       \u001b[0;31m# No tape is watching; skip to running the function.\u001b[0m\u001b[0;34m\u001b[0m\u001b[0;34m\u001b[0m\u001b[0;34m\u001b[0m\u001b[0m\n\u001b[1;32m   1853\u001b[0m       return self._build_call_outputs(self._inference_function.call(\n\u001b[0;32m-> 1854\u001b[0;31m           ctx, args, cancellation_manager=cancellation_manager))\n\u001b[0m\u001b[1;32m   1855\u001b[0m     forward_backward = self._select_forward_and_backward_functions(\n\u001b[1;32m   1856\u001b[0m         \u001b[0margs\u001b[0m\u001b[0;34m,\u001b[0m\u001b[0;34m\u001b[0m\u001b[0;34m\u001b[0m\u001b[0m\n",
            "\u001b[0;32m/usr/local/lib/python3.7/dist-packages/tensorflow/python/eager/function.py\u001b[0m in \u001b[0;36mcall\u001b[0;34m(self, ctx, args, cancellation_manager)\u001b[0m\n\u001b[1;32m    502\u001b[0m               \u001b[0minputs\u001b[0m\u001b[0;34m=\u001b[0m\u001b[0margs\u001b[0m\u001b[0;34m,\u001b[0m\u001b[0;34m\u001b[0m\u001b[0;34m\u001b[0m\u001b[0m\n\u001b[1;32m    503\u001b[0m               \u001b[0mattrs\u001b[0m\u001b[0;34m=\u001b[0m\u001b[0mattrs\u001b[0m\u001b[0;34m,\u001b[0m\u001b[0;34m\u001b[0m\u001b[0;34m\u001b[0m\u001b[0m\n\u001b[0;32m--> 504\u001b[0;31m               ctx=ctx)\n\u001b[0m\u001b[1;32m    505\u001b[0m         \u001b[0;32melse\u001b[0m\u001b[0;34m:\u001b[0m\u001b[0;34m\u001b[0m\u001b[0;34m\u001b[0m\u001b[0m\n\u001b[1;32m    506\u001b[0m           outputs = execute.execute_with_cancellation(\n",
            "\u001b[0;32m/usr/local/lib/python3.7/dist-packages/tensorflow/python/eager/execute.py\u001b[0m in \u001b[0;36mquick_execute\u001b[0;34m(op_name, num_outputs, inputs, attrs, ctx, name)\u001b[0m\n\u001b[1;32m     53\u001b[0m     \u001b[0mctx\u001b[0m\u001b[0;34m.\u001b[0m\u001b[0mensure_initialized\u001b[0m\u001b[0;34m(\u001b[0m\u001b[0;34m)\u001b[0m\u001b[0;34m\u001b[0m\u001b[0;34m\u001b[0m\u001b[0m\n\u001b[1;32m     54\u001b[0m     tensors = pywrap_tfe.TFE_Py_Execute(ctx._handle, device_name, op_name,\n\u001b[0;32m---> 55\u001b[0;31m                                         inputs, attrs, num_outputs)\n\u001b[0m\u001b[1;32m     56\u001b[0m   \u001b[0;32mexcept\u001b[0m \u001b[0mcore\u001b[0m\u001b[0;34m.\u001b[0m\u001b[0m_NotOkStatusException\u001b[0m \u001b[0;32mas\u001b[0m \u001b[0me\u001b[0m\u001b[0;34m:\u001b[0m\u001b[0;34m\u001b[0m\u001b[0;34m\u001b[0m\u001b[0m\n\u001b[1;32m     57\u001b[0m     \u001b[0;32mif\u001b[0m \u001b[0mname\u001b[0m \u001b[0;32mis\u001b[0m \u001b[0;32mnot\u001b[0m \u001b[0;32mNone\u001b[0m\u001b[0;34m:\u001b[0m\u001b[0;34m\u001b[0m\u001b[0;34m\u001b[0m\u001b[0m\n",
            "\u001b[0;31mKeyboardInterrupt\u001b[0m: "
          ]
        }
      ]
    },
    {
      "cell_type": "code",
      "source": [
        "# from IPython.display import display, HTML\n",
        "\n",
        "# def pretty_print(df):\n",
        "#     return display( HTML( df.to_html().replace(\"\\\\n\",\"<br>\") ) )"
      ],
      "metadata": {
        "id": "crISDerEENqu"
      },
      "execution_count": null,
      "outputs": []
    },
    {
      "cell_type": "code",
      "source": [
        "# pretty_print(report_df)"
      ],
      "metadata": {
        "id": "kVxTjFU5EOTB"
      },
      "execution_count": null,
      "outputs": []
    }
  ],
  "metadata": {
    "colab": {
      "machine_shape": "hm",
      "name": "Datasetcreation+mask2face.ipynb",
      "provenance": [],
      "collapsed_sections": [],
      "include_colab_link": true
    },
    "kernelspec": {
      "display_name": "Python 3",
      "language": "python",
      "name": "python3"
    },
    "language_info": {
      "codemirror_mode": {
        "name": "ipython",
        "version": 3
      },
      "file_extension": ".py",
      "mimetype": "text/x-python",
      "name": "python",
      "nbconvert_exporter": "python",
      "pygments_lexer": "ipython3",
      "version": "3.8.6"
    },
    "accelerator": "GPU",
    "widgets": {
      "application/vnd.jupyter.widget-state+json": {
        "53c5a2138e954ce6b205000be7bcfb2c": {
          "model_module": "@jupyter-widgets/controls",
          "model_name": "HBoxModel",
          "model_module_version": "1.5.0",
          "state": {
            "_dom_classes": [],
            "_model_module": "@jupyter-widgets/controls",
            "_model_module_version": "1.5.0",
            "_model_name": "HBoxModel",
            "_view_count": null,
            "_view_module": "@jupyter-widgets/controls",
            "_view_module_version": "1.5.0",
            "_view_name": "HBoxView",
            "box_style": "",
            "children": [
              "IPY_MODEL_6e1f7407a1f340d8aa2b10d50ab71297",
              "IPY_MODEL_ccd5265e398f4c5b9ee3ced4a55aea2a",
              "IPY_MODEL_4e8f4c61021e49b09f957a1e6471f983"
            ],
            "layout": "IPY_MODEL_285b7e52697c4cae865f9f8f0e9f2641"
          }
        },
        "6e1f7407a1f340d8aa2b10d50ab71297": {
          "model_module": "@jupyter-widgets/controls",
          "model_name": "HTMLModel",
          "model_module_version": "1.5.0",
          "state": {
            "_dom_classes": [],
            "_model_module": "@jupyter-widgets/controls",
            "_model_module_version": "1.5.0",
            "_model_name": "HTMLModel",
            "_view_count": null,
            "_view_module": "@jupyter-widgets/controls",
            "_view_module_version": "1.5.0",
            "_view_name": "HTMLView",
            "description": "",
            "description_tooltip": null,
            "layout": "IPY_MODEL_3713ab492f7f41b49df011de653a46d8",
            "placeholder": "​",
            "style": "IPY_MODEL_2041c7f58a2d4fce8fb74c657c913214",
            "value": "100%"
          }
        },
        "ccd5265e398f4c5b9ee3ced4a55aea2a": {
          "model_module": "@jupyter-widgets/controls",
          "model_name": "FloatProgressModel",
          "model_module_version": "1.5.0",
          "state": {
            "_dom_classes": [],
            "_model_module": "@jupyter-widgets/controls",
            "_model_module_version": "1.5.0",
            "_model_name": "FloatProgressModel",
            "_view_count": null,
            "_view_module": "@jupyter-widgets/controls",
            "_view_module_version": "1.5.0",
            "_view_name": "ProgressView",
            "bar_style": "success",
            "description": "",
            "description_tooltip": null,
            "layout": "IPY_MODEL_eec0807889f84e93b93434c639284dab",
            "max": 64040097,
            "min": 0,
            "orientation": "horizontal",
            "style": "IPY_MODEL_25679471d86b4de29ac2f6dbd540176b",
            "value": 64040097
          }
        },
        "4e8f4c61021e49b09f957a1e6471f983": {
          "model_module": "@jupyter-widgets/controls",
          "model_name": "HTMLModel",
          "model_module_version": "1.5.0",
          "state": {
            "_dom_classes": [],
            "_model_module": "@jupyter-widgets/controls",
            "_model_module_version": "1.5.0",
            "_model_name": "HTMLModel",
            "_view_count": null,
            "_view_module": "@jupyter-widgets/controls",
            "_view_module_version": "1.5.0",
            "_view_name": "HTMLView",
            "description": "",
            "description_tooltip": null,
            "layout": "IPY_MODEL_f06b9115353f4b3b97f4028b74ad7061",
            "placeholder": "​",
            "style": "IPY_MODEL_7d4dde71611741258e243fa9aa1126f0",
            "value": " 61.1M/61.1M [00:02&lt;00:00, 41.0MB/s]"
          }
        },
        "285b7e52697c4cae865f9f8f0e9f2641": {
          "model_module": "@jupyter-widgets/base",
          "model_name": "LayoutModel",
          "model_module_version": "1.2.0",
          "state": {
            "_model_module": "@jupyter-widgets/base",
            "_model_module_version": "1.2.0",
            "_model_name": "LayoutModel",
            "_view_count": null,
            "_view_module": "@jupyter-widgets/base",
            "_view_module_version": "1.2.0",
            "_view_name": "LayoutView",
            "align_content": null,
            "align_items": null,
            "align_self": null,
            "border": null,
            "bottom": null,
            "display": null,
            "flex": null,
            "flex_flow": null,
            "grid_area": null,
            "grid_auto_columns": null,
            "grid_auto_flow": null,
            "grid_auto_rows": null,
            "grid_column": null,
            "grid_gap": null,
            "grid_row": null,
            "grid_template_areas": null,
            "grid_template_columns": null,
            "grid_template_rows": null,
            "height": null,
            "justify_content": null,
            "justify_items": null,
            "left": null,
            "margin": null,
            "max_height": null,
            "max_width": null,
            "min_height": null,
            "min_width": null,
            "object_fit": null,
            "object_position": null,
            "order": null,
            "overflow": null,
            "overflow_x": null,
            "overflow_y": null,
            "padding": null,
            "right": null,
            "top": null,
            "visibility": null,
            "width": null
          }
        },
        "3713ab492f7f41b49df011de653a46d8": {
          "model_module": "@jupyter-widgets/base",
          "model_name": "LayoutModel",
          "model_module_version": "1.2.0",
          "state": {
            "_model_module": "@jupyter-widgets/base",
            "_model_module_version": "1.2.0",
            "_model_name": "LayoutModel",
            "_view_count": null,
            "_view_module": "@jupyter-widgets/base",
            "_view_module_version": "1.2.0",
            "_view_name": "LayoutView",
            "align_content": null,
            "align_items": null,
            "align_self": null,
            "border": null,
            "bottom": null,
            "display": null,
            "flex": null,
            "flex_flow": null,
            "grid_area": null,
            "grid_auto_columns": null,
            "grid_auto_flow": null,
            "grid_auto_rows": null,
            "grid_column": null,
            "grid_gap": null,
            "grid_row": null,
            "grid_template_areas": null,
            "grid_template_columns": null,
            "grid_template_rows": null,
            "height": null,
            "justify_content": null,
            "justify_items": null,
            "left": null,
            "margin": null,
            "max_height": null,
            "max_width": null,
            "min_height": null,
            "min_width": null,
            "object_fit": null,
            "object_position": null,
            "order": null,
            "overflow": null,
            "overflow_x": null,
            "overflow_y": null,
            "padding": null,
            "right": null,
            "top": null,
            "visibility": null,
            "width": null
          }
        },
        "2041c7f58a2d4fce8fb74c657c913214": {
          "model_module": "@jupyter-widgets/controls",
          "model_name": "DescriptionStyleModel",
          "model_module_version": "1.5.0",
          "state": {
            "_model_module": "@jupyter-widgets/controls",
            "_model_module_version": "1.5.0",
            "_model_name": "DescriptionStyleModel",
            "_view_count": null,
            "_view_module": "@jupyter-widgets/base",
            "_view_module_version": "1.2.0",
            "_view_name": "StyleView",
            "description_width": ""
          }
        },
        "eec0807889f84e93b93434c639284dab": {
          "model_module": "@jupyter-widgets/base",
          "model_name": "LayoutModel",
          "model_module_version": "1.2.0",
          "state": {
            "_model_module": "@jupyter-widgets/base",
            "_model_module_version": "1.2.0",
            "_model_name": "LayoutModel",
            "_view_count": null,
            "_view_module": "@jupyter-widgets/base",
            "_view_module_version": "1.2.0",
            "_view_name": "LayoutView",
            "align_content": null,
            "align_items": null,
            "align_self": null,
            "border": null,
            "bottom": null,
            "display": null,
            "flex": null,
            "flex_flow": null,
            "grid_area": null,
            "grid_auto_columns": null,
            "grid_auto_flow": null,
            "grid_auto_rows": null,
            "grid_column": null,
            "grid_gap": null,
            "grid_row": null,
            "grid_template_areas": null,
            "grid_template_columns": null,
            "grid_template_rows": null,
            "height": null,
            "justify_content": null,
            "justify_items": null,
            "left": null,
            "margin": null,
            "max_height": null,
            "max_width": null,
            "min_height": null,
            "min_width": null,
            "object_fit": null,
            "object_position": null,
            "order": null,
            "overflow": null,
            "overflow_x": null,
            "overflow_y": null,
            "padding": null,
            "right": null,
            "top": null,
            "visibility": null,
            "width": null
          }
        },
        "25679471d86b4de29ac2f6dbd540176b": {
          "model_module": "@jupyter-widgets/controls",
          "model_name": "ProgressStyleModel",
          "model_module_version": "1.5.0",
          "state": {
            "_model_module": "@jupyter-widgets/controls",
            "_model_module_version": "1.5.0",
            "_model_name": "ProgressStyleModel",
            "_view_count": null,
            "_view_module": "@jupyter-widgets/base",
            "_view_module_version": "1.2.0",
            "_view_name": "StyleView",
            "bar_color": null,
            "description_width": ""
          }
        },
        "f06b9115353f4b3b97f4028b74ad7061": {
          "model_module": "@jupyter-widgets/base",
          "model_name": "LayoutModel",
          "model_module_version": "1.2.0",
          "state": {
            "_model_module": "@jupyter-widgets/base",
            "_model_module_version": "1.2.0",
            "_model_name": "LayoutModel",
            "_view_count": null,
            "_view_module": "@jupyter-widgets/base",
            "_view_module_version": "1.2.0",
            "_view_name": "LayoutView",
            "align_content": null,
            "align_items": null,
            "align_self": null,
            "border": null,
            "bottom": null,
            "display": null,
            "flex": null,
            "flex_flow": null,
            "grid_area": null,
            "grid_auto_columns": null,
            "grid_auto_flow": null,
            "grid_auto_rows": null,
            "grid_column": null,
            "grid_gap": null,
            "grid_row": null,
            "grid_template_areas": null,
            "grid_template_columns": null,
            "grid_template_rows": null,
            "height": null,
            "justify_content": null,
            "justify_items": null,
            "left": null,
            "margin": null,
            "max_height": null,
            "max_width": null,
            "min_height": null,
            "min_width": null,
            "object_fit": null,
            "object_position": null,
            "order": null,
            "overflow": null,
            "overflow_x": null,
            "overflow_y": null,
            "padding": null,
            "right": null,
            "top": null,
            "visibility": null,
            "width": null
          }
        },
        "7d4dde71611741258e243fa9aa1126f0": {
          "model_module": "@jupyter-widgets/controls",
          "model_name": "DescriptionStyleModel",
          "model_module_version": "1.5.0",
          "state": {
            "_model_module": "@jupyter-widgets/controls",
            "_model_module_version": "1.5.0",
            "_model_name": "DescriptionStyleModel",
            "_view_count": null,
            "_view_module": "@jupyter-widgets/base",
            "_view_module_version": "1.2.0",
            "_view_name": "StyleView",
            "description_width": ""
          }
        },
        "efe644aff0234e1bbad0679fa3e10201": {
          "model_module": "@jupyter-widgets/controls",
          "model_name": "HBoxModel",
          "model_module_version": "1.5.0",
          "state": {
            "_dom_classes": [],
            "_model_module": "@jupyter-widgets/controls",
            "_model_module_version": "1.5.0",
            "_model_name": "HBoxModel",
            "_view_count": null,
            "_view_module": "@jupyter-widgets/controls",
            "_view_module_version": "1.5.0",
            "_view_name": "HBoxView",
            "box_style": "",
            "children": [
              "IPY_MODEL_f7fad655c0c0476791e743f0b09a07c8",
              "IPY_MODEL_2e934d7708c24a989aa5f26a4671f558",
              "IPY_MODEL_82f8a8511ee44bbca3ebe04b88c51a73"
            ],
            "layout": "IPY_MODEL_e03d9caf738d4616b408299f94ffa2a5"
          }
        },
        "f7fad655c0c0476791e743f0b09a07c8": {
          "model_module": "@jupyter-widgets/controls",
          "model_name": "HTMLModel",
          "model_module_version": "1.5.0",
          "state": {
            "_dom_classes": [],
            "_model_module": "@jupyter-widgets/controls",
            "_model_module_version": "1.5.0",
            "_model_name": "HTMLModel",
            "_view_count": null,
            "_view_module": "@jupyter-widgets/controls",
            "_view_module_version": "1.5.0",
            "_view_name": "HTMLView",
            "description": "",
            "description_tooltip": null,
            "layout": "IPY_MODEL_92c58244e5fc4b4ca76125befbb5befe",
            "placeholder": "​",
            "style": "IPY_MODEL_6ec4a0e5c5c74656918995324c329558",
            "value": "100%"
          }
        },
        "2e934d7708c24a989aa5f26a4671f558": {
          "model_module": "@jupyter-widgets/controls",
          "model_name": "FloatProgressModel",
          "model_module_version": "1.5.0",
          "state": {
            "_dom_classes": [],
            "_model_module": "@jupyter-widgets/controls",
            "_model_module_version": "1.5.0",
            "_model_name": "FloatProgressModel",
            "_view_count": null,
            "_view_module": "@jupyter-widgets/controls",
            "_view_module_version": "1.5.0",
            "_view_name": "ProgressView",
            "bar_style": "success",
            "description": "",
            "description_tooltip": null,
            "layout": "IPY_MODEL_21319587e93b47968acab19533904743",
            "max": 108761145,
            "min": 0,
            "orientation": "horizontal",
            "style": "IPY_MODEL_79dea4f21b0345a199b127791f4a50cf",
            "value": 108761145
          }
        },
        "82f8a8511ee44bbca3ebe04b88c51a73": {
          "model_module": "@jupyter-widgets/controls",
          "model_name": "HTMLModel",
          "model_module_version": "1.5.0",
          "state": {
            "_dom_classes": [],
            "_model_module": "@jupyter-widgets/controls",
            "_model_module_version": "1.5.0",
            "_model_name": "HTMLModel",
            "_view_count": null,
            "_view_module": "@jupyter-widgets/controls",
            "_view_module_version": "1.5.0",
            "_view_name": "HTMLView",
            "description": "",
            "description_tooltip": null,
            "layout": "IPY_MODEL_e9aafc8374ad40e7b4ff3c0a14f3cf23",
            "placeholder": "​",
            "style": "IPY_MODEL_c52b8f0dd3fa4c11995bc76b15a0297f",
            "value": " 104M/104M [00:03&lt;00:00, 37.5MB/s]"
          }
        },
        "e03d9caf738d4616b408299f94ffa2a5": {
          "model_module": "@jupyter-widgets/base",
          "model_name": "LayoutModel",
          "model_module_version": "1.2.0",
          "state": {
            "_model_module": "@jupyter-widgets/base",
            "_model_module_version": "1.2.0",
            "_model_name": "LayoutModel",
            "_view_count": null,
            "_view_module": "@jupyter-widgets/base",
            "_view_module_version": "1.2.0",
            "_view_name": "LayoutView",
            "align_content": null,
            "align_items": null,
            "align_self": null,
            "border": null,
            "bottom": null,
            "display": null,
            "flex": null,
            "flex_flow": null,
            "grid_area": null,
            "grid_auto_columns": null,
            "grid_auto_flow": null,
            "grid_auto_rows": null,
            "grid_column": null,
            "grid_gap": null,
            "grid_row": null,
            "grid_template_areas": null,
            "grid_template_columns": null,
            "grid_template_rows": null,
            "height": null,
            "justify_content": null,
            "justify_items": null,
            "left": null,
            "margin": null,
            "max_height": null,
            "max_width": null,
            "min_height": null,
            "min_width": null,
            "object_fit": null,
            "object_position": null,
            "order": null,
            "overflow": null,
            "overflow_x": null,
            "overflow_y": null,
            "padding": null,
            "right": null,
            "top": null,
            "visibility": null,
            "width": null
          }
        },
        "92c58244e5fc4b4ca76125befbb5befe": {
          "model_module": "@jupyter-widgets/base",
          "model_name": "LayoutModel",
          "model_module_version": "1.2.0",
          "state": {
            "_model_module": "@jupyter-widgets/base",
            "_model_module_version": "1.2.0",
            "_model_name": "LayoutModel",
            "_view_count": null,
            "_view_module": "@jupyter-widgets/base",
            "_view_module_version": "1.2.0",
            "_view_name": "LayoutView",
            "align_content": null,
            "align_items": null,
            "align_self": null,
            "border": null,
            "bottom": null,
            "display": null,
            "flex": null,
            "flex_flow": null,
            "grid_area": null,
            "grid_auto_columns": null,
            "grid_auto_flow": null,
            "grid_auto_rows": null,
            "grid_column": null,
            "grid_gap": null,
            "grid_row": null,
            "grid_template_areas": null,
            "grid_template_columns": null,
            "grid_template_rows": null,
            "height": null,
            "justify_content": null,
            "justify_items": null,
            "left": null,
            "margin": null,
            "max_height": null,
            "max_width": null,
            "min_height": null,
            "min_width": null,
            "object_fit": null,
            "object_position": null,
            "order": null,
            "overflow": null,
            "overflow_x": null,
            "overflow_y": null,
            "padding": null,
            "right": null,
            "top": null,
            "visibility": null,
            "width": null
          }
        },
        "6ec4a0e5c5c74656918995324c329558": {
          "model_module": "@jupyter-widgets/controls",
          "model_name": "DescriptionStyleModel",
          "model_module_version": "1.5.0",
          "state": {
            "_model_module": "@jupyter-widgets/controls",
            "_model_module_version": "1.5.0",
            "_model_name": "DescriptionStyleModel",
            "_view_count": null,
            "_view_module": "@jupyter-widgets/base",
            "_view_module_version": "1.2.0",
            "_view_name": "StyleView",
            "description_width": ""
          }
        },
        "21319587e93b47968acab19533904743": {
          "model_module": "@jupyter-widgets/base",
          "model_name": "LayoutModel",
          "model_module_version": "1.2.0",
          "state": {
            "_model_module": "@jupyter-widgets/base",
            "_model_module_version": "1.2.0",
            "_model_name": "LayoutModel",
            "_view_count": null,
            "_view_module": "@jupyter-widgets/base",
            "_view_module_version": "1.2.0",
            "_view_name": "LayoutView",
            "align_content": null,
            "align_items": null,
            "align_self": null,
            "border": null,
            "bottom": null,
            "display": null,
            "flex": null,
            "flex_flow": null,
            "grid_area": null,
            "grid_auto_columns": null,
            "grid_auto_flow": null,
            "grid_auto_rows": null,
            "grid_column": null,
            "grid_gap": null,
            "grid_row": null,
            "grid_template_areas": null,
            "grid_template_columns": null,
            "grid_template_rows": null,
            "height": null,
            "justify_content": null,
            "justify_items": null,
            "left": null,
            "margin": null,
            "max_height": null,
            "max_width": null,
            "min_height": null,
            "min_width": null,
            "object_fit": null,
            "object_position": null,
            "order": null,
            "overflow": null,
            "overflow_x": null,
            "overflow_y": null,
            "padding": null,
            "right": null,
            "top": null,
            "visibility": null,
            "width": null
          }
        },
        "79dea4f21b0345a199b127791f4a50cf": {
          "model_module": "@jupyter-widgets/controls",
          "model_name": "ProgressStyleModel",
          "model_module_version": "1.5.0",
          "state": {
            "_model_module": "@jupyter-widgets/controls",
            "_model_module_version": "1.5.0",
            "_model_name": "ProgressStyleModel",
            "_view_count": null,
            "_view_module": "@jupyter-widgets/base",
            "_view_module_version": "1.2.0",
            "_view_name": "StyleView",
            "bar_color": null,
            "description_width": ""
          }
        },
        "e9aafc8374ad40e7b4ff3c0a14f3cf23": {
          "model_module": "@jupyter-widgets/base",
          "model_name": "LayoutModel",
          "model_module_version": "1.2.0",
          "state": {
            "_model_module": "@jupyter-widgets/base",
            "_model_module_version": "1.2.0",
            "_model_name": "LayoutModel",
            "_view_count": null,
            "_view_module": "@jupyter-widgets/base",
            "_view_module_version": "1.2.0",
            "_view_name": "LayoutView",
            "align_content": null,
            "align_items": null,
            "align_self": null,
            "border": null,
            "bottom": null,
            "display": null,
            "flex": null,
            "flex_flow": null,
            "grid_area": null,
            "grid_auto_columns": null,
            "grid_auto_flow": null,
            "grid_auto_rows": null,
            "grid_column": null,
            "grid_gap": null,
            "grid_row": null,
            "grid_template_areas": null,
            "grid_template_columns": null,
            "grid_template_rows": null,
            "height": null,
            "justify_content": null,
            "justify_items": null,
            "left": null,
            "margin": null,
            "max_height": null,
            "max_width": null,
            "min_height": null,
            "min_width": null,
            "object_fit": null,
            "object_position": null,
            "order": null,
            "overflow": null,
            "overflow_x": null,
            "overflow_y": null,
            "padding": null,
            "right": null,
            "top": null,
            "visibility": null,
            "width": null
          }
        },
        "c52b8f0dd3fa4c11995bc76b15a0297f": {
          "model_module": "@jupyter-widgets/controls",
          "model_name": "DescriptionStyleModel",
          "model_module_version": "1.5.0",
          "state": {
            "_model_module": "@jupyter-widgets/controls",
            "_model_module_version": "1.5.0",
            "_model_name": "DescriptionStyleModel",
            "_view_count": null,
            "_view_module": "@jupyter-widgets/base",
            "_view_module_version": "1.2.0",
            "_view_name": "StyleView",
            "description_width": ""
          }
        }
      }
    }
  },
  "nbformat": 4,
  "nbformat_minor": 0
}