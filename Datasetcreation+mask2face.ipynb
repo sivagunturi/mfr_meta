{
  "cells": [
    {
      "cell_type": "markdown",
      "metadata": {
        "id": "view-in-github",
        "colab_type": "text"
      },
      "source": [
        "<a href=\"https://colab.research.google.com/github/sivagunturi/mfr_meta/blob/main/Datasetcreation%2Bmask2face.ipynb\" target=\"_parent\"><img src=\"https://colab.research.google.com/assets/colab-badge.svg\" alt=\"Open In Colab\"/></a>"
      ]
    },
    {
      "cell_type": "markdown",
      "metadata": {
        "id": "UG0Oaalfr0PI"
      },
      "source": [
        "# Mask2Face\n",
        "This notebook will guide you through all the steps described in this article to build and train your ML model for removing the face mask of the person's face."
      ]
    },
    {
      "cell_type": "code",
      "source": [
        "!pip install gdown\n",
        "!pip install opencv-python==4.4.0.44\n",
        "!pip install tensorflow-addons==0.10.0\n",
        "!pip install trianglesolver==1.2\n",
        "!pip uninstall imgaug\n",
        "!pip install imgaug==0.2.5\n",
        "!pip install mtcnn\n",
        "!pip install dotmap"
      ],
      "metadata": {
        "colab": {
          "base_uri": "https://localhost:8080/"
        },
        "id": "jrrBTLPYe93Z",
        "outputId": "96ab99b9-4c51-4ece-f1e0-437b47c386c8"
      },
      "execution_count": 1,
      "outputs": [
        {
          "output_type": "stream",
          "name": "stdout",
          "text": [
            "Requirement already satisfied: gdown in /usr/local/lib/python3.7/dist-packages (4.4.0)\n",
            "Requirement already satisfied: beautifulsoup4 in /usr/local/lib/python3.7/dist-packages (from gdown) (4.6.3)\n",
            "Requirement already satisfied: requests[socks] in /usr/local/lib/python3.7/dist-packages (from gdown) (2.23.0)\n",
            "Requirement already satisfied: tqdm in /usr/local/lib/python3.7/dist-packages (from gdown) (4.64.0)\n",
            "Requirement already satisfied: six in /usr/local/lib/python3.7/dist-packages (from gdown) (1.15.0)\n",
            "Requirement already satisfied: filelock in /usr/local/lib/python3.7/dist-packages (from gdown) (3.7.0)\n",
            "Requirement already satisfied: idna<3,>=2.5 in /usr/local/lib/python3.7/dist-packages (from requests[socks]->gdown) (2.10)\n",
            "Requirement already satisfied: chardet<4,>=3.0.2 in /usr/local/lib/python3.7/dist-packages (from requests[socks]->gdown) (3.0.4)\n",
            "Requirement already satisfied: urllib3!=1.25.0,!=1.25.1,<1.26,>=1.21.1 in /usr/local/lib/python3.7/dist-packages (from requests[socks]->gdown) (1.24.3)\n",
            "Requirement already satisfied: certifi>=2017.4.17 in /usr/local/lib/python3.7/dist-packages (from requests[socks]->gdown) (2021.10.8)\n",
            "Requirement already satisfied: PySocks!=1.5.7,>=1.5.6 in /usr/local/lib/python3.7/dist-packages (from requests[socks]->gdown) (1.7.1)\n",
            "Collecting opencv-python==4.4.0.44\n",
            "  Using cached opencv_python-4.4.0.44-cp37-cp37m-manylinux2014_x86_64.whl (49.5 MB)\n",
            "Requirement already satisfied: numpy>=1.14.5 in /usr/local/lib/python3.7/dist-packages (from opencv-python==4.4.0.44) (1.21.6)\n",
            "Installing collected packages: opencv-python\n",
            "  Attempting uninstall: opencv-python\n",
            "    Found existing installation: opencv-python 4.5.5.64\n",
            "    Uninstalling opencv-python-4.5.5.64:\n",
            "      Successfully uninstalled opencv-python-4.5.5.64\n",
            "\u001b[31mERROR: pip's dependency resolver does not currently take into account all the packages that are installed. This behaviour is the source of the following dependency conflicts.\n",
            "deepface 0.0.75 requires opencv-python>=4.5.5.64, but you have opencv-python 4.4.0.44 which is incompatible.\u001b[0m\n",
            "Successfully installed opencv-python-4.4.0.44\n",
            "Requirement already satisfied: tensorflow-addons==0.10.0 in /usr/local/lib/python3.7/dist-packages (0.10.0)\n",
            "Requirement already satisfied: typeguard>=2.7 in /usr/local/lib/python3.7/dist-packages (from tensorflow-addons==0.10.0) (2.7.1)\n",
            "Requirement already satisfied: trianglesolver==1.2 in /usr/local/lib/python3.7/dist-packages (1.2)\n",
            "Found existing installation: imgaug 0.2.5\n",
            "Uninstalling imgaug-0.2.5:\n",
            "  Would remove:\n",
            "    /usr/local/lib/python3.7/dist-packages/imgaug-0.2.5.dist-info/*\n",
            "    /usr/local/lib/python3.7/dist-packages/imgaug/*\n",
            "Proceed (y/n)? y\n",
            "  Successfully uninstalled imgaug-0.2.5\n",
            "Collecting imgaug==0.2.5\n",
            "  Using cached imgaug-0.2.5-py3-none-any.whl\n",
            "Requirement already satisfied: scikit-image>=0.11.0 in /usr/local/lib/python3.7/dist-packages (from imgaug==0.2.5) (0.18.3)\n",
            "Requirement already satisfied: six in /usr/local/lib/python3.7/dist-packages (from imgaug==0.2.5) (1.15.0)\n",
            "Requirement already satisfied: scipy in /usr/local/lib/python3.7/dist-packages (from imgaug==0.2.5) (1.4.1)\n",
            "Requirement already satisfied: numpy>=1.7.0 in /usr/local/lib/python3.7/dist-packages (from imgaug==0.2.5) (1.21.6)\n",
            "Requirement already satisfied: imageio>=2.3.0 in /usr/local/lib/python3.7/dist-packages (from scikit-image>=0.11.0->imgaug==0.2.5) (2.4.1)\n",
            "Requirement already satisfied: networkx>=2.0 in /usr/local/lib/python3.7/dist-packages (from scikit-image>=0.11.0->imgaug==0.2.5) (2.6.3)\n",
            "Requirement already satisfied: PyWavelets>=1.1.1 in /usr/local/lib/python3.7/dist-packages (from scikit-image>=0.11.0->imgaug==0.2.5) (1.3.0)\n",
            "Requirement already satisfied: tifffile>=2019.7.26 in /usr/local/lib/python3.7/dist-packages (from scikit-image>=0.11.0->imgaug==0.2.5) (2021.11.2)\n",
            "Requirement already satisfied: pillow!=7.1.0,!=7.1.1,>=4.3.0 in /usr/local/lib/python3.7/dist-packages (from scikit-image>=0.11.0->imgaug==0.2.5) (7.1.2)\n",
            "Requirement already satisfied: matplotlib!=3.0.0,>=2.0.0 in /usr/local/lib/python3.7/dist-packages (from scikit-image>=0.11.0->imgaug==0.2.5) (3.2.2)\n",
            "Requirement already satisfied: python-dateutil>=2.1 in /usr/local/lib/python3.7/dist-packages (from matplotlib!=3.0.0,>=2.0.0->scikit-image>=0.11.0->imgaug==0.2.5) (2.8.2)\n",
            "Requirement already satisfied: cycler>=0.10 in /usr/local/lib/python3.7/dist-packages (from matplotlib!=3.0.0,>=2.0.0->scikit-image>=0.11.0->imgaug==0.2.5) (0.11.0)\n",
            "Requirement already satisfied: pyparsing!=2.0.4,!=2.1.2,!=2.1.6,>=2.0.1 in /usr/local/lib/python3.7/dist-packages (from matplotlib!=3.0.0,>=2.0.0->scikit-image>=0.11.0->imgaug==0.2.5) (3.0.9)\n",
            "Requirement already satisfied: kiwisolver>=1.0.1 in /usr/local/lib/python3.7/dist-packages (from matplotlib!=3.0.0,>=2.0.0->scikit-image>=0.11.0->imgaug==0.2.5) (1.4.2)\n",
            "Requirement already satisfied: typing-extensions in /usr/local/lib/python3.7/dist-packages (from kiwisolver>=1.0.1->matplotlib!=3.0.0,>=2.0.0->scikit-image>=0.11.0->imgaug==0.2.5) (4.2.0)\n",
            "Installing collected packages: imgaug\n",
            "Successfully installed imgaug-0.2.5\n",
            "Requirement already satisfied: mtcnn in /usr/local/lib/python3.7/dist-packages (0.1.1)\n",
            "Requirement already satisfied: opencv-python>=4.1.0 in /usr/local/lib/python3.7/dist-packages (from mtcnn) (4.4.0.44)\n",
            "Requirement already satisfied: keras>=2.0.0 in /usr/local/lib/python3.7/dist-packages (from mtcnn) (2.8.0)\n",
            "Requirement already satisfied: numpy>=1.14.5 in /usr/local/lib/python3.7/dist-packages (from opencv-python>=4.1.0->mtcnn) (1.21.6)\n",
            "Requirement already satisfied: dotmap in /usr/local/lib/python3.7/dist-packages (1.3.30)\n"
          ]
        }
      ]
    },
    {
      "cell_type": "code",
      "source": [
        "import glob\n",
        "import os\n",
        "import random\n",
        "import re\n",
        "import shutil\n",
        "import subprocess\n",
        "import sys\n",
        "import tarfile\n",
        "import zipfile\n",
        "from distutils.dir_util import copy_tree\n",
        "from os.path import exists\n",
        "from pathlib import Path\n",
        "import matplotlib.image as mpimg\n",
        "import matplotlib.pyplot as plt\n",
        "import numpy as np\n",
        "import pandas as pd\n",
        "import tensorflow as tf\n",
        "from google.colab.patches import cv2_imshow\n",
        "from numpy import load\n",
        "# !pip install mtcnn pillow dotmap deepface\n",
        "from PIL import Image\n",
        "from sklearn.metrics import accuracy_score\n",
        "from sklearn.preprocessing import LabelEncoder, Normalizer\n",
        "from sklearn.svm import SVC\n",
        "from tensorflow import keras\n",
        "from tensorflow.keras.preprocessing.image import (array_to_img, img_to_array,\n",
        "                                                  load_img)\n",
        "from os.path import exists"
      ],
      "metadata": {
        "id": "Vwymj5hbxF0-"
      },
      "execution_count": 2,
      "outputs": []
    },
    {
      "cell_type": "code",
      "source": [
        "tf.test.gpu_device_name()\n",
        "MFR_REPO_COLAB_PATH='/content/mfr_meta'\n",
        "MFR_REPO_GIT_PATH = 'https://github.com/sivagunturi/mfr_meta.git'\n",
        "STRV_REPO_COLAB_PATH = \"/content/strv\"\n",
        "STRV_REPO_GIT_PATH = 'https://github.com/sivagunturi/strv.git'\n",
        "MTF_REPO_COLAB_PATH=\"/content/MaskTheFace\"\n",
        "MTF_REPO_GIT_PATH=\"https://github.com/aqeelanwar/MaskTheFace\"\n",
        "MTF_MODEL_NAME =  \"model_epochs-20_batch-12_loss-ssim_l1_loss_20220518_03_20_51.h5\""
      ],
      "metadata": {
        "id": "ykBopZ6xFW3C"
      },
      "execution_count": 3,
      "outputs": []
    },
    {
      "cell_type": "code",
      "source": [
        "yorn = input (\"Force delete all code directpries (y/n)\") \n",
        "if(yorn == 'y'):\n",
        "  os.chdir(\"/\")\n",
        "  if(os.path.isdir(MFR_REPO_COLAB_PATH) == True):\n",
        "    shutil.rmtree(MFR_REPO_COLAB_PATH)\n",
        "  if(os.path.isdir(STRV_REPO_COLAB_PATH) == True):\n",
        "    shutil.rmtree(STRV_REPO_COLAB_PATH)\n",
        "  if(os.path.isdir(MTF_REPO_GIT_PATH) == True): \n",
        "    shutil.rmtree(MTF_REPO_GIT_PATH)"
      ],
      "metadata": {
        "colab": {
          "base_uri": "https://localhost:8080/"
        },
        "id": "9xtDlWDxDkZj",
        "outputId": "b402c688-e5d3-479b-9abd-9dcf3fea78c3"
      },
      "execution_count": 4,
      "outputs": [
        {
          "name": "stdout",
          "output_type": "stream",
          "text": [
            "Force delete all code directpries (y/n)y\n"
          ]
        }
      ]
    },
    {
      "cell_type": "code",
      "source": [
        "def clone_repo_install_dependencies(repo_path, git_path):\n",
        "  if(os.path.isdir(repo_path) == False):\n",
        "    os.chdir('/content')\n",
        "    results = subprocess.run([\"git\", \"clone\", git_path], capture_output=True)\n",
        "    print(results)\n",
        "    # os.chdir(repo_path)\n",
        "    # subprocess.run([\"pip\", \"install\",'-r', \"requirements.txt\"], stdout=subprocess.DEVNULL, stderr=subprocess.STDOUT)\n",
        "    return True\n",
        "  return False"
      ],
      "metadata": {
        "id": "8YNpkBL1xWCL"
      },
      "execution_count": 5,
      "outputs": []
    },
    {
      "cell_type": "code",
      "source": [
        "mfr_install = clone_repo_install_dependencies(MFR_REPO_COLAB_PATH, MFR_REPO_GIT_PATH)\n",
        "strv_install = clone_repo_install_dependencies(STRV_REPO_COLAB_PATH, STRV_REPO_GIT_PATH)\n",
        "mtf_install = clone_repo_install_dependencies(MTF_REPO_COLAB_PATH, MTF_REPO_GIT_PATH)\n",
        "# if(mfr_install or strv_install or mtf_install):\n",
        "#   os.kill(os.getpid(), 9)"
      ],
      "metadata": {
        "colab": {
          "base_uri": "https://localhost:8080/"
        },
        "id": "ejbt3Pyy6ZWG",
        "outputId": "b4a2189f-43ef-4d39-b7ee-a04bc22eb4c8"
      },
      "execution_count": 6,
      "outputs": [
        {
          "output_type": "stream",
          "name": "stdout",
          "text": [
            "CompletedProcess(args=['git', 'clone', 'https://github.com/sivagunturi/mfr_meta.git'], returncode=0, stdout=b'', stderr=b\"Cloning into 'mfr_meta'...\\n\")\n",
            "CompletedProcess(args=['git', 'clone', 'https://github.com/sivagunturi/strv.git'], returncode=0, stdout=b'', stderr=b\"Cloning into 'strv'...\\n\")\n"
          ]
        }
      ]
    },
    {
      "cell_type": "code",
      "source": [
        "ls /content/"
      ],
      "metadata": {
        "colab": {
          "base_uri": "https://localhost:8080/"
        },
        "id": "zP2jSLP8Fvfe",
        "outputId": "7fe0e78b-61c9-4048-fbd7-9330980d2e6b"
      },
      "execution_count": 7,
      "outputs": [
        {
          "output_type": "stream",
          "name": "stdout",
          "text": [
            "\u001b[0m\u001b[01;34mMaskTheFace\u001b[0m/  \u001b[01;34mmfr_meta\u001b[0m/  \u001b[01;34msample_data\u001b[0m/  \u001b[01;34mstrv\u001b[0m/\n"
          ]
        }
      ]
    },
    {
      "cell_type": "code",
      "source": [
        "os.chdir(STRV_REPO_COLAB_PATH)"
      ],
      "metadata": {
        "id": "Nj72JtB5kWYz"
      },
      "execution_count": 8,
      "outputs": []
    },
    {
      "cell_type": "code",
      "execution_count": 9,
      "metadata": {
        "id": "xP1Gx0Oyr0PM"
      },
      "outputs": [],
      "source": [
        "# Necessary imports\n",
        "from utils import download_data\n",
        "from utils.architectures import UNet\n",
        "from utils.configuration import Configuration\n",
        "from utils.data_generator import DataGenerator\n",
        "from utils.model import Mask2FaceModel"
      ]
    },
    {
      "cell_type": "code",
      "execution_count": 10,
      "metadata": {
        "colab": {
          "base_uri": "https://localhost:8080/"
        },
        "id": "LMw27jeer0PO",
        "outputId": "80e5ef51-c5fc-41af-f07d-7405b27f0e4f"
      },
      "outputs": [
        {
          "output_type": "stream",
          "name": "stdout",
          "text": [
            "Num GPUs Available:  1\n",
            "Num CPUs Available:  1\n"
          ]
        }
      ],
      "source": [
        "# setup HW\n",
        "\n",
        "# is GPU available\n",
        "gpu_physical_devices = tf.config.experimental.list_physical_devices('GPU')\n",
        "if len(gpu_physical_devices) > 0:\n",
        "    tf.config.experimental.set_memory_growth(gpu_physical_devices[0], True)\n",
        "\n",
        "# check HW availability\n",
        "print(\"Num GPUs Available: \", len(tf.config.experimental.list_physical_devices('GPU')))\n",
        "print(\"Num CPUs Available: \", len(tf.config.experimental.list_physical_devices('CPU')))"
      ]
    },
    {
      "cell_type": "markdown",
      "metadata": {
        "collapsed": false,
        "id": "73KWwR2-r0PO"
      },
      "source": [
        "## 1) Preconditions\n",
        "First we need a dataset of human faces."
      ]
    },
    {
      "cell_type": "code",
      "source": [
        "def download_from_drive(id, output_file, unzip=False):\n",
        "  results = subprocess.run([\"gdown\", \"--id\", id, \"--output\", output_file], capture_output=True)\n",
        "  print(results)\n",
        "  if(unzip):\n",
        "    subprocess.run([\"unzip\", output_file], capture_output=True)\n",
        "    print(results)"
      ],
      "metadata": {
        "id": "6LwtdW8N4EGu"
      },
      "execution_count": 11,
      "outputs": []
    },
    {
      "cell_type": "code",
      "source": [
        "download_from_drive(\"1egNNyrOv1Xdio8peNla1QDVBSIDu-Fjv\", \"model_epochs-20_batch-12_loss-ssim_l1_loss_20220518_03_20_51.h5\")\n",
        "download_from_drive(\"1iWqF8dWpDPZbciufcUyPuprLfcP4Zs4w\", \"data.zip\", unzip=True)"
      ],
      "metadata": {
        "colab": {
          "base_uri": "https://localhost:8080/"
        },
        "id": "M3C6WGkTgWKI",
        "outputId": "f00e6cf6-fc39-44e3-f0c0-1ac7be72157e"
      },
      "execution_count": 12,
      "outputs": [
        {
          "output_type": "stream",
          "name": "stdout",
          "text": [
            "CompletedProcess(args=['gdown', '--id', '1egNNyrOv1Xdio8peNla1QDVBSIDu-Fjv', '--output', 'model_epochs-20_batch-12_loss-ssim_l1_loss_20220518_03_20_51.h5'], returncode=0, stdout=b'', stderr=b\"/usr/local/lib/python3.7/dist-packages/gdown/cli.py:131: FutureWarning: Option `--id` was deprecated in version 4.3.1 and will be removed in 5.0. You don't need to pass it anymore to use a file ID.\\n  category=FutureWarning,\\nDownloading...\\nFrom: https://drive.google.com/uc?id=1egNNyrOv1Xdio8peNla1QDVBSIDu-Fjv\\nTo: /content/strv/model_epochs-20_batch-12_loss-ssim_l1_loss_20220518_03_20_51.h5\\n\\r  0%|          | 0.00/643M [00:00<?, ?B/s]\\r  1%|          | 7.86M/643M [00:00<00:08, 74.2MB/s]\\r  3%|\\xe2\\x96\\x8e         | 17.3M/643M [00:00<00:07, 85.3MB/s]\\r  4%|\\xe2\\x96\\x8d         | 26.2M/643M [00:00<00:10, 61.1MB/s]\\r  5%|\\xe2\\x96\\x8c         | 34.1M/643M [00:00<00:11, 55.1MB/s]\\r  7%|\\xe2\\x96\\x8b         | 45.1M/643M [00:00<00:08, 69.1MB/s]\\r  9%|\\xe2\\x96\\x89         | 57.1M/643M [00:00<00:07, 83.0MB/s]\\r 11%|\\xe2\\x96\\x88         | 67.6M/643M [00:00<00:07, 76.5MB/s]\\r 13%|\\xe2\\x96\\x88\\xe2\\x96\\x8e        | 82.3M/643M [00:01<00:06, 93.4MB/s]\\r 15%|\\xe2\\x96\\x88\\xe2\\x96\\x8d        | 95.4M/643M [00:01<00:05, 103MB/s] \\r 17%|\\xe2\\x96\\x88\\xe2\\x96\\x8b        | 106M/643M [00:01<00:05, 104MB/s] \\r 19%|\\xe2\\x96\\x88\\xe2\\x96\\x8a        | 121M/643M [00:01<00:04, 113MB/s]\\r 21%|\\xe2\\x96\\x88\\xe2\\x96\\x88        | 134M/643M [00:01<00:04, 119MB/s]\\r 23%|\\xe2\\x96\\x88\\xe2\\x96\\x88\\xe2\\x96\\x8e       | 147M/643M [00:01<00:04, 108MB/s]\\r 25%|\\xe2\\x96\\x88\\xe2\\x96\\x88\\xe2\\x96\\x8c       | 161M/643M [00:01<00:04, 116MB/s]\\r 27%|\\xe2\\x96\\x88\\xe2\\x96\\x88\\xe2\\x96\\x8b       | 173M/643M [00:01<00:04, 117MB/s]\\r 29%|\\xe2\\x96\\x88\\xe2\\x96\\x88\\xe2\\x96\\x89       | 185M/643M [00:01<00:04, 104MB/s]\\r 31%|\\xe2\\x96\\x88\\xe2\\x96\\x88\\xe2\\x96\\x88       | 199M/643M [00:02<00:03, 112MB/s]\\r 33%|\\xe2\\x96\\x88\\xe2\\x96\\x88\\xe2\\x96\\x88\\xe2\\x96\\x8e      | 211M/643M [00:02<00:04, 92.7MB/s]\\r 35%|\\xe2\\x96\\x88\\xe2\\x96\\x88\\xe2\\x96\\x88\\xe2\\x96\\x8c      | 226M/643M [00:02<00:03, 107MB/s] \\r 38%|\\xe2\\x96\\x88\\xe2\\x96\\x88\\xe2\\x96\\x88\\xe2\\x96\\x8a      | 242M/643M [00:02<00:03, 117MB/s]\\r 40%|\\xe2\\x96\\x88\\xe2\\x96\\x88\\xe2\\x96\\x88\\xe2\\x96\\x88      | 258M/643M [00:02<00:02, 129MB/s]\\r 42%|\\xe2\\x96\\x88\\xe2\\x96\\x88\\xe2\\x96\\x88\\xe2\\x96\\x88\\xe2\\x96\\x8f     | 272M/643M [00:02<00:02, 130MB/s]\\r 44%|\\xe2\\x96\\x88\\xe2\\x96\\x88\\xe2\\x96\\x88\\xe2\\x96\\x88\\xe2\\x96\\x8d     | 285M/643M [00:02<00:03, 111MB/s]\\r 46%|\\xe2\\x96\\x88\\xe2\\x96\\x88\\xe2\\x96\\x88\\xe2\\x96\\x88\\xe2\\x96\\x8b     | 299M/643M [00:02<00:02, 116MB/s]\\r 49%|\\xe2\\x96\\x88\\xe2\\x96\\x88\\xe2\\x96\\x88\\xe2\\x96\\x88\\xe2\\x96\\x8a     | 314M/643M [00:03<00:02, 124MB/s]\\r 51%|\\xe2\\x96\\x88\\xe2\\x96\\x88\\xe2\\x96\\x88\\xe2\\x96\\x88\\xe2\\x96\\x88     | 328M/643M [00:03<00:02, 130MB/s]\\r 53%|\\xe2\\x96\\x88\\xe2\\x96\\x88\\xe2\\x96\\x88\\xe2\\x96\\x88\\xe2\\x96\\x88\\xe2\\x96\\x8e    | 342M/643M [00:03<00:02, 131MB/s]\\r 55%|\\xe2\\x96\\x88\\xe2\\x96\\x88\\xe2\\x96\\x88\\xe2\\x96\\x88\\xe2\\x96\\x88\\xe2\\x96\\x8c    | 357M/643M [00:03<00:02, 135MB/s]\\r 58%|\\xe2\\x96\\x88\\xe2\\x96\\x88\\xe2\\x96\\x88\\xe2\\x96\\x88\\xe2\\x96\\x88\\xe2\\x96\\x8a    | 371M/643M [00:03<00:02, 130MB/s]\\r 60%|\\xe2\\x96\\x88\\xe2\\x96\\x88\\xe2\\x96\\x88\\xe2\\x96\\x88\\xe2\\x96\\x88\\xe2\\x96\\x88    | 388M/643M [00:03<00:01, 141MB/s]\\r 63%|\\xe2\\x96\\x88\\xe2\\x96\\x88\\xe2\\x96\\x88\\xe2\\x96\\x88\\xe2\\x96\\x88\\xe2\\x96\\x88\\xe2\\x96\\x8e   | 403M/643M [00:03<00:01, 142MB/s]\\r 65%|\\xe2\\x96\\x88\\xe2\\x96\\x88\\xe2\\x96\\x88\\xe2\\x96\\x88\\xe2\\x96\\x88\\xe2\\x96\\x88\\xe2\\x96\\x8d   | 417M/643M [00:03<00:01, 135MB/s]\\r 67%|\\xe2\\x96\\x88\\xe2\\x96\\x88\\xe2\\x96\\x88\\xe2\\x96\\x88\\xe2\\x96\\x88\\xe2\\x96\\x88\\xe2\\x96\\x8b   | 431M/643M [00:03<00:01, 125MB/s]\\r 69%|\\xe2\\x96\\x88\\xe2\\x96\\x88\\xe2\\x96\\x88\\xe2\\x96\\x88\\xe2\\x96\\x88\\xe2\\x96\\x88\\xe2\\x96\\x89   | 447M/643M [00:03<00:01, 132MB/s]\\r 72%|\\xe2\\x96\\x88\\xe2\\x96\\x88\\xe2\\x96\\x88\\xe2\\x96\\x88\\xe2\\x96\\x88\\xe2\\x96\\x88\\xe2\\x96\\x88\\xe2\\x96\\x8f  | 461M/643M [00:04<00:01, 133MB/s]\\r 74%|\\xe2\\x96\\x88\\xe2\\x96\\x88\\xe2\\x96\\x88\\xe2\\x96\\x88\\xe2\\x96\\x88\\xe2\\x96\\x88\\xe2\\x96\\x88\\xe2\\x96\\x8e  | 474M/643M [00:04<00:01, 97.2MB/s]\\r 76%|\\xe2\\x96\\x88\\xe2\\x96\\x88\\xe2\\x96\\x88\\xe2\\x96\\x88\\xe2\\x96\\x88\\xe2\\x96\\x88\\xe2\\x96\\x88\\xe2\\x96\\x8c  | 488M/643M [00:04<00:01, 104MB/s] \\r 78%|\\xe2\\x96\\x88\\xe2\\x96\\x88\\xe2\\x96\\x88\\xe2\\x96\\x88\\xe2\\x96\\x88\\xe2\\x96\\x88\\xe2\\x96\\x88\\xe2\\x96\\x8a  | 503M/643M [00:04<00:01, 115MB/s]\\r 80%|\\xe2\\x96\\x88\\xe2\\x96\\x88\\xe2\\x96\\x88\\xe2\\x96\\x88\\xe2\\x96\\x88\\xe2\\x96\\x88\\xe2\\x96\\x88\\xe2\\x96\\x88  | 516M/643M [00:04<00:01, 119MB/s]\\r 83%|\\xe2\\x96\\x88\\xe2\\x96\\x88\\xe2\\x96\\x88\\xe2\\x96\\x88\\xe2\\x96\\x88\\xe2\\x96\\x88\\xe2\\x96\\x88\\xe2\\x96\\x88\\xe2\\x96\\x8e | 531M/643M [00:04<00:00, 127MB/s]\\r 85%|\\xe2\\x96\\x88\\xe2\\x96\\x88\\xe2\\x96\\x88\\xe2\\x96\\x88\\xe2\\x96\\x88\\xe2\\x96\\x88\\xe2\\x96\\x88\\xe2\\x96\\x88\\xe2\\x96\\x8d | 546M/643M [00:04<00:00, 102MB/s]\\r 87%|\\xe2\\x96\\x88\\xe2\\x96\\x88\\xe2\\x96\\x88\\xe2\\x96\\x88\\xe2\\x96\\x88\\xe2\\x96\\x88\\xe2\\x96\\x88\\xe2\\x96\\x88\\xe2\\x96\\x8b | 560M/643M [00:05<00:00, 110MB/s]\\r 89%|\\xe2\\x96\\x88\\xe2\\x96\\x88\\xe2\\x96\\x88\\xe2\\x96\\x88\\xe2\\x96\\x88\\xe2\\x96\\x88\\xe2\\x96\\x88\\xe2\\x96\\x88\\xe2\\x96\\x89 | 573M/643M [00:05<00:00, 80.0MB/s]\\r 92%|\\xe2\\x96\\x88\\xe2\\x96\\x88\\xe2\\x96\\x88\\xe2\\x96\\x88\\xe2\\x96\\x88\\xe2\\x96\\x88\\xe2\\x96\\x88\\xe2\\x96\\x88\\xe2\\x96\\x88\\xe2\\x96\\x8f| 591M/643M [00:05<00:00, 100MB/s] \\r 94%|\\xe2\\x96\\x88\\xe2\\x96\\x88\\xe2\\x96\\x88\\xe2\\x96\\x88\\xe2\\x96\\x88\\xe2\\x96\\x88\\xe2\\x96\\x88\\xe2\\x96\\x88\\xe2\\x96\\x88\\xe2\\x96\\x8d| 605M/643M [00:05<00:00, 108MB/s]\\r 96%|\\xe2\\x96\\x88\\xe2\\x96\\x88\\xe2\\x96\\x88\\xe2\\x96\\x88\\xe2\\x96\\x88\\xe2\\x96\\x88\\xe2\\x96\\x88\\xe2\\x96\\x88\\xe2\\x96\\x88\\xe2\\x96\\x8c| 618M/643M [00:05<00:00, 104MB/s]\\r 99%|\\xe2\\x96\\x88\\xe2\\x96\\x88\\xe2\\x96\\x88\\xe2\\x96\\x88\\xe2\\x96\\x88\\xe2\\x96\\x88\\xe2\\x96\\x88\\xe2\\x96\\x88\\xe2\\x96\\x88\\xe2\\x96\\x8a| 635M/643M [00:05<00:00, 118MB/s]\\r100%|\\xe2\\x96\\x88\\xe2\\x96\\x88\\xe2\\x96\\x88\\xe2\\x96\\x88\\xe2\\x96\\x88\\xe2\\x96\\x88\\xe2\\x96\\x88\\xe2\\x96\\x88\\xe2\\x96\\x88\\xe2\\x96\\x88| 643M/643M [00:05<00:00, 110MB/s]\\n\")\n",
            "CompletedProcess(args=['gdown', '--id', '1iWqF8dWpDPZbciufcUyPuprLfcP4Zs4w', '--output', 'data.zip'], returncode=0, stdout=b'', stderr=b\"/usr/local/lib/python3.7/dist-packages/gdown/cli.py:131: FutureWarning: Option `--id` was deprecated in version 4.3.1 and will be removed in 5.0. You don't need to pass it anymore to use a file ID.\\n  category=FutureWarning,\\nDownloading...\\nFrom: https://drive.google.com/uc?id=1iWqF8dWpDPZbciufcUyPuprLfcP4Zs4w\\nTo: /content/strv/data.zip\\n\\r  0%|          | 0.00/2.20G [00:00<?, ?B/s]\\r  0%|          | 4.72M/2.20G [00:00<01:00, 36.1MB/s]\\r  1%|          | 26.2M/2.20G [00:00<00:16, 129MB/s] \\r  2%|\\xe2\\x96\\x8f         | 47.7M/2.20G [00:00<00:13, 159MB/s]\\r  3%|\\xe2\\x96\\x8e         | 69.2M/2.20G [00:00<00:11, 179MB/s]\\r  4%|\\xe2\\x96\\x8d         | 88.1M/2.20G [00:00<00:12, 175MB/s]\\r  5%|\\xe2\\x96\\x8d         | 106M/2.20G [00:00<00:16, 127MB/s] \\r  6%|\\xe2\\x96\\x8c         | 123M/2.20G [00:00<00:15, 137MB/s]\\r  6%|\\xe2\\x96\\x8b         | 139M/2.20G [00:01<00:16, 128MB/s]\\r  7%|\\xe2\\x96\\x8b         | 159M/2.20G [00:01<00:13, 146MB/s]\\r  8%|\\xe2\\x96\\x8a         | 179M/2.20G [00:01<00:12, 158MB/s]\\r  9%|\\xe2\\x96\\x89         | 199M/2.20G [00:01<00:11, 168MB/s]\\r 10%|\\xe2\\x96\\x89         | 220M/2.20G [00:01<00:11, 179MB/s]\\r 11%|\\xe2\\x96\\x88         | 239M/2.20G [00:01<00:11, 178MB/s]\\r 12%|\\xe2\\x96\\x88\\xe2\\x96\\x8f        | 258M/2.20G [00:01<00:10, 183MB/s]\\r 13%|\\xe2\\x96\\x88\\xe2\\x96\\x8e        | 277M/2.20G [00:01<00:10, 184MB/s]\\r 13%|\\xe2\\x96\\x88\\xe2\\x96\\x8e        | 296M/2.20G [00:01<00:10, 183MB/s]\\r 14%|\\xe2\\x96\\x88\\xe2\\x96\\x8d        | 315M/2.20G [00:01<00:10, 177MB/s]\\r 15%|\\xe2\\x96\\x88\\xe2\\x96\\x8c        | 333M/2.20G [00:02<00:10, 171MB/s]\\r 16%|\\xe2\\x96\\x88\\xe2\\x96\\x8c        | 352M/2.20G [00:02<00:10, 170MB/s]\\r 17%|\\xe2\\x96\\x88\\xe2\\x96\\x8b        | 373M/2.20G [00:02<00:10, 181MB/s]\\r 18%|\\xe2\\x96\\x88\\xe2\\x96\\x8a        | 393M/2.20G [00:02<00:09, 184MB/s]\\r 19%|\\xe2\\x96\\x88\\xe2\\x96\\x89        | 414M/2.20G [00:02<00:09, 192MB/s]\\r 20%|\\xe2\\x96\\x88\\xe2\\x96\\x89        | 434M/2.20G [00:02<00:09, 186MB/s]\\r 21%|\\xe2\\x96\\x88\\xe2\\x96\\x88        | 452M/2.20G [00:02<00:09, 178MB/s]\\r 21%|\\xe2\\x96\\x88\\xe2\\x96\\x88\\xe2\\x96\\x8f       | 471M/2.20G [00:02<00:10, 166MB/s]\\r 22%|\\xe2\\x96\\x88\\xe2\\x96\\x88\\xe2\\x96\\x8f       | 493M/2.20G [00:02<00:10, 161MB/s]\\r 23%|\\xe2\\x96\\x88\\xe2\\x96\\x88\\xe2\\x96\\x8e       | 510M/2.20G [00:03<00:14, 115MB/s]\\r 24%|\\xe2\\x96\\x88\\xe2\\x96\\x88\\xe2\\x96\\x8d       | 532M/2.20G [00:03<00:12, 136MB/s]\\r 25%|\\xe2\\x96\\x88\\xe2\\x96\\x88\\xe2\\x96\\x8c       | 552M/2.20G [00:03<00:10, 150MB/s]\\r 26%|\\xe2\\x96\\x88\\xe2\\x96\\x88\\xe2\\x96\\x8c       | 574M/2.20G [00:03<00:09, 166MB/s]\\r 27%|\\xe2\\x96\\x88\\xe2\\x96\\x88\\xe2\\x96\\x8b       | 596M/2.20G [00:03<00:08, 180MB/s]\\r 28%|\\xe2\\x96\\x88\\xe2\\x96\\x88\\xe2\\x96\\x8a       | 616M/2.20G [00:03<00:08, 186MB/s]\\r 29%|\\xe2\\x96\\x88\\xe2\\x96\\x88\\xe2\\x96\\x89       | 639M/2.20G [00:03<00:07, 196MB/s]\\r 30%|\\xe2\\x96\\x88\\xe2\\x96\\x88\\xe2\\x96\\x89       | 660M/2.20G [00:03<00:07, 193MB/s]\\r 31%|\\xe2\\x96\\x88\\xe2\\x96\\x88\\xe2\\x96\\x88       | 682M/2.20G [00:04<00:07, 201MB/s]\\r 32%|\\xe2\\x96\\x88\\xe2\\x96\\x88\\xe2\\x96\\x88\\xe2\\x96\\x8f      | 705M/2.20G [00:04<00:07, 208MB/s]\\r 33%|\\xe2\\x96\\x88\\xe2\\x96\\x88\\xe2\\x96\\x88\\xe2\\x96\\x8e      | 727M/2.20G [00:04<00:07, 210MB/s]\\r 34%|\\xe2\\x96\\x88\\xe2\\x96\\x88\\xe2\\x96\\x88\\xe2\\x96\\x8d      | 748M/2.20G [00:04<00:10, 142MB/s]\\r 35%|\\xe2\\x96\\x88\\xe2\\x96\\x88\\xe2\\x96\\x88\\xe2\\x96\\x8d      | 770M/2.20G [00:04<00:09, 157MB/s]\\r 36%|\\xe2\\x96\\x88\\xe2\\x96\\x88\\xe2\\x96\\x88\\xe2\\x96\\x8c      | 791M/2.20G [00:04<00:08, 170MB/s]\\r 37%|\\xe2\\x96\\x88\\xe2\\x96\\x88\\xe2\\x96\\x88\\xe2\\x96\\x8b      | 811M/2.20G [00:04<00:08, 160MB/s]\\r 38%|\\xe2\\x96\\x88\\xe2\\x96\\x88\\xe2\\x96\\x88\\xe2\\x96\\x8a      | 828M/2.20G [00:04<00:08, 164MB/s]\\r 38%|\\xe2\\x96\\x88\\xe2\\x96\\x88\\xe2\\x96\\x88\\xe2\\x96\\x8a      | 846M/2.20G [00:05<00:10, 130MB/s]\\r 39%|\\xe2\\x96\\x88\\xe2\\x96\\x88\\xe2\\x96\\x88\\xe2\\x96\\x89      | 867M/2.20G [00:05<00:09, 146MB/s]\\r 40%|\\xe2\\x96\\x88\\xe2\\x96\\x88\\xe2\\x96\\x88\\xe2\\x96\\x88      | 887M/2.20G [00:05<00:08, 158MB/s]\\r 41%|\\xe2\\x96\\x88\\xe2\\x96\\x88\\xe2\\x96\\x88\\xe2\\x96\\x88\\xe2\\x96\\x8f     | 909M/2.20G [00:05<00:07, 173MB/s]\\r 42%|\\xe2\\x96\\x88\\xe2\\x96\\x88\\xe2\\x96\\x88\\xe2\\x96\\x88\\xe2\\x96\\x8f     | 929M/2.20G [00:05<00:07, 181MB/s]\\r 43%|\\xe2\\x96\\x88\\xe2\\x96\\x88\\xe2\\x96\\x88\\xe2\\x96\\x88\\xe2\\x96\\x8e     | 948M/2.20G [00:05<00:08, 156MB/s]\\r 44%|\\xe2\\x96\\x88\\xe2\\x96\\x88\\xe2\\x96\\x88\\xe2\\x96\\x88\\xe2\\x96\\x8d     | 969M/2.20G [00:05<00:07, 168MB/s]\\r 45%|\\xe2\\x96\\x88\\xe2\\x96\\x88\\xe2\\x96\\x88\\xe2\\x96\\x88\\xe2\\x96\\x8d     | 988M/2.20G [00:06<00:09, 133MB/s]\\r 46%|\\xe2\\x96\\x88\\xe2\\x96\\x88\\xe2\\x96\\x88\\xe2\\x96\\x88\\xe2\\x96\\x8c     | 1.01G/2.20G [00:06<00:07, 149MB/s]\\r 47%|\\xe2\\x96\\x88\\xe2\\x96\\x88\\xe2\\x96\\x88\\xe2\\x96\\x88\\xe2\\x96\\x8b     | 1.03G/2.20G [00:06<00:07, 166MB/s]\\r 48%|\\xe2\\x96\\x88\\xe2\\x96\\x88\\xe2\\x96\\x88\\xe2\\x96\\x88\\xe2\\x96\\x8a     | 1.05G/2.20G [00:06<00:06, 167MB/s]\\r 49%|\\xe2\\x96\\x88\\xe2\\x96\\x88\\xe2\\x96\\x88\\xe2\\x96\\x88\\xe2\\x96\\x8a     | 1.07G/2.20G [00:06<00:06, 170MB/s]\\r 49%|\\xe2\\x96\\x88\\xe2\\x96\\x88\\xe2\\x96\\x88\\xe2\\x96\\x88\\xe2\\x96\\x89     | 1.09G/2.20G [00:06<00:06, 169MB/s]\\r 50%|\\xe2\\x96\\x88\\xe2\\x96\\x88\\xe2\\x96\\x88\\xe2\\x96\\x88\\xe2\\x96\\x88     | 1.11G/2.20G [00:06<00:06, 178MB/s]\\r 51%|\\xe2\\x96\\x88\\xe2\\x96\\x88\\xe2\\x96\\x88\\xe2\\x96\\x88\\xe2\\x96\\x88\\xe2\\x96\\x8f    | 1.13G/2.20G [00:06<00:05, 188MB/s]\\r 52%|\\xe2\\x96\\x88\\xe2\\x96\\x88\\xe2\\x96\\x88\\xe2\\x96\\x88\\xe2\\x96\\x88\\xe2\\x96\\x8f    | 1.15G/2.20G [00:06<00:05, 191MB/s]\\r 53%|\\xe2\\x96\\x88\\xe2\\x96\\x88\\xe2\\x96\\x88\\xe2\\x96\\x88\\xe2\\x96\\x88\\xe2\\x96\\x8e    | 1.17G/2.20G [00:07<00:05, 193MB/s]\\r 54%|\\xe2\\x96\\x88\\xe2\\x96\\x88\\xe2\\x96\\x88\\xe2\\x96\\x88\\xe2\\x96\\x88\\xe2\\x96\\x8d    | 1.19G/2.20G [00:07<00:06, 145MB/s]\\r 55%|\\xe2\\x96\\x88\\xe2\\x96\\x88\\xe2\\x96\\x88\\xe2\\x96\\x88\\xe2\\x96\\x88\\xe2\\x96\\x8d    | 1.21G/2.20G [00:07<00:06, 160MB/s]\\r 56%|\\xe2\\x96\\x88\\xe2\\x96\\x88\\xe2\\x96\\x88\\xe2\\x96\\x88\\xe2\\x96\\x88\\xe2\\x96\\x8c    | 1.23G/2.20G [00:07<00:05, 173MB/s]\\r 57%|\\xe2\\x96\\x88\\xe2\\x96\\x88\\xe2\\x96\\x88\\xe2\\x96\\x88\\xe2\\x96\\x88\\xe2\\x96\\x8b    | 1.25G/2.20G [00:07<00:05, 182MB/s]\\r 58%|\\xe2\\x96\\x88\\xe2\\x96\\x88\\xe2\\x96\\x88\\xe2\\x96\\x88\\xe2\\x96\\x88\\xe2\\x96\\x8a    | 1.27G/2.20G [00:07<00:05, 180MB/s]\\r 59%|\\xe2\\x96\\x88\\xe2\\x96\\x88\\xe2\\x96\\x88\\xe2\\x96\\x88\\xe2\\x96\\x88\\xe2\\x96\\x8a    | 1.29G/2.20G [00:07<00:05, 177MB/s]\\r 60%|\\xe2\\x96\\x88\\xe2\\x96\\x88\\xe2\\x96\\x88\\xe2\\x96\\x88\\xe2\\x96\\x88\\xe2\\x96\\x89    | 1.31G/2.20G [00:07<00:04, 184MB/s]\\r 61%|\\xe2\\x96\\x88\\xe2\\x96\\x88\\xe2\\x96\\x88\\xe2\\x96\\x88\\xe2\\x96\\x88\\xe2\\x96\\x88    | 1.33G/2.20G [00:07<00:04, 192MB/s]\\r 61%|\\xe2\\x96\\x88\\xe2\\x96\\x88\\xe2\\x96\\x88\\xe2\\x96\\x88\\xe2\\x96\\x88\\xe2\\x96\\x88\\xe2\\x96\\x8f   | 1.35G/2.20G [00:08<00:04, 182MB/s]\\r 62%|\\xe2\\x96\\x88\\xe2\\x96\\x88\\xe2\\x96\\x88\\xe2\\x96\\x88\\xe2\\x96\\x88\\xe2\\x96\\x88\\xe2\\x96\\x8f   | 1.37G/2.20G [00:08<00:04, 183MB/s]\\r 63%|\\xe2\\x96\\x88\\xe2\\x96\\x88\\xe2\\x96\\x88\\xe2\\x96\\x88\\xe2\\x96\\x88\\xe2\\x96\\x88\\xe2\\x96\\x8e   | 1.39G/2.20G [00:08<00:04, 192MB/s]\\r 64%|\\xe2\\x96\\x88\\xe2\\x96\\x88\\xe2\\x96\\x88\\xe2\\x96\\x88\\xe2\\x96\\x88\\xe2\\x96\\x88\\xe2\\x96\\x8d   | 1.41G/2.20G [00:08<00:04, 166MB/s]\\r 65%|\\xe2\\x96\\x88\\xe2\\x96\\x88\\xe2\\x96\\x88\\xe2\\x96\\x88\\xe2\\x96\\x88\\xe2\\x96\\x88\\xe2\\x96\\x8c   | 1.43G/2.20G [00:08<00:04, 176MB/s]\\r 66%|\\xe2\\x96\\x88\\xe2\\x96\\x88\\xe2\\x96\\x88\\xe2\\x96\\x88\\xe2\\x96\\x88\\xe2\\x96\\x88\\xe2\\x96\\x8c   | 1.45G/2.20G [00:08<00:04, 179MB/s]\\r 67%|\\xe2\\x96\\x88\\xe2\\x96\\x88\\xe2\\x96\\x88\\xe2\\x96\\x88\\xe2\\x96\\x88\\xe2\\x96\\x88\\xe2\\x96\\x8b   | 1.47G/2.20G [00:08<00:03, 188MB/s]\\r 68%|\\xe2\\x96\\x88\\xe2\\x96\\x88\\xe2\\x96\\x88\\xe2\\x96\\x88\\xe2\\x96\\x88\\xe2\\x96\\x88\\xe2\\x96\\x8a   | 1.49G/2.20G [00:08<00:03, 195MB/s]\\r 69%|\\xe2\\x96\\x88\\xe2\\x96\\x88\\xe2\\x96\\x88\\xe2\\x96\\x88\\xe2\\x96\\x88\\xe2\\x96\\x88\\xe2\\x96\\x89   | 1.52G/2.20G [00:08<00:03, 198MB/s]\\r 70%|\\xe2\\x96\\x88\\xe2\\x96\\x88\\xe2\\x96\\x88\\xe2\\x96\\x88\\xe2\\x96\\x88\\xe2\\x96\\x88\\xe2\\x96\\x89   | 1.54G/2.20G [00:09<00:03, 193MB/s]\\r 71%|\\xe2\\x96\\x88\\xe2\\x96\\x88\\xe2\\x96\\x88\\xe2\\x96\\x88\\xe2\\x96\\x88\\xe2\\x96\\x88\\xe2\\x96\\x88   | 1.56G/2.20G [00:09<00:03, 201MB/s]\\r 72%|\\xe2\\x96\\x88\\xe2\\x96\\x88\\xe2\\x96\\x88\\xe2\\x96\\x88\\xe2\\x96\\x88\\xe2\\x96\\x88\\xe2\\x96\\x88\\xe2\\x96\\x8f  | 1.58G/2.20G [00:09<00:03, 203MB/s]\\r 73%|\\xe2\\x96\\x88\\xe2\\x96\\x88\\xe2\\x96\\x88\\xe2\\x96\\x88\\xe2\\x96\\x88\\xe2\\x96\\x88\\xe2\\x96\\x88\\xe2\\x96\\x8e  | 1.60G/2.20G [00:09<00:02, 205MB/s]\\r 74%|\\xe2\\x96\\x88\\xe2\\x96\\x88\\xe2\\x96\\x88\\xe2\\x96\\x88\\xe2\\x96\\x88\\xe2\\x96\\x88\\xe2\\x96\\x88\\xe2\\x96\\x8e  | 1.62G/2.20G [00:09<00:02, 204MB/s]\\r 75%|\\xe2\\x96\\x88\\xe2\\x96\\x88\\xe2\\x96\\x88\\xe2\\x96\\x88\\xe2\\x96\\x88\\xe2\\x96\\x88\\xe2\\x96\\x88\\xe2\\x96\\x8d  | 1.64G/2.20G [00:09<00:02, 204MB/s]\\r 76%|\\xe2\\x96\\x88\\xe2\\x96\\x88\\xe2\\x96\\x88\\xe2\\x96\\x88\\xe2\\x96\\x88\\xe2\\x96\\x88\\xe2\\x96\\x88\\xe2\\x96\\x8c  | 1.66G/2.20G [00:09<00:02, 197MB/s]\\r 77%|\\xe2\\x96\\x88\\xe2\\x96\\x88\\xe2\\x96\\x88\\xe2\\x96\\x88\\xe2\\x96\\x88\\xe2\\x96\\x88\\xe2\\x96\\x88\\xe2\\x96\\x8b  | 1.68G/2.20G [00:09<00:02, 197MB/s]\\r 77%|\\xe2\\x96\\x88\\xe2\\x96\\x88\\xe2\\x96\\x88\\xe2\\x96\\x88\\xe2\\x96\\x88\\xe2\\x96\\x88\\xe2\\x96\\x88\\xe2\\x96\\x8b  | 1.70G/2.20G [00:09<00:02, 198MB/s]\\r 78%|\\xe2\\x96\\x88\\xe2\\x96\\x88\\xe2\\x96\\x88\\xe2\\x96\\x88\\xe2\\x96\\x88\\xe2\\x96\\x88\\xe2\\x96\\x88\\xe2\\x96\\x8a  | 1.72G/2.20G [00:10<00:02, 200MB/s]\\r 79%|\\xe2\\x96\\x88\\xe2\\x96\\x88\\xe2\\x96\\x88\\xe2\\x96\\x88\\xe2\\x96\\x88\\xe2\\x96\\x88\\xe2\\x96\\x88\\xe2\\x96\\x89  | 1.74G/2.20G [00:10<00:02, 185MB/s]\\r 80%|\\xe2\\x96\\x88\\xe2\\x96\\x88\\xe2\\x96\\x88\\xe2\\x96\\x88\\xe2\\x96\\x88\\xe2\\x96\\x88\\xe2\\x96\\x88\\xe2\\x96\\x88  | 1.76G/2.20G [00:10<00:02, 153MB/s]\\r 81%|\\xe2\\x96\\x88\\xe2\\x96\\x88\\xe2\\x96\\x88\\xe2\\x96\\x88\\xe2\\x96\\x88\\xe2\\x96\\x88\\xe2\\x96\\x88\\xe2\\x96\\x88  | 1.78G/2.20G [00:10<00:02, 161MB/s]\\r 82%|\\xe2\\x96\\x88\\xe2\\x96\\x88\\xe2\\x96\\x88\\xe2\\x96\\x88\\xe2\\x96\\x88\\xe2\\x96\\x88\\xe2\\x96\\x88\\xe2\\x96\\x88\\xe2\\x96\\x8f | 1.80G/2.20G [00:10<00:02, 164MB/s]\\r 83%|\\xe2\\x96\\x88\\xe2\\x96\\x88\\xe2\\x96\\x88\\xe2\\x96\\x88\\xe2\\x96\\x88\\xe2\\x96\\x88\\xe2\\x96\\x88\\xe2\\x96\\x88\\xe2\\x96\\x8e | 1.82G/2.20G [00:10<00:02, 176MB/s]\\r 84%|\\xe2\\x96\\x88\\xe2\\x96\\x88\\xe2\\x96\\x88\\xe2\\x96\\x88\\xe2\\x96\\x88\\xe2\\x96\\x88\\xe2\\x96\\x88\\xe2\\x96\\x88\\xe2\\x96\\x8e | 1.84G/2.20G [00:10<00:02, 177MB/s]\\r 85%|\\xe2\\x96\\x88\\xe2\\x96\\x88\\xe2\\x96\\x88\\xe2\\x96\\x88\\xe2\\x96\\x88\\xe2\\x96\\x88\\xe2\\x96\\x88\\xe2\\x96\\x88\\xe2\\x96\\x8d | 1.86G/2.20G [00:10<00:01, 186MB/s]\\r 85%|\\xe2\\x96\\x88\\xe2\\x96\\x88\\xe2\\x96\\x88\\xe2\\x96\\x88\\xe2\\x96\\x88\\xe2\\x96\\x88\\xe2\\x96\\x88\\xe2\\x96\\x88\\xe2\\x96\\x8c | 1.88G/2.20G [00:10<00:01, 192MB/s]\\r 86%|\\xe2\\x96\\x88\\xe2\\x96\\x88\\xe2\\x96\\x88\\xe2\\x96\\x88\\xe2\\x96\\x88\\xe2\\x96\\x88\\xe2\\x96\\x88\\xe2\\x96\\x88\\xe2\\x96\\x8b | 1.90G/2.20G [00:11<00:02, 144MB/s]\\r 87%|\\xe2\\x96\\x88\\xe2\\x96\\x88\\xe2\\x96\\x88\\xe2\\x96\\x88\\xe2\\x96\\x88\\xe2\\x96\\x88\\xe2\\x96\\x88\\xe2\\x96\\x88\\xe2\\x96\\x8b | 1.92G/2.20G [00:11<00:01, 153MB/s]\\r 88%|\\xe2\\x96\\x88\\xe2\\x96\\x88\\xe2\\x96\\x88\\xe2\\x96\\x88\\xe2\\x96\\x88\\xe2\\x96\\x88\\xe2\\x96\\x88\\xe2\\x96\\x88\\xe2\\x96\\x8a | 1.94G/2.20G [00:11<00:01, 150MB/s]\\r 89%|\\xe2\\x96\\x88\\xe2\\x96\\x88\\xe2\\x96\\x88\\xe2\\x96\\x88\\xe2\\x96\\x88\\xe2\\x96\\x88\\xe2\\x96\\x88\\xe2\\x96\\x88\\xe2\\x96\\x89 | 1.96G/2.20G [00:11<00:01, 162MB/s]\\r 90%|\\xe2\\x96\\x88\\xe2\\x96\\x88\\xe2\\x96\\x88\\xe2\\x96\\x88\\xe2\\x96\\x88\\xe2\\x96\\x88\\xe2\\x96\\x88\\xe2\\x96\\x88\\xe2\\x96\\x89 | 1.97G/2.20G [00:11<00:01, 169MB/s]\\r 91%|\\xe2\\x96\\x88\\xe2\\x96\\x88\\xe2\\x96\\x88\\xe2\\x96\\x88\\xe2\\x96\\x88\\xe2\\x96\\x88\\xe2\\x96\\x88\\xe2\\x96\\x88\\xe2\\x96\\x88 | 2.00G/2.20G [00:11<00:01, 183MB/s]\\r 92%|\\xe2\\x96\\x88\\xe2\\x96\\x88\\xe2\\x96\\x88\\xe2\\x96\\x88\\xe2\\x96\\x88\\xe2\\x96\\x88\\xe2\\x96\\x88\\xe2\\x96\\x88\\xe2\\x96\\x88\\xe2\\x96\\x8f| 2.02G/2.20G [00:11<00:01, 175MB/s]\\r 92%|\\xe2\\x96\\x88\\xe2\\x96\\x88\\xe2\\x96\\x88\\xe2\\x96\\x88\\xe2\\x96\\x88\\xe2\\x96\\x88\\xe2\\x96\\x88\\xe2\\x96\\x88\\xe2\\x96\\x88\\xe2\\x96\\x8f| 2.03G/2.20G [00:11<00:00, 176MB/s]\\r 93%|\\xe2\\x96\\x88\\xe2\\x96\\x88\\xe2\\x96\\x88\\xe2\\x96\\x88\\xe2\\x96\\x88\\xe2\\x96\\x88\\xe2\\x96\\x88\\xe2\\x96\\x88\\xe2\\x96\\x88\\xe2\\x96\\x8e| 2.05G/2.20G [00:11<00:00, 174MB/s]\\r 94%|\\xe2\\x96\\x88\\xe2\\x96\\x88\\xe2\\x96\\x88\\xe2\\x96\\x88\\xe2\\x96\\x88\\xe2\\x96\\x88\\xe2\\x96\\x88\\xe2\\x96\\x88\\xe2\\x96\\x88\\xe2\\x96\\x8d| 2.07G/2.20G [00:12<00:00, 182MB/s]\\r 95%|\\xe2\\x96\\x88\\xe2\\x96\\x88\\xe2\\x96\\x88\\xe2\\x96\\x88\\xe2\\x96\\x88\\xe2\\x96\\x88\\xe2\\x96\\x88\\xe2\\x96\\x88\\xe2\\x96\\x88\\xe2\\x96\\x8c| 2.09G/2.20G [00:12<00:00, 190MB/s]\\r 96%|\\xe2\\x96\\x88\\xe2\\x96\\x88\\xe2\\x96\\x88\\xe2\\x96\\x88\\xe2\\x96\\x88\\xe2\\x96\\x88\\xe2\\x96\\x88\\xe2\\x96\\x88\\xe2\\x96\\x88\\xe2\\x96\\x8c| 2.11G/2.20G [00:12<00:00, 131MB/s]\\r 97%|\\xe2\\x96\\x88\\xe2\\x96\\x88\\xe2\\x96\\x88\\xe2\\x96\\x88\\xe2\\x96\\x88\\xe2\\x96\\x88\\xe2\\x96\\x88\\xe2\\x96\\x88\\xe2\\x96\\x88\\xe2\\x96\\x8b| 2.13G/2.20G [00:12<00:00, 143MB/s]\\r 98%|\\xe2\\x96\\x88\\xe2\\x96\\x88\\xe2\\x96\\x88\\xe2\\x96\\x88\\xe2\\x96\\x88\\xe2\\x96\\x88\\xe2\\x96\\x88\\xe2\\x96\\x88\\xe2\\x96\\x88\\xe2\\x96\\x8a| 2.15G/2.20G [00:12<00:00, 146MB/s]\\r 99%|\\xe2\\x96\\x88\\xe2\\x96\\x88\\xe2\\x96\\x88\\xe2\\x96\\x88\\xe2\\x96\\x88\\xe2\\x96\\x88\\xe2\\x96\\x88\\xe2\\x96\\x88\\xe2\\x96\\x88\\xe2\\x96\\x89| 2.17G/2.20G [00:12<00:00, 168MB/s]\\r100%|\\xe2\\x96\\x88\\xe2\\x96\\x88\\xe2\\x96\\x88\\xe2\\x96\\x88\\xe2\\x96\\x88\\xe2\\x96\\x88\\xe2\\x96\\x88\\xe2\\x96\\x88\\xe2\\x96\\x88\\xe2\\x96\\x89| 2.19G/2.20G [00:12<00:00, 171MB/s]\\r100%|\\xe2\\x96\\x88\\xe2\\x96\\x88\\xe2\\x96\\x88\\xe2\\x96\\x88\\xe2\\x96\\x88\\xe2\\x96\\x88\\xe2\\x96\\x88\\xe2\\x96\\x88\\xe2\\x96\\x88\\xe2\\x96\\x88| 2.20G/2.20G [00:12<00:00, 170MB/s]\\n\")\n",
            "CompletedProcess(args=['gdown', '--id', '1iWqF8dWpDPZbciufcUyPuprLfcP4Zs4w', '--output', 'data.zip'], returncode=0, stdout=b'', stderr=b\"/usr/local/lib/python3.7/dist-packages/gdown/cli.py:131: FutureWarning: Option `--id` was deprecated in version 4.3.1 and will be removed in 5.0. You don't need to pass it anymore to use a file ID.\\n  category=FutureWarning,\\nDownloading...\\nFrom: https://drive.google.com/uc?id=1iWqF8dWpDPZbciufcUyPuprLfcP4Zs4w\\nTo: /content/strv/data.zip\\n\\r  0%|          | 0.00/2.20G [00:00<?, ?B/s]\\r  0%|          | 4.72M/2.20G [00:00<01:00, 36.1MB/s]\\r  1%|          | 26.2M/2.20G [00:00<00:16, 129MB/s] \\r  2%|\\xe2\\x96\\x8f         | 47.7M/2.20G [00:00<00:13, 159MB/s]\\r  3%|\\xe2\\x96\\x8e         | 69.2M/2.20G [00:00<00:11, 179MB/s]\\r  4%|\\xe2\\x96\\x8d         | 88.1M/2.20G [00:00<00:12, 175MB/s]\\r  5%|\\xe2\\x96\\x8d         | 106M/2.20G [00:00<00:16, 127MB/s] \\r  6%|\\xe2\\x96\\x8c         | 123M/2.20G [00:00<00:15, 137MB/s]\\r  6%|\\xe2\\x96\\x8b         | 139M/2.20G [00:01<00:16, 128MB/s]\\r  7%|\\xe2\\x96\\x8b         | 159M/2.20G [00:01<00:13, 146MB/s]\\r  8%|\\xe2\\x96\\x8a         | 179M/2.20G [00:01<00:12, 158MB/s]\\r  9%|\\xe2\\x96\\x89         | 199M/2.20G [00:01<00:11, 168MB/s]\\r 10%|\\xe2\\x96\\x89         | 220M/2.20G [00:01<00:11, 179MB/s]\\r 11%|\\xe2\\x96\\x88         | 239M/2.20G [00:01<00:11, 178MB/s]\\r 12%|\\xe2\\x96\\x88\\xe2\\x96\\x8f        | 258M/2.20G [00:01<00:10, 183MB/s]\\r 13%|\\xe2\\x96\\x88\\xe2\\x96\\x8e        | 277M/2.20G [00:01<00:10, 184MB/s]\\r 13%|\\xe2\\x96\\x88\\xe2\\x96\\x8e        | 296M/2.20G [00:01<00:10, 183MB/s]\\r 14%|\\xe2\\x96\\x88\\xe2\\x96\\x8d        | 315M/2.20G [00:01<00:10, 177MB/s]\\r 15%|\\xe2\\x96\\x88\\xe2\\x96\\x8c        | 333M/2.20G [00:02<00:10, 171MB/s]\\r 16%|\\xe2\\x96\\x88\\xe2\\x96\\x8c        | 352M/2.20G [00:02<00:10, 170MB/s]\\r 17%|\\xe2\\x96\\x88\\xe2\\x96\\x8b        | 373M/2.20G [00:02<00:10, 181MB/s]\\r 18%|\\xe2\\x96\\x88\\xe2\\x96\\x8a        | 393M/2.20G [00:02<00:09, 184MB/s]\\r 19%|\\xe2\\x96\\x88\\xe2\\x96\\x89        | 414M/2.20G [00:02<00:09, 192MB/s]\\r 20%|\\xe2\\x96\\x88\\xe2\\x96\\x89        | 434M/2.20G [00:02<00:09, 186MB/s]\\r 21%|\\xe2\\x96\\x88\\xe2\\x96\\x88        | 452M/2.20G [00:02<00:09, 178MB/s]\\r 21%|\\xe2\\x96\\x88\\xe2\\x96\\x88\\xe2\\x96\\x8f       | 471M/2.20G [00:02<00:10, 166MB/s]\\r 22%|\\xe2\\x96\\x88\\xe2\\x96\\x88\\xe2\\x96\\x8f       | 493M/2.20G [00:02<00:10, 161MB/s]\\r 23%|\\xe2\\x96\\x88\\xe2\\x96\\x88\\xe2\\x96\\x8e       | 510M/2.20G [00:03<00:14, 115MB/s]\\r 24%|\\xe2\\x96\\x88\\xe2\\x96\\x88\\xe2\\x96\\x8d       | 532M/2.20G [00:03<00:12, 136MB/s]\\r 25%|\\xe2\\x96\\x88\\xe2\\x96\\x88\\xe2\\x96\\x8c       | 552M/2.20G [00:03<00:10, 150MB/s]\\r 26%|\\xe2\\x96\\x88\\xe2\\x96\\x88\\xe2\\x96\\x8c       | 574M/2.20G [00:03<00:09, 166MB/s]\\r 27%|\\xe2\\x96\\x88\\xe2\\x96\\x88\\xe2\\x96\\x8b       | 596M/2.20G [00:03<00:08, 180MB/s]\\r 28%|\\xe2\\x96\\x88\\xe2\\x96\\x88\\xe2\\x96\\x8a       | 616M/2.20G [00:03<00:08, 186MB/s]\\r 29%|\\xe2\\x96\\x88\\xe2\\x96\\x88\\xe2\\x96\\x89       | 639M/2.20G [00:03<00:07, 196MB/s]\\r 30%|\\xe2\\x96\\x88\\xe2\\x96\\x88\\xe2\\x96\\x89       | 660M/2.20G [00:03<00:07, 193MB/s]\\r 31%|\\xe2\\x96\\x88\\xe2\\x96\\x88\\xe2\\x96\\x88       | 682M/2.20G [00:04<00:07, 201MB/s]\\r 32%|\\xe2\\x96\\x88\\xe2\\x96\\x88\\xe2\\x96\\x88\\xe2\\x96\\x8f      | 705M/2.20G [00:04<00:07, 208MB/s]\\r 33%|\\xe2\\x96\\x88\\xe2\\x96\\x88\\xe2\\x96\\x88\\xe2\\x96\\x8e      | 727M/2.20G [00:04<00:07, 210MB/s]\\r 34%|\\xe2\\x96\\x88\\xe2\\x96\\x88\\xe2\\x96\\x88\\xe2\\x96\\x8d      | 748M/2.20G [00:04<00:10, 142MB/s]\\r 35%|\\xe2\\x96\\x88\\xe2\\x96\\x88\\xe2\\x96\\x88\\xe2\\x96\\x8d      | 770M/2.20G [00:04<00:09, 157MB/s]\\r 36%|\\xe2\\x96\\x88\\xe2\\x96\\x88\\xe2\\x96\\x88\\xe2\\x96\\x8c      | 791M/2.20G [00:04<00:08, 170MB/s]\\r 37%|\\xe2\\x96\\x88\\xe2\\x96\\x88\\xe2\\x96\\x88\\xe2\\x96\\x8b      | 811M/2.20G [00:04<00:08, 160MB/s]\\r 38%|\\xe2\\x96\\x88\\xe2\\x96\\x88\\xe2\\x96\\x88\\xe2\\x96\\x8a      | 828M/2.20G [00:04<00:08, 164MB/s]\\r 38%|\\xe2\\x96\\x88\\xe2\\x96\\x88\\xe2\\x96\\x88\\xe2\\x96\\x8a      | 846M/2.20G [00:05<00:10, 130MB/s]\\r 39%|\\xe2\\x96\\x88\\xe2\\x96\\x88\\xe2\\x96\\x88\\xe2\\x96\\x89      | 867M/2.20G [00:05<00:09, 146MB/s]\\r 40%|\\xe2\\x96\\x88\\xe2\\x96\\x88\\xe2\\x96\\x88\\xe2\\x96\\x88      | 887M/2.20G [00:05<00:08, 158MB/s]\\r 41%|\\xe2\\x96\\x88\\xe2\\x96\\x88\\xe2\\x96\\x88\\xe2\\x96\\x88\\xe2\\x96\\x8f     | 909M/2.20G [00:05<00:07, 173MB/s]\\r 42%|\\xe2\\x96\\x88\\xe2\\x96\\x88\\xe2\\x96\\x88\\xe2\\x96\\x88\\xe2\\x96\\x8f     | 929M/2.20G [00:05<00:07, 181MB/s]\\r 43%|\\xe2\\x96\\x88\\xe2\\x96\\x88\\xe2\\x96\\x88\\xe2\\x96\\x88\\xe2\\x96\\x8e     | 948M/2.20G [00:05<00:08, 156MB/s]\\r 44%|\\xe2\\x96\\x88\\xe2\\x96\\x88\\xe2\\x96\\x88\\xe2\\x96\\x88\\xe2\\x96\\x8d     | 969M/2.20G [00:05<00:07, 168MB/s]\\r 45%|\\xe2\\x96\\x88\\xe2\\x96\\x88\\xe2\\x96\\x88\\xe2\\x96\\x88\\xe2\\x96\\x8d     | 988M/2.20G [00:06<00:09, 133MB/s]\\r 46%|\\xe2\\x96\\x88\\xe2\\x96\\x88\\xe2\\x96\\x88\\xe2\\x96\\x88\\xe2\\x96\\x8c     | 1.01G/2.20G [00:06<00:07, 149MB/s]\\r 47%|\\xe2\\x96\\x88\\xe2\\x96\\x88\\xe2\\x96\\x88\\xe2\\x96\\x88\\xe2\\x96\\x8b     | 1.03G/2.20G [00:06<00:07, 166MB/s]\\r 48%|\\xe2\\x96\\x88\\xe2\\x96\\x88\\xe2\\x96\\x88\\xe2\\x96\\x88\\xe2\\x96\\x8a     | 1.05G/2.20G [00:06<00:06, 167MB/s]\\r 49%|\\xe2\\x96\\x88\\xe2\\x96\\x88\\xe2\\x96\\x88\\xe2\\x96\\x88\\xe2\\x96\\x8a     | 1.07G/2.20G [00:06<00:06, 170MB/s]\\r 49%|\\xe2\\x96\\x88\\xe2\\x96\\x88\\xe2\\x96\\x88\\xe2\\x96\\x88\\xe2\\x96\\x89     | 1.09G/2.20G [00:06<00:06, 169MB/s]\\r 50%|\\xe2\\x96\\x88\\xe2\\x96\\x88\\xe2\\x96\\x88\\xe2\\x96\\x88\\xe2\\x96\\x88     | 1.11G/2.20G [00:06<00:06, 178MB/s]\\r 51%|\\xe2\\x96\\x88\\xe2\\x96\\x88\\xe2\\x96\\x88\\xe2\\x96\\x88\\xe2\\x96\\x88\\xe2\\x96\\x8f    | 1.13G/2.20G [00:06<00:05, 188MB/s]\\r 52%|\\xe2\\x96\\x88\\xe2\\x96\\x88\\xe2\\x96\\x88\\xe2\\x96\\x88\\xe2\\x96\\x88\\xe2\\x96\\x8f    | 1.15G/2.20G [00:06<00:05, 191MB/s]\\r 53%|\\xe2\\x96\\x88\\xe2\\x96\\x88\\xe2\\x96\\x88\\xe2\\x96\\x88\\xe2\\x96\\x88\\xe2\\x96\\x8e    | 1.17G/2.20G [00:07<00:05, 193MB/s]\\r 54%|\\xe2\\x96\\x88\\xe2\\x96\\x88\\xe2\\x96\\x88\\xe2\\x96\\x88\\xe2\\x96\\x88\\xe2\\x96\\x8d    | 1.19G/2.20G [00:07<00:06, 145MB/s]\\r 55%|\\xe2\\x96\\x88\\xe2\\x96\\x88\\xe2\\x96\\x88\\xe2\\x96\\x88\\xe2\\x96\\x88\\xe2\\x96\\x8d    | 1.21G/2.20G [00:07<00:06, 160MB/s]\\r 56%|\\xe2\\x96\\x88\\xe2\\x96\\x88\\xe2\\x96\\x88\\xe2\\x96\\x88\\xe2\\x96\\x88\\xe2\\x96\\x8c    | 1.23G/2.20G [00:07<00:05, 173MB/s]\\r 57%|\\xe2\\x96\\x88\\xe2\\x96\\x88\\xe2\\x96\\x88\\xe2\\x96\\x88\\xe2\\x96\\x88\\xe2\\x96\\x8b    | 1.25G/2.20G [00:07<00:05, 182MB/s]\\r 58%|\\xe2\\x96\\x88\\xe2\\x96\\x88\\xe2\\x96\\x88\\xe2\\x96\\x88\\xe2\\x96\\x88\\xe2\\x96\\x8a    | 1.27G/2.20G [00:07<00:05, 180MB/s]\\r 59%|\\xe2\\x96\\x88\\xe2\\x96\\x88\\xe2\\x96\\x88\\xe2\\x96\\x88\\xe2\\x96\\x88\\xe2\\x96\\x8a    | 1.29G/2.20G [00:07<00:05, 177MB/s]\\r 60%|\\xe2\\x96\\x88\\xe2\\x96\\x88\\xe2\\x96\\x88\\xe2\\x96\\x88\\xe2\\x96\\x88\\xe2\\x96\\x89    | 1.31G/2.20G [00:07<00:04, 184MB/s]\\r 61%|\\xe2\\x96\\x88\\xe2\\x96\\x88\\xe2\\x96\\x88\\xe2\\x96\\x88\\xe2\\x96\\x88\\xe2\\x96\\x88    | 1.33G/2.20G [00:07<00:04, 192MB/s]\\r 61%|\\xe2\\x96\\x88\\xe2\\x96\\x88\\xe2\\x96\\x88\\xe2\\x96\\x88\\xe2\\x96\\x88\\xe2\\x96\\x88\\xe2\\x96\\x8f   | 1.35G/2.20G [00:08<00:04, 182MB/s]\\r 62%|\\xe2\\x96\\x88\\xe2\\x96\\x88\\xe2\\x96\\x88\\xe2\\x96\\x88\\xe2\\x96\\x88\\xe2\\x96\\x88\\xe2\\x96\\x8f   | 1.37G/2.20G [00:08<00:04, 183MB/s]\\r 63%|\\xe2\\x96\\x88\\xe2\\x96\\x88\\xe2\\x96\\x88\\xe2\\x96\\x88\\xe2\\x96\\x88\\xe2\\x96\\x88\\xe2\\x96\\x8e   | 1.39G/2.20G [00:08<00:04, 192MB/s]\\r 64%|\\xe2\\x96\\x88\\xe2\\x96\\x88\\xe2\\x96\\x88\\xe2\\x96\\x88\\xe2\\x96\\x88\\xe2\\x96\\x88\\xe2\\x96\\x8d   | 1.41G/2.20G [00:08<00:04, 166MB/s]\\r 65%|\\xe2\\x96\\x88\\xe2\\x96\\x88\\xe2\\x96\\x88\\xe2\\x96\\x88\\xe2\\x96\\x88\\xe2\\x96\\x88\\xe2\\x96\\x8c   | 1.43G/2.20G [00:08<00:04, 176MB/s]\\r 66%|\\xe2\\x96\\x88\\xe2\\x96\\x88\\xe2\\x96\\x88\\xe2\\x96\\x88\\xe2\\x96\\x88\\xe2\\x96\\x88\\xe2\\x96\\x8c   | 1.45G/2.20G [00:08<00:04, 179MB/s]\\r 67%|\\xe2\\x96\\x88\\xe2\\x96\\x88\\xe2\\x96\\x88\\xe2\\x96\\x88\\xe2\\x96\\x88\\xe2\\x96\\x88\\xe2\\x96\\x8b   | 1.47G/2.20G [00:08<00:03, 188MB/s]\\r 68%|\\xe2\\x96\\x88\\xe2\\x96\\x88\\xe2\\x96\\x88\\xe2\\x96\\x88\\xe2\\x96\\x88\\xe2\\x96\\x88\\xe2\\x96\\x8a   | 1.49G/2.20G [00:08<00:03, 195MB/s]\\r 69%|\\xe2\\x96\\x88\\xe2\\x96\\x88\\xe2\\x96\\x88\\xe2\\x96\\x88\\xe2\\x96\\x88\\xe2\\x96\\x88\\xe2\\x96\\x89   | 1.52G/2.20G [00:08<00:03, 198MB/s]\\r 70%|\\xe2\\x96\\x88\\xe2\\x96\\x88\\xe2\\x96\\x88\\xe2\\x96\\x88\\xe2\\x96\\x88\\xe2\\x96\\x88\\xe2\\x96\\x89   | 1.54G/2.20G [00:09<00:03, 193MB/s]\\r 71%|\\xe2\\x96\\x88\\xe2\\x96\\x88\\xe2\\x96\\x88\\xe2\\x96\\x88\\xe2\\x96\\x88\\xe2\\x96\\x88\\xe2\\x96\\x88   | 1.56G/2.20G [00:09<00:03, 201MB/s]\\r 72%|\\xe2\\x96\\x88\\xe2\\x96\\x88\\xe2\\x96\\x88\\xe2\\x96\\x88\\xe2\\x96\\x88\\xe2\\x96\\x88\\xe2\\x96\\x88\\xe2\\x96\\x8f  | 1.58G/2.20G [00:09<00:03, 203MB/s]\\r 73%|\\xe2\\x96\\x88\\xe2\\x96\\x88\\xe2\\x96\\x88\\xe2\\x96\\x88\\xe2\\x96\\x88\\xe2\\x96\\x88\\xe2\\x96\\x88\\xe2\\x96\\x8e  | 1.60G/2.20G [00:09<00:02, 205MB/s]\\r 74%|\\xe2\\x96\\x88\\xe2\\x96\\x88\\xe2\\x96\\x88\\xe2\\x96\\x88\\xe2\\x96\\x88\\xe2\\x96\\x88\\xe2\\x96\\x88\\xe2\\x96\\x8e  | 1.62G/2.20G [00:09<00:02, 204MB/s]\\r 75%|\\xe2\\x96\\x88\\xe2\\x96\\x88\\xe2\\x96\\x88\\xe2\\x96\\x88\\xe2\\x96\\x88\\xe2\\x96\\x88\\xe2\\x96\\x88\\xe2\\x96\\x8d  | 1.64G/2.20G [00:09<00:02, 204MB/s]\\r 76%|\\xe2\\x96\\x88\\xe2\\x96\\x88\\xe2\\x96\\x88\\xe2\\x96\\x88\\xe2\\x96\\x88\\xe2\\x96\\x88\\xe2\\x96\\x88\\xe2\\x96\\x8c  | 1.66G/2.20G [00:09<00:02, 197MB/s]\\r 77%|\\xe2\\x96\\x88\\xe2\\x96\\x88\\xe2\\x96\\x88\\xe2\\x96\\x88\\xe2\\x96\\x88\\xe2\\x96\\x88\\xe2\\x96\\x88\\xe2\\x96\\x8b  | 1.68G/2.20G [00:09<00:02, 197MB/s]\\r 77%|\\xe2\\x96\\x88\\xe2\\x96\\x88\\xe2\\x96\\x88\\xe2\\x96\\x88\\xe2\\x96\\x88\\xe2\\x96\\x88\\xe2\\x96\\x88\\xe2\\x96\\x8b  | 1.70G/2.20G [00:09<00:02, 198MB/s]\\r 78%|\\xe2\\x96\\x88\\xe2\\x96\\x88\\xe2\\x96\\x88\\xe2\\x96\\x88\\xe2\\x96\\x88\\xe2\\x96\\x88\\xe2\\x96\\x88\\xe2\\x96\\x8a  | 1.72G/2.20G [00:10<00:02, 200MB/s]\\r 79%|\\xe2\\x96\\x88\\xe2\\x96\\x88\\xe2\\x96\\x88\\xe2\\x96\\x88\\xe2\\x96\\x88\\xe2\\x96\\x88\\xe2\\x96\\x88\\xe2\\x96\\x89  | 1.74G/2.20G [00:10<00:02, 185MB/s]\\r 80%|\\xe2\\x96\\x88\\xe2\\x96\\x88\\xe2\\x96\\x88\\xe2\\x96\\x88\\xe2\\x96\\x88\\xe2\\x96\\x88\\xe2\\x96\\x88\\xe2\\x96\\x88  | 1.76G/2.20G [00:10<00:02, 153MB/s]\\r 81%|\\xe2\\x96\\x88\\xe2\\x96\\x88\\xe2\\x96\\x88\\xe2\\x96\\x88\\xe2\\x96\\x88\\xe2\\x96\\x88\\xe2\\x96\\x88\\xe2\\x96\\x88  | 1.78G/2.20G [00:10<00:02, 161MB/s]\\r 82%|\\xe2\\x96\\x88\\xe2\\x96\\x88\\xe2\\x96\\x88\\xe2\\x96\\x88\\xe2\\x96\\x88\\xe2\\x96\\x88\\xe2\\x96\\x88\\xe2\\x96\\x88\\xe2\\x96\\x8f | 1.80G/2.20G [00:10<00:02, 164MB/s]\\r 83%|\\xe2\\x96\\x88\\xe2\\x96\\x88\\xe2\\x96\\x88\\xe2\\x96\\x88\\xe2\\x96\\x88\\xe2\\x96\\x88\\xe2\\x96\\x88\\xe2\\x96\\x88\\xe2\\x96\\x8e | 1.82G/2.20G [00:10<00:02, 176MB/s]\\r 84%|\\xe2\\x96\\x88\\xe2\\x96\\x88\\xe2\\x96\\x88\\xe2\\x96\\x88\\xe2\\x96\\x88\\xe2\\x96\\x88\\xe2\\x96\\x88\\xe2\\x96\\x88\\xe2\\x96\\x8e | 1.84G/2.20G [00:10<00:02, 177MB/s]\\r 85%|\\xe2\\x96\\x88\\xe2\\x96\\x88\\xe2\\x96\\x88\\xe2\\x96\\x88\\xe2\\x96\\x88\\xe2\\x96\\x88\\xe2\\x96\\x88\\xe2\\x96\\x88\\xe2\\x96\\x8d | 1.86G/2.20G [00:10<00:01, 186MB/s]\\r 85%|\\xe2\\x96\\x88\\xe2\\x96\\x88\\xe2\\x96\\x88\\xe2\\x96\\x88\\xe2\\x96\\x88\\xe2\\x96\\x88\\xe2\\x96\\x88\\xe2\\x96\\x88\\xe2\\x96\\x8c | 1.88G/2.20G [00:10<00:01, 192MB/s]\\r 86%|\\xe2\\x96\\x88\\xe2\\x96\\x88\\xe2\\x96\\x88\\xe2\\x96\\x88\\xe2\\x96\\x88\\xe2\\x96\\x88\\xe2\\x96\\x88\\xe2\\x96\\x88\\xe2\\x96\\x8b | 1.90G/2.20G [00:11<00:02, 144MB/s]\\r 87%|\\xe2\\x96\\x88\\xe2\\x96\\x88\\xe2\\x96\\x88\\xe2\\x96\\x88\\xe2\\x96\\x88\\xe2\\x96\\x88\\xe2\\x96\\x88\\xe2\\x96\\x88\\xe2\\x96\\x8b | 1.92G/2.20G [00:11<00:01, 153MB/s]\\r 88%|\\xe2\\x96\\x88\\xe2\\x96\\x88\\xe2\\x96\\x88\\xe2\\x96\\x88\\xe2\\x96\\x88\\xe2\\x96\\x88\\xe2\\x96\\x88\\xe2\\x96\\x88\\xe2\\x96\\x8a | 1.94G/2.20G [00:11<00:01, 150MB/s]\\r 89%|\\xe2\\x96\\x88\\xe2\\x96\\x88\\xe2\\x96\\x88\\xe2\\x96\\x88\\xe2\\x96\\x88\\xe2\\x96\\x88\\xe2\\x96\\x88\\xe2\\x96\\x88\\xe2\\x96\\x89 | 1.96G/2.20G [00:11<00:01, 162MB/s]\\r 90%|\\xe2\\x96\\x88\\xe2\\x96\\x88\\xe2\\x96\\x88\\xe2\\x96\\x88\\xe2\\x96\\x88\\xe2\\x96\\x88\\xe2\\x96\\x88\\xe2\\x96\\x88\\xe2\\x96\\x89 | 1.97G/2.20G [00:11<00:01, 169MB/s]\\r 91%|\\xe2\\x96\\x88\\xe2\\x96\\x88\\xe2\\x96\\x88\\xe2\\x96\\x88\\xe2\\x96\\x88\\xe2\\x96\\x88\\xe2\\x96\\x88\\xe2\\x96\\x88\\xe2\\x96\\x88 | 2.00G/2.20G [00:11<00:01, 183MB/s]\\r 92%|\\xe2\\x96\\x88\\xe2\\x96\\x88\\xe2\\x96\\x88\\xe2\\x96\\x88\\xe2\\x96\\x88\\xe2\\x96\\x88\\xe2\\x96\\x88\\xe2\\x96\\x88\\xe2\\x96\\x88\\xe2\\x96\\x8f| 2.02G/2.20G [00:11<00:01, 175MB/s]\\r 92%|\\xe2\\x96\\x88\\xe2\\x96\\x88\\xe2\\x96\\x88\\xe2\\x96\\x88\\xe2\\x96\\x88\\xe2\\x96\\x88\\xe2\\x96\\x88\\xe2\\x96\\x88\\xe2\\x96\\x88\\xe2\\x96\\x8f| 2.03G/2.20G [00:11<00:00, 176MB/s]\\r 93%|\\xe2\\x96\\x88\\xe2\\x96\\x88\\xe2\\x96\\x88\\xe2\\x96\\x88\\xe2\\x96\\x88\\xe2\\x96\\x88\\xe2\\x96\\x88\\xe2\\x96\\x88\\xe2\\x96\\x88\\xe2\\x96\\x8e| 2.05G/2.20G [00:11<00:00, 174MB/s]\\r 94%|\\xe2\\x96\\x88\\xe2\\x96\\x88\\xe2\\x96\\x88\\xe2\\x96\\x88\\xe2\\x96\\x88\\xe2\\x96\\x88\\xe2\\x96\\x88\\xe2\\x96\\x88\\xe2\\x96\\x88\\xe2\\x96\\x8d| 2.07G/2.20G [00:12<00:00, 182MB/s]\\r 95%|\\xe2\\x96\\x88\\xe2\\x96\\x88\\xe2\\x96\\x88\\xe2\\x96\\x88\\xe2\\x96\\x88\\xe2\\x96\\x88\\xe2\\x96\\x88\\xe2\\x96\\x88\\xe2\\x96\\x88\\xe2\\x96\\x8c| 2.09G/2.20G [00:12<00:00, 190MB/s]\\r 96%|\\xe2\\x96\\x88\\xe2\\x96\\x88\\xe2\\x96\\x88\\xe2\\x96\\x88\\xe2\\x96\\x88\\xe2\\x96\\x88\\xe2\\x96\\x88\\xe2\\x96\\x88\\xe2\\x96\\x88\\xe2\\x96\\x8c| 2.11G/2.20G [00:12<00:00, 131MB/s]\\r 97%|\\xe2\\x96\\x88\\xe2\\x96\\x88\\xe2\\x96\\x88\\xe2\\x96\\x88\\xe2\\x96\\x88\\xe2\\x96\\x88\\xe2\\x96\\x88\\xe2\\x96\\x88\\xe2\\x96\\x88\\xe2\\x96\\x8b| 2.13G/2.20G [00:12<00:00, 143MB/s]\\r 98%|\\xe2\\x96\\x88\\xe2\\x96\\x88\\xe2\\x96\\x88\\xe2\\x96\\x88\\xe2\\x96\\x88\\xe2\\x96\\x88\\xe2\\x96\\x88\\xe2\\x96\\x88\\xe2\\x96\\x88\\xe2\\x96\\x8a| 2.15G/2.20G [00:12<00:00, 146MB/s]\\r 99%|\\xe2\\x96\\x88\\xe2\\x96\\x88\\xe2\\x96\\x88\\xe2\\x96\\x88\\xe2\\x96\\x88\\xe2\\x96\\x88\\xe2\\x96\\x88\\xe2\\x96\\x88\\xe2\\x96\\x88\\xe2\\x96\\x89| 2.17G/2.20G [00:12<00:00, 168MB/s]\\r100%|\\xe2\\x96\\x88\\xe2\\x96\\x88\\xe2\\x96\\x88\\xe2\\x96\\x88\\xe2\\x96\\x88\\xe2\\x96\\x88\\xe2\\x96\\x88\\xe2\\x96\\x88\\xe2\\x96\\x88\\xe2\\x96\\x89| 2.19G/2.20G [00:12<00:00, 171MB/s]\\r100%|\\xe2\\x96\\x88\\xe2\\x96\\x88\\xe2\\x96\\x88\\xe2\\x96\\x88\\xe2\\x96\\x88\\xe2\\x96\\x88\\xe2\\x96\\x88\\xe2\\x96\\x88\\xe2\\x96\\x88\\xe2\\x96\\x88| 2.20G/2.20G [00:12<00:00, 170MB/s]\\n\")\n"
          ]
        }
      ]
    },
    {
      "cell_type": "code",
      "execution_count": 13,
      "metadata": {
        "id": "gGbw5uutr0PP"
      },
      "outputs": [],
      "source": [
        "# Check if dataset is already downloaded or needs to be downloaded.\n",
        "configuration = Configuration()\n",
        "dataset_path = configuration.get('input_images_path')\n",
        "if(exists(MTF_MODEL_NAME) == False):\n",
        "  if os.path.isdir(dataset_path):\n",
        "      print('Dataset already downloaded')\n",
        "  else:\n",
        "      print('Downloading dataset')\n",
        "      print('Downloading dataset')\n",
        "      dataset_archive_path = os.path.join('data', 'lfw-deepfunneled.tgz')\n",
        "      download_data('http://vis-www.cs.umass.edu/lfw/lfw-deepfunneled.tgz', dataset_archive_path)\n",
        "      print('Extracting dataset')\n",
        "      tar = tarfile.open(dataset_archive_path, 'r:gz')\n",
        "      tar.extractall('data')\n",
        "      tar.close()\n",
        "      print('Done')"
      ]
    },
    {
      "cell_type": "markdown",
      "metadata": {
        "id": "uyfxprTdr0PP"
      },
      "source": [
        "## 2) Data generation\n",
        "Next step is to generate data for neural network training. We need input images (person with a face mask) and corresponding output image (the same image as input but without the face mask). We already have output images in downloaded dataset. Input images will be created by adding mask on the faces with a help from [MaskTheFace GitHub](https://github.com/aqeelanwar/MaskTheFace) project."
      ]
    },
    {
      "cell_type": "code",
      "execution_count": 14,
      "metadata": {
        "id": "n0wNPwY-r0PQ",
        "colab": {
          "base_uri": "https://localhost:8080/",
          "height": 85,
          "referenced_widgets": [
            "2903a8de427f4520a66b53e14c768fdb",
            "4686c18503694625ad41ca8f4f7e16fc",
            "b56ede9e7a3647df80cc8672953c4e40",
            "ad75666593bf48388068110fb1b12c8b",
            "4b6fab7bd35a4c609317c477d2f2e7b8",
            "c28f232cc21b4b3f89d76f7b488603bf",
            "c14c7ca2776d40eca5aca24d58d0ecc0",
            "2b3d11976d7b4454aab81e232add4489",
            "9faceb1e39164a4ba9432d6e4eba7e02",
            "5286ce41f42848b6819cf4028325c31d",
            "067cf89513b1409ca0512ea7a2cb8a65"
          ]
        },
        "outputId": "2b674ed6-4432-4f6a-f993-a78a1a4af019"
      },
      "outputs": [
        {
          "output_type": "stream",
          "name": "stdout",
          "text": [
            "Downloading missing predictor.\n"
          ]
        },
        {
          "output_type": "display_data",
          "data": {
            "text/plain": [
              "  0%|          | 0/64040097 [00:00<?, ?it/s]"
            ],
            "application/vnd.jupyter.widget-view+json": {
              "version_major": 2,
              "version_minor": 0,
              "model_id": "2903a8de427f4520a66b53e14c768fdb"
            }
          },
          "metadata": {}
        },
        {
          "output_type": "stream",
          "name": "stdout",
          "text": [
            "Decompressing downloaded file into shape_predictor_68_face_landmarks.dat\n"
          ]
        }
      ],
      "source": [
        "# setup the pipeline and generate data\n",
        "dg = DataGenerator(configuration)  \n",
        "train_folder = configuration.get('train_data_path')\n",
        "test_folder = configuration.get('test_data_path')\n",
        "if(exists(MTF_MODEL_NAME) == False):\n",
        "  if os.path.exists(train_folder) and os.path.exists(test_folder):\n",
        "      print('Testing and training data already generated')\n",
        "  else:\n",
        "    dg.generate_images()\n",
        "\n",
        "  print('Here are few examples of generated data.')\n",
        "  n_examples = 5\n",
        "  inputs, outputs = dg.get_dataset_examples(n_examples)\n",
        "  f, axarr = plt.subplots(2, n_examples, figsize=(20, 10))\n",
        "  for i in range(len(inputs)):\n",
        "      axarr[1, i].imshow(mpimg.imread(inputs[i]))\n",
        "      axarr[1, i].axis('off')\n",
        "      axarr[0, i].imshow(mpimg.imread(outputs[i]))\n",
        "      axarr[0, i].axis('off')"
      ]
    },
    {
      "cell_type": "markdown",
      "metadata": {
        "id": "6mujeaF2r0PQ"
      },
      "source": [
        "## 3) Model training\n",
        "Now we have all the data, and we can initiate model and start training."
      ]
    },
    {
      "cell_type": "code",
      "execution_count": 15,
      "metadata": {
        "id": "-xL1SHPYr0PR"
      },
      "outputs": [],
      "source": [
        "# Feel free to experiment with the number of filters, their sizes or any other parameters\n",
        "if(exists(MTF_MODEL_NAME) == False):\n",
        "  filters = (64, 128, 128, 256, 256, 512)\n",
        "  kernels = (7, 7, 7, 3, 3, 3)\n",
        "  input_image_size = (256, 256, 3)\n",
        "  architecture = UNet.RESNET\n",
        "  training_epochs = 20\n",
        "  batch_size = 12\n",
        "\n",
        "  # Create instance of model and start training\n",
        "  model = Mask2FaceModel.build_model(architecture=architecture, input_size=input_image_size, filters=filters,\n",
        "                                    kernels=kernels, configuration=configuration)\n",
        "  model.train(epochs=training_epochs, batch_size=batch_size, loss_function='ssim_l1_loss')\n",
        "\n",
        "  model.compute_output_shape(input_shape=(None, 256,256,3))\n",
        "else:\n",
        "  trained_model = Mask2FaceModel.load_model('model_epochs-20_batch-12_loss-ssim_l1_loss_20220518_03_20_51.h5')"
      ]
    },
    {
      "cell_type": "markdown",
      "metadata": {
        "id": "IIac0QCCr0PS"
      },
      "source": [
        "## 4) Results\n",
        "Our model is trained, and we can look at it's performance"
      ]
    },
    {
      "cell_type": "code",
      "execution_count": 16,
      "metadata": {
        "id": "gqz5gEBar0PS",
        "colab": {
          "base_uri": "https://localhost:8080/",
          "height": 610
        },
        "outputId": "2c902b53-340f-4557-d8e9-d597fcc5c125"
      },
      "outputs": [
        {
          "output_type": "stream",
          "name": "stdout",
          "text": [
            "WARNING:tensorflow:5 out of the last 10 calls to <function Model.make_predict_function.<locals>.predict_function at 0x7f095ea38950> triggered tf.function retracing. Tracing is expensive and the excessive number of tracings could be due to (1) creating @tf.function repeatedly in a loop, (2) passing tensors with different shapes, (3) passing Python objects instead of tensors. For (1), please define your @tf.function outside of the loop. For (2), @tf.function has experimental_relax_shapes=True option that relaxes argument shapes that can avoid unnecessary retracing. For (3), please refer to https://www.tensorflow.org/guide/function#controlling_retracing and https://www.tensorflow.org/api_docs/python/tf/function for  more details.\n",
            "WARNING:tensorflow:6 out of the last 11 calls to <function Model.make_predict_function.<locals>.predict_function at 0x7f095ea6f0e0> triggered tf.function retracing. Tracing is expensive and the excessive number of tracings could be due to (1) creating @tf.function repeatedly in a loop, (2) passing tensors with different shapes, (3) passing Python objects instead of tensors. For (1), please define your @tf.function outside of the loop. For (2), @tf.function has experimental_relax_shapes=True option that relaxes argument shapes that can avoid unnecessary retracing. For (3), please refer to https://www.tensorflow.org/guide/function#controlling_retracing and https://www.tensorflow.org/api_docs/python/tf/function for  more details.\n",
            "Outputs generated on previously unseen data.\n"
          ]
        },
        {
          "output_type": "display_data",
          "data": {
            "text/plain": [
              "<Figure size 720x648 with 9 Axes>"
            ],
            "image/png": "[encoded data removed]"
          },
          "metadata": {
            "needs_background": "light"
          }
        }
      ],
      "source": [
        "# Let's see the results on a random testing image unseen by the model before.\n",
        "# Run this cell multiple times to see different results\n",
        "n_examples = 3\n",
        "input_imgs, true_output_imgs = dg.get_dataset_examples(n_examples, test_dataset=False)\n",
        "f, axarr = plt.subplots(n_examples, 3, figsize=(10, n_examples * 3))\n",
        "for i, img in enumerate(input_imgs):\n",
        "    generated_output = trained_model.predict(img)\n",
        "    axarr[i, 0].imshow(mpimg.imread(input_imgs[i]))\n",
        "    axarr[i, 0].axis('off')\n",
        "    axarr[i, 1].imshow(mpimg.imread(true_output_imgs[i]))\n",
        "    axarr[i, 1].axis('off')\n",
        "    axarr[i, 2].imshow(generated_output)\n",
        "    axarr[i, 2].axis('off')\n",
        "\n",
        "axarr[0, 0].set_title('Input images')\n",
        "axarr[0, 1].set_title('Real outputs')\n",
        "axarr[0, 2].set_title('Generated outputs')\n",
        "print('Outputs generated on previously unseen data.')"
      ]
    },
    {
      "cell_type": "code",
      "source": [
        "download_data('http://vis-www.cs.umass.edu/lfw/lfw-deepfunneled.tgz', \"lfw-deepfunneled.tgz\")\n",
        "!mv  lfw-deepfunneled.tgz /tmp/"
      ],
      "metadata": {
        "colab": {
          "base_uri": "https://localhost:8080/",
          "height": 49,
          "referenced_widgets": [
            "f0e34c90cd80464e9cd6e5f8ae500441",
            "273f2f6f32e34d4d81b56644e4184a8c",
            "48200b8d233c480ea77008b2aab61534",
            "8a854f44615d469686112c0b969e3822",
            "9773f4c4c1a94e379e34d49f0ad7e347",
            "6256e70924024ebbb264ddd33e9a5e9d",
            "a0ad472335244c1c964f0dd58cf7a460",
            "7cbc01ad79c743fe9d15ba965a33d5c8",
            "87fb5891f1f9418394a999fa097fb657",
            "d73403b524da417ab1e30c17dd88a5d1",
            "4bc2524e54df469fba734a2a2a03c967"
          ]
        },
        "id": "PMewAi2MxWx5",
        "outputId": "be18f29a-2cd1-4099-a2c3-eb18cfbe3b01"
      },
      "execution_count": 17,
      "outputs": [
        {
          "output_type": "display_data",
          "data": {
            "text/plain": [
              "  0%|          | 0/108761145 [00:00<?, ?it/s]"
            ],
            "application/vnd.jupyter.widget-view+json": {
              "version_major": 2,
              "version_minor": 0,
              "model_id": "f0e34c90cd80464e9cd6e5f8ae500441"
            }
          },
          "metadata": {}
        }
      ]
    },
    {
      "cell_type": "code",
      "source": [
        "download_from_drive(\"1cSDdwsCbshVPy5V9n7-BRfxxXzGIh_hH\",'MLFW.zip')\n",
        "!mv MLFW.zip /tmp/"
      ],
      "metadata": {
        "colab": {
          "base_uri": "https://localhost:8080/"
        },
        "id": "muzKgU89B7Bx",
        "outputId": "3135e411-b265-4b4a-b588-aa3c53b2565f"
      },
      "execution_count": 18,
      "outputs": [
        {
          "output_type": "stream",
          "name": "stdout",
          "text": [
            "CompletedProcess(args=['gdown', '--id', '1cSDdwsCbshVPy5V9n7-BRfxxXzGIh_hH', '--output', 'MLFW.zip'], returncode=0, stdout=b'', stderr=b\"/usr/local/lib/python3.7/dist-packages/gdown/cli.py:131: FutureWarning: Option `--id` was deprecated in version 4.3.1 and will be removed in 5.0. You don't need to pass it anymore to use a file ID.\\n  category=FutureWarning,\\nDownloading...\\nFrom: https://drive.google.com/uc?id=1cSDdwsCbshVPy5V9n7-BRfxxXzGIh_hH\\nTo: /content/strv/MLFW.zip\\n\\r  0%|          | 0.00/275M [00:00<?, ?B/s]\\r  3%|\\xe2\\x96\\x8e         | 7.86M/275M [00:00<00:03, 77.1MB/s]\\r  8%|\\xe2\\x96\\x8a         | 23.1M/275M [00:00<00:02, 121MB/s] \\r 13%|\\xe2\\x96\\x88\\xe2\\x96\\x8e        | 35.7M/275M [00:00<00:02, 110MB/s]\\r 19%|\\xe2\\x96\\x88\\xe2\\x96\\x89        | 51.9M/275M [00:00<00:01, 129MB/s]\\r 25%|\\xe2\\x96\\x88\\xe2\\x96\\x88\\xe2\\x96\\x8d       | 67.6M/275M [00:00<00:01, 138MB/s]\\r 31%|\\xe2\\x96\\x88\\xe2\\x96\\x88\\xe2\\x96\\x88       | 84.9M/275M [00:00<00:01, 149MB/s]\\r 37%|\\xe2\\x96\\x88\\xe2\\x96\\x88\\xe2\\x96\\x88\\xe2\\x96\\x8b      | 101M/275M [00:00<00:01, 152MB/s] \\r 43%|\\xe2\\x96\\x88\\xe2\\x96\\x88\\xe2\\x96\\x88\\xe2\\x96\\x88\\xe2\\x96\\x8e     | 118M/275M [00:00<00:00, 157MB/s]\\r 49%|\\xe2\\x96\\x88\\xe2\\x96\\x88\\xe2\\x96\\x88\\xe2\\x96\\x88\\xe2\\x96\\x89     | 135M/275M [00:00<00:00, 160MB/s]\\r 55%|\\xe2\\x96\\x88\\xe2\\x96\\x88\\xe2\\x96\\x88\\xe2\\x96\\x88\\xe2\\x96\\x88\\xe2\\x96\\x8c    | 152M/275M [00:01<00:00, 160MB/s]\\r 61%|\\xe2\\x96\\x88\\xe2\\x96\\x88\\xe2\\x96\\x88\\xe2\\x96\\x88\\xe2\\x96\\x88\\xe2\\x96\\x88    | 168M/275M [00:01<00:00, 159MB/s]\\r 67%|\\xe2\\x96\\x88\\xe2\\x96\\x88\\xe2\\x96\\x88\\xe2\\x96\\x88\\xe2\\x96\\x88\\xe2\\x96\\x88\\xe2\\x96\\x8b   | 184M/275M [00:01<00:00, 149MB/s]\\r 73%|\\xe2\\x96\\x88\\xe2\\x96\\x88\\xe2\\x96\\x88\\xe2\\x96\\x88\\xe2\\x96\\x88\\xe2\\x96\\x88\\xe2\\x96\\x88\\xe2\\x96\\x8e  | 201M/275M [00:01<00:00, 154MB/s]\\r 79%|\\xe2\\x96\\x88\\xe2\\x96\\x88\\xe2\\x96\\x88\\xe2\\x96\\x88\\xe2\\x96\\x88\\xe2\\x96\\x88\\xe2\\x96\\x88\\xe2\\x96\\x89  | 217M/275M [00:01<00:00, 148MB/s]\\r 84%|\\xe2\\x96\\x88\\xe2\\x96\\x88\\xe2\\x96\\x88\\xe2\\x96\\x88\\xe2\\x96\\x88\\xe2\\x96\\x88\\xe2\\x96\\x88\\xe2\\x96\\x88\\xe2\\x96\\x8d | 232M/275M [00:01<00:00, 141MB/s]\\r 90%|\\xe2\\x96\\x88\\xe2\\x96\\x88\\xe2\\x96\\x88\\xe2\\x96\\x88\\xe2\\x96\\x88\\xe2\\x96\\x88\\xe2\\x96\\x88\\xe2\\x96\\x88\\xe2\\x96\\x89 | 247M/275M [00:01<00:00, 129MB/s]\\r 95%|\\xe2\\x96\\x88\\xe2\\x96\\x88\\xe2\\x96\\x88\\xe2\\x96\\x88\\xe2\\x96\\x88\\xe2\\x96\\x88\\xe2\\x96\\x88\\xe2\\x96\\x88\\xe2\\x96\\x88\\xe2\\x96\\x8d| 261M/275M [00:01<00:00, 115MB/s]\\r100%|\\xe2\\x96\\x88\\xe2\\x96\\x88\\xe2\\x96\\x88\\xe2\\x96\\x88\\xe2\\x96\\x88\\xe2\\x96\\x88\\xe2\\x96\\x88\\xe2\\x96\\x88\\xe2\\x96\\x88\\xe2\\x96\\x88| 275M/275M [00:01<00:00, 139MB/s]\\n\")\n"
          ]
        }
      ]
    },
    {
      "cell_type": "code",
      "source": [
        "LFW_EXTRACTION_PATH = \"/tmp/lfw\"\n",
        "LFW_EXTRACTION_COMMAND = \"tar -xvf /tmp/lfw-deepfunneled.tgz -C /tmp/\"\n",
        "LFWD_EXTRACED_PATH = \"/tmp/lfw-deepfunneled\"\n",
        "MLFW_EXTRACTION_PATH = \"/tmp/mlfw\"\n",
        "MLFW_EXTRACTION_FILE = \"/tmp/MLFW.zip\"\n",
        "MLFW_IMAGE_ORIGIN_PATH=\"/tmp/mlfw/aligned/*.jpg\"\n",
        "DRIVE_PATH='/content/gdrive'\n",
        "DATASET_TRAIN_PATH='/tmp/dataset/train'\n",
        "DATASET_TEST_PATH='/tmp/dataset/test'\n",
        "DATASET_ROOT_PATH='/tmp/dataset'\n",
        "MASKTHE_FACE_PATH=\"/content/MaskTheFace/\""
      ],
      "metadata": {
        "id": "pw0l-c0kO5pA"
      },
      "execution_count": 19,
      "outputs": []
    },
    {
      "cell_type": "code",
      "source": [
        "def extract_lfw_mlfw(force=False):\n",
        "  if(force):\n",
        "    print(\"deleting \", LFW_EXTRACTION_PATH)\n",
        "    if(os.path.isdir(LFW_EXTRACTION_PATH) == True):\n",
        "      shutil.rmtree(LFW_EXTRACTION_PATH)\n",
        "    print(\"deleting \", LFWD_EXTRACED_PATH)\n",
        "    if(os.path.isdir(LFWD_EXTRACED_PATH) == True):\n",
        "      shutil.rmtree(LFWD_EXTRACED_PATH)\n",
        "    print(\"deleting \", MLFW_EXTRACTION_PATH)\n",
        "    if(os.path.isdir(MLFW_EXTRACTION_PATH) == True):\n",
        "      shutil.rmtree(MLFW_EXTRACTION_PATH)\n",
        "\n",
        "  print(\"Extracing lfw and mlfw ..\")\n",
        "  if(os.path.isdir(LFW_EXTRACTION_PATH) == False):\n",
        "    print(\"extracing lfw-deepfunneled..\")\n",
        "    # cmd = \"tar -xvf gdrive/MyDrive/datasets/lfw.tar -C /tmp/\"\n",
        "    returned_value = os.system(LFW_EXTRACTION_COMMAND)\n",
        "  if(os.path.isdir(LFWD_EXTRACED_PATH) == True):\n",
        "    print(\"renaming to lfw..\")\n",
        "    os.rename(LFWD_EXTRACED_PATH, LFW_EXTRACTION_PATH)\n",
        "\n",
        "  if(os.path.isdir(MLFW_EXTRACTION_PATH)== False):\n",
        "    print(\"extracting mlfw..\")\n",
        "    zip_ref = zipfile.ZipFile(MLFW_EXTRACTION_FILE, 'r')\n",
        "    zip_ref.extractall(MLFW_EXTRACTION_PATH)\n",
        "    zip_ref.close()"
      ],
      "metadata": {
        "id": "KvEZvN4LO8bd"
      },
      "execution_count": 20,
      "outputs": []
    },
    {
      "cell_type": "code",
      "source": [
        "extract_lfw_mlfw(force = True)"
      ],
      "metadata": {
        "id": "bzpgRumCO9hZ",
        "colab": {
          "base_uri": "https://localhost:8080/"
        },
        "outputId": "e0550f30-2a73-499a-93c4-6e0481e332e9"
      },
      "execution_count": 21,
      "outputs": [
        {
          "output_type": "stream",
          "name": "stdout",
          "text": [
            "deleting  /tmp/lfw\n",
            "deleting  /tmp/lfw-deepfunneled\n",
            "deleting  /tmp/mlfw\n",
            "Extracing lfw and mlfw ..\n",
            "extracing lfw-deepfunneled..\n",
            "renaming to lfw..\n",
            "extracting mlfw..\n"
          ]
        }
      ]
    },
    {
      "cell_type": "code",
      "source": [
        "! ls -l /tmp/"
      ],
      "metadata": {
        "id": "JsH-6IO4POh2",
        "colab": {
          "base_uri": "https://localhost:8080/"
        },
        "outputId": "2214c417-3463-4478-8da2-4f3a2171cfe1"
      },
      "execution_count": 22,
      "outputs": [
        {
          "output_type": "stream",
          "name": "stdout",
          "text": [
            "total 375076\n",
            "-rw-------    1 root root       880 May 21 12:36 __autograph_generated_filezrm4haye.py\n",
            "-rw-r--r--    1 root root      1166 May 21 05:05 dap_multiplexer.084220aff3d6.root.log.INFO.20220521-050546.56\n",
            "lrwxrwxrwx    1 root root        61 May 21 05:05 dap_multiplexer.INFO -> dap_multiplexer.084220aff3d6.root.log.INFO.20220521-050546.56\n",
            "drwxr-xr-x    4 root root      4096 May 21 05:10 dataset\n",
            "srwxr-xr-x    1 root root         0 May 21 05:05 debugger_293pofal81\n",
            "drwx------    2 root root      4096 May 21 05:05 initgoogle_syslog_dir.0\n",
            "drwxr-xr-x 5751 root root    204800 May 21 12:36 lfw\n",
            "-rw-r--r--    1 root root 108761145 May 21 12:36 lfw-deepfunneled.tgz\n",
            "drwxr-xr-x   57 root root      4096 May 21 09:15 mfr\n",
            "drwxr-xr-x    4 root root      4096 May 21 12:36 mlfw\n",
            "-rw-r--r--    1 root root 274972231 May 21 12:36 MLFW.zip\n",
            "drwxr-xr-x    2 root root      4096 May 21 12:36 __pycache__\n",
            "drwx------    2 root root      4096 May 21 05:07 pyright-118-BnvqQXz8jX9Q\n",
            "drwx------    2 root root      4096 May 21 05:07 pyright-118-JM0KPnwLRKY3\n",
            "drwx------    2 root root      4096 May 21 05:08 pyright-178-qsidKrcd6PTH\n",
            "drwx------    2 root root      4096 May 21 05:08 pyright-178-RKxSkABqlpX8\n",
            "drwx------    2 root root      4096 May 21 05:08 pyright-301-LYC5zePSdIAK\n",
            "drwx------    2 root root      4096 May 21 05:08 pyright-301-XdQNo6R8xFBi\n",
            "drwx------    2 root root      4096 May 21 05:08 pyright-326-1SgxpIJFzuji\n",
            "drwx------    2 root root      4096 May 21 05:08 pyright-326-cnNs9U3tEtbM\n",
            "drwx------    2 root root      4096 May 21 05:12 pyright-6987-Uk152cn4esQQ\n",
            "drwx------    2 root root      4096 May 21 05:12 pyright-6987-vK3yaFL0XVMu\n",
            "drwx------    2 root root      4096 May 21 05:10 pyright-806-EQ1mxI50PoNX\n",
            "drwx------    2 root root      4096 May 21 05:10 pyright-806-HRcV3WLvbjdY\n",
            "drwx------    2 root root      4096 May 21 10:34 pyright-853518-2e2MxJPThufl\n",
            "drwx------    2 root root      4096 May 21 10:34 pyright-853518-JmXFjb4vr677\n",
            "drwx------    2 root root      4096 May 21 11:35 pyright-853529-SkrhskEa1scT\n",
            "drwx------    2 root root      4096 May 21 11:35 pyright-853529-t99AUAsuW1HU\n",
            "drwx------    2 root root      4096 May 21 12:00 pyright-853542-BPCSALpTotIU\n",
            "drwx------    2 root root      4096 May 21 12:00 pyright-853542-x2Z5WDzLQqmX\n",
            "drwx------    2 root root      4096 May 21 12:34 pyright-853943-e7lSmumRZ57H\n",
            "drwx------    2 root root      4096 May 21 12:34 pyright-853943-obHecyHymN43\n",
            "drwx------    2 root root      4096 May 21 12:35 pyright-854064-6P5TQph8eDAd\n",
            "drwx------    2 root root      4096 May 21 12:35 pyright-854064-XLdGqXCIRvEV\n",
            "drwxr-xr-x    3 root root      4096 May 21 12:35 python-languageserver-cancellation\n"
          ]
        }
      ]
    },
    {
      "cell_type": "code",
      "source": [
        "# Get file list from lfw\n",
        "lfw_files = []\n",
        "for file in Path(LFW_EXTRACTION_PATH).rglob('*.jpg'):\n",
        "  lfw_files.append(file)\n",
        "mlfw_files = []\n",
        "for file in Path(MLFW_EXTRACTION_PATH).rglob('*.jpg'):\n",
        "  mlfw_files.append(file)\n",
        "print(len(lfw_files))\n",
        "print(len(mlfw_files))"
      ],
      "metadata": {
        "id": "jNRzvsjC0bQo",
        "colab": {
          "base_uri": "https://localhost:8080/"
        },
        "outputId": "f4d40bd7-9971-427f-a77d-18d74bc38811"
      },
      "execution_count": 23,
      "outputs": [
        {
          "output_type": "stream",
          "name": "stdout",
          "text": [
            "13233\n",
            "24000\n"
          ]
        }
      ]
    },
    {
      "cell_type": "code",
      "source": [
        "def pick_images_lfw(max_samples):\n",
        "  print(\"Picking images from lfw ..\")\n",
        "  lfw_images = []\n",
        "  lfw_train = sorted(os.listdir(LFW_EXTRACTION_PATH))\n",
        "  for directory in lfw_train:\n",
        "    dir_path = LFW_EXTRACTION_PATH + \"/\" + directory\n",
        "    no_of_files = len(os.listdir(dir_path)) \n",
        "    if(no_of_files >= max_samples ):\n",
        "      lfw_images.append(directory)\n",
        "  return lfw_images;"
      ],
      "metadata": {
        "id": "W2dUSRY92O0z"
      },
      "execution_count": 24,
      "outputs": []
    },
    {
      "cell_type": "code",
      "source": [
        "def pick_images_mlfw(max_samples):\n",
        "  print(\"Picking images from mlfw ..\")\n",
        "  file_list = glob.glob(MLFW_IMAGE_ORIGIN_PATH)\n",
        "  final_name_list = []\n",
        "  for file in file_list:\n",
        "      file_name = Path(file).name\n",
        "      final_str = \"\"\n",
        "      tokens = file_name.split(\"_\")\n",
        "      for token in tokens:\n",
        "          if(token.isnumeric()):\n",
        "              break;\n",
        "          else:\n",
        "              final_str += token\n",
        "              final_str += \"_\"\n",
        "      final_name_list.append(final_str)  \n",
        "  df = pd.DataFrame(final_name_list)\n",
        "  df.columns = ['name']\n",
        "  new_df = df.groupby('name').filter(lambda x : (len(x) >= max_samples))\n",
        "  mlfw_images = new_df.values.tolist()\n",
        "  mlfw_images = [sub[0][ : -1] for sub in mlfw_images]\n",
        "  return list(set(mlfw_images))"
      ],
      "metadata": {
        "id": "G9CwIXcA2s9Q"
      },
      "execution_count": 25,
      "outputs": []
    },
    {
      "cell_type": "code",
      "source": [
        "def create_common_dir_list(max_samples):\n",
        "  print(\"create_common_dir_list ..\")\n",
        "  extract_lfw_mlfw();\n",
        "  lfw_dir = pick_images_lfw(max_samples);\n",
        "  mlfw_dir = pick_images_mlfw(max_samples)\n",
        "  common_set = set(lfw_dir) & set(mlfw_dir)\n",
        "  print(\"common_dir_list = \" + str(len(common_set)))\n",
        "  return list(common_set)"
      ],
      "metadata": {
        "id": "948k6Y2k3HAl"
      },
      "execution_count": 26,
      "outputs": []
    },
    {
      "cell_type": "code",
      "source": [
        "def pick_classes(no_of_classes, max_samples):\n",
        "  print(\"Picking classes ..\")\n",
        "  final_list = []\n",
        "  filtered_list =  create_common_dir_list(max_samples)\n",
        "  print(\"filtered_list_length = \" + str(len(filtered_list)))\n",
        "  for i in range(0, no_of_classes):\n",
        "      final_list.append(random.choice(filtered_list))\n",
        "  return final_list"
      ],
      "metadata": {
        "id": "GE0rFmqJq6QC"
      },
      "execution_count": 27,
      "outputs": []
    },
    {
      "cell_type": "code",
      "source": [
        "common_dir_list = create_common_dir_list(5)\n",
        "len(common_dir_list)"
      ],
      "metadata": {
        "id": "5FE8T1Yq3LrU",
        "colab": {
          "base_uri": "https://localhost:8080/"
        },
        "outputId": "b6be36e0-a5e8-49fe-f4da-e7be07cf03d5"
      },
      "execution_count": 28,
      "outputs": [
        {
          "output_type": "stream",
          "name": "stdout",
          "text": [
            "create_common_dir_list ..\n",
            "Extracing lfw and mlfw ..\n",
            "Picking images from lfw ..\n",
            "Picking images from mlfw ..\n",
            "common_dir_list = 216\n"
          ]
        },
        {
          "output_type": "execute_result",
          "data": {
            "text/plain": [
              "216"
            ]
          },
          "metadata": {},
          "execution_count": 28
        }
      ]
    },
    {
      "cell_type": "code",
      "source": [
        "def create_train_test_set_from_lfw_mlfw(number_of_classes, max_samples):\n",
        "  print(\"create_train_test_set_from_lfw_mlfw ..\")\n",
        "  final_class_list = pick_classes(number_of_classes, max_samples)\n",
        "  print(\"length of final_class_list =>\", len(final_class_list))\n",
        "  if(os.path.isdir(DATASET_TRAIN_PATH) == True):\n",
        "    shutil.rmtree(DATASET_TRAIN_PATH)\n",
        "  if(os.path.isdir(DATASET_TEST_PATH) == True):\n",
        "    shutil.rmtree(DATASET_TEST_PATH)\n",
        "  if(os.path.isdir(DATASET_ROOT_PATH)  == False):\n",
        "    os.mkdir(DATASET_ROOT_PATH)\n",
        "  if(os.path.isdir(DATASET_TRAIN_PATH)== False):\n",
        "    os.mkdir(DATASET_TRAIN_PATH)\n",
        "  if(os.path.isdir(DATASET_TEST_PATH)== False):\n",
        "    os.mkdir(DATASET_TEST_PATH)\n",
        "\n",
        "  for dir in final_class_list:\n",
        "    cmd_str = \"cp -r \" + LFW_EXTRACTION_PATH + \"/\" +dir + \" \" + DATASET_TRAIN_PATH\n",
        "    # print(cmd_str)\n",
        "    os.system(cmd_str)\n",
        "  \n",
        "  mlfw_jpg_list = glob.glob(MLFW_IMAGE_ORIGIN_PATH);\n",
        "  # print\n",
        "  # for path, subdirs, files in os.walk(MLFW_IMAGE_ORIGIN_PATH):\n",
        "  #     print(\"path = \",path)\n",
        "  #     for name in files:\n",
        "  #         mlfw_jpg_list.append(os.path.join(path, name))\n",
        "\n",
        "  # print(\"mlfw_jpg_list\", mlfw_jpg_list)\n",
        "  for dir in final_class_list:\n",
        "    test_dir = DATASET_TEST_PATH + \"/\"+ dir\n",
        "    # print(test_dir)\n",
        "    if(os.path.isdir(test_dir)  == False):\n",
        "      os.mkdir(DATASET_TEST_PATH + \"/\" +dir)\n",
        "    name_list = [k for k in mlfw_jpg_list if dir in k]\n",
        "    # print(\"name_list\", name_list)\n",
        "    for nme in name_list:\n",
        "      copy_path = DATASET_TEST_PATH +  \"/\"+ dir + \"/\"\n",
        "      # print(nme, copy_path)\n",
        "      shutil.copy(nme, DATASET_TEST_PATH +  \"/\"+ dir + \"/\")"
      ],
      "metadata": {
        "id": "RQxTU--4DW7i"
      },
      "execution_count": 29,
      "outputs": []
    },
    {
      "cell_type": "code",
      "source": [
        "create_train_test_set_from_lfw_mlfw(50, 5)"
      ],
      "metadata": {
        "colab": {
          "base_uri": "https://localhost:8080/"
        },
        "id": "16iXRjbEtBau",
        "outputId": "eca6d1e5-06ba-4efc-c8ec-3ae2f69c6d8b"
      },
      "execution_count": 30,
      "outputs": [
        {
          "output_type": "stream",
          "name": "stdout",
          "text": [
            "create_train_test_set_from_lfw_mlfw ..\n",
            "Picking classes ..\n",
            "create_common_dir_list ..\n",
            "Extracing lfw and mlfw ..\n",
            "Picking images from lfw ..\n",
            "Picking images from mlfw ..\n",
            "common_dir_list = 216\n",
            "filtered_list_length = 216\n",
            "length of final_class_list => 50\n"
          ]
        }
      ]
    },
    {
      "cell_type": "code",
      "source": [
        "def create_train_samples_from_main_dataset(no_of_classes, no_of_samples):\n",
        "  new_dataset_name = \"/tmp/mfr/dataset_\"+str(no_of_classes) + \"_\" + str(no_of_samples)\n",
        "  train_folder = new_dataset_name + \"/\" + \"train\"\n",
        "  if(exists(new_dataset_name) == False):\n",
        "    print(\"creating \", new_dataset_name)\n",
        "    shutil.copytree('/tmp/dataset/', new_dataset_name)\n",
        "  classes = 0\n",
        "  train_dir_list = []\n",
        "  for train_dir in os.listdir(train_folder):\n",
        "    # for sample in os.listdir(train_dir):\n",
        "    file_path = os.path.join(train_folder, train_dir)\n",
        "    if(classes >= no_of_classes):\n",
        "      shutil.rmtree(file_path)\n",
        "      continue\n",
        "    classes = classes + 1\n",
        "    samples = 0\n",
        "    train_dir_list.append(train_dir)\n",
        "    for file_name in os.listdir(file_path):\n",
        "      name = os.path.join(file_path, file_name)\n",
        "      if(samples >= no_of_samples):\n",
        "        os.remove(name)\n",
        "        continue\n",
        "      samples = samples + 1\n",
        "\n",
        "  test_folder = new_dataset_name + \"/\" + \"test\"\n",
        "  # print(\"train_dir_list\", train_dir_list)\n",
        "  for test_dir in os.listdir(test_folder):\n",
        "    # for sample in os.listdir(train_dir):\n",
        "    file_path = os.path.join(test_folder, test_dir)\n",
        "    # print(\"test_dir = \", test_dir)\n",
        "    # print(\"test_dir in train_dir_list \", test_dir in train_dir_list )\n",
        "    if((test_dir in train_dir_list) == False):\n",
        "      # print(\"deleting\", file_path)\n",
        "      shutil.rmtree(file_path)\n",
        "      continue\n",
        "  return new_dataset_name, train_folder, test_folder"
      ],
      "metadata": {
        "id": "JopUrC46vz8L"
      },
      "execution_count": 31,
      "outputs": []
    },
    {
      "cell_type": "code",
      "source": [
        "# extract a single face from a given photograph\n",
        "def process_and_save_image(image, filename, required_size=(256, 256)):\n",
        "    # convert to array\n",
        "    # image = Image.fromarray(image_pixels)\n",
        "    # image = cv2.cvtColor(face, cv2.COLOR_BGR2RGB)\n",
        "    image = image.resize(required_size)\n",
        "    # cv2.resize(image, required_size)\n",
        "    # face_array = asarray(image)\n",
        "    # cv2.imwrite(filename, image)\n",
        "    # print('processed and saved file ===> ', filename)\n",
        "    image.save(filename)"
      ],
      "metadata": {
        "id": "iVQhaJE5FNzn"
      },
      "execution_count": 32,
      "outputs": []
    },
    {
      "cell_type": "code",
      "source": [
        "from mtcnn.mtcnn import MTCNN\n",
        "from numpy import asarray\n",
        "import cv2\n",
        " \n",
        "# extract a single face from a given photograph\n",
        "def process_face(filename, required_size=(256, 256)):\n",
        "  # load image from file\n",
        "  image = Image.open(filename)\n",
        "  # convert to RGB, if needed\n",
        "  # image = cv2.imread(filename)\n",
        "  if(image.width != required_size[0]):\n",
        "    # convert to array\n",
        "    pixels = asarray(image)\n",
        "    # create the detector, using default weights\n",
        "    detector = MTCNN()\n",
        "    # detect faces in the image\n",
        "    results = detector.detect_faces(pixels)\n",
        "    if(results):\n",
        "      # extract the bounding box from the first face\n",
        "      x1, y1, width, height = results[0]['box']\n",
        "      # bug fix\n",
        "      x1, y1 = abs(x1), abs(y1)\n",
        "      x2, y2 = x1 + width, y1 + height\n",
        "      # extract the face\n",
        "      # image = image[y1:y2, x1:x2]\n",
        "      facepixels = pixels[y1:y2, x1:x2]\n",
        "      # resize pixels to the model size\n",
        "      image = Image.fromarray(facepixels)\n",
        "      # image = cv2.cvtColor(face, cv2.COLOR_BGR2RGB)\n",
        "      image = image.resize(required_size)\n",
        "      # cv2.resize(image, required_size)\n",
        "      # face_array = asarray(image)\n",
        "      # cv2.imwrite(filename, image)\n",
        "      # print('processed and saved file', filename)\n",
        "      image.save(filename)"
      ],
      "metadata": {
        "id": "2B1ZFWMCEopX"
      },
      "execution_count": 33,
      "outputs": []
    },
    {
      "cell_type": "code",
      "source": [
        "def augument_mask_data(train_folder):\n",
        "  triplets = []\n",
        "  print(\"Augumenting data ..\")\n",
        "  os.chdir(MASKTHE_FACE_PATH)\n",
        "  # print(\"Current path=\",os.getcwd())\n",
        "  # os.system('pip install -r requirements.txt')\n",
        "  f = [y for y in  Path(train_folder).rglob('*.jpg')] \n",
        "  print(\"total samples = >\", len(f))\n",
        "  for path in  Path(train_folder).rglob('*.jpg'):\n",
        "    # print(path)\n",
        "    normal_img_path = str(path)\n",
        "    process_face(normal_img_path)\n",
        "    subprocess.run([\"python\", \"/content/MaskTheFace/mask_the_face.py\",'--path', path, '--mask_type', 'N95', '--verbose', '--write_original_image'])\n",
        "    files = Path(train_folder).rglob('*.jpg')\n",
        "    recent_file =  max(files , key=os.path.getctime)\n",
        "    process_face(recent_file)\n",
        "    # print(\"recent file ==>\", str(recent_file))\n",
        "    # model = keras.models.load_model('/content/gdrive/MyDrive/mfr_test_repo/strv-ml-mask2face/mask2face_siva_trained/')\n",
        "    # print((recent_file))\n",
        "    masked_img_path  = str(recent_file)\n",
        "    if(str(recent_file).find(\"unmask\") == -1):\n",
        "      image = Image.open(recent_file)\n",
        "      # print(image.size)\n",
        "      image = tf.expand_dims(img_to_array(image), axis=0)  \n",
        "      # print(image.dim)\n",
        "      # img_to_array\n",
        "      # print(\"=========>\", image.shape)\n",
        "      generated_output = trained_model.predict((recent_file))\n",
        "      # process_and_save_image(generated_output, recent_file)\n",
        "      unmask_image_path = Path(recent_file)\n",
        "      # print(\"stem ==>\", unmask_image_path.stem)\n",
        "      latest_unmasked_file = str(unmask_image_path.parent) +\"/\" +unmask_image_path.stem +\"_unmask\" + unmask_image_path.suffix\n",
        "      # unmask_image_path.rename(Path(unmask_image_path.parent, latest_unmasked_file))\n",
        "      # print(\"latest_unmasked_file\", latest_unmasked_file)\n",
        "      triplets.append([normal_img_path, masked_img_path, str(latest_unmasked_file)])\n",
        "      # print(type(generated_output))\n",
        "      # cv2_imshow(generated_output)\n",
        "      process_and_save_image(generated_output, str(latest_unmasked_file))\n",
        "      # print(\"-----------------------------------------------\")\n",
        "  return triplets\n",
        " "
      ],
      "metadata": {
        "id": "2A4TTmyjXuts"
      },
      "execution_count": 34,
      "outputs": []
    },
    {
      "cell_type": "code",
      "source": [
        "def plot_triplets(triplets):\n",
        "  import matplotlib.image as mpimg\n",
        "  images = []\n",
        "  image_names = []\n",
        "\n",
        "  for triplet in triplets:\n",
        "      for i in triplet:\n",
        "        images.append(mpimg.imread(i))\n",
        "        image_names.append(i)\n",
        "\n",
        "  plt.figure(figsize=(20,20))\n",
        "  columns = 3\n",
        "  for i, image in enumerate(images):\n",
        "      ax = plt.subplot(len(images) / columns + 1, columns, i + 1)\n",
        "      ax.set_title(Path(image_names[i]).stem)\n",
        "      plt.imshow(image)\n",
        "      plt.xticks([])\n",
        "      plt.yticks([])"
      ],
      "metadata": {
        "id": "rbtaud5j1uuv"
      },
      "execution_count": 35,
      "outputs": []
    },
    {
      "cell_type": "code",
      "source": [
        "def get_image_list_from_folder(path):\n",
        "  final_list = []\n",
        "  for path, subdirs, files in os.walk(path):\n",
        "    for name in files:\n",
        "        final_list.append(os.path.join(path, name))\n",
        "  return sorted(final_list)"
      ],
      "metadata": {
        "id": "2P3a_pADtvkW"
      },
      "execution_count": 36,
      "outputs": []
    },
    {
      "cell_type": "code",
      "source": [
        "!pip install deepface"
      ],
      "metadata": {
        "id": "3L1ueaNsIU2F",
        "outputId": "a361eeaa-d79f-47c2-91e5-c1ca965acebd",
        "colab": {
          "base_uri": "https://localhost:8080/",
          "height": 1000
        }
      },
      "execution_count": 37,
      "outputs": [
        {
          "output_type": "stream",
          "name": "stdout",
          "text": [
            "Requirement already satisfied: deepface in /usr/local/lib/python3.7/dist-packages (0.0.75)\n",
            "Requirement already satisfied: tensorflow>=1.9.0 in /usr/local/lib/python3.7/dist-packages (from deepface) (2.8.0+zzzcolab20220506162203)\n",
            "Requirement already satisfied: Pillow>=5.2.0 in /usr/local/lib/python3.7/dist-packages (from deepface) (7.1.2)\n",
            "Requirement already satisfied: gdown>=3.10.1 in /usr/local/lib/python3.7/dist-packages (from deepface) (4.4.0)\n",
            "Requirement already satisfied: keras>=2.2.0 in /usr/local/lib/python3.7/dist-packages (from deepface) (2.8.0)\n",
            "Requirement already satisfied: numpy>=1.14.0 in /usr/local/lib/python3.7/dist-packages (from deepface) (1.21.6)\n",
            "Requirement already satisfied: Flask>=1.1.2 in /usr/local/lib/python3.7/dist-packages (from deepface) (1.1.4)\n",
            "Collecting opencv-python>=4.5.5.64\n",
            "  Using cached opencv_python-4.5.5.64-cp36-abi3-manylinux_2_17_x86_64.manylinux2014_x86_64.whl (60.5 MB)\n",
            "Requirement already satisfied: tqdm>=4.30.0 in /usr/local/lib/python3.7/dist-packages (from deepface) (4.64.0)\n",
            "Requirement already satisfied: retina-face>=0.0.1 in /usr/local/lib/python3.7/dist-packages (from deepface) (0.0.10)\n",
            "Requirement already satisfied: fire>=0.4.0 in /usr/local/lib/python3.7/dist-packages (from deepface) (0.4.0)\n",
            "Requirement already satisfied: mtcnn>=0.1.0 in /usr/local/lib/python3.7/dist-packages (from deepface) (0.1.1)\n",
            "Requirement already satisfied: pandas>=0.23.4 in /usr/local/lib/python3.7/dist-packages (from deepface) (1.3.5)\n",
            "Requirement already satisfied: termcolor in /usr/local/lib/python3.7/dist-packages (from fire>=0.4.0->deepface) (1.1.0)\n",
            "Requirement already satisfied: six in /usr/local/lib/python3.7/dist-packages (from fire>=0.4.0->deepface) (1.15.0)\n",
            "Requirement already satisfied: Werkzeug<2.0,>=0.15 in /usr/local/lib/python3.7/dist-packages (from Flask>=1.1.2->deepface) (1.0.1)\n",
            "Requirement already satisfied: Jinja2<3.0,>=2.10.1 in /usr/local/lib/python3.7/dist-packages (from Flask>=1.1.2->deepface) (2.11.3)\n",
            "Requirement already satisfied: click<8.0,>=5.1 in /usr/local/lib/python3.7/dist-packages (from Flask>=1.1.2->deepface) (7.1.2)\n",
            "Requirement already satisfied: itsdangerous<2.0,>=0.24 in /usr/local/lib/python3.7/dist-packages (from Flask>=1.1.2->deepface) (1.1.0)\n",
            "Requirement already satisfied: filelock in /usr/local/lib/python3.7/dist-packages (from gdown>=3.10.1->deepface) (3.7.0)\n",
            "Requirement already satisfied: beautifulsoup4 in /usr/local/lib/python3.7/dist-packages (from gdown>=3.10.1->deepface) (4.6.3)\n",
            "Requirement already satisfied: requests[socks] in /usr/local/lib/python3.7/dist-packages (from gdown>=3.10.1->deepface) (2.23.0)\n",
            "Requirement already satisfied: MarkupSafe>=0.23 in /usr/local/lib/python3.7/dist-packages (from Jinja2<3.0,>=2.10.1->Flask>=1.1.2->deepface) (2.0.1)\n",
            "Requirement already satisfied: pytz>=2017.3 in /usr/local/lib/python3.7/dist-packages (from pandas>=0.23.4->deepface) (2022.1)\n",
            "Requirement already satisfied: python-dateutil>=2.7.3 in /usr/local/lib/python3.7/dist-packages (from pandas>=0.23.4->deepface) (2.8.2)\n",
            "Requirement already satisfied: protobuf>=3.9.2 in /usr/local/lib/python3.7/dist-packages (from tensorflow>=1.9.0->deepface) (3.17.3)\n",
            "Requirement already satisfied: libclang>=9.0.1 in /usr/local/lib/python3.7/dist-packages (from tensorflow>=1.9.0->deepface) (14.0.1)\n",
            "Requirement already satisfied: opt-einsum>=2.3.2 in /usr/local/lib/python3.7/dist-packages (from tensorflow>=1.9.0->deepface) (3.3.0)\n",
            "Requirement already satisfied: astunparse>=1.6.0 in /usr/local/lib/python3.7/dist-packages (from tensorflow>=1.9.0->deepface) (1.6.3)\n",
            "Requirement already satisfied: keras-preprocessing>=1.1.1 in /usr/local/lib/python3.7/dist-packages (from tensorflow>=1.9.0->deepface) (1.1.2)\n",
            "Requirement already satisfied: wrapt>=1.11.0 in /usr/local/lib/python3.7/dist-packages (from tensorflow>=1.9.0->deepface) (1.14.1)\n",
            "Requirement already satisfied: gast>=0.2.1 in /usr/local/lib/python3.7/dist-packages (from tensorflow>=1.9.0->deepface) (0.5.3)\n",
            "Requirement already satisfied: typing-extensions>=3.6.6 in /usr/local/lib/python3.7/dist-packages (from tensorflow>=1.9.0->deepface) (4.2.0)\n",
            "Requirement already satisfied: grpcio<2.0,>=1.24.3 in /usr/local/lib/python3.7/dist-packages (from tensorflow>=1.9.0->deepface) (1.46.1)\n",
            "Requirement already satisfied: google-pasta>=0.1.1 in /usr/local/lib/python3.7/dist-packages (from tensorflow>=1.9.0->deepface) (0.2.0)\n",
            "Requirement already satisfied: flatbuffers>=1.12 in /usr/local/lib/python3.7/dist-packages (from tensorflow>=1.9.0->deepface) (2.0)\n",
            "Requirement already satisfied: setuptools in /usr/local/lib/python3.7/dist-packages (from tensorflow>=1.9.0->deepface) (57.4.0)\n",
            "Requirement already satisfied: h5py>=2.9.0 in /usr/local/lib/python3.7/dist-packages (from tensorflow>=1.9.0->deepface) (3.1.0)\n",
            "Requirement already satisfied: absl-py>=0.4.0 in /usr/local/lib/python3.7/dist-packages (from tensorflow>=1.9.0->deepface) (1.0.0)\n",
            "Requirement already satisfied: tensorflow-io-gcs-filesystem>=0.23.1 in /usr/local/lib/python3.7/dist-packages (from tensorflow>=1.9.0->deepface) (0.25.0)\n",
            "Requirement already satisfied: tf-estimator-nightly==2.8.0.dev2021122109 in /usr/local/lib/python3.7/dist-packages (from tensorflow>=1.9.0->deepface) (2.8.0.dev2021122109)\n",
            "Requirement already satisfied: tensorboard<2.9,>=2.8 in /usr/local/lib/python3.7/dist-packages (from tensorflow>=1.9.0->deepface) (2.8.0)\n",
            "Requirement already satisfied: wheel<1.0,>=0.23.0 in /usr/local/lib/python3.7/dist-packages (from astunparse>=1.6.0->tensorflow>=1.9.0->deepface) (0.37.1)\n",
            "Requirement already satisfied: cached-property in /usr/local/lib/python3.7/dist-packages (from h5py>=2.9.0->tensorflow>=1.9.0->deepface) (1.5.2)\n",
            "Requirement already satisfied: google-auth-oauthlib<0.5,>=0.4.1 in /usr/local/lib/python3.7/dist-packages (from tensorboard<2.9,>=2.8->tensorflow>=1.9.0->deepface) (0.4.6)\n",
            "Requirement already satisfied: tensorboard-data-server<0.7.0,>=0.6.0 in /usr/local/lib/python3.7/dist-packages (from tensorboard<2.9,>=2.8->tensorflow>=1.9.0->deepface) (0.6.1)\n",
            "Requirement already satisfied: tensorboard-plugin-wit>=1.6.0 in /usr/local/lib/python3.7/dist-packages (from tensorboard<2.9,>=2.8->tensorflow>=1.9.0->deepface) (1.8.1)\n",
            "Requirement already satisfied: markdown>=2.6.8 in /usr/local/lib/python3.7/dist-packages (from tensorboard<2.9,>=2.8->tensorflow>=1.9.0->deepface) (3.3.7)\n",
            "Requirement already satisfied: google-auth<3,>=1.6.3 in /usr/local/lib/python3.7/dist-packages (from tensorboard<2.9,>=2.8->tensorflow>=1.9.0->deepface) (1.35.0)\n",
            "Requirement already satisfied: pyasn1-modules>=0.2.1 in /usr/local/lib/python3.7/dist-packages (from google-auth<3,>=1.6.3->tensorboard<2.9,>=2.8->tensorflow>=1.9.0->deepface) (0.2.8)\n",
            "Requirement already satisfied: rsa<5,>=3.1.4 in /usr/local/lib/python3.7/dist-packages (from google-auth<3,>=1.6.3->tensorboard<2.9,>=2.8->tensorflow>=1.9.0->deepface) (4.8)\n",
            "Requirement already satisfied: cachetools<5.0,>=2.0.0 in /usr/local/lib/python3.7/dist-packages (from google-auth<3,>=1.6.3->tensorboard<2.9,>=2.8->tensorflow>=1.9.0->deepface) (4.2.4)\n",
            "Requirement already satisfied: requests-oauthlib>=0.7.0 in /usr/local/lib/python3.7/dist-packages (from google-auth-oauthlib<0.5,>=0.4.1->tensorboard<2.9,>=2.8->tensorflow>=1.9.0->deepface) (1.3.1)\n",
            "Requirement already satisfied: importlib-metadata>=4.4 in /usr/local/lib/python3.7/dist-packages (from markdown>=2.6.8->tensorboard<2.9,>=2.8->tensorflow>=1.9.0->deepface) (4.11.3)\n",
            "Requirement already satisfied: zipp>=0.5 in /usr/local/lib/python3.7/dist-packages (from importlib-metadata>=4.4->markdown>=2.6.8->tensorboard<2.9,>=2.8->tensorflow>=1.9.0->deepface) (3.8.0)\n",
            "Requirement already satisfied: pyasn1<0.5.0,>=0.4.6 in /usr/local/lib/python3.7/dist-packages (from pyasn1-modules>=0.2.1->google-auth<3,>=1.6.3->tensorboard<2.9,>=2.8->tensorflow>=1.9.0->deepface) (0.4.8)\n",
            "Requirement already satisfied: certifi>=2017.4.17 in /usr/local/lib/python3.7/dist-packages (from requests[socks]->gdown>=3.10.1->deepface) (2021.10.8)\n",
            "Requirement already satisfied: idna<3,>=2.5 in /usr/local/lib/python3.7/dist-packages (from requests[socks]->gdown>=3.10.1->deepface) (2.10)\n",
            "Requirement already satisfied: urllib3!=1.25.0,!=1.25.1,<1.26,>=1.21.1 in /usr/local/lib/python3.7/dist-packages (from requests[socks]->gdown>=3.10.1->deepface) (1.24.3)\n",
            "Requirement already satisfied: chardet<4,>=3.0.2 in /usr/local/lib/python3.7/dist-packages (from requests[socks]->gdown>=3.10.1->deepface) (3.0.4)\n",
            "Requirement already satisfied: oauthlib>=3.0.0 in /usr/local/lib/python3.7/dist-packages (from requests-oauthlib>=0.7.0->google-auth-oauthlib<0.5,>=0.4.1->tensorboard<2.9,>=2.8->tensorflow>=1.9.0->deepface) (3.2.0)\n",
            "Requirement already satisfied: PySocks!=1.5.7,>=1.5.6 in /usr/local/lib/python3.7/dist-packages (from requests[socks]->gdown>=3.10.1->deepface) (1.7.1)\n",
            "Installing collected packages: opencv-python\n",
            "  Attempting uninstall: opencv-python\n",
            "    Found existing installation: opencv-python 4.4.0.44\n",
            "    Uninstalling opencv-python-4.4.0.44:\n",
            "      Successfully uninstalled opencv-python-4.4.0.44\n",
            "Successfully installed opencv-python-4.5.5.64\n"
          ]
        },
        {
          "output_type": "display_data",
          "data": {
            "application/vnd.colab-display-data+json": {
              "pip_warning": {
                "packages": [
                  "cv2"
                ]
              }
            }
          },
          "metadata": {}
        }
      ]
    },
    {
      "cell_type": "code",
      "source": [
        "from deepface import DeepFace\n",
        "def get_embedding_list(path, model_name):\n",
        "  print(\"get_embedding_list ...\")\n",
        "  img_list = get_image_list_from_folder(path)\n",
        "  embedding_list = list()\n",
        "  for file in img_list:\n",
        "    embedding = DeepFace.represent(file, model_name = model_name, enforce_detection =False)\n",
        "    embedding_list.append(embedding)\n",
        "  final_name_list = []\n",
        "  for file in img_list:\n",
        "      file_name = Path(file).name\n",
        "      final_str = \"\"\n",
        "      tokens = file_name.split(\"_\")\n",
        "      for token in tokens:\n",
        "          token = token.split(\".\",1)[0]\n",
        "          if(token.isnumeric()):\n",
        "              break;\n",
        "          else:\n",
        "              final_str += token\n",
        "              final_str += \"_\"\n",
        "      final_name_list.append(final_str) \n",
        "  final_name_list = [sub[ : -1] for sub in final_name_list]\n",
        "  return embedding_list, final_name_list"
      ],
      "metadata": {
        "id": "9Z1HNkoCqakC"
      },
      "execution_count": 38,
      "outputs": []
    },
    {
      "cell_type": "code",
      "source": [
        "def get_sample_length(folder):\n",
        "  return len([y for y in  Path(folder).rglob('*.jpg')] )"
      ],
      "metadata": {
        "id": "sLpAotV_q95M"
      },
      "execution_count": 39,
      "outputs": []
    },
    {
      "cell_type": "code",
      "source": [
        "def create_embeddings(model_name, number_of_classes, max_samples, augument = True):\n",
        "  # create_train_test_set_from_lfw_mlfw(number_of_classes, max_samples)\n",
        "  new_dataset_name, train_folder, test_folder = create_train_samples_from_main_dataset(number_of_classes, max_samples)\n",
        "  print(\"total samples before augumentation= >\",  get_sample_length(train_folder))\n",
        "  if(augument):\n",
        "    triplets = augument_mask_data(train_folder)\n",
        "  print(\"total samples after augumentation= >\", get_sample_length(train_folder))\n",
        "  # plot_triplets(triplets)\n",
        "  # process_train_images()\n",
        "  # plot_train_list()\n",
        "  # plot_test_list()\n",
        "  print(\"creating embeddings ...\")\n",
        "  newTrainX, trainy = get_embedding_list(train_folder, model_name)\n",
        "  newTrainX = asarray(newTrainX)\n",
        "  newTestX, testy = get_embedding_list(test_folder, model_name)\n",
        "  newTestX = asarray(newTestX)\n",
        "  return newTrainX, trainy, newTestX, testy"
      ],
      "metadata": {
        "id": "xjY_WXpxqghf"
      },
      "execution_count": 40,
      "outputs": []
    },
    {
      "cell_type": "code",
      "source": [
        "def rearrange_dim(input):\n",
        "  in_encoder = Normalizer(norm='l2')\n",
        "  # nsamples, nx, ny = input.shape\n",
        "  # input = input.reshape((nsamples,nx*ny))\n",
        "  input = in_encoder.transform(input)\n",
        "  return input"
      ],
      "metadata": {
        "id": "zJ4VKVjk3Mcq"
      },
      "execution_count": 41,
      "outputs": []
    },
    {
      "cell_type": "code",
      "source": [
        "from sklearn.metrics import confusion_matrix\n",
        "from sklearn.metrics import precision_recall_fscore_support\n",
        "import seaborn as sns\n",
        "def predict_accuracy(trainX, trainy, testX, testy):\n",
        "  print(\"predicting accuracy ...\")\n",
        "  in_encoder = Normalizer(norm='l2')\n",
        "  trainX = rearrange_dim(trainX)\n",
        "  testX = rearrange_dim(testX)\n",
        "  # nsamples, nx, ny = trainX.shape\n",
        "  # trainX = trainX.reshape((nsamples,nx*ny))\n",
        "  # trainX = in_encoder.transform(trainX)\n",
        "  # nsamples, nx, ny = testX.shape\n",
        "  # testX = testX.reshape((nsamples,nx*ny))\n",
        "  # testX = in_encoder.transform(testX)\n",
        "  # label encode targets\n",
        "  out_encoder = LabelEncoder()\n",
        "  out_encoder.fit(trainy)\n",
        "\n",
        "  trainy = out_encoder.transform(trainy)\n",
        "  testy = out_encoder.transform(testy)\n",
        "  # trainy = rearrange_dim(trainy)\n",
        "  # testy = rearrange_dim(testy)\n",
        "  # fit model\n",
        "  model = SVC(kernel='linear', probability=True)\n",
        "  model.fit(trainX, trainy)\n",
        "  # predict\n",
        "  yhat_train = model.predict(trainX)\n",
        "  yhat_test = model.predict(testX)\n",
        "  # score\n",
        "  score_train = accuracy_score(trainy, yhat_train)\n",
        "  score_test = accuracy_score(testy, yhat_test)\n",
        "  print(\"test score = >\", score_test)\n",
        "  prf1 = precision_recall_fscore_support(testy, yhat_test, average='weighted')\n",
        "\n",
        "  precision = prf1[0]\n",
        "  recall = prf1[1]\n",
        "  f1_score = prf1[1]\n",
        "\n",
        "  # summarize\n",
        "  #Generate the confusion matrix\n",
        "  # cf_matrix = confusion_matrix(testy, yhat_test)\n",
        "  # print(cf_matrix)\n",
        "  # print('Accuracy: train=%.3f, test=%.3f' % (score_train*100, score_test*100))\n",
        "\n",
        "  # ax = sns.heatmap(cf_matrix, annot=True, cmap='Blues')\n",
        "\n",
        "  # ax.set_title('Seaborn Confusion Matrix with labels\\n\\n');\n",
        "  # ax.set_xlabel('\\nPredicted Values')\n",
        "  # ax.set_ylabel('Actual Values ');\n",
        "\n",
        "  # ## Ticket labels - List must be in alphabetical order\n",
        "  # ax.xaxis.set_ticklabels(['False','True'])\n",
        "  # ax.yaxis.set_ticklabels(['False','True'])\n",
        "\n",
        "  # disp = plot_confusion_matrix(model, testX, testy,\n",
        "  #                                display_labels=class_names,\n",
        "  #                                cmap=plt.cm.Blues)\n",
        "  # plt.show()\n",
        "\n",
        "  ## Display the visualization of the Confusion Matrix.\n",
        "  # plt.show()\n",
        "  return score_test, precision, recall, f1_score"
      ],
      "metadata": {
        "id": "X4IrKjv02En_"
      },
      "execution_count": 42,
      "outputs": []
    },
    {
      "cell_type": "code",
      "source": [
        "from deepface import DeepFace\n",
        "from numpy import asarray\n",
        "def run_fr_test( number_of_classes, max_classes, augument = True):\n",
        "  # models_list = ['Facenet', 'OpenFace', 'DeepFace', 'VGG-Face']\n",
        "  models_list = ['Facenet']\n",
        "  for model_name in models_list:\n",
        "    trainX, trainy, testX, testy = create_embeddings(model_name,  number_of_classes, max_classes, augument)\n",
        "    print(\"Trying with model \" + model_name)\n",
        "    return predict_accuracy(trainX, trainy, testX, testy)"
      ],
      "metadata": {
        "id": "lUNWc4hF21zu"
      },
      "execution_count": 48,
      "outputs": []
    },
    {
      "cell_type": "code",
      "source": [
        "import pandas as pd\n",
        "class_list = [\"2\", \"5\", \"10\", \"15\", \"20\", \"25\", \"30\", \"35\", \"40\", \"45\", \"50\"]\n",
        "column_list = [\"no_of_classes\", \"no_of_samples\", \"accuracy\", \"precision\", \"recall\", \"f1_score\"]\n",
        "sample_list = [\"1\", \"2\", \"3\", \"4\", \"5\"]\n",
        "\n",
        "# class_list = [\"5\"]\n",
        "# sample_list = [\"1\", \"2\"]\n",
        "\n",
        "create_train_samples_from_main_dataset(50,5)\n",
        "report_df = pd.DataFrame(columns = column_list)  \n",
        "shutil.rmtree('/tmp/mfr/')\n",
        "result_list = []\n",
        "for c in  class_list:\n",
        "  result_list = []\n",
        "  for s in sample_list:\n",
        "    test_accuracy, precision, recall, f1_score = run_fr_test(int(c), int(s), augument=False)\n",
        "    result = {'no_of_classes' : c, \n",
        "               'no_of_samples' :s,\n",
        "               'accuracy': str(round(test_accuracy,2)), \n",
        "              'precision': str(round(precision, 2)),\n",
        "              'recall':str(round(recall,2)), \n",
        "              'f1_score': str(round(f1_score,2))}\n",
        "    report_df = report_df.append(result, ignore_index = True)\n"
      ],
      "metadata": {
        "colab": {
          "base_uri": "https://localhost:8080/"
        },
        "id": "g4sUCZfZ3BVz",
        "outputId": "3bf805d5-93db-42ba-c9fa-e90921e24540"
      },
      "execution_count": 57,
      "outputs": [
        {
          "output_type": "stream",
          "name": "stdout",
          "text": [
            "creating  /tmp/mfr/dataset_50_5\n",
            "creating  /tmp/mfr/dataset_2_1\n",
            "total samples before augumentation= > 2\n",
            "total samples after augumentation= > 2\n",
            "creating embeddings ...\n",
            "get_embedding_list ...\n",
            "get_embedding_list ...\n",
            "Trying with model Facenet\n",
            "predicting accuracy ...\n",
            "test score = > 1.0\n",
            "creating  /tmp/mfr/dataset_2_2\n",
            "total samples before augumentation= > 4\n",
            "total samples after augumentation= > 4\n",
            "creating embeddings ...\n",
            "get_embedding_list ...\n",
            "get_embedding_list ...\n",
            "Trying with model Facenet\n",
            "predicting accuracy ...\n",
            "test score = > 0.9166666666666666\n",
            "creating  /tmp/mfr/dataset_2_3\n",
            "total samples before augumentation= > 6\n",
            "total samples after augumentation= > 6\n",
            "creating embeddings ...\n",
            "get_embedding_list ...\n",
            "get_embedding_list ...\n",
            "Trying with model Facenet\n",
            "predicting accuracy ...\n",
            "test score = > 1.0\n",
            "creating  /tmp/mfr/dataset_2_4\n",
            "total samples before augumentation= > 8\n",
            "total samples after augumentation= > 8\n",
            "creating embeddings ...\n",
            "get_embedding_list ...\n",
            "get_embedding_list ...\n",
            "Trying with model Facenet\n",
            "predicting accuracy ...\n",
            "test score = > 0.9166666666666666\n",
            "creating  /tmp/mfr/dataset_2_5\n",
            "total samples before augumentation= > 10\n",
            "total samples after augumentation= > 10\n",
            "creating embeddings ...\n",
            "get_embedding_list ...\n",
            "get_embedding_list ...\n",
            "Trying with model Facenet\n",
            "predicting accuracy ...\n",
            "test score = > 1.0\n",
            "creating  /tmp/mfr/dataset_5_1\n",
            "total samples before augumentation= > 5\n",
            "total samples after augumentation= > 5\n",
            "creating embeddings ...\n",
            "get_embedding_list ...\n",
            "get_embedding_list ...\n",
            "Trying with model Facenet\n",
            "predicting accuracy ...\n",
            "test score = > 0.6410256410256411\n",
            "creating  /tmp/mfr/dataset_5_2\n",
            "total samples before augumentation= > 10\n",
            "total samples after augumentation= > 10\n",
            "creating embeddings ...\n",
            "get_embedding_list ...\n",
            "get_embedding_list ...\n",
            "Trying with model Facenet\n",
            "predicting accuracy ...\n",
            "test score = > 0.5384615384615384\n",
            "creating  /tmp/mfr/dataset_5_3\n",
            "total samples before augumentation= > 15\n",
            "total samples after augumentation= > 15\n",
            "creating embeddings ...\n",
            "get_embedding_list ...\n",
            "get_embedding_list ...\n",
            "Trying with model Facenet\n",
            "predicting accuracy ...\n",
            "test score = > 0.6410256410256411\n",
            "creating  /tmp/mfr/dataset_5_4\n",
            "total samples before augumentation= > 20\n",
            "total samples after augumentation= > 20\n",
            "creating embeddings ...\n",
            "get_embedding_list ...\n",
            "get_embedding_list ...\n",
            "Trying with model Facenet\n",
            "predicting accuracy ...\n",
            "test score = > 0.6666666666666666\n",
            "creating  /tmp/mfr/dataset_5_5\n",
            "total samples before augumentation= > 25\n",
            "total samples after augumentation= > 25\n",
            "creating embeddings ...\n",
            "get_embedding_list ...\n",
            "get_embedding_list ...\n",
            "Trying with model Facenet\n",
            "predicting accuracy ...\n",
            "test score = > 0.717948717948718\n",
            "creating  /tmp/mfr/dataset_10_1\n",
            "total samples before augumentation= > 10\n",
            "total samples after augumentation= > 10\n",
            "creating embeddings ...\n",
            "get_embedding_list ...\n",
            "get_embedding_list ...\n",
            "Trying with model Facenet\n",
            "predicting accuracy ...\n",
            "test score = > 0.5632183908045977\n",
            "creating  /tmp/mfr/dataset_10_2\n",
            "total samples before augumentation= > 20\n",
            "total samples after augumentation= > 20\n",
            "creating embeddings ...\n",
            "get_embedding_list ...\n",
            "get_embedding_list ...\n",
            "Trying with model Facenet\n",
            "predicting accuracy ...\n",
            "test score = > 0.6436781609195402\n",
            "creating  /tmp/mfr/dataset_10_3\n",
            "total samples before augumentation= > 30\n",
            "total samples after augumentation= > 30\n",
            "creating embeddings ...\n",
            "get_embedding_list ...\n",
            "get_embedding_list ...\n",
            "Trying with model Facenet\n",
            "predicting accuracy ...\n",
            "test score = > 0.7586206896551724\n",
            "creating  /tmp/mfr/dataset_10_4\n",
            "total samples before augumentation= > 40\n",
            "total samples after augumentation= > 40\n",
            "creating embeddings ...\n",
            "get_embedding_list ...\n",
            "get_embedding_list ...\n",
            "Trying with model Facenet\n",
            "predicting accuracy ...\n",
            "test score = > 0.7011494252873564\n",
            "creating  /tmp/mfr/dataset_10_5\n",
            "total samples before augumentation= > 50\n",
            "total samples after augumentation= > 50\n",
            "creating embeddings ...\n",
            "get_embedding_list ...\n",
            "get_embedding_list ...\n",
            "Trying with model Facenet\n",
            "predicting accuracy ...\n",
            "test score = > 0.6666666666666666\n",
            "creating  /tmp/mfr/dataset_15_1\n",
            "total samples before augumentation= > 15\n",
            "total samples after augumentation= > 15\n",
            "creating embeddings ...\n",
            "get_embedding_list ...\n",
            "get_embedding_list ...\n",
            "Trying with model Facenet\n",
            "predicting accuracy ...\n",
            "test score = > 0.49624060150375937\n",
            "creating  /tmp/mfr/dataset_15_2\n",
            "total samples before augumentation= > 30\n",
            "total samples after augumentation= > 30\n",
            "creating embeddings ...\n",
            "get_embedding_list ...\n",
            "get_embedding_list ...\n",
            "Trying with model Facenet\n",
            "predicting accuracy ...\n",
            "test score = > 0.5789473684210527\n",
            "creating  /tmp/mfr/dataset_15_3\n",
            "total samples before augumentation= > 45\n",
            "total samples after augumentation= > 45\n",
            "creating embeddings ...\n",
            "get_embedding_list ...\n",
            "get_embedding_list ...\n",
            "Trying with model Facenet\n",
            "predicting accuracy ...\n",
            "test score = > 0.5714285714285714\n",
            "creating  /tmp/mfr/dataset_15_4\n",
            "total samples before augumentation= > 60\n",
            "total samples after augumentation= > 60\n",
            "creating embeddings ...\n",
            "get_embedding_list ...\n",
            "get_embedding_list ...\n",
            "Trying with model Facenet\n",
            "predicting accuracy ...\n",
            "test score = > 0.5639097744360902\n",
            "creating  /tmp/mfr/dataset_15_5\n",
            "total samples before augumentation= > 75\n",
            "total samples after augumentation= > 75\n",
            "creating embeddings ...\n",
            "get_embedding_list ...\n",
            "get_embedding_list ...\n",
            "Trying with model Facenet\n",
            "predicting accuracy ...\n",
            "test score = > 0.48120300751879697\n",
            "creating  /tmp/mfr/dataset_20_1\n",
            "total samples before augumentation= > 20\n",
            "total samples after augumentation= > 20\n",
            "creating embeddings ...\n",
            "get_embedding_list ...\n",
            "get_embedding_list ...\n",
            "Trying with model Facenet\n",
            "predicting accuracy ...\n",
            "test score = > 0.5355450236966824\n",
            "creating  /tmp/mfr/dataset_20_2\n",
            "total samples before augumentation= > 40\n",
            "total samples after augumentation= > 40\n",
            "creating embeddings ...\n",
            "get_embedding_list ...\n",
            "get_embedding_list ...\n",
            "Trying with model Facenet\n",
            "predicting accuracy ...\n",
            "test score = > 0.5497630331753555\n",
            "creating  /tmp/mfr/dataset_20_3\n",
            "total samples before augumentation= > 60\n",
            "total samples after augumentation= > 60\n",
            "creating embeddings ...\n",
            "get_embedding_list ...\n",
            "get_embedding_list ...\n",
            "Trying with model Facenet\n",
            "predicting accuracy ...\n",
            "test score = > 0.5687203791469194\n",
            "creating  /tmp/mfr/dataset_20_4\n",
            "total samples before augumentation= > 80\n",
            "total samples after augumentation= > 80\n",
            "creating embeddings ...\n",
            "get_embedding_list ...\n",
            "get_embedding_list ...\n",
            "Trying with model Facenet\n",
            "predicting accuracy ...\n",
            "test score = > 0.5450236966824644\n",
            "creating  /tmp/mfr/dataset_20_5\n",
            "total samples before augumentation= > 100\n",
            "total samples after augumentation= > 100\n",
            "creating embeddings ...\n",
            "get_embedding_list ...\n",
            "get_embedding_list ...\n",
            "Trying with model Facenet\n",
            "predicting accuracy ...\n",
            "test score = > 0.5071090047393365\n",
            "creating  /tmp/mfr/dataset_25_1\n",
            "total samples before augumentation= > 25\n",
            "total samples after augumentation= > 25\n",
            "creating embeddings ...\n",
            "get_embedding_list ...\n",
            "get_embedding_list ...\n",
            "Trying with model Facenet\n",
            "predicting accuracy ...\n",
            "test score = > 0.4521072796934866\n",
            "creating  /tmp/mfr/dataset_25_2\n",
            "total samples before augumentation= > 50\n",
            "total samples after augumentation= > 50\n",
            "creating embeddings ...\n",
            "get_embedding_list ...\n",
            "get_embedding_list ...\n",
            "Trying with model Facenet\n",
            "predicting accuracy ...\n",
            "test score = > 0.5057471264367817\n",
            "creating  /tmp/mfr/dataset_25_3\n",
            "total samples before augumentation= > 75\n",
            "total samples after augumentation= > 75\n",
            "creating embeddings ...\n",
            "get_embedding_list ...\n",
            "get_embedding_list ...\n",
            "Trying with model Facenet\n",
            "predicting accuracy ...\n",
            "test score = > 0.5019157088122606\n",
            "creating  /tmp/mfr/dataset_25_4\n",
            "total samples before augumentation= > 100\n",
            "total samples after augumentation= > 100\n",
            "creating embeddings ...\n",
            "get_embedding_list ...\n",
            "get_embedding_list ...\n",
            "Trying with model Facenet\n",
            "predicting accuracy ...\n",
            "test score = > 0.5019157088122606\n",
            "creating  /tmp/mfr/dataset_25_5\n",
            "total samples before augumentation= > 125\n",
            "total samples after augumentation= > 125\n",
            "creating embeddings ...\n",
            "get_embedding_list ...\n",
            "get_embedding_list ...\n",
            "Trying with model Facenet\n",
            "predicting accuracy ...\n",
            "test score = > 0.44061302681992337\n",
            "creating  /tmp/mfr/dataset_30_1\n",
            "total samples before augumentation= > 30\n",
            "total samples after augumentation= > 30\n",
            "creating embeddings ...\n",
            "get_embedding_list ...\n",
            "get_embedding_list ...\n",
            "Trying with model Facenet\n",
            "predicting accuracy ...\n",
            "test score = > 0.4673202614379085\n",
            "creating  /tmp/mfr/dataset_30_2\n",
            "total samples before augumentation= > 60\n",
            "total samples after augumentation= > 60\n",
            "creating embeddings ...\n",
            "get_embedding_list ...\n",
            "get_embedding_list ...\n",
            "Trying with model Facenet\n",
            "predicting accuracy ...\n",
            "test score = > 0.5065359477124183\n",
            "creating  /tmp/mfr/dataset_30_3\n",
            "total samples before augumentation= > 90\n",
            "total samples after augumentation= > 90\n",
            "creating embeddings ...\n",
            "get_embedding_list ...\n",
            "get_embedding_list ...\n",
            "Trying with model Facenet\n",
            "predicting accuracy ...\n",
            "test score = > 0.4869281045751634\n",
            "creating  /tmp/mfr/dataset_30_4\n",
            "total samples before augumentation= > 120\n",
            "total samples after augumentation= > 120\n",
            "creating embeddings ...\n",
            "get_embedding_list ...\n",
            "get_embedding_list ...\n",
            "Trying with model Facenet\n",
            "predicting accuracy ...\n",
            "test score = > 0.5032679738562091\n",
            "creating  /tmp/mfr/dataset_30_5\n",
            "total samples before augumentation= > 150\n",
            "total samples after augumentation= > 150\n",
            "creating embeddings ...\n",
            "get_embedding_list ...\n",
            "get_embedding_list ...\n",
            "Trying with model Facenet\n",
            "predicting accuracy ...\n",
            "test score = > 0.4444444444444444\n",
            "creating  /tmp/mfr/dataset_35_1\n",
            "total samples before augumentation= > 35\n",
            "total samples after augumentation= > 35\n",
            "creating embeddings ...\n",
            "get_embedding_list ...\n",
            "get_embedding_list ...\n",
            "Trying with model Facenet\n",
            "predicting accuracy ...\n",
            "test score = > 0.4914772727272727\n",
            "creating  /tmp/mfr/dataset_35_2\n",
            "total samples before augumentation= > 70\n",
            "total samples after augumentation= > 70\n",
            "creating embeddings ...\n",
            "get_embedding_list ...\n",
            "get_embedding_list ...\n",
            "Trying with model Facenet\n",
            "predicting accuracy ...\n",
            "test score = > 0.48863636363636365\n",
            "creating  /tmp/mfr/dataset_35_3\n",
            "total samples before augumentation= > 105\n",
            "total samples after augumentation= > 105\n",
            "creating embeddings ...\n",
            "get_embedding_list ...\n",
            "get_embedding_list ...\n",
            "Trying with model Facenet\n",
            "predicting accuracy ...\n",
            "test score = > 0.48863636363636365\n",
            "creating  /tmp/mfr/dataset_35_4\n",
            "total samples before augumentation= > 140\n",
            "total samples after augumentation= > 140\n",
            "creating embeddings ...\n",
            "get_embedding_list ...\n",
            "get_embedding_list ...\n",
            "Trying with model Facenet\n",
            "predicting accuracy ...\n",
            "test score = > 0.4914772727272727\n",
            "creating  /tmp/mfr/dataset_35_5\n",
            "total samples before augumentation= > 175\n",
            "total samples after augumentation= > 175\n",
            "creating embeddings ...\n",
            "get_embedding_list ...\n",
            "get_embedding_list ...\n",
            "Trying with model Facenet\n",
            "predicting accuracy ...\n",
            "test score = > 0.4375\n",
            "creating  /tmp/mfr/dataset_40_1\n",
            "total samples before augumentation= > 40\n",
            "total samples after augumentation= > 40\n",
            "creating embeddings ...\n",
            "get_embedding_list ...\n",
            "get_embedding_list ...\n",
            "Trying with model Facenet\n",
            "predicting accuracy ...\n",
            "test score = > 0.4845605700712589\n",
            "creating  /tmp/mfr/dataset_40_2\n",
            "total samples before augumentation= > 80\n",
            "total samples after augumentation= > 80\n",
            "creating embeddings ...\n",
            "get_embedding_list ...\n",
            "get_embedding_list ...\n",
            "Trying with model Facenet\n",
            "predicting accuracy ...\n",
            "test score = > 0.5083135391923991\n",
            "creating  /tmp/mfr/dataset_40_3\n",
            "total samples before augumentation= > 120\n",
            "total samples after augumentation= > 120\n",
            "creating embeddings ...\n",
            "get_embedding_list ...\n",
            "get_embedding_list ...\n",
            "Trying with model Facenet\n",
            "predicting accuracy ...\n",
            "test score = > 0.5106888361045131\n",
            "creating  /tmp/mfr/dataset_40_4\n",
            "total samples before augumentation= > 160\n",
            "total samples after augumentation= > 160\n",
            "creating embeddings ...\n",
            "get_embedding_list ...\n",
            "get_embedding_list ...\n",
            "Trying with model Facenet\n",
            "predicting accuracy ...\n",
            "test score = > 0.5201900237529691\n",
            "creating  /tmp/mfr/dataset_40_5\n",
            "total samples before augumentation= > 200\n",
            "total samples after augumentation= > 200\n",
            "creating embeddings ...\n",
            "get_embedding_list ...\n",
            "get_embedding_list ...\n",
            "Trying with model Facenet\n",
            "predicting accuracy ...\n",
            "test score = > 0.45605700712589076\n",
            "creating  /tmp/mfr/dataset_45_1\n",
            "total samples before augumentation= > 42\n",
            "total samples after augumentation= > 42\n",
            "creating embeddings ...\n",
            "get_embedding_list ...\n",
            "get_embedding_list ...\n",
            "Trying with model Facenet\n",
            "predicting accuracy ...\n",
            "test score = > 0.46403712296983757\n",
            "creating  /tmp/mfr/dataset_45_2\n",
            "total samples before augumentation= > 84\n",
            "total samples after augumentation= > 84\n",
            "creating embeddings ...\n",
            "get_embedding_list ...\n",
            "get_embedding_list ...\n",
            "Trying with model Facenet\n",
            "predicting accuracy ...\n",
            "test score = > 0.5034802784222738\n",
            "creating  /tmp/mfr/dataset_45_3\n",
            "total samples before augumentation= > 126\n",
            "total samples after augumentation= > 126\n",
            "creating embeddings ...\n",
            "get_embedding_list ...\n",
            "get_embedding_list ...\n",
            "Trying with model Facenet\n",
            "predicting accuracy ...\n",
            "test score = > 0.5081206496519721\n",
            "creating  /tmp/mfr/dataset_45_4\n",
            "total samples before augumentation= > 168\n",
            "total samples after augumentation= > 168\n",
            "creating embeddings ...\n",
            "get_embedding_list ...\n",
            "get_embedding_list ...\n",
            "Trying with model Facenet\n",
            "predicting accuracy ...\n",
            "test score = > 0.5150812064965197\n",
            "creating  /tmp/mfr/dataset_45_5\n",
            "total samples before augumentation= > 210\n",
            "total samples after augumentation= > 210\n",
            "creating embeddings ...\n",
            "get_embedding_list ...\n",
            "get_embedding_list ...\n",
            "Trying with model Facenet\n",
            "predicting accuracy ...\n",
            "test score = > 0.4547563805104408\n",
            "creating  /tmp/mfr/dataset_50_1\n",
            "total samples before augumentation= > 42\n",
            "total samples after augumentation= > 42\n",
            "creating embeddings ...\n",
            "get_embedding_list ...\n",
            "get_embedding_list ...\n",
            "Trying with model Facenet\n",
            "predicting accuracy ...\n",
            "test score = > 0.46403712296983757\n",
            "creating  /tmp/mfr/dataset_50_2\n",
            "total samples before augumentation= > 84\n",
            "total samples after augumentation= > 84\n",
            "creating embeddings ...\n",
            "get_embedding_list ...\n",
            "get_embedding_list ...\n",
            "Trying with model Facenet\n",
            "predicting accuracy ...\n",
            "test score = > 0.5034802784222738\n",
            "creating  /tmp/mfr/dataset_50_3\n",
            "total samples before augumentation= > 126\n",
            "total samples after augumentation= > 126\n",
            "creating embeddings ...\n",
            "get_embedding_list ...\n",
            "get_embedding_list ...\n",
            "Trying with model Facenet\n",
            "predicting accuracy ...\n",
            "test score = > 0.5081206496519721\n",
            "creating  /tmp/mfr/dataset_50_4\n",
            "total samples before augumentation= > 168\n",
            "total samples after augumentation= > 168\n",
            "creating embeddings ...\n",
            "get_embedding_list ...\n",
            "get_embedding_list ...\n",
            "Trying with model Facenet\n",
            "predicting accuracy ...\n",
            "test score = > 0.5150812064965197\n",
            "creating  /tmp/mfr/dataset_50_5\n",
            "total samples before augumentation= > 210\n",
            "total samples after augumentation= > 210\n",
            "creating embeddings ...\n",
            "get_embedding_list ...\n",
            "get_embedding_list ...\n",
            "Trying with model Facenet\n",
            "predicting accuracy ...\n",
            "test score = > 0.4547563805104408\n"
          ]
        }
      ]
    },
    {
      "cell_type": "code",
      "source": [
        " report_df.head()"
      ],
      "metadata": {
        "colab": {
          "base_uri": "https://localhost:8080/",
          "height": 206
        },
        "id": "EFCweYeWTzBY",
        "outputId": "870878e3-a7fb-4077-c35c-a7f52af8e7d1"
      },
      "execution_count": 58,
      "outputs": [
        {
          "output_type": "execute_result",
          "data": {
            "text/plain": [
              "  no_of_classes no_of_samples accuracy precision recall f1_score\n",
              "0             2             1      1.0       1.0    1.0      1.0\n",
              "1             2             2     0.92      0.93   0.92     0.92\n",
              "2             2             3      1.0       1.0    1.0      1.0\n",
              "3             2             4     0.92      0.93   0.92     0.92\n",
              "4             2             5      1.0       1.0    1.0      1.0"
            ],
            "text/html": [
              "\n",
              "  <div id=\"df-310f7d65-6268-4f59-acf7-e59156930f8a\">\n",
              "    <div class=\"colab-df-container\">\n",
              "      <div>\n",
              "<style scoped>\n",
              "    .dataframe tbody tr th:only-of-type {\n",
              "        vertical-align: middle;\n",
              "    }\n",
              "\n",
              "    .dataframe tbody tr th {\n",
              "        vertical-align: top;\n",
              "    }\n",
              "\n",
              "    .dataframe thead th {\n",
              "        text-align: right;\n",
              "    }\n",
              "</style>\n",
              "<table border=\"1\" class=\"dataframe\">\n",
              "  <thead>\n",
              "    <tr style=\"text-align: right;\">\n",
              "      <th></th>\n",
              "      <th>no_of_classes</th>\n",
              "      <th>no_of_samples</th>\n",
              "      <th>accuracy</th>\n",
              "      <th>precision</th>\n",
              "      <th>recall</th>\n",
              "      <th>f1_score</th>\n",
              "    </tr>\n",
              "  </thead>\n",
              "  <tbody>\n",
              "    <tr>\n",
              "      <th>0</th>\n",
              "      <td>2</td>\n",
              "      <td>1</td>\n",
              "      <td>1.0</td>\n",
              "      <td>1.0</td>\n",
              "      <td>1.0</td>\n",
              "      <td>1.0</td>\n",
              "    </tr>\n",
              "    <tr>\n",
              "      <th>1</th>\n",
              "      <td>2</td>\n",
              "      <td>2</td>\n",
              "      <td>0.92</td>\n",
              "      <td>0.93</td>\n",
              "      <td>0.92</td>\n",
              "      <td>0.92</td>\n",
              "    </tr>\n",
              "    <tr>\n",
              "      <th>2</th>\n",
              "      <td>2</td>\n",
              "      <td>3</td>\n",
              "      <td>1.0</td>\n",
              "      <td>1.0</td>\n",
              "      <td>1.0</td>\n",
              "      <td>1.0</td>\n",
              "    </tr>\n",
              "    <tr>\n",
              "      <th>3</th>\n",
              "      <td>2</td>\n",
              "      <td>4</td>\n",
              "      <td>0.92</td>\n",
              "      <td>0.93</td>\n",
              "      <td>0.92</td>\n",
              "      <td>0.92</td>\n",
              "    </tr>\n",
              "    <tr>\n",
              "      <th>4</th>\n",
              "      <td>2</td>\n",
              "      <td>5</td>\n",
              "      <td>1.0</td>\n",
              "      <td>1.0</td>\n",
              "      <td>1.0</td>\n",
              "      <td>1.0</td>\n",
              "    </tr>\n",
              "  </tbody>\n",
              "</table>\n",
              "</div>\n",
              "      <button class=\"colab-df-convert\" onclick=\"convertToInteractive('df-310f7d65-6268-4f59-acf7-e59156930f8a')\"\n",
              "              title=\"Convert this dataframe to an interactive table.\"\n",
              "              style=\"display:none;\">\n",
              "        \n",
              "  <svg xmlns=\"http://www.w3.org/2000/svg\" height=\"24px\"viewBox=\"0 0 24 24\"\n",
              "       width=\"24px\">\n",
              "    <path d=\"M0 0h24v24H0V0z\" fill=\"none\"/>\n",
              "    <path d=\"M18.56 5.44l.94 2.06.94-2.06 2.06-.94-2.06-.94-.94-2.06-.94 2.06-2.06.94zm-11 1L8.5 8.5l.94-2.06 2.06-.94-2.06-.94L8.5 2.5l-.94 2.06-2.06.94zm10 10l.94 2.06.94-2.06 2.06-.94-2.06-.94-.94-2.06-.94 2.06-2.06.94z\"/><path d=\"M17.41 7.96l-1.37-1.37c-.4-.4-.92-.59-1.43-.59-.52 0-1.04.2-1.43.59L10.3 9.45l-7.72 7.72c-.78.78-.78 2.05 0 2.83L4 21.41c.39.39.9.59 1.41.59.51 0 1.02-.2 1.41-.59l7.78-7.78 2.81-2.81c.8-.78.8-2.07 0-2.86zM5.41 20L4 18.59l7.72-7.72 1.47 1.35L5.41 20z\"/>\n",
              "  </svg>\n",
              "      </button>\n",
              "      \n",
              "  <style>\n",
              "    .colab-df-container {\n",
              "      display:flex;\n",
              "      flex-wrap:wrap;\n",
              "      gap: 12px;\n",
              "    }\n",
              "\n",
              "    .colab-df-convert {\n",
              "      background-color: #E8F0FE;\n",
              "      border: none;\n",
              "      border-radius: 50%;\n",
              "      cursor: pointer;\n",
              "      display: none;\n",
              "      fill: #1967D2;\n",
              "      height: 32px;\n",
              "      padding: 0 0 0 0;\n",
              "      width: 32px;\n",
              "    }\n",
              "\n",
              "    .colab-df-convert:hover {\n",
              "      background-color: #E2EBFA;\n",
              "      box-shadow: 0px 1px 2px rgba(60, 64, 67, 0.3), 0px 1px 3px 1px rgba(60, 64, 67, 0.15);\n",
              "      fill: #174EA6;\n",
              "    }\n",
              "\n",
              "    [theme=dark] .colab-df-convert {\n",
              "      background-color: #3B4455;\n",
              "      fill: #D2E3FC;\n",
              "    }\n",
              "\n",
              "    [theme=dark] .colab-df-convert:hover {\n",
              "      background-color: #434B5C;\n",
              "      box-shadow: 0px 1px 3px 1px rgba(0, 0, 0, 0.15);\n",
              "      filter: drop-shadow(0px 1px 2px rgba(0, 0, 0, 0.3));\n",
              "      fill: #FFFFFF;\n",
              "    }\n",
              "  </style>\n",
              "\n",
              "      <script>\n",
              "        const buttonEl =\n",
              "          document.querySelector('#df-310f7d65-6268-4f59-acf7-e59156930f8a button.colab-df-convert');\n",
              "        buttonEl.style.display =\n",
              "          google.colab.kernel.accessAllowed ? 'block' : 'none';\n",
              "\n",
              "        async function convertToInteractive(key) {\n",
              "          const element = document.querySelector('#df-310f7d65-6268-4f59-acf7-e59156930f8a');\n",
              "          const dataTable =\n",
              "            await google.colab.kernel.invokeFunction('convertToInteractive',\n",
              "                                                     [key], {});\n",
              "          if (!dataTable) return;\n",
              "\n",
              "          const docLinkHtml = 'Like what you see? Visit the ' +\n",
              "            '<a target=\"_blank\" href=https://colab.research.google.com/notebooks/data_table.ipynb>data table notebook</a>'\n",
              "            + ' to learn more about interactive tables.';\n",
              "          element.innerHTML = '';\n",
              "          dataTable['output_type'] = 'display_data';\n",
              "          await google.colab.output.renderOutput(dataTable, element);\n",
              "          const docLink = document.createElement('div');\n",
              "          docLink.innerHTML = docLinkHtml;\n",
              "          element.appendChild(docLink);\n",
              "        }\n",
              "      </script>\n",
              "    </div>\n",
              "  </div>\n",
              "  "
            ]
          },
          "metadata": {},
          "execution_count": 58
        }
      ]
    },
    {
      "cell_type": "code",
      "source": [
        "from IPython.display import display, HTML\n",
        "\n",
        "def pretty_print(df):\n",
        "    return display( HTML( df.to_html().replace(\"\\\\n\",\"<br>\") ) )"
      ],
      "metadata": {
        "id": "crISDerEENqu"
      },
      "execution_count": 51,
      "outputs": []
    },
    {
      "cell_type": "code",
      "source": [
        "pretty_print(report_df)"
      ],
      "metadata": {
        "colab": {
          "base_uri": "https://localhost:8080/",
          "height": 49
        },
        "id": "kVxTjFU5EOTB",
        "outputId": "c6724473-e51d-4a59-e58d-750e27a51a93"
      },
      "execution_count": 52,
      "outputs": [
        {
          "output_type": "display_data",
          "data": {
            "text/plain": [
              "<IPython.core.display.HTML object>"
            ],
            "text/html": [
              "<table border=\"1\" class=\"dataframe\">\n",
              "  <thead>\n",
              "    <tr style=\"text-align: right;\">\n",
              "      <th></th>\n",
              "      <th>no_of_classes</th>\n",
              "      <th>no_of_samples</th>\n",
              "      <th>accuracy</th>\n",
              "      <th>precision</th>\n",
              "      <th>recall</th>\n",
              "      <th>f1_score</th>\n",
              "    </tr>\n",
              "  </thead>\n",
              "  <tbody>\n",
              "  </tbody>\n",
              "</table>"
            ]
          },
          "metadata": {}
        }
      ]
    },
    {
      "cell_type": "code",
      "source": [
        "report_df.to_csv('mfr_facenet_augumented.csv')"
      ],
      "metadata": {
        "id": "HOo-NLve5ULY"
      },
      "execution_count": 59,
      "outputs": []
    },
    {
      "cell_type": "code",
      "source": [
        "ls -l "
      ],
      "metadata": {
        "id": "Pk9c--kR9rkt"
      },
      "execution_count": null,
      "outputs": []
    },
    {
      "cell_type": "code",
      "source": [
        "from google.colab import files\n",
        "files.download('mfr_facenet_augumented.csv')"
      ],
      "metadata": {
        "colab": {
          "base_uri": "https://localhost:8080/",
          "height": 17
        },
        "id": "xJCcWce15Yxs",
        "outputId": "1d91aeb6-6b4b-4de4-862b-d85654e104e2"
      },
      "execution_count": 60,
      "outputs": [
        {
          "output_type": "display_data",
          "data": {
            "text/plain": [
              "<IPython.core.display.Javascript object>"
            ],
            "application/javascript": [
              "\n",
              "    async function download(id, filename, size) {\n",
              "      if (!google.colab.kernel.accessAllowed) {\n",
              "        return;\n",
              "      }\n",
              "      const div = document.createElement('div');\n",
              "      const label = document.createElement('label');\n",
              "      label.textContent = `Downloading \"${filename}\": `;\n",
              "      div.appendChild(label);\n",
              "      const progress = document.createElement('progress');\n",
              "      progress.max = size;\n",
              "      div.appendChild(progress);\n",
              "      document.body.appendChild(div);\n",
              "\n",
              "      const buffers = [];\n",
              "      let downloaded = 0;\n",
              "\n",
              "      const channel = await google.colab.kernel.comms.open(id);\n",
              "      // Send a message to notify the kernel that we're ready.\n",
              "      channel.send({})\n",
              "\n",
              "      for await (const message of channel.messages) {\n",
              "        // Send a message to notify the kernel that we're ready.\n",
              "        channel.send({})\n",
              "        if (message.buffers) {\n",
              "          for (const buffer of message.buffers) {\n",
              "            buffers.push(buffer);\n",
              "            downloaded += buffer.byteLength;\n",
              "            progress.value = downloaded;\n",
              "          }\n",
              "        }\n",
              "      }\n",
              "      const blob = new Blob(buffers, {type: 'application/binary'});\n",
              "      const a = document.createElement('a');\n",
              "      a.href = window.URL.createObjectURL(blob);\n",
              "      a.download = filename;\n",
              "      div.appendChild(a);\n",
              "      a.click();\n",
              "      div.remove();\n",
              "    }\n",
              "  "
            ]
          },
          "metadata": {}
        },
        {
          "output_type": "display_data",
          "data": {
            "text/plain": [
              "<IPython.core.display.Javascript object>"
            ],
            "application/javascript": [
              "download(\"download_720d24aa-8ff8-448c-a9df-4fc75c01707c\", \"mfr_facenet_augumented.csv\", 1545)"
            ]
          },
          "metadata": {}
        }
      ]
    }
  ],
  "metadata": {
    "colab": {
      "machine_shape": "hm",
      "name": "Datasetcreation+mask2face.ipynb",
      "provenance": [],
      "collapsed_sections": [],
      "include_colab_link": true
    },
    "kernelspec": {
      "display_name": "Python 3",
      "language": "python",
      "name": "python3"
    },
    "language_info": {
      "codemirror_mode": {
        "name": "ipython",
        "version": 3
      },
      "file_extension": ".py",
      "mimetype": "text/x-python",
      "name": "python",
      "nbconvert_exporter": "python",
      "pygments_lexer": "ipython3",
      "version": "3.8.6"
    },
    "accelerator": "GPU",
    "widgets": {
      "application/vnd.jupyter.widget-state+json": {
        "2903a8de427f4520a66b53e14c768fdb": {
          "model_module": "@jupyter-widgets/controls",
          "model_name": "HBoxModel",
          "model_module_version": "1.5.0",
          "state": {
            "_dom_classes": [],
            "_model_module": "@jupyter-widgets/controls",
            "_model_module_version": "1.5.0",
            "_model_name": "HBoxModel",
            "_view_count": null,
            "_view_module": "@jupyter-widgets/controls",
            "_view_module_version": "1.5.0",
            "_view_name": "HBoxView",
            "box_style": "",
            "children": [
              "IPY_MODEL_4686c18503694625ad41ca8f4f7e16fc",
              "IPY_MODEL_b56ede9e7a3647df80cc8672953c4e40",
              "IPY_MODEL_ad75666593bf48388068110fb1b12c8b"
            ],
            "layout": "IPY_MODEL_4b6fab7bd35a4c609317c477d2f2e7b8"
          }
        },
        "4686c18503694625ad41ca8f4f7e16fc": {
          "model_module": "@jupyter-widgets/controls",
          "model_name": "HTMLModel",
          "model_module_version": "1.5.0",
          "state": {
            "_dom_classes": [],
            "_model_module": "@jupyter-widgets/controls",
            "_model_module_version": "1.5.0",
            "_model_name": "HTMLModel",
            "_view_count": null,
            "_view_module": "@jupyter-widgets/controls",
            "_view_module_version": "1.5.0",
            "_view_name": "HTMLView",
            "description": "",
            "description_tooltip": null,
            "layout": "IPY_MODEL_c28f232cc21b4b3f89d76f7b488603bf",
            "placeholder": "​",
            "style": "IPY_MODEL_c14c7ca2776d40eca5aca24d58d0ecc0",
            "value": "100%"
          }
        },
        "b56ede9e7a3647df80cc8672953c4e40": {
          "model_module": "@jupyter-widgets/controls",
          "model_name": "FloatProgressModel",
          "model_module_version": "1.5.0",
          "state": {
            "_dom_classes": [],
            "_model_module": "@jupyter-widgets/controls",
            "_model_module_version": "1.5.0",
            "_model_name": "FloatProgressModel",
            "_view_count": null,
            "_view_module": "@jupyter-widgets/controls",
            "_view_module_version": "1.5.0",
            "_view_name": "ProgressView",
            "bar_style": "success",
            "description": "",
            "description_tooltip": null,
            "layout": "IPY_MODEL_2b3d11976d7b4454aab81e232add4489",
            "max": 64040097,
            "min": 0,
            "orientation": "horizontal",
            "style": "IPY_MODEL_9faceb1e39164a4ba9432d6e4eba7e02",
            "value": 64040097
          }
        },
        "ad75666593bf48388068110fb1b12c8b": {
          "model_module": "@jupyter-widgets/controls",
          "model_name": "HTMLModel",
          "model_module_version": "1.5.0",
          "state": {
            "_dom_classes": [],
            "_model_module": "@jupyter-widgets/controls",
            "_model_module_version": "1.5.0",
            "_model_name": "HTMLModel",
            "_view_count": null,
            "_view_module": "@jupyter-widgets/controls",
            "_view_module_version": "1.5.0",
            "_view_name": "HTMLView",
            "description": "",
            "description_tooltip": null,
            "layout": "IPY_MODEL_5286ce41f42848b6819cf4028325c31d",
            "placeholder": "​",
            "style": "IPY_MODEL_067cf89513b1409ca0512ea7a2cb8a65",
            "value": " 61.1M/61.1M [00:02&lt;00:00, 37.1MB/s]"
          }
        },
        "4b6fab7bd35a4c609317c477d2f2e7b8": {
          "model_module": "@jupyter-widgets/base",
          "model_name": "LayoutModel",
          "model_module_version": "1.2.0",
          "state": {
            "_model_module": "@jupyter-widgets/base",
            "_model_module_version": "1.2.0",
            "_model_name": "LayoutModel",
            "_view_count": null,
            "_view_module": "@jupyter-widgets/base",
            "_view_module_version": "1.2.0",
            "_view_name": "LayoutView",
            "align_content": null,
            "align_items": null,
            "align_self": null,
            "border": null,
            "bottom": null,
            "display": null,
            "flex": null,
            "flex_flow": null,
            "grid_area": null,
            "grid_auto_columns": null,
            "grid_auto_flow": null,
            "grid_auto_rows": null,
            "grid_column": null,
            "grid_gap": null,
            "grid_row": null,
            "grid_template_areas": null,
            "grid_template_columns": null,
            "grid_template_rows": null,
            "height": null,
            "justify_content": null,
            "justify_items": null,
            "left": null,
            "margin": null,
            "max_height": null,
            "max_width": null,
            "min_height": null,
            "min_width": null,
            "object_fit": null,
            "object_position": null,
            "order": null,
            "overflow": null,
            "overflow_x": null,
            "overflow_y": null,
            "padding": null,
            "right": null,
            "top": null,
            "visibility": null,
            "width": null
          }
        },
        "c28f232cc21b4b3f89d76f7b488603bf": {
          "model_module": "@jupyter-widgets/base",
          "model_name": "LayoutModel",
          "model_module_version": "1.2.0",
          "state": {
            "_model_module": "@jupyter-widgets/base",
            "_model_module_version": "1.2.0",
            "_model_name": "LayoutModel",
            "_view_count": null,
            "_view_module": "@jupyter-widgets/base",
            "_view_module_version": "1.2.0",
            "_view_name": "LayoutView",
            "align_content": null,
            "align_items": null,
            "align_self": null,
            "border": null,
            "bottom": null,
            "display": null,
            "flex": null,
            "flex_flow": null,
            "grid_area": null,
            "grid_auto_columns": null,
            "grid_auto_flow": null,
            "grid_auto_rows": null,
            "grid_column": null,
            "grid_gap": null,
            "grid_row": null,
            "grid_template_areas": null,
            "grid_template_columns": null,
            "grid_template_rows": null,
            "height": null,
            "justify_content": null,
            "justify_items": null,
            "left": null,
            "margin": null,
            "max_height": null,
            "max_width": null,
            "min_height": null,
            "min_width": null,
            "object_fit": null,
            "object_position": null,
            "order": null,
            "overflow": null,
            "overflow_x": null,
            "overflow_y": null,
            "padding": null,
            "right": null,
            "top": null,
            "visibility": null,
            "width": null
          }
        },
        "c14c7ca2776d40eca5aca24d58d0ecc0": {
          "model_module": "@jupyter-widgets/controls",
          "model_name": "DescriptionStyleModel",
          "model_module_version": "1.5.0",
          "state": {
            "_model_module": "@jupyter-widgets/controls",
            "_model_module_version": "1.5.0",
            "_model_name": "DescriptionStyleModel",
            "_view_count": null,
            "_view_module": "@jupyter-widgets/base",
            "_view_module_version": "1.2.0",
            "_view_name": "StyleView",
            "description_width": ""
          }
        },
        "2b3d11976d7b4454aab81e232add4489": {
          "model_module": "@jupyter-widgets/base",
          "model_name": "LayoutModel",
          "model_module_version": "1.2.0",
          "state": {
            "_model_module": "@jupyter-widgets/base",
            "_model_module_version": "1.2.0",
            "_model_name": "LayoutModel",
            "_view_count": null,
            "_view_module": "@jupyter-widgets/base",
            "_view_module_version": "1.2.0",
            "_view_name": "LayoutView",
            "align_content": null,
            "align_items": null,
            "align_self": null,
            "border": null,
            "bottom": null,
            "display": null,
            "flex": null,
            "flex_flow": null,
            "grid_area": null,
            "grid_auto_columns": null,
            "grid_auto_flow": null,
            "grid_auto_rows": null,
            "grid_column": null,
            "grid_gap": null,
            "grid_row": null,
            "grid_template_areas": null,
            "grid_template_columns": null,
            "grid_template_rows": null,
            "height": null,
            "justify_content": null,
            "justify_items": null,
            "left": null,
            "margin": null,
            "max_height": null,
            "max_width": null,
            "min_height": null,
            "min_width": null,
            "object_fit": null,
            "object_position": null,
            "order": null,
            "overflow": null,
            "overflow_x": null,
            "overflow_y": null,
            "padding": null,
            "right": null,
            "top": null,
            "visibility": null,
            "width": null
          }
        },
        "9faceb1e39164a4ba9432d6e4eba7e02": {
          "model_module": "@jupyter-widgets/controls",
          "model_name": "ProgressStyleModel",
          "model_module_version": "1.5.0",
          "state": {
            "_model_module": "@jupyter-widgets/controls",
            "_model_module_version": "1.5.0",
            "_model_name": "ProgressStyleModel",
            "_view_count": null,
            "_view_module": "@jupyter-widgets/base",
            "_view_module_version": "1.2.0",
            "_view_name": "StyleView",
            "bar_color": null,
            "description_width": ""
          }
        },
        "5286ce41f42848b6819cf4028325c31d": {
          "model_module": "@jupyter-widgets/base",
          "model_name": "LayoutModel",
          "model_module_version": "1.2.0",
          "state": {
            "_model_module": "@jupyter-widgets/base",
            "_model_module_version": "1.2.0",
            "_model_name": "LayoutModel",
            "_view_count": null,
            "_view_module": "@jupyter-widgets/base",
            "_view_module_version": "1.2.0",
            "_view_name": "LayoutView",
            "align_content": null,
            "align_items": null,
            "align_self": null,
            "border": null,
            "bottom": null,
            "display": null,
            "flex": null,
            "flex_flow": null,
            "grid_area": null,
            "grid_auto_columns": null,
            "grid_auto_flow": null,
            "grid_auto_rows": null,
            "grid_column": null,
            "grid_gap": null,
            "grid_row": null,
            "grid_template_areas": null,
            "grid_template_columns": null,
            "grid_template_rows": null,
            "height": null,
            "justify_content": null,
            "justify_items": null,
            "left": null,
            "margin": null,
            "max_height": null,
            "max_width": null,
            "min_height": null,
            "min_width": null,
            "object_fit": null,
            "object_position": null,
            "order": null,
            "overflow": null,
            "overflow_x": null,
            "overflow_y": null,
            "padding": null,
            "right": null,
            "top": null,
            "visibility": null,
            "width": null
          }
        },
        "067cf89513b1409ca0512ea7a2cb8a65": {
          "model_module": "@jupyter-widgets/controls",
          "model_name": "DescriptionStyleModel",
          "model_module_version": "1.5.0",
          "state": {
            "_model_module": "@jupyter-widgets/controls",
            "_model_module_version": "1.5.0",
            "_model_name": "DescriptionStyleModel",
            "_view_count": null,
            "_view_module": "@jupyter-widgets/base",
            "_view_module_version": "1.2.0",
            "_view_name": "StyleView",
            "description_width": ""
          }
        },
        "f0e34c90cd80464e9cd6e5f8ae500441": {
          "model_module": "@jupyter-widgets/controls",
          "model_name": "HBoxModel",
          "model_module_version": "1.5.0",
          "state": {
            "_dom_classes": [],
            "_model_module": "@jupyter-widgets/controls",
            "_model_module_version": "1.5.0",
            "_model_name": "HBoxModel",
            "_view_count": null,
            "_view_module": "@jupyter-widgets/controls",
            "_view_module_version": "1.5.0",
            "_view_name": "HBoxView",
            "box_style": "",
            "children": [
              "IPY_MODEL_273f2f6f32e34d4d81b56644e4184a8c",
              "IPY_MODEL_48200b8d233c480ea77008b2aab61534",
              "IPY_MODEL_8a854f44615d469686112c0b969e3822"
            ],
            "layout": "IPY_MODEL_9773f4c4c1a94e379e34d49f0ad7e347"
          }
        },
        "273f2f6f32e34d4d81b56644e4184a8c": {
          "model_module": "@jupyter-widgets/controls",
          "model_name": "HTMLModel",
          "model_module_version": "1.5.0",
          "state": {
            "_dom_classes": [],
            "_model_module": "@jupyter-widgets/controls",
            "_model_module_version": "1.5.0",
            "_model_name": "HTMLModel",
            "_view_count": null,
            "_view_module": "@jupyter-widgets/controls",
            "_view_module_version": "1.5.0",
            "_view_name": "HTMLView",
            "description": "",
            "description_tooltip": null,
            "layout": "IPY_MODEL_6256e70924024ebbb264ddd33e9a5e9d",
            "placeholder": "​",
            "style": "IPY_MODEL_a0ad472335244c1c964f0dd58cf7a460",
            "value": "100%"
          }
        },
        "48200b8d233c480ea77008b2aab61534": {
          "model_module": "@jupyter-widgets/controls",
          "model_name": "FloatProgressModel",
          "model_module_version": "1.5.0",
          "state": {
            "_dom_classes": [],
            "_model_module": "@jupyter-widgets/controls",
            "_model_module_version": "1.5.0",
            "_model_name": "FloatProgressModel",
            "_view_count": null,
            "_view_module": "@jupyter-widgets/controls",
            "_view_module_version": "1.5.0",
            "_view_name": "ProgressView",
            "bar_style": "success",
            "description": "",
            "description_tooltip": null,
            "layout": "IPY_MODEL_7cbc01ad79c743fe9d15ba965a33d5c8",
            "max": 108761145,
            "min": 0,
            "orientation": "horizontal",
            "style": "IPY_MODEL_87fb5891f1f9418394a999fa097fb657",
            "value": 108761145
          }
        },
        "8a854f44615d469686112c0b969e3822": {
          "model_module": "@jupyter-widgets/controls",
          "model_name": "HTMLModel",
          "model_module_version": "1.5.0",
          "state": {
            "_dom_classes": [],
            "_model_module": "@jupyter-widgets/controls",
            "_model_module_version": "1.5.0",
            "_model_name": "HTMLModel",
            "_view_count": null,
            "_view_module": "@jupyter-widgets/controls",
            "_view_module_version": "1.5.0",
            "_view_name": "HTMLView",
            "description": "",
            "description_tooltip": null,
            "layout": "IPY_MODEL_d73403b524da417ab1e30c17dd88a5d1",
            "placeholder": "​",
            "style": "IPY_MODEL_4bc2524e54df469fba734a2a2a03c967",
            "value": " 104M/104M [00:03&lt;00:00, 36.6MB/s]"
          }
        },
        "9773f4c4c1a94e379e34d49f0ad7e347": {
          "model_module": "@jupyter-widgets/base",
          "model_name": "LayoutModel",
          "model_module_version": "1.2.0",
          "state": {
            "_model_module": "@jupyter-widgets/base",
            "_model_module_version": "1.2.0",
            "_model_name": "LayoutModel",
            "_view_count": null,
            "_view_module": "@jupyter-widgets/base",
            "_view_module_version": "1.2.0",
            "_view_name": "LayoutView",
            "align_content": null,
            "align_items": null,
            "align_self": null,
            "border": null,
            "bottom": null,
            "display": null,
            "flex": null,
            "flex_flow": null,
            "grid_area": null,
            "grid_auto_columns": null,
            "grid_auto_flow": null,
            "grid_auto_rows": null,
            "grid_column": null,
            "grid_gap": null,
            "grid_row": null,
            "grid_template_areas": null,
            "grid_template_columns": null,
            "grid_template_rows": null,
            "height": null,
            "justify_content": null,
            "justify_items": null,
            "left": null,
            "margin": null,
            "max_height": null,
            "max_width": null,
            "min_height": null,
            "min_width": null,
            "object_fit": null,
            "object_position": null,
            "order": null,
            "overflow": null,
            "overflow_x": null,
            "overflow_y": null,
            "padding": null,
            "right": null,
            "top": null,
            "visibility": null,
            "width": null
          }
        },
        "6256e70924024ebbb264ddd33e9a5e9d": {
          "model_module": "@jupyter-widgets/base",
          "model_name": "LayoutModel",
          "model_module_version": "1.2.0",
          "state": {
            "_model_module": "@jupyter-widgets/base",
            "_model_module_version": "1.2.0",
            "_model_name": "LayoutModel",
            "_view_count": null,
            "_view_module": "@jupyter-widgets/base",
            "_view_module_version": "1.2.0",
            "_view_name": "LayoutView",
            "align_content": null,
            "align_items": null,
            "align_self": null,
            "border": null,
            "bottom": null,
            "display": null,
            "flex": null,
            "flex_flow": null,
            "grid_area": null,
            "grid_auto_columns": null,
            "grid_auto_flow": null,
            "grid_auto_rows": null,
            "grid_column": null,
            "grid_gap": null,
            "grid_row": null,
            "grid_template_areas": null,
            "grid_template_columns": null,
            "grid_template_rows": null,
            "height": null,
            "justify_content": null,
            "justify_items": null,
            "left": null,
            "margin": null,
            "max_height": null,
            "max_width": null,
            "min_height": null,
            "min_width": null,
            "object_fit": null,
            "object_position": null,
            "order": null,
            "overflow": null,
            "overflow_x": null,
            "overflow_y": null,
            "padding": null,
            "right": null,
            "top": null,
            "visibility": null,
            "width": null
          }
        },
        "a0ad472335244c1c964f0dd58cf7a460": {
          "model_module": "@jupyter-widgets/controls",
          "model_name": "DescriptionStyleModel",
          "model_module_version": "1.5.0",
          "state": {
            "_model_module": "@jupyter-widgets/controls",
            "_model_module_version": "1.5.0",
            "_model_name": "DescriptionStyleModel",
            "_view_count": null,
            "_view_module": "@jupyter-widgets/base",
            "_view_module_version": "1.2.0",
            "_view_name": "StyleView",
            "description_width": ""
          }
        },
        "7cbc01ad79c743fe9d15ba965a33d5c8": {
          "model_module": "@jupyter-widgets/base",
          "model_name": "LayoutModel",
          "model_module_version": "1.2.0",
          "state": {
            "_model_module": "@jupyter-widgets/base",
            "_model_module_version": "1.2.0",
            "_model_name": "LayoutModel",
            "_view_count": null,
            "_view_module": "@jupyter-widgets/base",
            "_view_module_version": "1.2.0",
            "_view_name": "LayoutView",
            "align_content": null,
            "align_items": null,
            "align_self": null,
            "border": null,
            "bottom": null,
            "display": null,
            "flex": null,
            "flex_flow": null,
            "grid_area": null,
            "grid_auto_columns": null,
            "grid_auto_flow": null,
            "grid_auto_rows": null,
            "grid_column": null,
            "grid_gap": null,
            "grid_row": null,
            "grid_template_areas": null,
            "grid_template_columns": null,
            "grid_template_rows": null,
            "height": null,
            "justify_content": null,
            "justify_items": null,
            "left": null,
            "margin": null,
            "max_height": null,
            "max_width": null,
            "min_height": null,
            "min_width": null,
            "object_fit": null,
            "object_position": null,
            "order": null,
            "overflow": null,
            "overflow_x": null,
            "overflow_y": null,
            "padding": null,
            "right": null,
            "top": null,
            "visibility": null,
            "width": null
          }
        },
        "87fb5891f1f9418394a999fa097fb657": {
          "model_module": "@jupyter-widgets/controls",
          "model_name": "ProgressStyleModel",
          "model_module_version": "1.5.0",
          "state": {
            "_model_module": "@jupyter-widgets/controls",
            "_model_module_version": "1.5.0",
            "_model_name": "ProgressStyleModel",
            "_view_count": null,
            "_view_module": "@jupyter-widgets/base",
            "_view_module_version": "1.2.0",
            "_view_name": "StyleView",
            "bar_color": null,
            "description_width": ""
          }
        },
        "d73403b524da417ab1e30c17dd88a5d1": {
          "model_module": "@jupyter-widgets/base",
          "model_name": "LayoutModel",
          "model_module_version": "1.2.0",
          "state": {
            "_model_module": "@jupyter-widgets/base",
            "_model_module_version": "1.2.0",
            "_model_name": "LayoutModel",
            "_view_count": null,
            "_view_module": "@jupyter-widgets/base",
            "_view_module_version": "1.2.0",
            "_view_name": "LayoutView",
            "align_content": null,
            "align_items": null,
            "align_self": null,
            "border": null,
            "bottom": null,
            "display": null,
            "flex": null,
            "flex_flow": null,
            "grid_area": null,
            "grid_auto_columns": null,
            "grid_auto_flow": null,
            "grid_auto_rows": null,
            "grid_column": null,
            "grid_gap": null,
            "grid_row": null,
            "grid_template_areas": null,
            "grid_template_columns": null,
            "grid_template_rows": null,
            "height": null,
            "justify_content": null,
            "justify_items": null,
            "left": null,
            "margin": null,
            "max_height": null,
            "max_width": null,
            "min_height": null,
            "min_width": null,
            "object_fit": null,
            "object_position": null,
            "order": null,
            "overflow": null,
            "overflow_x": null,
            "overflow_y": null,
            "padding": null,
            "right": null,
            "top": null,
            "visibility": null,
            "width": null
          }
        },
        "4bc2524e54df469fba734a2a2a03c967": {
          "model_module": "@jupyter-widgets/controls",
          "model_name": "DescriptionStyleModel",
          "model_module_version": "1.5.0",
          "state": {
            "_model_module": "@jupyter-widgets/controls",
            "_model_module_version": "1.5.0",
            "_model_name": "DescriptionStyleModel",
            "_view_count": null,
            "_view_module": "@jupyter-widgets/base",
            "_view_module_version": "1.2.0",
            "_view_name": "StyleView",
            "description_width": ""
          }
        }
      }
    }
  },
  "nbformat": 4,
  "nbformat_minor": 0
}