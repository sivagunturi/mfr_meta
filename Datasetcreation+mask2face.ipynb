{
  "cells": [
    {
      "cell_type": "markdown",
      "metadata": {
        "id": "view-in-github",
        "colab_type": "text"
      },
      "source": [
        "<a href=\"https://colab.research.google.com/github/sivagunturi/mfr_meta/blob/main/Datasetcreation%2Bmask2face.ipynb\" target=\"_parent\"><img src=\"https://colab.research.google.com/assets/colab-badge.svg\" alt=\"Open In Colab\"/></a>"
      ]
    },
    {
      "cell_type": "markdown",
      "metadata": {
        "id": "UG0Oaalfr0PI"
      },
      "source": [
        "# Mask2Face\n",
        "This notebook will guide you through all the steps described in this article to build and train your ML model for removing the face mask of the person's face."
      ]
    },
    {
      "cell_type": "code",
      "source": [
        "!pip install gdown\n",
        "!pip install opencv-python==4.4.0.44\n",
        "!pip install tensorflow-addons==0.10.0\n",
        "!pip install trianglesolver==1.2\n",
        "!pip uninstall imgaug\n",
        "!pip install imgaug==0.2.5\n",
        "!pip install mtcnn\n",
        "!pip install dotmap"
      ],
      "metadata": {
        "colab": {
          "base_uri": "https://localhost:8080/"
        },
        "id": "jrrBTLPYe93Z",
        "outputId": "7d7f80f8-3c75-4e85-b563-733e6e1ae45b"
      },
      "execution_count": 1,
      "outputs": [
        {
          "output_type": "stream",
          "name": "stdout",
          "text": [
            "Requirement already satisfied: gdown in /usr/local/lib/python3.7/dist-packages (4.4.0)\n",
            "Requirement already satisfied: requests[socks] in /usr/local/lib/python3.7/dist-packages (from gdown) (2.23.0)\n",
            "Requirement already satisfied: filelock in /usr/local/lib/python3.7/dist-packages (from gdown) (3.7.0)\n",
            "Requirement already satisfied: tqdm in /usr/local/lib/python3.7/dist-packages (from gdown) (4.64.0)\n",
            "Requirement already satisfied: six in /usr/local/lib/python3.7/dist-packages (from gdown) (1.15.0)\n",
            "Requirement already satisfied: beautifulsoup4 in /usr/local/lib/python3.7/dist-packages (from gdown) (4.6.3)\n",
            "Requirement already satisfied: urllib3!=1.25.0,!=1.25.1,<1.26,>=1.21.1 in /usr/local/lib/python3.7/dist-packages (from requests[socks]->gdown) (1.24.3)\n",
            "Requirement already satisfied: chardet<4,>=3.0.2 in /usr/local/lib/python3.7/dist-packages (from requests[socks]->gdown) (3.0.4)\n",
            "Requirement already satisfied: certifi>=2017.4.17 in /usr/local/lib/python3.7/dist-packages (from requests[socks]->gdown) (2021.10.8)\n",
            "Requirement already satisfied: idna<3,>=2.5 in /usr/local/lib/python3.7/dist-packages (from requests[socks]->gdown) (2.10)\n",
            "Requirement already satisfied: PySocks!=1.5.7,>=1.5.6 in /usr/local/lib/python3.7/dist-packages (from requests[socks]->gdown) (1.7.1)\n",
            "Collecting opencv-python==4.4.0.44\n",
            "  Downloading opencv_python-4.4.0.44-cp37-cp37m-manylinux2014_x86_64.whl (49.5 MB)\n",
            "\u001b[K     |████████████████████████████████| 49.5 MB 1.3 MB/s \n",
            "\u001b[?25hRequirement already satisfied: numpy>=1.14.5 in /usr/local/lib/python3.7/dist-packages (from opencv-python==4.4.0.44) (1.21.6)\n",
            "Installing collected packages: opencv-python\n",
            "  Attempting uninstall: opencv-python\n",
            "    Found existing installation: opencv-python 4.1.2.30\n",
            "    Uninstalling opencv-python-4.1.2.30:\n",
            "      Successfully uninstalled opencv-python-4.1.2.30\n",
            "\u001b[31mERROR: pip's dependency resolver does not currently take into account all the packages that are installed. This behaviour is the source of the following dependency conflicts.\n",
            "albumentations 0.1.12 requires imgaug<0.2.7,>=0.2.5, but you have imgaug 0.2.9 which is incompatible.\u001b[0m\n",
            "Successfully installed opencv-python-4.4.0.44\n",
            "Collecting tensorflow-addons==0.10.0\n",
            "  Downloading tensorflow_addons-0.10.0-cp37-cp37m-manylinux2010_x86_64.whl (1.0 MB)\n",
            "\u001b[K     |████████████████████████████████| 1.0 MB 3.8 MB/s \n",
            "\u001b[?25hRequirement already satisfied: typeguard>=2.7 in /usr/local/lib/python3.7/dist-packages (from tensorflow-addons==0.10.0) (2.7.1)\n",
            "Installing collected packages: tensorflow-addons\n",
            "Successfully installed tensorflow-addons-0.10.0\n",
            "Collecting trianglesolver==1.2\n",
            "  Downloading trianglesolver-1.2-py3-none-any.whl (5.4 kB)\n",
            "Installing collected packages: trianglesolver\n",
            "Successfully installed trianglesolver-1.2\n",
            "Found existing installation: imgaug 0.2.9\n",
            "Uninstalling imgaug-0.2.9:\n",
            "  Would remove:\n",
            "    /usr/local/lib/python3.7/dist-packages/imgaug-0.2.9.dist-info/*\n",
            "    /usr/local/lib/python3.7/dist-packages/imgaug/*\n",
            "Proceed (y/n)? y\n",
            "  Successfully uninstalled imgaug-0.2.9\n",
            "Collecting imgaug==0.2.5\n",
            "  Downloading imgaug-0.2.5.tar.gz (562 kB)\n",
            "\u001b[K     |████████████████████████████████| 562 kB 4.1 MB/s \n",
            "\u001b[?25hRequirement already satisfied: scipy in /usr/local/lib/python3.7/dist-packages (from imgaug==0.2.5) (1.4.1)\n",
            "Requirement already satisfied: scikit-image>=0.11.0 in /usr/local/lib/python3.7/dist-packages (from imgaug==0.2.5) (0.18.3)\n",
            "Requirement already satisfied: numpy>=1.7.0 in /usr/local/lib/python3.7/dist-packages (from imgaug==0.2.5) (1.21.6)\n",
            "Requirement already satisfied: six in /usr/local/lib/python3.7/dist-packages (from imgaug==0.2.5) (1.15.0)\n",
            "Requirement already satisfied: tifffile>=2019.7.26 in /usr/local/lib/python3.7/dist-packages (from scikit-image>=0.11.0->imgaug==0.2.5) (2021.11.2)\n",
            "Requirement already satisfied: pillow!=7.1.0,!=7.1.1,>=4.3.0 in /usr/local/lib/python3.7/dist-packages (from scikit-image>=0.11.0->imgaug==0.2.5) (7.1.2)\n",
            "Requirement already satisfied: matplotlib!=3.0.0,>=2.0.0 in /usr/local/lib/python3.7/dist-packages (from scikit-image>=0.11.0->imgaug==0.2.5) (3.2.2)\n",
            "Requirement already satisfied: imageio>=2.3.0 in /usr/local/lib/python3.7/dist-packages (from scikit-image>=0.11.0->imgaug==0.2.5) (2.4.1)\n",
            "Requirement already satisfied: PyWavelets>=1.1.1 in /usr/local/lib/python3.7/dist-packages (from scikit-image>=0.11.0->imgaug==0.2.5) (1.3.0)\n",
            "Requirement already satisfied: networkx>=2.0 in /usr/local/lib/python3.7/dist-packages (from scikit-image>=0.11.0->imgaug==0.2.5) (2.6.3)\n",
            "Requirement already satisfied: python-dateutil>=2.1 in /usr/local/lib/python3.7/dist-packages (from matplotlib!=3.0.0,>=2.0.0->scikit-image>=0.11.0->imgaug==0.2.5) (2.8.2)\n",
            "Requirement already satisfied: cycler>=0.10 in /usr/local/lib/python3.7/dist-packages (from matplotlib!=3.0.0,>=2.0.0->scikit-image>=0.11.0->imgaug==0.2.5) (0.11.0)\n",
            "Requirement already satisfied: kiwisolver>=1.0.1 in /usr/local/lib/python3.7/dist-packages (from matplotlib!=3.0.0,>=2.0.0->scikit-image>=0.11.0->imgaug==0.2.5) (1.4.2)\n",
            "Requirement already satisfied: pyparsing!=2.0.4,!=2.1.2,!=2.1.6,>=2.0.1 in /usr/local/lib/python3.7/dist-packages (from matplotlib!=3.0.0,>=2.0.0->scikit-image>=0.11.0->imgaug==0.2.5) (3.0.9)\n",
            "Requirement already satisfied: typing-extensions in /usr/local/lib/python3.7/dist-packages (from kiwisolver>=1.0.1->matplotlib!=3.0.0,>=2.0.0->scikit-image>=0.11.0->imgaug==0.2.5) (4.2.0)\n",
            "Building wheels for collected packages: imgaug\n",
            "  Building wheel for imgaug (setup.py) ... \u001b[?25l\u001b[?25hdone\n",
            "  Created wheel for imgaug: filename=imgaug-0.2.5-py3-none-any.whl size=561438 sha256=8a9f7494f379ae2592c127f851b09f0c2169c13571ae7ec01b2fedcee56b102d\n",
            "  Stored in directory: /root/.cache/pip/wheels/60/dd/38/d1dc2cad2b6a66dc0249261004990bccb0f27985c74ba26e49\n",
            "Successfully built imgaug\n",
            "Installing collected packages: imgaug\n",
            "Successfully installed imgaug-0.2.5\n",
            "Collecting mtcnn\n",
            "  Downloading mtcnn-0.1.1-py3-none-any.whl (2.3 MB)\n",
            "\u001b[K     |████████████████████████████████| 2.3 MB 4.3 MB/s \n",
            "\u001b[?25hRequirement already satisfied: keras>=2.0.0 in /usr/local/lib/python3.7/dist-packages (from mtcnn) (2.8.0)\n",
            "Requirement already satisfied: opencv-python>=4.1.0 in /usr/local/lib/python3.7/dist-packages (from mtcnn) (4.4.0.44)\n",
            "Requirement already satisfied: numpy>=1.14.5 in /usr/local/lib/python3.7/dist-packages (from opencv-python>=4.1.0->mtcnn) (1.21.6)\n",
            "Installing collected packages: mtcnn\n",
            "Successfully installed mtcnn-0.1.1\n",
            "Collecting dotmap\n",
            "  Downloading dotmap-1.3.30-py3-none-any.whl (11 kB)\n",
            "Installing collected packages: dotmap\n",
            "Successfully installed dotmap-1.3.30\n"
          ]
        }
      ]
    },
    {
      "cell_type": "code",
      "source": [
        "import glob\n",
        "import os\n",
        "import random\n",
        "import re\n",
        "import shutil\n",
        "import subprocess\n",
        "import sys\n",
        "import tarfile\n",
        "import zipfile\n",
        "from distutils.dir_util import copy_tree\n",
        "from os.path import exists\n",
        "from pathlib import Path\n",
        "import matplotlib.image as mpimg\n",
        "import matplotlib.pyplot as plt\n",
        "import numpy as np\n",
        "import pandas as pd\n",
        "import tensorflow as tf\n",
        "from google.colab.patches import cv2_imshow\n",
        "from numpy import load\n",
        "# !pip install mtcnn pillow dotmap deepface\n",
        "from PIL import Image\n",
        "from sklearn.metrics import accuracy_score\n",
        "from sklearn.preprocessing import LabelEncoder, Normalizer\n",
        "from sklearn.svm import SVC\n",
        "from tensorflow import keras\n",
        "from tensorflow.keras.preprocessing.image import (array_to_img, img_to_array,\n",
        "                                                  load_img)\n",
        "from os.path import exists"
      ],
      "metadata": {
        "id": "Vwymj5hbxF0-"
      },
      "execution_count": 2,
      "outputs": []
    },
    {
      "cell_type": "code",
      "source": [
        "tf.test.gpu_device_name()\n",
        "MFR_REPO_COLAB_PATH='/content/mfr_meta'\n",
        "MFR_REPO_GIT_PATH = 'https://github.com/sivagunturi/mfr_meta.git'\n",
        "STRV_REPO_COLAB_PATH = \"/content/strv\"\n",
        "STRV_REPO_GIT_PATH = 'https://github.com/sivagunturi/strv.git'\n",
        "MTF_REPO_COLAB_PATH=\"/content/MaskTheFace\"\n",
        "MTF_REPO_GIT_PATH=\"https://github.com/aqeelanwar/MaskTheFace\"\n",
        "MTF_MODEL_NAME =  \"model_epochs-20_batch-12_loss-ssim_l1_loss_20220518_03_20_51.h5\""
      ],
      "metadata": {
        "id": "ykBopZ6xFW3C"
      },
      "execution_count": 3,
      "outputs": []
    },
    {
      "cell_type": "code",
      "source": [
        "yorn = input (\"Force delete all code directpries (y/n)\") \n",
        "if(yorn == 'y'):\n",
        "  os.chdir(\"/\")\n",
        "  if(os.path.isdir(MFR_REPO_COLAB_PATH) == True):\n",
        "    shutil.rmtree(MFR_REPO_COLAB_PATH)\n",
        "  if(os.path.isdir(STRV_REPO_COLAB_PATH) == True):\n",
        "    shutil.rmtree(STRV_REPO_COLAB_PATH)\n",
        "  if(os.path.isdir(MTF_REPO_GIT_PATH) == True): \n",
        "    shutil.rmtree(MTF_REPO_GIT_PATH)"
      ],
      "metadata": {
        "colab": {
          "base_uri": "https://localhost:8080/"
        },
        "id": "9xtDlWDxDkZj",
        "outputId": "24053763-8cf0-445b-e588-ca1551cba51c"
      },
      "execution_count": 4,
      "outputs": [
        {
          "name": "stdout",
          "output_type": "stream",
          "text": [
            "Force delete all code directpries (y/n)y\n"
          ]
        }
      ]
    },
    {
      "cell_type": "code",
      "source": [
        "def clone_repo_install_dependencies(repo_path, git_path):\n",
        "  if(os.path.isdir(repo_path) == False):\n",
        "    os.chdir('/content')\n",
        "    results = subprocess.run([\"git\", \"clone\", git_path], capture_output=True)\n",
        "    print(results)\n",
        "    # os.chdir(repo_path)\n",
        "    # subprocess.run([\"pip\", \"install\",'-r', \"requirements.txt\"], stdout=subprocess.DEVNULL, stderr=subprocess.STDOUT)\n",
        "    return True\n",
        "  return False"
      ],
      "metadata": {
        "id": "8YNpkBL1xWCL"
      },
      "execution_count": 5,
      "outputs": []
    },
    {
      "cell_type": "code",
      "source": [
        "mfr_install = clone_repo_install_dependencies(MFR_REPO_COLAB_PATH, MFR_REPO_GIT_PATH)\n",
        "strv_install = clone_repo_install_dependencies(STRV_REPO_COLAB_PATH, STRV_REPO_GIT_PATH)\n",
        "mtf_install = clone_repo_install_dependencies(MTF_REPO_COLAB_PATH, MTF_REPO_GIT_PATH)\n",
        "# if(mfr_install or strv_install or mtf_install):\n",
        "#   os.kill(os.getpid(), 9)"
      ],
      "metadata": {
        "colab": {
          "base_uri": "https://localhost:8080/"
        },
        "id": "ejbt3Pyy6ZWG",
        "outputId": "0aea6167-bb24-4a19-98ac-f11c967add87"
      },
      "execution_count": 6,
      "outputs": [
        {
          "output_type": "stream",
          "name": "stdout",
          "text": [
            "CompletedProcess(args=['git', 'clone', 'https://github.com/sivagunturi/mfr_meta.git'], returncode=0, stdout=b'', stderr=b\"Cloning into 'mfr_meta'...\\n\")\n",
            "CompletedProcess(args=['git', 'clone', 'https://github.com/sivagunturi/strv.git'], returncode=0, stdout=b'', stderr=b\"Cloning into 'strv'...\\n\")\n",
            "CompletedProcess(args=['git', 'clone', 'https://github.com/aqeelanwar/MaskTheFace'], returncode=0, stdout=b'', stderr=b\"Cloning into 'MaskTheFace'...\\n\")\n"
          ]
        }
      ]
    },
    {
      "cell_type": "code",
      "source": [
        "ls /content/"
      ],
      "metadata": {
        "colab": {
          "base_uri": "https://localhost:8080/"
        },
        "id": "zP2jSLP8Fvfe",
        "outputId": "c18d9589-51e5-45d5-a0a1-9289fc8ea12e"
      },
      "execution_count": 7,
      "outputs": [
        {
          "output_type": "stream",
          "name": "stdout",
          "text": [
            "\u001b[0m\u001b[01;34mMaskTheFace\u001b[0m/  \u001b[01;34mmfr_meta\u001b[0m/  \u001b[01;34msample_data\u001b[0m/  \u001b[01;34mstrv\u001b[0m/\n"
          ]
        }
      ]
    },
    {
      "cell_type": "code",
      "source": [
        "os.chdir(STRV_REPO_COLAB_PATH)"
      ],
      "metadata": {
        "id": "Nj72JtB5kWYz"
      },
      "execution_count": 8,
      "outputs": []
    },
    {
      "cell_type": "code",
      "execution_count": 9,
      "metadata": {
        "id": "xP1Gx0Oyr0PM"
      },
      "outputs": [],
      "source": [
        "# Necessary imports\n",
        "from utils import download_data\n",
        "from utils.architectures import UNet\n",
        "from utils.configuration import Configuration\n",
        "from utils.data_generator import DataGenerator\n",
        "from utils.model import Mask2FaceModel"
      ]
    },
    {
      "cell_type": "code",
      "execution_count": 10,
      "metadata": {
        "colab": {
          "base_uri": "https://localhost:8080/"
        },
        "id": "LMw27jeer0PO",
        "outputId": "cd4c28de-8387-4d4c-de30-bc05b1967bf2"
      },
      "outputs": [
        {
          "output_type": "stream",
          "name": "stdout",
          "text": [
            "Num GPUs Available:  1\n",
            "Num CPUs Available:  1\n"
          ]
        }
      ],
      "source": [
        "# setup HW\n",
        "\n",
        "# is GPU available\n",
        "gpu_physical_devices = tf.config.experimental.list_physical_devices('GPU')\n",
        "if len(gpu_physical_devices) > 0:\n",
        "    tf.config.experimental.set_memory_growth(gpu_physical_devices[0], True)\n",
        "\n",
        "# check HW availability\n",
        "print(\"Num GPUs Available: \", len(tf.config.experimental.list_physical_devices('GPU')))\n",
        "print(\"Num CPUs Available: \", len(tf.config.experimental.list_physical_devices('CPU')))"
      ]
    },
    {
      "cell_type": "markdown",
      "metadata": {
        "collapsed": false,
        "id": "73KWwR2-r0PO"
      },
      "source": [
        "## 1) Preconditions\n",
        "First we need a dataset of human faces."
      ]
    },
    {
      "cell_type": "code",
      "source": [
        "def download_from_drive(id, output_file, unzip=False):\n",
        "  results = subprocess.run([\"gdown\", \"--id\", id, \"--output\", output_file], capture_output=True)\n",
        "  print(results)\n",
        "  if(unzip):\n",
        "    subprocess.run([\"unzip\", output_file], capture_output=True)\n",
        "    print(results)"
      ],
      "metadata": {
        "id": "6LwtdW8N4EGu"
      },
      "execution_count": 11,
      "outputs": []
    },
    {
      "cell_type": "code",
      "source": [
        "download_from_drive(\"1egNNyrOv1Xdio8peNla1QDVBSIDu-Fjv\", \"model_epochs-20_batch-12_loss-ssim_l1_loss_20220518_03_20_51.h5\")\n",
        "download_from_drive(\"1iWqF8dWpDPZbciufcUyPuprLfcP4Zs4w\", \"data.zip\", unzip=True)"
      ],
      "metadata": {
        "colab": {
          "base_uri": "https://localhost:8080/"
        },
        "id": "M3C6WGkTgWKI",
        "outputId": "bd4056ef-5a27-4213-cd9e-a0cbef764daa"
      },
      "execution_count": 12,
      "outputs": [
        {
          "output_type": "stream",
          "name": "stdout",
          "text": [
            "CompletedProcess(args=['gdown', '--id', '1egNNyrOv1Xdio8peNla1QDVBSIDu-Fjv', '--output', 'model_epochs-20_batch-12_loss-ssim_l1_loss_20220518_03_20_51.h5'], returncode=0, stdout=b'', stderr=b\"/usr/local/lib/python3.7/dist-packages/gdown/cli.py:131: FutureWarning: Option `--id` was deprecated in version 4.3.1 and will be removed in 5.0. You don't need to pass it anymore to use a file ID.\\n  category=FutureWarning,\\nDownloading...\\nFrom: https://drive.google.com/uc?id=1egNNyrOv1Xdio8peNla1QDVBSIDu-Fjv\\nTo: /content/strv/model_epochs-20_batch-12_loss-ssim_l1_loss_20220518_03_20_51.h5\\n\\r  0%|          | 0.00/643M [00:00<?, ?B/s]\\r  1%|          | 4.72M/643M [00:00<00:46, 13.7MB/s]\\r  1%|\\xe2\\x96\\x8f         | 8.91M/643M [00:00<00:36, 17.4MB/s]\\r  5%|\\xe2\\x96\\x8c         | 34.1M/643M [00:00<00:09, 64.8MB/s]\\r  7%|\\xe2\\x96\\x8b         | 42.5M/643M [00:01<00:13, 46.1MB/s]\\r 11%|\\xe2\\x96\\x88         | 70.3M/643M [00:01<00:06, 88.2MB/s]\\r 13%|\\xe2\\x96\\x88\\xe2\\x96\\x8e        | 84.4M/643M [00:01<00:06, 85.9MB/s]\\r 17%|\\xe2\\x96\\x88\\xe2\\x96\\x8b        | 110M/643M [00:01<00:05, 105MB/s]  \\r 22%|\\xe2\\x96\\x88\\xe2\\x96\\x88\\xe2\\x96\\x8f       | 141M/643M [00:01<00:03, 148MB/s]\\r 25%|\\xe2\\x96\\x88\\xe2\\x96\\x88\\xe2\\x96\\x8d       | 160M/643M [00:01<00:03, 154MB/s]\\r 28%|\\xe2\\x96\\x88\\xe2\\x96\\x88\\xe2\\x96\\x8a       | 179M/643M [00:01<00:03, 153MB/s]\\r 31%|\\xe2\\x96\\x88\\xe2\\x96\\x88\\xe2\\x96\\x88       | 197M/643M [00:01<00:03, 136MB/s]\\r 33%|\\xe2\\x96\\x88\\xe2\\x96\\x88\\xe2\\x96\\x88\\xe2\\x96\\x8e      | 212M/643M [00:02<00:04, 105MB/s]\\r 35%|\\xe2\\x96\\x88\\xe2\\x96\\x88\\xe2\\x96\\x88\\xe2\\x96\\x8d      | 225M/643M [00:02<00:03, 109MB/s]\\r 37%|\\xe2\\x96\\x88\\xe2\\x96\\x88\\xe2\\x96\\x88\\xe2\\x96\\x8b      | 238M/643M [00:02<00:04, 97.4MB/s]\\r 40%|\\xe2\\x96\\x88\\xe2\\x96\\x88\\xe2\\x96\\x88\\xe2\\x96\\x89      | 255M/643M [00:02<00:03, 113MB/s] \\r 43%|\\xe2\\x96\\x88\\xe2\\x96\\x88\\xe2\\x96\\x88\\xe2\\x96\\x88\\xe2\\x96\\x8e     | 277M/643M [00:02<00:02, 126MB/s]\\r 45%|\\xe2\\x96\\x88\\xe2\\x96\\x88\\xe2\\x96\\x88\\xe2\\x96\\x88\\xe2\\x96\\x8c     | 291M/643M [00:02<00:03, 113MB/s]\\r 49%|\\xe2\\x96\\x88\\xe2\\x96\\x88\\xe2\\x96\\x88\\xe2\\x96\\x88\\xe2\\x96\\x89     | 318M/643M [00:02<00:02, 149MB/s]\\r 52%|\\xe2\\x96\\x88\\xe2\\x96\\x88\\xe2\\x96\\x88\\xe2\\x96\\x88\\xe2\\x96\\x88\\xe2\\x96\\x8f    | 335M/643M [00:03<00:02, 148MB/s]\\r 56%|\\xe2\\x96\\x88\\xe2\\x96\\x88\\xe2\\x96\\x88\\xe2\\x96\\x88\\xe2\\x96\\x88\\xe2\\x96\\x8c    | 362M/643M [00:03<00:01, 177MB/s]\\r 59%|\\xe2\\x96\\x88\\xe2\\x96\\x88\\xe2\\x96\\x88\\xe2\\x96\\x88\\xe2\\x96\\x88\\xe2\\x96\\x89    | 381M/643M [00:03<00:01, 150MB/s]\\r 62%|\\xe2\\x96\\x88\\xe2\\x96\\x88\\xe2\\x96\\x88\\xe2\\x96\\x88\\xe2\\x96\\x88\\xe2\\x96\\x88\\xe2\\x96\\x8f   | 398M/643M [00:03<00:02, 121MB/s]\\r 64%|\\xe2\\x96\\x88\\xe2\\x96\\x88\\xe2\\x96\\x88\\xe2\\x96\\x88\\xe2\\x96\\x88\\xe2\\x96\\x88\\xe2\\x96\\x8d   | 412M/643M [00:03<00:02, 108MB/s]\\r 66%|\\xe2\\x96\\x88\\xe2\\x96\\x88\\xe2\\x96\\x88\\xe2\\x96\\x88\\xe2\\x96\\x88\\xe2\\x96\\x88\\xe2\\x96\\x8c   | 425M/643M [00:03<00:02, 106MB/s]\\r 68%|\\xe2\\x96\\x88\\xe2\\x96\\x88\\xe2\\x96\\x88\\xe2\\x96\\x88\\xe2\\x96\\x88\\xe2\\x96\\x88\\xe2\\x96\\x8a   | 437M/643M [00:04<00:02, 91.7MB/s]\\r 72%|\\xe2\\x96\\x88\\xe2\\x96\\x88\\xe2\\x96\\x88\\xe2\\x96\\x88\\xe2\\x96\\x88\\xe2\\x96\\x88\\xe2\\x96\\x88\\xe2\\x96\\x8f  | 465M/643M [00:04<00:01, 131MB/s] \\r 77%|\\xe2\\x96\\x88\\xe2\\x96\\x88\\xe2\\x96\\x88\\xe2\\x96\\x88\\xe2\\x96\\x88\\xe2\\x96\\x88\\xe2\\x96\\x88\\xe2\\x96\\x8b  | 495M/643M [00:04<00:00, 158MB/s]\\r 80%|\\xe2\\x96\\x88\\xe2\\x96\\x88\\xe2\\x96\\x88\\xe2\\x96\\x88\\xe2\\x96\\x88\\xe2\\x96\\x88\\xe2\\x96\\x88\\xe2\\x96\\x89  | 513M/643M [00:04<00:01, 124MB/s]\\r 82%|\\xe2\\x96\\x88\\xe2\\x96\\x88\\xe2\\x96\\x88\\xe2\\x96\\x88\\xe2\\x96\\x88\\xe2\\x96\\x88\\xe2\\x96\\x88\\xe2\\x96\\x88\\xe2\\x96\\x8f | 529M/643M [00:04<00:01, 112MB/s]\\r 85%|\\xe2\\x96\\x88\\xe2\\x96\\x88\\xe2\\x96\\x88\\xe2\\x96\\x88\\xe2\\x96\\x88\\xe2\\x96\\x88\\xe2\\x96\\x88\\xe2\\x96\\x88\\xe2\\x96\\x8d | 546M/643M [00:04<00:00, 111MB/s]\\r 87%|\\xe2\\x96\\x88\\xe2\\x96\\x88\\xe2\\x96\\x88\\xe2\\x96\\x88\\xe2\\x96\\x88\\xe2\\x96\\x88\\xe2\\x96\\x88\\xe2\\x96\\x88\\xe2\\x96\\x8b | 563M/643M [00:05<00:00, 99.7MB/s]\\r 91%|\\xe2\\x96\\x88\\xe2\\x96\\x88\\xe2\\x96\\x88\\xe2\\x96\\x88\\xe2\\x96\\x88\\xe2\\x96\\x88\\xe2\\x96\\x88\\xe2\\x96\\x88\\xe2\\x96\\x88 | 587M/643M [00:05<00:00, 126MB/s] \\r 94%|\\xe2\\x96\\x88\\xe2\\x96\\x88\\xe2\\x96\\x88\\xe2\\x96\\x88\\xe2\\x96\\x88\\xe2\\x96\\x88\\xe2\\x96\\x88\\xe2\\x96\\x88\\xe2\\x96\\x88\\xe2\\x96\\x8d| 605M/643M [00:05<00:00, 100MB/s]\\r 97%|\\xe2\\x96\\x88\\xe2\\x96\\x88\\xe2\\x96\\x88\\xe2\\x96\\x88\\xe2\\x96\\x88\\xe2\\x96\\x88\\xe2\\x96\\x88\\xe2\\x96\\x88\\xe2\\x96\\x88\\xe2\\x96\\x8b| 621M/643M [00:05<00:00, 106MB/s]\\r 99%|\\xe2\\x96\\x88\\xe2\\x96\\x88\\xe2\\x96\\x88\\xe2\\x96\\x88\\xe2\\x96\\x88\\xe2\\x96\\x88\\xe2\\x96\\x88\\xe2\\x96\\x88\\xe2\\x96\\x88\\xe2\\x96\\x89| 638M/643M [00:05<00:00, 95.6MB/s]\\r100%|\\xe2\\x96\\x88\\xe2\\x96\\x88\\xe2\\x96\\x88\\xe2\\x96\\x88\\xe2\\x96\\x88\\xe2\\x96\\x88\\xe2\\x96\\x88\\xe2\\x96\\x88\\xe2\\x96\\x88\\xe2\\x96\\x88| 643M/643M [00:05<00:00, 110MB/s] \\n\")\n",
            "CompletedProcess(args=['gdown', '--id', '1iWqF8dWpDPZbciufcUyPuprLfcP4Zs4w', '--output', 'data.zip'], returncode=0, stdout=b'', stderr=b\"/usr/local/lib/python3.7/dist-packages/gdown/cli.py:131: FutureWarning: Option `--id` was deprecated in version 4.3.1 and will be removed in 5.0. You don't need to pass it anymore to use a file ID.\\n  category=FutureWarning,\\nDownloading...\\nFrom: https://drive.google.com/uc?id=1iWqF8dWpDPZbciufcUyPuprLfcP4Zs4w\\nTo: /content/strv/data.zip\\n\\r  0%|          | 0.00/2.20G [00:00<?, ?B/s]\\r  0%|          | 9.96M/2.20G [00:00<00:22, 98.2MB/s]\\r  2%|\\xe2\\x96\\x8f         | 35.1M/2.20G [00:00<00:11, 187MB/s] \\r  3%|\\xe2\\x96\\x8e         | 65.0M/2.20G [00:00<00:09, 236MB/s]\\r  4%|\\xe2\\x96\\x8d         | 94.9M/2.20G [00:00<00:08, 259MB/s]\\r  6%|\\xe2\\x96\\x8c         | 125M/2.20G [00:00<00:07, 274MB/s] \\r  7%|\\xe2\\x96\\x8b         | 156M/2.20G [00:00<00:07, 286MB/s]\\r  8%|\\xe2\\x96\\x8a         | 185M/2.20G [00:00<00:07, 280MB/s]\\r 10%|\\xe2\\x96\\x89         | 213M/2.20G [00:00<00:08, 223MB/s]\\r 11%|\\xe2\\x96\\x88         | 238M/2.20G [00:01<00:08, 219MB/s]\\r 12%|\\xe2\\x96\\x88\\xe2\\x96\\x8f        | 261M/2.20G [00:01<00:09, 201MB/s]\\r 13%|\\xe2\\x96\\x88\\xe2\\x96\\x8e        | 283M/2.20G [00:01<00:09, 197MB/s]\\r 14%|\\xe2\\x96\\x88\\xe2\\x96\\x8d        | 303M/2.20G [00:01<00:12, 155MB/s]\\r 15%|\\xe2\\x96\\x88\\xe2\\x96\\x8d        | 328M/2.20G [00:01<00:10, 175MB/s]\\r 16%|\\xe2\\x96\\x88\\xe2\\x96\\x8c        | 347M/2.20G [00:01<00:10, 171MB/s]\\r 17%|\\xe2\\x96\\x88\\xe2\\x96\\x8b        | 370M/2.20G [00:01<00:10, 178MB/s]\\r 18%|\\xe2\\x96\\x88\\xe2\\x96\\x8a        | 391M/2.20G [00:01<00:09, 185MB/s]\\r 19%|\\xe2\\x96\\x88\\xe2\\x96\\x8a        | 412M/2.20G [00:02<00:09, 193MB/s]\\r 20%|\\xe2\\x96\\x88\\xe2\\x96\\x89        | 433M/2.20G [00:02<00:12, 146MB/s]\\r 21%|\\xe2\\x96\\x88\\xe2\\x96\\x88        | 460M/2.20G [00:02<00:09, 175MB/s]\\r 22%|\\xe2\\x96\\x88\\xe2\\x96\\x88\\xe2\\x96\\x8f       | 480M/2.20G [00:02<00:11, 153MB/s]\\r 23%|\\xe2\\x96\\x88\\xe2\\x96\\x88\\xe2\\x96\\x8e       | 504M/2.20G [00:02<00:10, 167MB/s]\\r 24%|\\xe2\\x96\\x88\\xe2\\x96\\x88\\xe2\\x96\\x8d       | 529M/2.20G [00:02<00:10, 164MB/s]\\r 25%|\\xe2\\x96\\x88\\xe2\\x96\\x88\\xe2\\x96\\x8d       | 547M/2.20G [00:03<00:15, 107MB/s]\\r 26%|\\xe2\\x96\\x88\\xe2\\x96\\x88\\xe2\\x96\\x8c       | 571M/2.20G [00:03<00:13, 125MB/s]\\r 27%|\\xe2\\x96\\x88\\xe2\\x96\\x88\\xe2\\x96\\x8b       | 587M/2.20G [00:03<00:12, 127MB/s]\\r 27%|\\xe2\\x96\\x88\\xe2\\x96\\x88\\xe2\\x96\\x8b       | 602M/2.20G [00:03<00:12, 129MB/s]\\r 28%|\\xe2\\x96\\x88\\xe2\\x96\\x88\\xe2\\x96\\x8a       | 624M/2.20G [00:03<00:10, 150MB/s]\\r 30%|\\xe2\\x96\\x88\\xe2\\x96\\x88\\xe2\\x96\\x89       | 659M/2.20G [00:03<00:07, 197MB/s]\\r 31%|\\xe2\\x96\\x88\\xe2\\x96\\x88\\xe2\\x96\\x88       | 681M/2.20G [00:03<00:07, 197MB/s]\\r 32%|\\xe2\\x96\\x88\\xe2\\x96\\x88\\xe2\\x96\\x88\\xe2\\x96\\x8f      | 703M/2.20G [00:03<00:07, 201MB/s]\\r 33%|\\xe2\\x96\\x88\\xe2\\x96\\x88\\xe2\\x96\\x88\\xe2\\x96\\x8e      | 732M/2.20G [00:04<00:06, 226MB/s]\\r 35%|\\xe2\\x96\\x88\\xe2\\x96\\x88\\xe2\\x96\\x88\\xe2\\x96\\x8d      | 761M/2.20G [00:04<00:05, 243MB/s]\\r 36%|\\xe2\\x96\\x88\\xe2\\x96\\x88\\xe2\\x96\\x88\\xe2\\x96\\x8c      | 786M/2.20G [00:04<00:06, 217MB/s]\\r 37%|\\xe2\\x96\\x88\\xe2\\x96\\x88\\xe2\\x96\\x88\\xe2\\x96\\x8b      | 810M/2.20G [00:04<00:06, 216MB/s]\\r 38%|\\xe2\\x96\\x88\\xe2\\x96\\x88\\xe2\\x96\\x88\\xe2\\x96\\x8a      | 836M/2.20G [00:04<00:05, 229MB/s]\\r 39%|\\xe2\\x96\\x88\\xe2\\x96\\x88\\xe2\\x96\\x88\\xe2\\x96\\x89      | 865M/2.20G [00:04<00:05, 243MB/s]\\r 41%|\\xe2\\x96\\x88\\xe2\\x96\\x88\\xe2\\x96\\x88\\xe2\\x96\\x88      | 891M/2.20G [00:04<00:05, 250MB/s]\\r 42%|\\xe2\\x96\\x88\\xe2\\x96\\x88\\xe2\\x96\\x88\\xe2\\x96\\x88\\xe2\\x96\\x8f     | 920M/2.20G [00:04<00:04, 258MB/s]\\r 43%|\\xe2\\x96\\x88\\xe2\\x96\\x88\\xe2\\x96\\x88\\xe2\\x96\\x88\\xe2\\x96\\x8e     | 948M/2.20G [00:04<00:04, 266MB/s]\\r 44%|\\xe2\\x96\\x88\\xe2\\x96\\x88\\xe2\\x96\\x88\\xe2\\x96\\x88\\xe2\\x96\\x8d     | 976M/2.20G [00:04<00:04, 268MB/s]\\r 46%|\\xe2\\x96\\x88\\xe2\\x96\\x88\\xe2\\x96\\x88\\xe2\\x96\\x88\\xe2\\x96\\x8c     | 1.00G/2.20G [00:05<00:04, 261MB/s]\\r 47%|\\xe2\\x96\\x88\\xe2\\x96\\x88\\xe2\\x96\\x88\\xe2\\x96\\x88\\xe2\\x96\\x8b     | 1.03G/2.20G [00:05<00:04, 256MB/s]\\r 48%|\\xe2\\x96\\x88\\xe2\\x96\\x88\\xe2\\x96\\x88\\xe2\\x96\\x88\\xe2\\x96\\x8a     | 1.06G/2.20G [00:05<00:04, 250MB/s]\\r 49%|\\xe2\\x96\\x88\\xe2\\x96\\x88\\xe2\\x96\\x88\\xe2\\x96\\x88\\xe2\\x96\\x89     | 1.08G/2.20G [00:05<00:05, 191MB/s]\\r 50%|\\xe2\\x96\\x88\\xe2\\x96\\x88\\xe2\\x96\\x88\\xe2\\x96\\x88\\xe2\\x96\\x88     | 1.11G/2.20G [00:05<00:05, 205MB/s]\\r 52%|\\xe2\\x96\\x88\\xe2\\x96\\x88\\xe2\\x96\\x88\\xe2\\x96\\x88\\xe2\\x96\\x88\\xe2\\x96\\x8f    | 1.14G/2.20G [00:05<00:04, 225MB/s]\\r 53%|\\xe2\\x96\\x88\\xe2\\x96\\x88\\xe2\\x96\\x88\\xe2\\x96\\x88\\xe2\\x96\\x88\\xe2\\x96\\x8e    | 1.16G/2.20G [00:05<00:04, 237MB/s]\\r 54%|\\xe2\\x96\\x88\\xe2\\x96\\x88\\xe2\\x96\\x88\\xe2\\x96\\x88\\xe2\\x96\\x88\\xe2\\x96\\x8d    | 1.19G/2.20G [00:05<00:04, 251MB/s]\\r 55%|\\xe2\\x96\\x88\\xe2\\x96\\x88\\xe2\\x96\\x88\\xe2\\x96\\x88\\xe2\\x96\\x88\\xe2\\x96\\x8c    | 1.22G/2.20G [00:06<00:05, 177MB/s]\\r 56%|\\xe2\\x96\\x88\\xe2\\x96\\x88\\xe2\\x96\\x88\\xe2\\x96\\x88\\xe2\\x96\\x88\\xe2\\x96\\x8b    | 1.24G/2.20G [00:06<00:05, 182MB/s]\\r 58%|\\xe2\\x96\\x88\\xe2\\x96\\x88\\xe2\\x96\\x88\\xe2\\x96\\x88\\xe2\\x96\\x88\\xe2\\x96\\x8a    | 1.27G/2.20G [00:06<00:04, 200MB/s]\\r 59%|\\xe2\\x96\\x88\\xe2\\x96\\x88\\xe2\\x96\\x88\\xe2\\x96\\x88\\xe2\\x96\\x88\\xe2\\x96\\x8a    | 1.29G/2.20G [00:06<00:04, 192MB/s]\\r 60%|\\xe2\\x96\\x88\\xe2\\x96\\x88\\xe2\\x96\\x88\\xe2\\x96\\x88\\xe2\\x96\\x88\\xe2\\x96\\x89    | 1.31G/2.20G [00:06<00:05, 158MB/s]\\r 61%|\\xe2\\x96\\x88\\xe2\\x96\\x88\\xe2\\x96\\x88\\xe2\\x96\\x88\\xe2\\x96\\x88\\xe2\\x96\\x88    | 1.34G/2.20G [00:06<00:04, 183MB/s]\\r 62%|\\xe2\\x96\\x88\\xe2\\x96\\x88\\xe2\\x96\\x88\\xe2\\x96\\x88\\xe2\\x96\\x88\\xe2\\x96\\x88\\xe2\\x96\\x8f   | 1.36G/2.20G [00:07<00:05, 152MB/s]\\r 63%|\\xe2\\x96\\x88\\xe2\\x96\\x88\\xe2\\x96\\x88\\xe2\\x96\\x88\\xe2\\x96\\x88\\xe2\\x96\\x88\\xe2\\x96\\x8e   | 1.38G/2.20G [00:07<00:04, 163MB/s]\\r 64%|\\xe2\\x96\\x88\\xe2\\x96\\x88\\xe2\\x96\\x88\\xe2\\x96\\x88\\xe2\\x96\\x88\\xe2\\x96\\x88\\xe2\\x96\\x8d   | 1.41G/2.20G [00:07<00:04, 165MB/s]\\r 65%|\\xe2\\x96\\x88\\xe2\\x96\\x88\\xe2\\x96\\x88\\xe2\\x96\\x88\\xe2\\x96\\x88\\xe2\\x96\\x88\\xe2\\x96\\x8c   | 1.43G/2.20G [00:07<00:04, 173MB/s]\\r 66%|\\xe2\\x96\\x88\\xe2\\x96\\x88\\xe2\\x96\\x88\\xe2\\x96\\x88\\xe2\\x96\\x88\\xe2\\x96\\x88\\xe2\\x96\\x8c   | 1.45G/2.20G [00:07<00:03, 188MB/s]\\r 67%|\\xe2\\x96\\x88\\xe2\\x96\\x88\\xe2\\x96\\x88\\xe2\\x96\\x88\\xe2\\x96\\x88\\xe2\\x96\\x88\\xe2\\x96\\x8b   | 1.47G/2.20G [00:07<00:04, 157MB/s]\\r 68%|\\xe2\\x96\\x88\\xe2\\x96\\x88\\xe2\\x96\\x88\\xe2\\x96\\x88\\xe2\\x96\\x88\\xe2\\x96\\x88\\xe2\\x96\\x8a   | 1.50G/2.20G [00:07<00:04, 173MB/s]\\r 69%|\\xe2\\x96\\x88\\xe2\\x96\\x88\\xe2\\x96\\x88\\xe2\\x96\\x88\\xe2\\x96\\x88\\xe2\\x96\\x88\\xe2\\x96\\x89   | 1.52G/2.20G [00:07<00:03, 198MB/s]\\r 70%|\\xe2\\x96\\x88\\xe2\\x96\\x88\\xe2\\x96\\x88\\xe2\\x96\\x88\\xe2\\x96\\x88\\xe2\\x96\\x88\\xe2\\x96\\x88   | 1.55G/2.20G [00:08<00:04, 150MB/s]\\r 71%|\\xe2\\x96\\x88\\xe2\\x96\\x88\\xe2\\x96\\x88\\xe2\\x96\\x88\\xe2\\x96\\x88\\xe2\\x96\\x88\\xe2\\x96\\x88\\xe2\\x96\\x8f  | 1.57G/2.20G [00:08<00:03, 161MB/s]\\r 72%|\\xe2\\x96\\x88\\xe2\\x96\\x88\\xe2\\x96\\x88\\xe2\\x96\\x88\\xe2\\x96\\x88\\xe2\\x96\\x88\\xe2\\x96\\x88\\xe2\\x96\\x8f  | 1.59G/2.20G [00:08<00:03, 166MB/s]\\r 73%|\\xe2\\x96\\x88\\xe2\\x96\\x88\\xe2\\x96\\x88\\xe2\\x96\\x88\\xe2\\x96\\x88\\xe2\\x96\\x88\\xe2\\x96\\x88\\xe2\\x96\\x8e  | 1.62G/2.20G [00:08<00:03, 193MB/s]\\r 75%|\\xe2\\x96\\x88\\xe2\\x96\\x88\\xe2\\x96\\x88\\xe2\\x96\\x88\\xe2\\x96\\x88\\xe2\\x96\\x88\\xe2\\x96\\x88\\xe2\\x96\\x8d  | 1.64G/2.20G [00:08<00:02, 217MB/s]\\r 76%|\\xe2\\x96\\x88\\xe2\\x96\\x88\\xe2\\x96\\x88\\xe2\\x96\\x88\\xe2\\x96\\x88\\xe2\\x96\\x88\\xe2\\x96\\x88\\xe2\\x96\\x8c  | 1.67G/2.20G [00:08<00:02, 235MB/s]\\r 77%|\\xe2\\x96\\x88\\xe2\\x96\\x88\\xe2\\x96\\x88\\xe2\\x96\\x88\\xe2\\x96\\x88\\xe2\\x96\\x88\\xe2\\x96\\x88\\xe2\\x96\\x8b  | 1.70G/2.20G [00:08<00:02, 239MB/s]\\r 78%|\\xe2\\x96\\x88\\xe2\\x96\\x88\\xe2\\x96\\x88\\xe2\\x96\\x88\\xe2\\x96\\x88\\xe2\\x96\\x88\\xe2\\x96\\x88\\xe2\\x96\\x8a  | 1.72G/2.20G [00:08<00:01, 238MB/s]\\r 80%|\\xe2\\x96\\x88\\xe2\\x96\\x88\\xe2\\x96\\x88\\xe2\\x96\\x88\\xe2\\x96\\x88\\xe2\\x96\\x88\\xe2\\x96\\x88\\xe2\\x96\\x89  | 1.75G/2.20G [00:08<00:01, 241MB/s]\\r 81%|\\xe2\\x96\\x88\\xe2\\x96\\x88\\xe2\\x96\\x88\\xe2\\x96\\x88\\xe2\\x96\\x88\\xe2\\x96\\x88\\xe2\\x96\\x88\\xe2\\x96\\x88  | 1.79G/2.20G [00:09<00:01, 264MB/s]\\r 82%|\\xe2\\x96\\x88\\xe2\\x96\\x88\\xe2\\x96\\x88\\xe2\\x96\\x88\\xe2\\x96\\x88\\xe2\\x96\\x88\\xe2\\x96\\x88\\xe2\\x96\\x88\\xe2\\x96\\x8f | 1.81G/2.20G [00:09<00:01, 254MB/s]\\r 84%|\\xe2\\x96\\x88\\xe2\\x96\\x88\\xe2\\x96\\x88\\xe2\\x96\\x88\\xe2\\x96\\x88\\xe2\\x96\\x88\\xe2\\x96\\x88\\xe2\\x96\\x88\\xe2\\x96\\x8e | 1.84G/2.20G [00:09<00:01, 252MB/s]\\r 85%|\\xe2\\x96\\x88\\xe2\\x96\\x88\\xe2\\x96\\x88\\xe2\\x96\\x88\\xe2\\x96\\x88\\xe2\\x96\\x88\\xe2\\x96\\x88\\xe2\\x96\\x88\\xe2\\x96\\x8d | 1.87G/2.20G [00:09<00:01, 259MB/s]\\r 86%|\\xe2\\x96\\x88\\xe2\\x96\\x88\\xe2\\x96\\x88\\xe2\\x96\\x88\\xe2\\x96\\x88\\xe2\\x96\\x88\\xe2\\x96\\x88\\xe2\\x96\\x88\\xe2\\x96\\x8b | 1.90G/2.20G [00:09<00:01, 275MB/s]\\r 88%|\\xe2\\x96\\x88\\xe2\\x96\\x88\\xe2\\x96\\x88\\xe2\\x96\\x88\\xe2\\x96\\x88\\xe2\\x96\\x88\\xe2\\x96\\x88\\xe2\\x96\\x88\\xe2\\x96\\x8a | 1.93G/2.20G [00:09<00:00, 294MB/s]\\r 89%|\\xe2\\x96\\x88\\xe2\\x96\\x88\\xe2\\x96\\x88\\xe2\\x96\\x88\\xe2\\x96\\x88\\xe2\\x96\\x88\\xe2\\x96\\x88\\xe2\\x96\\x88\\xe2\\x96\\x89 | 1.97G/2.20G [00:09<00:00, 306MB/s]\\r 91%|\\xe2\\x96\\x88\\xe2\\x96\\x88\\xe2\\x96\\x88\\xe2\\x96\\x88\\xe2\\x96\\x88\\xe2\\x96\\x88\\xe2\\x96\\x88\\xe2\\x96\\x88\\xe2\\x96\\x88 | 2.00G/2.20G [00:09<00:00, 247MB/s]\\r 92%|\\xe2\\x96\\x88\\xe2\\x96\\x88\\xe2\\x96\\x88\\xe2\\x96\\x88\\xe2\\x96\\x88\\xe2\\x96\\x88\\xe2\\x96\\x88\\xe2\\x96\\x88\\xe2\\x96\\x88\\xe2\\x96\\x8f| 2.03G/2.20G [00:09<00:00, 269MB/s]\\r 94%|\\xe2\\x96\\x88\\xe2\\x96\\x88\\xe2\\x96\\x88\\xe2\\x96\\x88\\xe2\\x96\\x88\\xe2\\x96\\x88\\xe2\\x96\\x88\\xe2\\x96\\x88\\xe2\\x96\\x88\\xe2\\x96\\x8d| 2.07G/2.20G [00:10<00:00, 286MB/s]\\r 95%|\\xe2\\x96\\x88\\xe2\\x96\\x88\\xe2\\x96\\x88\\xe2\\x96\\x88\\xe2\\x96\\x88\\xe2\\x96\\x88\\xe2\\x96\\x88\\xe2\\x96\\x88\\xe2\\x96\\x88\\xe2\\x96\\x8c| 2.10G/2.20G [00:10<00:00, 304MB/s]\\r 97%|\\xe2\\x96\\x88\\xe2\\x96\\x88\\xe2\\x96\\x88\\xe2\\x96\\x88\\xe2\\x96\\x88\\xe2\\x96\\x88\\xe2\\x96\\x88\\xe2\\x96\\x88\\xe2\\x96\\x88\\xe2\\x96\\x8b| 2.13G/2.20G [00:10<00:00, 303MB/s]\\r 98%|\\xe2\\x96\\x88\\xe2\\x96\\x88\\xe2\\x96\\x88\\xe2\\x96\\x88\\xe2\\x96\\x88\\xe2\\x96\\x88\\xe2\\x96\\x88\\xe2\\x96\\x88\\xe2\\x96\\x88\\xe2\\x96\\x8a| 2.16G/2.20G [00:10<00:00, 256MB/s]\\r100%|\\xe2\\x96\\x88\\xe2\\x96\\x88\\xe2\\x96\\x88\\xe2\\x96\\x88\\xe2\\x96\\x88\\xe2\\x96\\x88\\xe2\\x96\\x88\\xe2\\x96\\x88\\xe2\\x96\\x88\\xe2\\x96\\x89| 2.20G/2.20G [00:10<00:00, 273MB/s]\\r100%|\\xe2\\x96\\x88\\xe2\\x96\\x88\\xe2\\x96\\x88\\xe2\\x96\\x88\\xe2\\x96\\x88\\xe2\\x96\\x88\\xe2\\x96\\x88\\xe2\\x96\\x88\\xe2\\x96\\x88\\xe2\\x96\\x88| 2.20G/2.20G [00:10<00:00, 208MB/s]\\n\")\n",
            "CompletedProcess(args=['gdown', '--id', '1iWqF8dWpDPZbciufcUyPuprLfcP4Zs4w', '--output', 'data.zip'], returncode=0, stdout=b'', stderr=b\"/usr/local/lib/python3.7/dist-packages/gdown/cli.py:131: FutureWarning: Option `--id` was deprecated in version 4.3.1 and will be removed in 5.0. You don't need to pass it anymore to use a file ID.\\n  category=FutureWarning,\\nDownloading...\\nFrom: https://drive.google.com/uc?id=1iWqF8dWpDPZbciufcUyPuprLfcP4Zs4w\\nTo: /content/strv/data.zip\\n\\r  0%|          | 0.00/2.20G [00:00<?, ?B/s]\\r  0%|          | 9.96M/2.20G [00:00<00:22, 98.2MB/s]\\r  2%|\\xe2\\x96\\x8f         | 35.1M/2.20G [00:00<00:11, 187MB/s] \\r  3%|\\xe2\\x96\\x8e         | 65.0M/2.20G [00:00<00:09, 236MB/s]\\r  4%|\\xe2\\x96\\x8d         | 94.9M/2.20G [00:00<00:08, 259MB/s]\\r  6%|\\xe2\\x96\\x8c         | 125M/2.20G [00:00<00:07, 274MB/s] \\r  7%|\\xe2\\x96\\x8b         | 156M/2.20G [00:00<00:07, 286MB/s]\\r  8%|\\xe2\\x96\\x8a         | 185M/2.20G [00:00<00:07, 280MB/s]\\r 10%|\\xe2\\x96\\x89         | 213M/2.20G [00:00<00:08, 223MB/s]\\r 11%|\\xe2\\x96\\x88         | 238M/2.20G [00:01<00:08, 219MB/s]\\r 12%|\\xe2\\x96\\x88\\xe2\\x96\\x8f        | 261M/2.20G [00:01<00:09, 201MB/s]\\r 13%|\\xe2\\x96\\x88\\xe2\\x96\\x8e        | 283M/2.20G [00:01<00:09, 197MB/s]\\r 14%|\\xe2\\x96\\x88\\xe2\\x96\\x8d        | 303M/2.20G [00:01<00:12, 155MB/s]\\r 15%|\\xe2\\x96\\x88\\xe2\\x96\\x8d        | 328M/2.20G [00:01<00:10, 175MB/s]\\r 16%|\\xe2\\x96\\x88\\xe2\\x96\\x8c        | 347M/2.20G [00:01<00:10, 171MB/s]\\r 17%|\\xe2\\x96\\x88\\xe2\\x96\\x8b        | 370M/2.20G [00:01<00:10, 178MB/s]\\r 18%|\\xe2\\x96\\x88\\xe2\\x96\\x8a        | 391M/2.20G [00:01<00:09, 185MB/s]\\r 19%|\\xe2\\x96\\x88\\xe2\\x96\\x8a        | 412M/2.20G [00:02<00:09, 193MB/s]\\r 20%|\\xe2\\x96\\x88\\xe2\\x96\\x89        | 433M/2.20G [00:02<00:12, 146MB/s]\\r 21%|\\xe2\\x96\\x88\\xe2\\x96\\x88        | 460M/2.20G [00:02<00:09, 175MB/s]\\r 22%|\\xe2\\x96\\x88\\xe2\\x96\\x88\\xe2\\x96\\x8f       | 480M/2.20G [00:02<00:11, 153MB/s]\\r 23%|\\xe2\\x96\\x88\\xe2\\x96\\x88\\xe2\\x96\\x8e       | 504M/2.20G [00:02<00:10, 167MB/s]\\r 24%|\\xe2\\x96\\x88\\xe2\\x96\\x88\\xe2\\x96\\x8d       | 529M/2.20G [00:02<00:10, 164MB/s]\\r 25%|\\xe2\\x96\\x88\\xe2\\x96\\x88\\xe2\\x96\\x8d       | 547M/2.20G [00:03<00:15, 107MB/s]\\r 26%|\\xe2\\x96\\x88\\xe2\\x96\\x88\\xe2\\x96\\x8c       | 571M/2.20G [00:03<00:13, 125MB/s]\\r 27%|\\xe2\\x96\\x88\\xe2\\x96\\x88\\xe2\\x96\\x8b       | 587M/2.20G [00:03<00:12, 127MB/s]\\r 27%|\\xe2\\x96\\x88\\xe2\\x96\\x88\\xe2\\x96\\x8b       | 602M/2.20G [00:03<00:12, 129MB/s]\\r 28%|\\xe2\\x96\\x88\\xe2\\x96\\x88\\xe2\\x96\\x8a       | 624M/2.20G [00:03<00:10, 150MB/s]\\r 30%|\\xe2\\x96\\x88\\xe2\\x96\\x88\\xe2\\x96\\x89       | 659M/2.20G [00:03<00:07, 197MB/s]\\r 31%|\\xe2\\x96\\x88\\xe2\\x96\\x88\\xe2\\x96\\x88       | 681M/2.20G [00:03<00:07, 197MB/s]\\r 32%|\\xe2\\x96\\x88\\xe2\\x96\\x88\\xe2\\x96\\x88\\xe2\\x96\\x8f      | 703M/2.20G [00:03<00:07, 201MB/s]\\r 33%|\\xe2\\x96\\x88\\xe2\\x96\\x88\\xe2\\x96\\x88\\xe2\\x96\\x8e      | 732M/2.20G [00:04<00:06, 226MB/s]\\r 35%|\\xe2\\x96\\x88\\xe2\\x96\\x88\\xe2\\x96\\x88\\xe2\\x96\\x8d      | 761M/2.20G [00:04<00:05, 243MB/s]\\r 36%|\\xe2\\x96\\x88\\xe2\\x96\\x88\\xe2\\x96\\x88\\xe2\\x96\\x8c      | 786M/2.20G [00:04<00:06, 217MB/s]\\r 37%|\\xe2\\x96\\x88\\xe2\\x96\\x88\\xe2\\x96\\x88\\xe2\\x96\\x8b      | 810M/2.20G [00:04<00:06, 216MB/s]\\r 38%|\\xe2\\x96\\x88\\xe2\\x96\\x88\\xe2\\x96\\x88\\xe2\\x96\\x8a      | 836M/2.20G [00:04<00:05, 229MB/s]\\r 39%|\\xe2\\x96\\x88\\xe2\\x96\\x88\\xe2\\x96\\x88\\xe2\\x96\\x89      | 865M/2.20G [00:04<00:05, 243MB/s]\\r 41%|\\xe2\\x96\\x88\\xe2\\x96\\x88\\xe2\\x96\\x88\\xe2\\x96\\x88      | 891M/2.20G [00:04<00:05, 250MB/s]\\r 42%|\\xe2\\x96\\x88\\xe2\\x96\\x88\\xe2\\x96\\x88\\xe2\\x96\\x88\\xe2\\x96\\x8f     | 920M/2.20G [00:04<00:04, 258MB/s]\\r 43%|\\xe2\\x96\\x88\\xe2\\x96\\x88\\xe2\\x96\\x88\\xe2\\x96\\x88\\xe2\\x96\\x8e     | 948M/2.20G [00:04<00:04, 266MB/s]\\r 44%|\\xe2\\x96\\x88\\xe2\\x96\\x88\\xe2\\x96\\x88\\xe2\\x96\\x88\\xe2\\x96\\x8d     | 976M/2.20G [00:04<00:04, 268MB/s]\\r 46%|\\xe2\\x96\\x88\\xe2\\x96\\x88\\xe2\\x96\\x88\\xe2\\x96\\x88\\xe2\\x96\\x8c     | 1.00G/2.20G [00:05<00:04, 261MB/s]\\r 47%|\\xe2\\x96\\x88\\xe2\\x96\\x88\\xe2\\x96\\x88\\xe2\\x96\\x88\\xe2\\x96\\x8b     | 1.03G/2.20G [00:05<00:04, 256MB/s]\\r 48%|\\xe2\\x96\\x88\\xe2\\x96\\x88\\xe2\\x96\\x88\\xe2\\x96\\x88\\xe2\\x96\\x8a     | 1.06G/2.20G [00:05<00:04, 250MB/s]\\r 49%|\\xe2\\x96\\x88\\xe2\\x96\\x88\\xe2\\x96\\x88\\xe2\\x96\\x88\\xe2\\x96\\x89     | 1.08G/2.20G [00:05<00:05, 191MB/s]\\r 50%|\\xe2\\x96\\x88\\xe2\\x96\\x88\\xe2\\x96\\x88\\xe2\\x96\\x88\\xe2\\x96\\x88     | 1.11G/2.20G [00:05<00:05, 205MB/s]\\r 52%|\\xe2\\x96\\x88\\xe2\\x96\\x88\\xe2\\x96\\x88\\xe2\\x96\\x88\\xe2\\x96\\x88\\xe2\\x96\\x8f    | 1.14G/2.20G [00:05<00:04, 225MB/s]\\r 53%|\\xe2\\x96\\x88\\xe2\\x96\\x88\\xe2\\x96\\x88\\xe2\\x96\\x88\\xe2\\x96\\x88\\xe2\\x96\\x8e    | 1.16G/2.20G [00:05<00:04, 237MB/s]\\r 54%|\\xe2\\x96\\x88\\xe2\\x96\\x88\\xe2\\x96\\x88\\xe2\\x96\\x88\\xe2\\x96\\x88\\xe2\\x96\\x8d    | 1.19G/2.20G [00:05<00:04, 251MB/s]\\r 55%|\\xe2\\x96\\x88\\xe2\\x96\\x88\\xe2\\x96\\x88\\xe2\\x96\\x88\\xe2\\x96\\x88\\xe2\\x96\\x8c    | 1.22G/2.20G [00:06<00:05, 177MB/s]\\r 56%|\\xe2\\x96\\x88\\xe2\\x96\\x88\\xe2\\x96\\x88\\xe2\\x96\\x88\\xe2\\x96\\x88\\xe2\\x96\\x8b    | 1.24G/2.20G [00:06<00:05, 182MB/s]\\r 58%|\\xe2\\x96\\x88\\xe2\\x96\\x88\\xe2\\x96\\x88\\xe2\\x96\\x88\\xe2\\x96\\x88\\xe2\\x96\\x8a    | 1.27G/2.20G [00:06<00:04, 200MB/s]\\r 59%|\\xe2\\x96\\x88\\xe2\\x96\\x88\\xe2\\x96\\x88\\xe2\\x96\\x88\\xe2\\x96\\x88\\xe2\\x96\\x8a    | 1.29G/2.20G [00:06<00:04, 192MB/s]\\r 60%|\\xe2\\x96\\x88\\xe2\\x96\\x88\\xe2\\x96\\x88\\xe2\\x96\\x88\\xe2\\x96\\x88\\xe2\\x96\\x89    | 1.31G/2.20G [00:06<00:05, 158MB/s]\\r 61%|\\xe2\\x96\\x88\\xe2\\x96\\x88\\xe2\\x96\\x88\\xe2\\x96\\x88\\xe2\\x96\\x88\\xe2\\x96\\x88    | 1.34G/2.20G [00:06<00:04, 183MB/s]\\r 62%|\\xe2\\x96\\x88\\xe2\\x96\\x88\\xe2\\x96\\x88\\xe2\\x96\\x88\\xe2\\x96\\x88\\xe2\\x96\\x88\\xe2\\x96\\x8f   | 1.36G/2.20G [00:07<00:05, 152MB/s]\\r 63%|\\xe2\\x96\\x88\\xe2\\x96\\x88\\xe2\\x96\\x88\\xe2\\x96\\x88\\xe2\\x96\\x88\\xe2\\x96\\x88\\xe2\\x96\\x8e   | 1.38G/2.20G [00:07<00:04, 163MB/s]\\r 64%|\\xe2\\x96\\x88\\xe2\\x96\\x88\\xe2\\x96\\x88\\xe2\\x96\\x88\\xe2\\x96\\x88\\xe2\\x96\\x88\\xe2\\x96\\x8d   | 1.41G/2.20G [00:07<00:04, 165MB/s]\\r 65%|\\xe2\\x96\\x88\\xe2\\x96\\x88\\xe2\\x96\\x88\\xe2\\x96\\x88\\xe2\\x96\\x88\\xe2\\x96\\x88\\xe2\\x96\\x8c   | 1.43G/2.20G [00:07<00:04, 173MB/s]\\r 66%|\\xe2\\x96\\x88\\xe2\\x96\\x88\\xe2\\x96\\x88\\xe2\\x96\\x88\\xe2\\x96\\x88\\xe2\\x96\\x88\\xe2\\x96\\x8c   | 1.45G/2.20G [00:07<00:03, 188MB/s]\\r 67%|\\xe2\\x96\\x88\\xe2\\x96\\x88\\xe2\\x96\\x88\\xe2\\x96\\x88\\xe2\\x96\\x88\\xe2\\x96\\x88\\xe2\\x96\\x8b   | 1.47G/2.20G [00:07<00:04, 157MB/s]\\r 68%|\\xe2\\x96\\x88\\xe2\\x96\\x88\\xe2\\x96\\x88\\xe2\\x96\\x88\\xe2\\x96\\x88\\xe2\\x96\\x88\\xe2\\x96\\x8a   | 1.50G/2.20G [00:07<00:04, 173MB/s]\\r 69%|\\xe2\\x96\\x88\\xe2\\x96\\x88\\xe2\\x96\\x88\\xe2\\x96\\x88\\xe2\\x96\\x88\\xe2\\x96\\x88\\xe2\\x96\\x89   | 1.52G/2.20G [00:07<00:03, 198MB/s]\\r 70%|\\xe2\\x96\\x88\\xe2\\x96\\x88\\xe2\\x96\\x88\\xe2\\x96\\x88\\xe2\\x96\\x88\\xe2\\x96\\x88\\xe2\\x96\\x88   | 1.55G/2.20G [00:08<00:04, 150MB/s]\\r 71%|\\xe2\\x96\\x88\\xe2\\x96\\x88\\xe2\\x96\\x88\\xe2\\x96\\x88\\xe2\\x96\\x88\\xe2\\x96\\x88\\xe2\\x96\\x88\\xe2\\x96\\x8f  | 1.57G/2.20G [00:08<00:03, 161MB/s]\\r 72%|\\xe2\\x96\\x88\\xe2\\x96\\x88\\xe2\\x96\\x88\\xe2\\x96\\x88\\xe2\\x96\\x88\\xe2\\x96\\x88\\xe2\\x96\\x88\\xe2\\x96\\x8f  | 1.59G/2.20G [00:08<00:03, 166MB/s]\\r 73%|\\xe2\\x96\\x88\\xe2\\x96\\x88\\xe2\\x96\\x88\\xe2\\x96\\x88\\xe2\\x96\\x88\\xe2\\x96\\x88\\xe2\\x96\\x88\\xe2\\x96\\x8e  | 1.62G/2.20G [00:08<00:03, 193MB/s]\\r 75%|\\xe2\\x96\\x88\\xe2\\x96\\x88\\xe2\\x96\\x88\\xe2\\x96\\x88\\xe2\\x96\\x88\\xe2\\x96\\x88\\xe2\\x96\\x88\\xe2\\x96\\x8d  | 1.64G/2.20G [00:08<00:02, 217MB/s]\\r 76%|\\xe2\\x96\\x88\\xe2\\x96\\x88\\xe2\\x96\\x88\\xe2\\x96\\x88\\xe2\\x96\\x88\\xe2\\x96\\x88\\xe2\\x96\\x88\\xe2\\x96\\x8c  | 1.67G/2.20G [00:08<00:02, 235MB/s]\\r 77%|\\xe2\\x96\\x88\\xe2\\x96\\x88\\xe2\\x96\\x88\\xe2\\x96\\x88\\xe2\\x96\\x88\\xe2\\x96\\x88\\xe2\\x96\\x88\\xe2\\x96\\x8b  | 1.70G/2.20G [00:08<00:02, 239MB/s]\\r 78%|\\xe2\\x96\\x88\\xe2\\x96\\x88\\xe2\\x96\\x88\\xe2\\x96\\x88\\xe2\\x96\\x88\\xe2\\x96\\x88\\xe2\\x96\\x88\\xe2\\x96\\x8a  | 1.72G/2.20G [00:08<00:01, 238MB/s]\\r 80%|\\xe2\\x96\\x88\\xe2\\x96\\x88\\xe2\\x96\\x88\\xe2\\x96\\x88\\xe2\\x96\\x88\\xe2\\x96\\x88\\xe2\\x96\\x88\\xe2\\x96\\x89  | 1.75G/2.20G [00:08<00:01, 241MB/s]\\r 81%|\\xe2\\x96\\x88\\xe2\\x96\\x88\\xe2\\x96\\x88\\xe2\\x96\\x88\\xe2\\x96\\x88\\xe2\\x96\\x88\\xe2\\x96\\x88\\xe2\\x96\\x88  | 1.79G/2.20G [00:09<00:01, 264MB/s]\\r 82%|\\xe2\\x96\\x88\\xe2\\x96\\x88\\xe2\\x96\\x88\\xe2\\x96\\x88\\xe2\\x96\\x88\\xe2\\x96\\x88\\xe2\\x96\\x88\\xe2\\x96\\x88\\xe2\\x96\\x8f | 1.81G/2.20G [00:09<00:01, 254MB/s]\\r 84%|\\xe2\\x96\\x88\\xe2\\x96\\x88\\xe2\\x96\\x88\\xe2\\x96\\x88\\xe2\\x96\\x88\\xe2\\x96\\x88\\xe2\\x96\\x88\\xe2\\x96\\x88\\xe2\\x96\\x8e | 1.84G/2.20G [00:09<00:01, 252MB/s]\\r 85%|\\xe2\\x96\\x88\\xe2\\x96\\x88\\xe2\\x96\\x88\\xe2\\x96\\x88\\xe2\\x96\\x88\\xe2\\x96\\x88\\xe2\\x96\\x88\\xe2\\x96\\x88\\xe2\\x96\\x8d | 1.87G/2.20G [00:09<00:01, 259MB/s]\\r 86%|\\xe2\\x96\\x88\\xe2\\x96\\x88\\xe2\\x96\\x88\\xe2\\x96\\x88\\xe2\\x96\\x88\\xe2\\x96\\x88\\xe2\\x96\\x88\\xe2\\x96\\x88\\xe2\\x96\\x8b | 1.90G/2.20G [00:09<00:01, 275MB/s]\\r 88%|\\xe2\\x96\\x88\\xe2\\x96\\x88\\xe2\\x96\\x88\\xe2\\x96\\x88\\xe2\\x96\\x88\\xe2\\x96\\x88\\xe2\\x96\\x88\\xe2\\x96\\x88\\xe2\\x96\\x8a | 1.93G/2.20G [00:09<00:00, 294MB/s]\\r 89%|\\xe2\\x96\\x88\\xe2\\x96\\x88\\xe2\\x96\\x88\\xe2\\x96\\x88\\xe2\\x96\\x88\\xe2\\x96\\x88\\xe2\\x96\\x88\\xe2\\x96\\x88\\xe2\\x96\\x89 | 1.97G/2.20G [00:09<00:00, 306MB/s]\\r 91%|\\xe2\\x96\\x88\\xe2\\x96\\x88\\xe2\\x96\\x88\\xe2\\x96\\x88\\xe2\\x96\\x88\\xe2\\x96\\x88\\xe2\\x96\\x88\\xe2\\x96\\x88\\xe2\\x96\\x88 | 2.00G/2.20G [00:09<00:00, 247MB/s]\\r 92%|\\xe2\\x96\\x88\\xe2\\x96\\x88\\xe2\\x96\\x88\\xe2\\x96\\x88\\xe2\\x96\\x88\\xe2\\x96\\x88\\xe2\\x96\\x88\\xe2\\x96\\x88\\xe2\\x96\\x88\\xe2\\x96\\x8f| 2.03G/2.20G [00:09<00:00, 269MB/s]\\r 94%|\\xe2\\x96\\x88\\xe2\\x96\\x88\\xe2\\x96\\x88\\xe2\\x96\\x88\\xe2\\x96\\x88\\xe2\\x96\\x88\\xe2\\x96\\x88\\xe2\\x96\\x88\\xe2\\x96\\x88\\xe2\\x96\\x8d| 2.07G/2.20G [00:10<00:00, 286MB/s]\\r 95%|\\xe2\\x96\\x88\\xe2\\x96\\x88\\xe2\\x96\\x88\\xe2\\x96\\x88\\xe2\\x96\\x88\\xe2\\x96\\x88\\xe2\\x96\\x88\\xe2\\x96\\x88\\xe2\\x96\\x88\\xe2\\x96\\x8c| 2.10G/2.20G [00:10<00:00, 304MB/s]\\r 97%|\\xe2\\x96\\x88\\xe2\\x96\\x88\\xe2\\x96\\x88\\xe2\\x96\\x88\\xe2\\x96\\x88\\xe2\\x96\\x88\\xe2\\x96\\x88\\xe2\\x96\\x88\\xe2\\x96\\x88\\xe2\\x96\\x8b| 2.13G/2.20G [00:10<00:00, 303MB/s]\\r 98%|\\xe2\\x96\\x88\\xe2\\x96\\x88\\xe2\\x96\\x88\\xe2\\x96\\x88\\xe2\\x96\\x88\\xe2\\x96\\x88\\xe2\\x96\\x88\\xe2\\x96\\x88\\xe2\\x96\\x88\\xe2\\x96\\x8a| 2.16G/2.20G [00:10<00:00, 256MB/s]\\r100%|\\xe2\\x96\\x88\\xe2\\x96\\x88\\xe2\\x96\\x88\\xe2\\x96\\x88\\xe2\\x96\\x88\\xe2\\x96\\x88\\xe2\\x96\\x88\\xe2\\x96\\x88\\xe2\\x96\\x88\\xe2\\x96\\x89| 2.20G/2.20G [00:10<00:00, 273MB/s]\\r100%|\\xe2\\x96\\x88\\xe2\\x96\\x88\\xe2\\x96\\x88\\xe2\\x96\\x88\\xe2\\x96\\x88\\xe2\\x96\\x88\\xe2\\x96\\x88\\xe2\\x96\\x88\\xe2\\x96\\x88\\xe2\\x96\\x88| 2.20G/2.20G [00:10<00:00, 208MB/s]\\n\")\n"
          ]
        }
      ]
    },
    {
      "cell_type": "code",
      "execution_count": 13,
      "metadata": {
        "id": "gGbw5uutr0PP"
      },
      "outputs": [],
      "source": [
        "# Check if dataset is already downloaded or needs to be downloaded.\n",
        "configuration = Configuration()\n",
        "dataset_path = configuration.get('input_images_path')\n",
        "if(exists(MTF_MODEL_NAME) == False):\n",
        "  if os.path.isdir(dataset_path):\n",
        "      print('Dataset already downloaded')\n",
        "  else:\n",
        "      print('Downloading dataset')\n",
        "      print('Downloading dataset')\n",
        "      dataset_archive_path = os.path.join('data', 'lfw-deepfunneled.tgz')\n",
        "      download_data('http://vis-www.cs.umass.edu/lfw/lfw-deepfunneled.tgz', dataset_archive_path)\n",
        "      print('Extracting dataset')\n",
        "      tar = tarfile.open(dataset_archive_path, 'r:gz')\n",
        "      tar.extractall('data')\n",
        "      tar.close()\n",
        "      print('Done')"
      ]
    },
    {
      "cell_type": "markdown",
      "metadata": {
        "id": "uyfxprTdr0PP"
      },
      "source": [
        "## 2) Data generation\n",
        "Next step is to generate data for neural network training. We need input images (person with a face mask) and corresponding output image (the same image as input but without the face mask). We already have output images in downloaded dataset. Input images will be created by adding mask on the faces with a help from [MaskTheFace GitHub](https://github.com/aqeelanwar/MaskTheFace) project."
      ]
    },
    {
      "cell_type": "code",
      "execution_count": 14,
      "metadata": {
        "id": "n0wNPwY-r0PQ",
        "colab": {
          "base_uri": "https://localhost:8080/",
          "height": 85,
          "referenced_widgets": [
            "54b863c38a2742d3b084623d65612784",
            "e90ba06b6a4a49a589eaab530903521d",
            "6021fe9a33894dd782f92558d2c034b4",
            "b937937eb3d346709e9aa181906c2b76",
            "5753381ec76d442aa3835658f3588269",
            "64317e9355444615bb1b7cb9c493b9b1",
            "3a6837a972a048b889ee9e74cb7d8553",
            "d65ad34f4a614e368e4f1fb80d97e435",
            "dc9734662fc148ea9d7b2b48184d0dad",
            "f5b2dc499c55416cb8a7635c97b11a43",
            "eb124c4136cb4d74928d20c8d98ffbab"
          ]
        },
        "outputId": "8ce0fa89-1738-426f-d41d-23d55b8f4ee5"
      },
      "outputs": [
        {
          "output_type": "stream",
          "name": "stdout",
          "text": [
            "Downloading missing predictor.\n"
          ]
        },
        {
          "output_type": "display_data",
          "data": {
            "text/plain": [
              "  0%|          | 0/64040097 [00:00<?, ?it/s]"
            ],
            "application/vnd.jupyter.widget-view+json": {
              "version_major": 2,
              "version_minor": 0,
              "model_id": "54b863c38a2742d3b084623d65612784"
            }
          },
          "metadata": {}
        },
        {
          "output_type": "stream",
          "name": "stdout",
          "text": [
            "Decompressing downloaded file into shape_predictor_68_face_landmarks.dat\n"
          ]
        }
      ],
      "source": [
        "# setup the pipeline and generate data\n",
        "dg = DataGenerator(configuration)  \n",
        "train_folder = configuration.get('train_data_path')\n",
        "test_folder = configuration.get('test_data_path')\n",
        "if(exists(MTF_MODEL_NAME) == False):\n",
        "  if os.path.exists(train_folder) and os.path.exists(test_folder):\n",
        "      print('Testing and training data already generated')\n",
        "  else:\n",
        "    dg.generate_images()\n",
        "\n",
        "  print('Here are few examples of generated data.')\n",
        "  n_examples = 5\n",
        "  inputs, outputs = dg.get_dataset_examples(n_examples)\n",
        "  f, axarr = plt.subplots(2, n_examples, figsize=(20, 10))\n",
        "  for i in range(len(inputs)):\n",
        "      axarr[1, i].imshow(mpimg.imread(inputs[i]))\n",
        "      axarr[1, i].axis('off')\n",
        "      axarr[0, i].imshow(mpimg.imread(outputs[i]))\n",
        "      axarr[0, i].axis('off')"
      ]
    },
    {
      "cell_type": "markdown",
      "metadata": {
        "id": "6mujeaF2r0PQ"
      },
      "source": [
        "## 3) Model training\n",
        "Now we have all the data, and we can initiate model and start training."
      ]
    },
    {
      "cell_type": "code",
      "execution_count": 15,
      "metadata": {
        "id": "-xL1SHPYr0PR"
      },
      "outputs": [],
      "source": [
        "# Feel free to experiment with the number of filters, their sizes or any other parameters\n",
        "if(exists(MTF_MODEL_NAME) == False):\n",
        "  filters = (64, 128, 128, 256, 256, 512)\n",
        "  kernels = (7, 7, 7, 3, 3, 3)\n",
        "  input_image_size = (256, 256, 3)\n",
        "  architecture = UNet.RESNET\n",
        "  training_epochs = 20\n",
        "  batch_size = 12\n",
        "\n",
        "  # Create instance of model and start training\n",
        "  model = Mask2FaceModel.build_model(architecture=architecture, input_size=input_image_size, filters=filters,\n",
        "                                    kernels=kernels, configuration=configuration)\n",
        "  model.train(epochs=training_epochs, batch_size=batch_size, loss_function='ssim_l1_loss')\n",
        "\n",
        "  model.compute_output_shape(input_shape=(None, 256,256,3))\n",
        "else:\n",
        "  trained_model = Mask2FaceModel.load_model('model_epochs-20_batch-12_loss-ssim_l1_loss_20220518_03_20_51.h5')"
      ]
    },
    {
      "cell_type": "markdown",
      "metadata": {
        "id": "IIac0QCCr0PS"
      },
      "source": [
        "## 4) Results\n",
        "Our model is trained, and we can look at it's performance"
      ]
    },
    {
      "cell_type": "code",
      "execution_count": 16,
      "metadata": {
        "id": "gqz5gEBar0PS",
        "colab": {
          "base_uri": "https://localhost:8080/",
          "height": 681
        },
        "outputId": "8777ceb1-5538-4c5e-b677-9a516d1554ee"
      },
      "outputs": [
        {
          "output_type": "stream",
          "name": "stdout",
          "text": [
            "WARNING:tensorflow:5 out of the last 11 calls to <function Model.make_predict_function.<locals>.predict_function at 0x7ff9c883e3b0> triggered tf.function retracing. Tracing is expensive and the excessive number of tracings could be due to (1) creating @tf.function repeatedly in a loop, (2) passing tensors with different shapes, (3) passing Python objects instead of tensors. For (1), please define your @tf.function outside of the loop. For (2), @tf.function has experimental_relax_shapes=True option that relaxes argument shapes that can avoid unnecessary retracing. For (3), please refer to https://www.tensorflow.org/guide/function#controlling_retracing and https://www.tensorflow.org/api_docs/python/tf/function for  more details.\n",
            "(242, 256)\n",
            "WARNING:tensorflow:5 out of the last 11 calls to <function Model.make_predict_function.<locals>.predict_function at 0x7ff9c810f950> triggered tf.function retracing. Tracing is expensive and the excessive number of tracings could be due to (1) creating @tf.function repeatedly in a loop, (2) passing tensors with different shapes, (3) passing Python objects instead of tensors. For (1), please define your @tf.function outside of the loop. For (2), @tf.function has experimental_relax_shapes=True option that relaxes argument shapes that can avoid unnecessary retracing. For (3), please refer to https://www.tensorflow.org/guide/function#controlling_retracing and https://www.tensorflow.org/api_docs/python/tf/function for  more details.\n",
            "(256, 256)\n",
            "No keypoints detected on image\n",
            "(256, 256)\n",
            "Outputs generated on previously unseen data.\n"
          ]
        },
        {
          "output_type": "display_data",
          "data": {
            "text/plain": [
              "<Figure size 720x648 with 9 Axes>"
            ],
            "image/png": "[encoded data removed]"
          },
          "metadata": {
            "needs_background": "light"
          }
        }
      ],
      "source": [
        "# Let's see the results on a random testing image unseen by the model before.\n",
        "# Run this cell multiple times to see different results\n",
        "n_examples = 3\n",
        "input_imgs, true_output_imgs = dg.get_dataset_examples(n_examples, test_dataset=False)\n",
        "f, axarr = plt.subplots(n_examples, 3, figsize=(10, n_examples * 3))\n",
        "for i, img in enumerate(input_imgs):\n",
        "    generated_output = trained_model.predict(img)\n",
        "    axarr[i, 0].imshow(mpimg.imread(input_imgs[i]))\n",
        "    axarr[i, 0].axis('off')\n",
        "    axarr[i, 1].imshow(mpimg.imread(true_output_imgs[i]))\n",
        "    axarr[i, 1].axis('off')\n",
        "    axarr[i, 2].imshow(generated_output)\n",
        "    axarr[i, 2].axis('off')\n",
        "\n",
        "axarr[0, 0].set_title('Input images')\n",
        "axarr[0, 1].set_title('Real outputs')\n",
        "axarr[0, 2].set_title('Generated outputs')\n",
        "print('Outputs generated on previously unseen data.')"
      ]
    },
    {
      "cell_type": "code",
      "source": [
        "download_data('http://vis-www.cs.umass.edu/lfw/lfw-deepfunneled.tgz', \"lfw-deepfunneled.tgz\")\n",
        "!mv  lfw-deepfunneled.tgz /tmp/"
      ],
      "metadata": {
        "colab": {
          "base_uri": "https://localhost:8080/",
          "height": 49,
          "referenced_widgets": [
            "e8a07d058d4d48829ca0285ac8308106",
            "84f612070b3646c5911676404773bf2b",
            "c94c5f5c37d643b5b32c8fd6026ca14b",
            "ed29b7775c4445de866d1ead9bf1be39",
            "b487bc1ab2474a6eb5b8b39d97d65b07",
            "01fd45313e3a4e6ea17d500c668e9dbb",
            "2d30c6af06a0478a8e1517c524157c5d",
            "b5f5002e2a41494581d7e75b3d793530",
            "f432f6a6ac274fa39033eab3bb05cd60",
            "4e81256dc1d4414d9c639e0dc87ed0ab",
            "c5e678b5f7ea4c00b0f366ca7af577a5"
          ]
        },
        "id": "PMewAi2MxWx5",
        "outputId": "60c0382d-93b7-4f66-b02b-2018031dbf58"
      },
      "execution_count": 17,
      "outputs": [
        {
          "output_type": "display_data",
          "data": {
            "text/plain": [
              "  0%|          | 0/108761145 [00:00<?, ?it/s]"
            ],
            "application/vnd.jupyter.widget-view+json": {
              "version_major": 2,
              "version_minor": 0,
              "model_id": "e8a07d058d4d48829ca0285ac8308106"
            }
          },
          "metadata": {}
        }
      ]
    },
    {
      "cell_type": "code",
      "source": [
        "download_from_drive(\"1cSDdwsCbshVPy5V9n7-BRfxxXzGIh_hH\",'MLFW.zip')\n",
        "!mv MLFW.zip /tmp/"
      ],
      "metadata": {
        "colab": {
          "base_uri": "https://localhost:8080/"
        },
        "id": "muzKgU89B7Bx",
        "outputId": "83c82825-b649-4957-8b41-e265168a4198"
      },
      "execution_count": 18,
      "outputs": [
        {
          "output_type": "stream",
          "name": "stdout",
          "text": [
            "CompletedProcess(args=['gdown', '--id', '1cSDdwsCbshVPy5V9n7-BRfxxXzGIh_hH', '--output', 'MLFW.zip'], returncode=0, stdout=b'', stderr=b\"/usr/local/lib/python3.7/dist-packages/gdown/cli.py:131: FutureWarning: Option `--id` was deprecated in version 4.3.1 and will be removed in 5.0. You don't need to pass it anymore to use a file ID.\\n  category=FutureWarning,\\nDownloading...\\nFrom: https://drive.google.com/uc?id=1cSDdwsCbshVPy5V9n7-BRfxxXzGIh_hH\\nTo: /content/strv/MLFW.zip\\n\\r  0%|          | 0.00/275M [00:00<?, ?B/s]\\r  2%|\\xe2\\x96\\x8f         | 4.72M/275M [00:00<00:15, 17.1MB/s]\\r  3%|\\xe2\\x96\\x8e         | 8.91M/275M [00:01<00:43, 6.05MB/s]\\r 12%|\\xe2\\x96\\x88\\xe2\\x96\\x8f        | 34.1M/275M [00:01<00:08, 29.9MB/s]\\r 15%|\\xe2\\x96\\x88\\xe2\\x96\\x8c        | 42.5M/275M [00:01<00:07, 31.1MB/s]\\r 22%|\\xe2\\x96\\x88\\xe2\\x96\\x88\\xe2\\x96\\x8f       | 59.2M/275M [00:02<00:09, 23.6MB/s]\\r 28%|\\xe2\\x96\\x88\\xe2\\x96\\x88\\xe2\\x96\\x8a       | 76.0M/275M [00:02<00:06, 32.9MB/s]\\r 34%|\\xe2\\x96\\x88\\xe2\\x96\\x88\\xe2\\x96\\x88\\xe2\\x96\\x8e      | 92.8M/275M [00:03<00:04, 39.8MB/s]\\r 45%|\\xe2\\x96\\x88\\xe2\\x96\\x88\\xe2\\x96\\x88\\xe2\\x96\\x88\\xe2\\x96\\x8c     | 125M/275M [00:03<00:02, 70.0MB/s] \\r 51%|\\xe2\\x96\\x88\\xe2\\x96\\x88\\xe2\\x96\\x88\\xe2\\x96\\x88\\xe2\\x96\\x88     | 139M/275M [00:03<00:02, 56.9MB/s]\\r 55%|\\xe2\\x96\\x88\\xe2\\x96\\x88\\xe2\\x96\\x88\\xe2\\x96\\x88\\xe2\\x96\\x88\\xe2\\x96\\x8c    | 152M/275M [00:04<00:03, 34.8MB/s]\\r 64%|\\xe2\\x96\\x88\\xe2\\x96\\x88\\xe2\\x96\\x88\\xe2\\x96\\x88\\xe2\\x96\\x88\\xe2\\x96\\x88\\xe2\\x96\\x8d   | 177M/275M [00:04<00:01, 49.2MB/s]\\r 68%|\\xe2\\x96\\x88\\xe2\\x96\\x88\\xe2\\x96\\x88\\xe2\\x96\\x88\\xe2\\x96\\x88\\xe2\\x96\\x88\\xe2\\x96\\x8a   | 187M/275M [00:04<00:01, 54.0MB/s]\\r 73%|\\xe2\\x96\\x88\\xe2\\x96\\x88\\xe2\\x96\\x88\\xe2\\x96\\x88\\xe2\\x96\\x88\\xe2\\x96\\x88\\xe2\\x96\\x88\\xe2\\x96\\x8e  | 202M/275M [00:04<00:01, 59.1MB/s]\\r 78%|\\xe2\\x96\\x88\\xe2\\x96\\x88\\xe2\\x96\\x88\\xe2\\x96\\x88\\xe2\\x96\\x88\\xe2\\x96\\x88\\xe2\\x96\\x88\\xe2\\x96\\x8a  | 215M/275M [00:05<00:00, 69.6MB/s]\\r 83%|\\xe2\\x96\\x88\\xe2\\x96\\x88\\xe2\\x96\\x88\\xe2\\x96\\x88\\xe2\\x96\\x88\\xe2\\x96\\x88\\xe2\\x96\\x88\\xe2\\x96\\x88\\xe2\\x96\\x8e | 227M/275M [00:05<00:00, 71.7MB/s]\\r 89%|\\xe2\\x96\\x88\\xe2\\x96\\x88\\xe2\\x96\\x88\\xe2\\x96\\x88\\xe2\\x96\\x88\\xe2\\x96\\x88\\xe2\\x96\\x88\\xe2\\x96\\x88\\xe2\\x96\\x8a | 244M/275M [00:05<00:00, 83.7MB/s]\\r 92%|\\xe2\\x96\\x88\\xe2\\x96\\x88\\xe2\\x96\\x88\\xe2\\x96\\x88\\xe2\\x96\\x88\\xe2\\x96\\x88\\xe2\\x96\\x88\\xe2\\x96\\x88\\xe2\\x96\\x88\\xe2\\x96\\x8f| 254M/275M [00:05<00:00, 82.7MB/s]\\r 96%|\\xe2\\x96\\x88\\xe2\\x96\\x88\\xe2\\x96\\x88\\xe2\\x96\\x88\\xe2\\x96\\x88\\xe2\\x96\\x88\\xe2\\x96\\x88\\xe2\\x96\\x88\\xe2\\x96\\x88\\xe2\\x96\\x8c| 264M/275M [00:05<00:00, 75.8MB/s]\\r 99%|\\xe2\\x96\\x88\\xe2\\x96\\x88\\xe2\\x96\\x88\\xe2\\x96\\x88\\xe2\\x96\\x88\\xe2\\x96\\x88\\xe2\\x96\\x88\\xe2\\x96\\x88\\xe2\\x96\\x88\\xe2\\x96\\x89| 273M/275M [00:05<00:00, 74.7MB/s]\\r100%|\\xe2\\x96\\x88\\xe2\\x96\\x88\\xe2\\x96\\x88\\xe2\\x96\\x88\\xe2\\x96\\x88\\xe2\\x96\\x88\\xe2\\x96\\x88\\xe2\\x96\\x88\\xe2\\x96\\x88\\xe2\\x96\\x88| 275M/275M [00:05<00:00, 48.1MB/s]\\n\")\n"
          ]
        }
      ]
    },
    {
      "cell_type": "code",
      "source": [
        "LFW_EXTRACTION_PATH = \"/tmp/lfw\"\n",
        "LFW_EXTRACTION_COMMAND = \"tar -xvf /tmp/lfw-deepfunneled.tgz -C /tmp/\"\n",
        "LFWD_EXTRACED_PATH = \"/tmp/lfw-deepfunneled\"\n",
        "MLFW_EXTRACTION_PATH = \"/tmp/mlfw\"\n",
        "MLFW_EXTRACTION_FILE = \"/tmp/MLFW.zip\"\n",
        "MLFW_IMAGE_ORIGIN_PATH=\"/tmp/mlfw/aligned/*.jpg\"\n",
        "DRIVE_PATH='/content/gdrive'\n",
        "DATASET_TRAIN_PATH='/tmp/dataset/train'\n",
        "DATASET_TEST_PATH='/tmp/dataset/test'\n",
        "DATASET_ROOT_PATH='/tmp/dataset'\n",
        "MASKTHE_FACE_PATH=\"/content/MaskTheFace/\""
      ],
      "metadata": {
        "id": "pw0l-c0kO5pA"
      },
      "execution_count": 19,
      "outputs": []
    },
    {
      "cell_type": "code",
      "source": [
        "def extract_lfw_mlfw(force=False):\n",
        "  if(force):\n",
        "    print(\"deleting \", LFW_EXTRACTION_PATH)\n",
        "    if(os.path.isdir(LFW_EXTRACTION_PATH) == True):\n",
        "      shutil.rmtree(LFW_EXTRACTION_PATH)\n",
        "    print(\"deleting \", LFWD_EXTRACED_PATH)\n",
        "    if(os.path.isdir(LFWD_EXTRACED_PATH) == True):\n",
        "      shutil.rmtree(LFWD_EXTRACED_PATH)\n",
        "    print(\"deleting \", MLFW_EXTRACTION_PATH)\n",
        "    if(os.path.isdir(MLFW_EXTRACTION_PATH) == True):\n",
        "      shutil.rmtree(MLFW_EXTRACTION_PATH)\n",
        "\n",
        "  print(\"Extracing lfw and mlfw ..\")\n",
        "  if(os.path.isdir(LFW_EXTRACTION_PATH) == False):\n",
        "    print(\"extracing lfw-deepfunneled..\")\n",
        "    # cmd = \"tar -xvf gdrive/MyDrive/datasets/lfw.tar -C /tmp/\"\n",
        "    returned_value = os.system(LFW_EXTRACTION_COMMAND)\n",
        "  if(os.path.isdir(LFWD_EXTRACED_PATH) == True):\n",
        "    print(\"renaming to lfw..\")\n",
        "    os.rename(LFWD_EXTRACED_PATH, LFW_EXTRACTION_PATH)\n",
        "\n",
        "  if(os.path.isdir(MLFW_EXTRACTION_PATH)== False):\n",
        "    print(\"extracting mlfw..\")\n",
        "    zip_ref = zipfile.ZipFile(MLFW_EXTRACTION_FILE, 'r')\n",
        "    zip_ref.extractall(MLFW_EXTRACTION_PATH)\n",
        "    zip_ref.close()"
      ],
      "metadata": {
        "id": "KvEZvN4LO8bd"
      },
      "execution_count": 20,
      "outputs": []
    },
    {
      "cell_type": "code",
      "source": [
        "extract_lfw_mlfw(force = True)"
      ],
      "metadata": {
        "id": "bzpgRumCO9hZ",
        "colab": {
          "base_uri": "https://localhost:8080/"
        },
        "outputId": "9bba11c4-605a-48ae-c6ed-778bdebb8f7f"
      },
      "execution_count": 21,
      "outputs": [
        {
          "output_type": "stream",
          "name": "stdout",
          "text": [
            "deleting  /tmp/lfw\n",
            "deleting  /tmp/lfw-deepfunneled\n",
            "deleting  /tmp/mlfw\n",
            "Extracing lfw and mlfw ..\n",
            "extracing lfw-deepfunneled..\n",
            "renaming to lfw..\n",
            "extracting mlfw..\n"
          ]
        }
      ]
    },
    {
      "cell_type": "code",
      "source": [
        "! ls -l /tmp/"
      ],
      "metadata": {
        "id": "JsH-6IO4POh2",
        "colab": {
          "base_uri": "https://localhost:8080/"
        },
        "outputId": "742b185f-0c9b-44ca-b4ca-de7c722ceab9"
      },
      "execution_count": 22,
      "outputs": [
        {
          "output_type": "stream",
          "name": "stdout",
          "text": [
            "total 374996\n",
            "-rw-------    1 root root       880 May 20 05:40 __autograph_generated_filefuydp_bg.py\n",
            "-rw-r--r--    1 root root      1166 May 20 05:36 dap_multiplexer.009cdca9caf2.root.log.INFO.20220520-053610.58\n",
            "lrwxrwxrwx    1 root root        61 May 20 05:36 dap_multiplexer.INFO -> dap_multiplexer.009cdca9caf2.root.log.INFO.20220520-053610.58\n",
            "srwxr-xr-x    1 root root         0 May 20 05:36 debugger_2g2y0k6w7l\n",
            "drwx------    2 root root      4096 May 20 05:36 initgoogle_syslog_dir.0\n",
            "drwxr-xr-x 5751 root root    204800 May 20 05:41 lfw\n",
            "-rw-r--r--    1 root root 108761145 May 20 05:40 lfw-deepfunneled.tgz\n",
            "drwxr-xr-x    4 root root      4096 May 20 05:41 mlfw\n",
            "-rw-r--r--    1 root root 274972231 May 20 05:40 MLFW.zip\n",
            "drwxr-xr-x    2 root root      4096 May 20 05:40 __pycache__\n",
            "drwx------    2 root root      4096 May 20 05:37 pyright-139-PLhoofJoLjPT\n",
            "drwx------    2 root root      4096 May 20 05:37 pyright-139-se5J8bOsWCU3\n",
            "drwx------    2 root root      4096 May 20 05:39 pyright-297-nap134fbOIsE\n",
            "drwx------    2 root root      4096 May 20 05:39 pyright-297-ZxBYpPlsb5gr\n",
            "drwxr-xr-x    3 root root      4096 May 20 05:38 python-languageserver-cancellation\n",
            "drwx------    2 root root      4096 May 20 05:36 tmux-0\n"
          ]
        }
      ]
    },
    {
      "cell_type": "code",
      "source": [
        "# Get file list from lfw\n",
        "lfw_files = []\n",
        "for file in Path(LFW_EXTRACTION_PATH).rglob('*.jpg'):\n",
        "  lfw_files.append(file)\n",
        "mlfw_files = []\n",
        "for file in Path(MLFW_EXTRACTION_PATH).rglob('*.jpg'):\n",
        "  mlfw_files.append(file)\n",
        "print(len(lfw_files))\n",
        "print(len(mlfw_files))"
      ],
      "metadata": {
        "id": "jNRzvsjC0bQo",
        "colab": {
          "base_uri": "https://localhost:8080/"
        },
        "outputId": "e52017c2-f875-4d02-af6e-efb84d8f7828"
      },
      "execution_count": 23,
      "outputs": [
        {
          "output_type": "stream",
          "name": "stdout",
          "text": [
            "13233\n",
            "24000\n"
          ]
        }
      ]
    },
    {
      "cell_type": "code",
      "source": [
        "def pick_images_lfw(max_samples):\n",
        "  print(\"Picking images from lfw ..\")\n",
        "  lfw_images = []\n",
        "  lfw_train = sorted(os.listdir(LFW_EXTRACTION_PATH))\n",
        "  for directory in lfw_train:\n",
        "    dir_path = LFW_EXTRACTION_PATH + \"/\" + directory\n",
        "    no_of_files = len(os.listdir(dir_path)) \n",
        "    if(no_of_files >= max_samples ):\n",
        "      lfw_images.append(directory)\n",
        "  return lfw_images;"
      ],
      "metadata": {
        "id": "W2dUSRY92O0z"
      },
      "execution_count": 24,
      "outputs": []
    },
    {
      "cell_type": "code",
      "source": [
        "def pick_images_mlfw(max_samples):\n",
        "  print(\"Picking images from mlfw ..\")\n",
        "  file_list = glob.glob(MLFW_IMAGE_ORIGIN_PATH)\n",
        "  final_name_list = []\n",
        "  for file in file_list:\n",
        "      file_name = Path(file).name\n",
        "      final_str = \"\"\n",
        "      tokens = file_name.split(\"_\")\n",
        "      for token in tokens:\n",
        "          if(token.isnumeric()):\n",
        "              break;\n",
        "          else:\n",
        "              final_str += token\n",
        "              final_str += \"_\"\n",
        "      final_name_list.append(final_str)  \n",
        "  df = pd.DataFrame(final_name_list)\n",
        "  df.columns = ['name']\n",
        "  new_df = df.groupby('name').filter(lambda x : (len(x) >= max_samples))\n",
        "  mlfw_images = new_df.values.tolist()\n",
        "  mlfw_images = [sub[0][ : -1] for sub in mlfw_images]\n",
        "  return list(set(mlfw_images))"
      ],
      "metadata": {
        "id": "G9CwIXcA2s9Q"
      },
      "execution_count": 25,
      "outputs": []
    },
    {
      "cell_type": "code",
      "source": [
        "def create_common_dir_list(max_samples):\n",
        "  print(\"create_common_dir_list ..\")\n",
        "  extract_lfw_mlfw();\n",
        "  lfw_dir = pick_images_lfw(max_samples);\n",
        "  mlfw_dir = pick_images_mlfw(max_samples)\n",
        "  common_set = set(lfw_dir) & set(mlfw_dir)\n",
        "  print(\"common_dir_list = \" + str(len(common_set)))\n",
        "  return list(common_set)"
      ],
      "metadata": {
        "id": "948k6Y2k3HAl"
      },
      "execution_count": 26,
      "outputs": []
    },
    {
      "cell_type": "code",
      "source": [
        "def pick_classes(no_of_classes, max_samples):\n",
        "  print(\"Picking classes ..\")\n",
        "  final_list = []\n",
        "  filtered_list =  create_common_dir_list(max_samples)\n",
        "  print(\"filtered_list_length = \" + str(len(filtered_list)))\n",
        "  for i in range(0, no_of_classes):\n",
        "      final_list.append(random.choice(filtered_list))\n",
        "  return final_list"
      ],
      "metadata": {
        "id": "GE0rFmqJq6QC"
      },
      "execution_count": 27,
      "outputs": []
    },
    {
      "cell_type": "code",
      "source": [
        "common_dir_list = create_common_dir_list(5)\n",
        "len(common_dir_list)"
      ],
      "metadata": {
        "id": "5FE8T1Yq3LrU",
        "colab": {
          "base_uri": "https://localhost:8080/"
        },
        "outputId": "5a481692-81ba-4780-f409-1f77de65de9f"
      },
      "execution_count": 28,
      "outputs": [
        {
          "output_type": "stream",
          "name": "stdout",
          "text": [
            "create_common_dir_list ..\n",
            "Extracing lfw and mlfw ..\n",
            "Picking images from lfw ..\n",
            "Picking images from mlfw ..\n",
            "common_dir_list = 216\n"
          ]
        },
        {
          "output_type": "execute_result",
          "data": {
            "text/plain": [
              "216"
            ]
          },
          "metadata": {},
          "execution_count": 28
        }
      ]
    },
    {
      "cell_type": "code",
      "source": [
        "def create_train_test_set_from_lfw_mlfw(number_of_classes, max_samples):\n",
        "  print(\"create_train_test_set_from_lfw_mlfw ..\")\n",
        "  final_class_list = pick_classes(number_of_classes, max_samples)\n",
        "  print(\"length of final_class_list =>\", len(final_class_list))\n",
        "  if(os.path.isdir(DATASET_TRAIN_PATH) == True):\n",
        "    shutil.rmtree(DATASET_TRAIN_PATH)\n",
        "  if(os.path.isdir(DATASET_TEST_PATH) == True):\n",
        "    shutil.rmtree(DATASET_TEST_PATH)\n",
        "  if(os.path.isdir(DATASET_ROOT_PATH)  == False):\n",
        "    os.mkdir(DATASET_ROOT_PATH)\n",
        "  if(os.path.isdir(DATASET_TRAIN_PATH)== False):\n",
        "    os.mkdir(DATASET_TRAIN_PATH)\n",
        "  if(os.path.isdir(DATASET_TEST_PATH)== False):\n",
        "    os.mkdir(DATASET_TEST_PATH)\n",
        "\n",
        "  for dir in final_class_list:\n",
        "    cmd_str = \"cp -r \" + LFW_EXTRACTION_PATH + \"/\" +dir + \" \" + DATASET_TRAIN_PATH\n",
        "    # print(cmd_str)\n",
        "    os.system(cmd_str)\n",
        "  \n",
        "  mlfw_jpg_list = glob.glob(MLFW_IMAGE_ORIGIN_PATH);\n",
        "  # print\n",
        "  # for path, subdirs, files in os.walk(MLFW_IMAGE_ORIGIN_PATH):\n",
        "  #     print(\"path = \",path)\n",
        "  #     for name in files:\n",
        "  #         mlfw_jpg_list.append(os.path.join(path, name))\n",
        "\n",
        "  # print(\"mlfw_jpg_list\", mlfw_jpg_list)\n",
        "  for dir in final_class_list:\n",
        "    test_dir = DATASET_TEST_PATH + \"/\"+ dir\n",
        "    # print(test_dir)\n",
        "    if(os.path.isdir(test_dir)  == False):\n",
        "      os.mkdir(DATASET_TEST_PATH + \"/\" +dir)\n",
        "    name_list = [k for k in mlfw_jpg_list if dir in k]\n",
        "    # print(\"name_list\", name_list)\n",
        "    for nme in name_list:\n",
        "      copy_path = DATASET_TEST_PATH +  \"/\"+ dir + \"/\"\n",
        "      # print(nme, copy_path)\n",
        "      shutil.copy(nme, DATASET_TEST_PATH +  \"/\"+ dir + \"/\")"
      ],
      "metadata": {
        "id": "RQxTU--4DW7i"
      },
      "execution_count": 55,
      "outputs": []
    },
    {
      "cell_type": "code",
      "source": [
        "create_train_test_set_from_lfw_mlfw(50, 5)"
      ],
      "metadata": {
        "colab": {
          "base_uri": "https://localhost:8080/"
        },
        "id": "16iXRjbEtBau",
        "outputId": "01e5751d-fb4f-49ce-9f7a-89a9e072d25b"
      },
      "execution_count": 30,
      "outputs": [
        {
          "output_type": "stream",
          "name": "stdout",
          "text": [
            "create_train_test_set_from_lfw_mlfw ..\n",
            "Picking classes ..\n",
            "create_common_dir_list ..\n",
            "Extracing lfw and mlfw ..\n",
            "Picking images from lfw ..\n",
            "Picking images from mlfw ..\n",
            "common_dir_list = 216\n",
            "filtered_list_length = 216\n",
            "length of final_class_list => 50\n"
          ]
        }
      ]
    },
    {
      "cell_type": "code",
      "source": [
        ""
      ],
      "metadata": {
        "id": "vtf1cf_cQpp7"
      },
      "execution_count": null,
      "outputs": []
    },
    {
      "cell_type": "code",
      "source": [
        "def create_train_samples_from_main_dataset(no_of_classes, no_of_samples):\n",
        "  new_dataset_name = \"/tmp/dataset_\"+str(no_of_classes) + \"_\" + str(no_of_samples)\n",
        "  train_folder = new_dataset_name + \"/\" + \"train\"\n",
        "  if(exists(new_dataset_name) == False):\n",
        "    print('copy')\n",
        "    shutil.copytree('/tmp/dataset/', new_dataset_name)\n",
        "  classes = 1\n",
        "  train_dir_list = []\n",
        "  for train_dir in os.listdir(train_folder):\n",
        "    # for sample in os.listdir(train_dir):\n",
        "    file_path = os.path.join(train_folder, train_dir)\n",
        "    if(classes > no_of_classes):\n",
        "      shutil.rmtree(file_path)\n",
        "      continue\n",
        "    classes = classes + 1\n",
        "    samples = 1\n",
        "    train_dir_list.append(train_dir)\n",
        "    for file_name in os.listdir(file_path):\n",
        "      name = os.path.join(file_path, file_name)\n",
        "      if(samples > no_of_samples):\n",
        "        os.remove(name)\n",
        "        continue\n",
        "      samples = samples + 1\n",
        "\n",
        "    test_folder = new_dataset_name + \"/\" + \"test\"\n",
        "    classes = 1\n",
        "\n",
        "    for test_folder in os.listdir(train_folder):\n",
        "      # for sample in os.listdir(train_dir):\n",
        "      file_path = os.path.join(train_folder, train_dir)\n",
        "      if(test_folder in train_dir_list == False):\n",
        "        shutil.rmtree(file_path)\n",
        "        continue\n",
        "      classes = classes + 1\n",
        "      samples = 1\n",
        "    for file_name in os.listdir(file_path):\n",
        "      name = os.path.join(file_path, file_name)\n",
        "      if(samples > no_of_samples):\n",
        "        os.remove(name)\n",
        "        continue\n",
        "      samples = samples + 1\n",
        "  return new_dataset_name, train_folder"
      ],
      "metadata": {
        "id": "JopUrC46vz8L"
      },
      "execution_count": 69,
      "outputs": []
    },
    {
      "cell_type": "code",
      "source": [
        "create_train_samples_from_main_dataset(50,5)"
      ],
      "metadata": {
        "colab": {
          "base_uri": "https://localhost:8080/"
        },
        "id": "69zE1ZqJDFmp",
        "outputId": "03c25b18-a545-49f0-9d48-7be24e4407f8"
      },
      "execution_count": 46,
      "outputs": [
        {
          "output_type": "stream",
          "name": "stdout",
          "text": [
            "copy\n"
          ]
        }
      ]
    },
    {
      "cell_type": "code",
      "source": [
        "# extract a single face from a given photograph\n",
        "def process_and_save_image(image, filename, required_size=(256, 256)):\n",
        "    # convert to array\n",
        "    # image = Image.fromarray(image_pixels)\n",
        "    # image = cv2.cvtColor(face, cv2.COLOR_BGR2RGB)\n",
        "    image = image.resize(required_size)\n",
        "    # cv2.resize(image, required_size)\n",
        "    # face_array = asarray(image)\n",
        "    # cv2.imwrite(filename, image)\n",
        "    # print('processed and saved file ===> ', filename)\n",
        "    image.save(filename)"
      ],
      "metadata": {
        "id": "iVQhaJE5FNzn"
      },
      "execution_count": 57,
      "outputs": []
    },
    {
      "cell_type": "code",
      "source": [
        "from mtcnn.mtcnn import MTCNN\n",
        "from numpy import asarray\n",
        "import cv2\n",
        " \n",
        "# extract a single face from a given photograph\n",
        "def process_face(filename, required_size=(256, 256)):\n",
        "  # load image from file\n",
        "  image = Image.open(filename)\n",
        "  # convert to RGB, if needed\n",
        "  # image = cv2.imread(filename)\n",
        "  if(image.width != required_size[0]):\n",
        "    # convert to array\n",
        "    pixels = asarray(image)\n",
        "    # create the detector, using default weights\n",
        "    detector = MTCNN()\n",
        "    # detect faces in the image\n",
        "    results = detector.detect_faces(pixels)\n",
        "    if(results):\n",
        "      # extract the bounding box from the first face\n",
        "      x1, y1, width, height = results[0]['box']\n",
        "      # bug fix\n",
        "      x1, y1 = abs(x1), abs(y1)\n",
        "      x2, y2 = x1 + width, y1 + height\n",
        "      # extract the face\n",
        "      # image = image[y1:y2, x1:x2]\n",
        "      facepixels = pixels[y1:y2, x1:x2]\n",
        "      # resize pixels to the model size\n",
        "      image = Image.fromarray(facepixels)\n",
        "      # image = cv2.cvtColor(face, cv2.COLOR_BGR2RGB)\n",
        "      image = image.resize(required_size)\n",
        "      # cv2.resize(image, required_size)\n",
        "      # face_array = asarray(image)\n",
        "      # cv2.imwrite(filename, image)\n",
        "      # print('processed and saved file', filename)\n",
        "      image.save(filename)"
      ],
      "metadata": {
        "id": "2B1ZFWMCEopX"
      },
      "execution_count": 58,
      "outputs": []
    },
    {
      "cell_type": "code",
      "source": [
        "def augument_mask_data(train_folder):\n",
        "  triplets = []\n",
        "  print(\"Augumenting data ..\")\n",
        "  os.chdir(MASKTHE_FACE_PATH)\n",
        "  # print(\"Current path=\",os.getcwd())\n",
        "  # os.system('pip install -r requirements.txt')\n",
        "  f = [y for y in  Path(train_folder).rglob('*.jpg')] \n",
        "  print(\"total samples = >\", len(f))\n",
        "  for path in  Path(train_folder).rglob('*.jpg'):\n",
        "    # print(path)\n",
        "    normal_img_path = str(path)\n",
        "    process_face(normal_img_path)\n",
        "    subprocess.run([\"python\", \"/content/MaskTheFace/mask_the_face.py\",'--path', path, '--mask_type', 'N95', '--verbose', '--write_original_image'])\n",
        "    files = Path(train_folder).rglob('*.jpg')\n",
        "    recent_file =  max(files , key=os.path.getctime)\n",
        "    process_face(recent_file)\n",
        "    # print(\"recent file ==>\", str(recent_file))\n",
        "    # model = keras.models.load_model('/content/gdrive/MyDrive/mfr_test_repo/strv-ml-mask2face/mask2face_siva_trained/')\n",
        "    # print((recent_file))\n",
        "    masked_img_path  = str(recent_file)\n",
        "    if(str(recent_file).find(\"unmask\") == -1):\n",
        "      image = Image.open(recent_file)\n",
        "      # print(image.size)\n",
        "      image = tf.expand_dims(img_to_array(image), axis=0)  \n",
        "      # print(image.dim)\n",
        "      # img_to_array\n",
        "      # print(\"=========>\", image.shape)\n",
        "      generated_output = trained_model.predict((recent_file))\n",
        "      # process_and_save_image(generated_output, recent_file)\n",
        "      unmask_image_path = Path(recent_file)\n",
        "      # print(\"stem ==>\", unmask_image_path.stem)\n",
        "      latest_unmasked_file = str(unmask_image_path.parent) +\"/\" +unmask_image_path.stem +\"_unmask\" + unmask_image_path.suffix\n",
        "      # unmask_image_path.rename(Path(unmask_image_path.parent, latest_unmasked_file))\n",
        "      # print(\"latest_unmasked_file\", latest_unmasked_file)\n",
        "      triplets.append([normal_img_path, masked_img_path, str(latest_unmasked_file)])\n",
        "      # print(type(generated_output))\n",
        "      # cv2_imshow(generated_output)\n",
        "      process_and_save_image(generated_output, str(latest_unmasked_file))\n",
        "      # print(\"-----------------------------------------------\")\n",
        "  return triplets\n",
        " "
      ],
      "metadata": {
        "id": "2A4TTmyjXuts"
      },
      "execution_count": 59,
      "outputs": []
    },
    {
      "cell_type": "code",
      "source": [
        "def plot_triplets(triplets):\n",
        "  import matplotlib.image as mpimg\n",
        "  images = []\n",
        "  image_names = []\n",
        "\n",
        "  for triplet in triplets:\n",
        "      for i in triplet:\n",
        "        images.append(mpimg.imread(i))\n",
        "        image_names.append(i)\n",
        "\n",
        "  plt.figure(figsize=(20,20))\n",
        "  columns = 3\n",
        "  for i, image in enumerate(images):\n",
        "      ax = plt.subplot(len(images) / columns + 1, columns, i + 1)\n",
        "      ax.set_title(Path(image_names[i]).stem)\n",
        "      plt.imshow(image)\n",
        "      plt.xticks([])\n",
        "      plt.yticks([])"
      ],
      "metadata": {
        "id": "rbtaud5j1uuv"
      },
      "execution_count": 60,
      "outputs": []
    },
    {
      "cell_type": "code",
      "source": [
        "def get_image_list_from_folder(path):\n",
        "  final_list = []\n",
        "  for path, subdirs, files in os.walk(path):\n",
        "    for name in files:\n",
        "        final_list.append(os.path.join(path, name))\n",
        "  return sorted(final_list)"
      ],
      "metadata": {
        "id": "2P3a_pADtvkW"
      },
      "execution_count": 61,
      "outputs": []
    },
    {
      "cell_type": "code",
      "source": [
        "!pip install deepface"
      ],
      "metadata": {
        "id": "3L1ueaNsIU2F",
        "outputId": "68575b7e-5991-46b1-a514-2c469484eb69",
        "colab": {
          "base_uri": "https://localhost:8080/",
          "height": 1000
        }
      },
      "execution_count": 62,
      "outputs": [
        {
          "output_type": "stream",
          "name": "stdout",
          "text": [
            "Collecting deepface\n",
            "  Downloading deepface-0.0.75-py3-none-any.whl (65 kB)\n",
            "\u001b[?25l\r\u001b[K     |█████                           | 10 kB 19.1 MB/s eta 0:00:01\r\u001b[K     |██████████                      | 20 kB 10.1 MB/s eta 0:00:01\r\u001b[K     |███████████████▏                | 30 kB 8.6 MB/s eta 0:00:01\r\u001b[K     |████████████████████▏           | 40 kB 3.7 MB/s eta 0:00:01\r\u001b[K     |█████████████████████████▏      | 51 kB 3.9 MB/s eta 0:00:01\r\u001b[K     |██████████████████████████████▎ | 61 kB 4.6 MB/s eta 0:00:01\r\u001b[K     |████████████████████████████████| 65 kB 1.8 MB/s \n",
            "\u001b[?25hRequirement already satisfied: numpy>=1.14.0 in /usr/local/lib/python3.7/dist-packages (from deepface) (1.21.6)\n",
            "Collecting retina-face>=0.0.1\n",
            "  Downloading retina_face-0.0.10-py3-none-any.whl (15 kB)\n",
            "Requirement already satisfied: Pillow>=5.2.0 in /usr/local/lib/python3.7/dist-packages (from deepface) (7.1.2)\n",
            "Requirement already satisfied: gdown>=3.10.1 in /usr/local/lib/python3.7/dist-packages (from deepface) (4.4.0)\n",
            "Requirement already satisfied: pandas>=0.23.4 in /usr/local/lib/python3.7/dist-packages (from deepface) (1.3.5)\n",
            "Requirement already satisfied: tqdm>=4.30.0 in /usr/local/lib/python3.7/dist-packages (from deepface) (4.64.0)\n",
            "Requirement already satisfied: tensorflow>=1.9.0 in /usr/local/lib/python3.7/dist-packages (from deepface) (2.8.0+zzzcolab20220506162203)\n",
            "Requirement already satisfied: keras>=2.2.0 in /usr/local/lib/python3.7/dist-packages (from deepface) (2.8.0)\n",
            "Collecting opencv-python>=4.5.5.64\n",
            "  Downloading opencv_python-4.5.5.64-cp36-abi3-manylinux_2_17_x86_64.manylinux2014_x86_64.whl (60.5 MB)\n",
            "\u001b[K     |████████████████████████████████| 60.5 MB 1.2 MB/s \n",
            "\u001b[?25hRequirement already satisfied: mtcnn>=0.1.0 in /usr/local/lib/python3.7/dist-packages (from deepface) (0.1.1)\n",
            "Collecting fire>=0.4.0\n",
            "  Downloading fire-0.4.0.tar.gz (87 kB)\n",
            "\u001b[K     |████████████████████████████████| 87 kB 6.4 MB/s \n",
            "\u001b[?25hRequirement already satisfied: Flask>=1.1.2 in /usr/local/lib/python3.7/dist-packages (from deepface) (1.1.4)\n",
            "Requirement already satisfied: six in /usr/local/lib/python3.7/dist-packages (from fire>=0.4.0->deepface) (1.15.0)\n",
            "Requirement already satisfied: termcolor in /usr/local/lib/python3.7/dist-packages (from fire>=0.4.0->deepface) (1.1.0)\n",
            "Requirement already satisfied: Jinja2<3.0,>=2.10.1 in /usr/local/lib/python3.7/dist-packages (from Flask>=1.1.2->deepface) (2.11.3)\n",
            "Requirement already satisfied: Werkzeug<2.0,>=0.15 in /usr/local/lib/python3.7/dist-packages (from Flask>=1.1.2->deepface) (1.0.1)\n",
            "Requirement already satisfied: itsdangerous<2.0,>=0.24 in /usr/local/lib/python3.7/dist-packages (from Flask>=1.1.2->deepface) (1.1.0)\n",
            "Requirement already satisfied: click<8.0,>=5.1 in /usr/local/lib/python3.7/dist-packages (from Flask>=1.1.2->deepface) (7.1.2)\n",
            "Requirement already satisfied: requests[socks] in /usr/local/lib/python3.7/dist-packages (from gdown>=3.10.1->deepface) (2.23.0)\n",
            "Requirement already satisfied: filelock in /usr/local/lib/python3.7/dist-packages (from gdown>=3.10.1->deepface) (3.7.0)\n",
            "Requirement already satisfied: beautifulsoup4 in /usr/local/lib/python3.7/dist-packages (from gdown>=3.10.1->deepface) (4.6.3)\n",
            "Requirement already satisfied: MarkupSafe>=0.23 in /usr/local/lib/python3.7/dist-packages (from Jinja2<3.0,>=2.10.1->Flask>=1.1.2->deepface) (2.0.1)\n",
            "Requirement already satisfied: pytz>=2017.3 in /usr/local/lib/python3.7/dist-packages (from pandas>=0.23.4->deepface) (2022.1)\n",
            "Requirement already satisfied: python-dateutil>=2.7.3 in /usr/local/lib/python3.7/dist-packages (from pandas>=0.23.4->deepface) (2.8.2)\n",
            "Requirement already satisfied: wrapt>=1.11.0 in /usr/local/lib/python3.7/dist-packages (from tensorflow>=1.9.0->deepface) (1.14.1)\n",
            "Requirement already satisfied: tensorboard<2.9,>=2.8 in /usr/local/lib/python3.7/dist-packages (from tensorflow>=1.9.0->deepface) (2.8.0)\n",
            "Requirement already satisfied: libclang>=9.0.1 in /usr/local/lib/python3.7/dist-packages (from tensorflow>=1.9.0->deepface) (14.0.1)\n",
            "Requirement already satisfied: keras-preprocessing>=1.1.1 in /usr/local/lib/python3.7/dist-packages (from tensorflow>=1.9.0->deepface) (1.1.2)\n",
            "Requirement already satisfied: protobuf>=3.9.2 in /usr/local/lib/python3.7/dist-packages (from tensorflow>=1.9.0->deepface) (3.17.3)\n",
            "Collecting tf-estimator-nightly==2.8.0.dev2021122109\n",
            "  Downloading tf_estimator_nightly-2.8.0.dev2021122109-py2.py3-none-any.whl (462 kB)\n",
            "\u001b[K     |████████████████████████████████| 462 kB 56.0 MB/s \n",
            "\u001b[?25hRequirement already satisfied: h5py>=2.9.0 in /usr/local/lib/python3.7/dist-packages (from tensorflow>=1.9.0->deepface) (3.1.0)\n",
            "Requirement already satisfied: gast>=0.2.1 in /usr/local/lib/python3.7/dist-packages (from tensorflow>=1.9.0->deepface) (0.5.3)\n",
            "Requirement already satisfied: setuptools in /usr/local/lib/python3.7/dist-packages (from tensorflow>=1.9.0->deepface) (57.4.0)\n",
            "Requirement already satisfied: grpcio<2.0,>=1.24.3 in /usr/local/lib/python3.7/dist-packages (from tensorflow>=1.9.0->deepface) (1.46.1)\n",
            "Requirement already satisfied: google-pasta>=0.1.1 in /usr/local/lib/python3.7/dist-packages (from tensorflow>=1.9.0->deepface) (0.2.0)\n",
            "Requirement already satisfied: astunparse>=1.6.0 in /usr/local/lib/python3.7/dist-packages (from tensorflow>=1.9.0->deepface) (1.6.3)\n",
            "Requirement already satisfied: opt-einsum>=2.3.2 in /usr/local/lib/python3.7/dist-packages (from tensorflow>=1.9.0->deepface) (3.3.0)\n",
            "Requirement already satisfied: typing-extensions>=3.6.6 in /usr/local/lib/python3.7/dist-packages (from tensorflow>=1.9.0->deepface) (4.2.0)\n",
            "Requirement already satisfied: flatbuffers>=1.12 in /usr/local/lib/python3.7/dist-packages (from tensorflow>=1.9.0->deepface) (2.0)\n",
            "Requirement already satisfied: tensorflow-io-gcs-filesystem>=0.23.1 in /usr/local/lib/python3.7/dist-packages (from tensorflow>=1.9.0->deepface) (0.25.0)\n",
            "Requirement already satisfied: absl-py>=0.4.0 in /usr/local/lib/python3.7/dist-packages (from tensorflow>=1.9.0->deepface) (1.0.0)\n",
            "Requirement already satisfied: wheel<1.0,>=0.23.0 in /usr/local/lib/python3.7/dist-packages (from astunparse>=1.6.0->tensorflow>=1.9.0->deepface) (0.37.1)\n",
            "Requirement already satisfied: cached-property in /usr/local/lib/python3.7/dist-packages (from h5py>=2.9.0->tensorflow>=1.9.0->deepface) (1.5.2)\n",
            "Requirement already satisfied: tensorboard-plugin-wit>=1.6.0 in /usr/local/lib/python3.7/dist-packages (from tensorboard<2.9,>=2.8->tensorflow>=1.9.0->deepface) (1.8.1)\n",
            "Requirement already satisfied: tensorboard-data-server<0.7.0,>=0.6.0 in /usr/local/lib/python3.7/dist-packages (from tensorboard<2.9,>=2.8->tensorflow>=1.9.0->deepface) (0.6.1)\n",
            "Requirement already satisfied: markdown>=2.6.8 in /usr/local/lib/python3.7/dist-packages (from tensorboard<2.9,>=2.8->tensorflow>=1.9.0->deepface) (3.3.7)\n",
            "Requirement already satisfied: google-auth-oauthlib<0.5,>=0.4.1 in /usr/local/lib/python3.7/dist-packages (from tensorboard<2.9,>=2.8->tensorflow>=1.9.0->deepface) (0.4.6)\n",
            "Requirement already satisfied: google-auth<3,>=1.6.3 in /usr/local/lib/python3.7/dist-packages (from tensorboard<2.9,>=2.8->tensorflow>=1.9.0->deepface) (1.35.0)\n",
            "Requirement already satisfied: pyasn1-modules>=0.2.1 in /usr/local/lib/python3.7/dist-packages (from google-auth<3,>=1.6.3->tensorboard<2.9,>=2.8->tensorflow>=1.9.0->deepface) (0.2.8)\n",
            "Requirement already satisfied: cachetools<5.0,>=2.0.0 in /usr/local/lib/python3.7/dist-packages (from google-auth<3,>=1.6.3->tensorboard<2.9,>=2.8->tensorflow>=1.9.0->deepface) (4.2.4)\n",
            "Requirement already satisfied: rsa<5,>=3.1.4 in /usr/local/lib/python3.7/dist-packages (from google-auth<3,>=1.6.3->tensorboard<2.9,>=2.8->tensorflow>=1.9.0->deepface) (4.8)\n",
            "Requirement already satisfied: requests-oauthlib>=0.7.0 in /usr/local/lib/python3.7/dist-packages (from google-auth-oauthlib<0.5,>=0.4.1->tensorboard<2.9,>=2.8->tensorflow>=1.9.0->deepface) (1.3.1)\n",
            "Requirement already satisfied: importlib-metadata>=4.4 in /usr/local/lib/python3.7/dist-packages (from markdown>=2.6.8->tensorboard<2.9,>=2.8->tensorflow>=1.9.0->deepface) (4.11.3)\n",
            "Requirement already satisfied: zipp>=0.5 in /usr/local/lib/python3.7/dist-packages (from importlib-metadata>=4.4->markdown>=2.6.8->tensorboard<2.9,>=2.8->tensorflow>=1.9.0->deepface) (3.8.0)\n",
            "Requirement already satisfied: pyasn1<0.5.0,>=0.4.6 in /usr/local/lib/python3.7/dist-packages (from pyasn1-modules>=0.2.1->google-auth<3,>=1.6.3->tensorboard<2.9,>=2.8->tensorflow>=1.9.0->deepface) (0.4.8)\n",
            "Requirement already satisfied: certifi>=2017.4.17 in /usr/local/lib/python3.7/dist-packages (from requests[socks]->gdown>=3.10.1->deepface) (2021.10.8)\n",
            "Requirement already satisfied: idna<3,>=2.5 in /usr/local/lib/python3.7/dist-packages (from requests[socks]->gdown>=3.10.1->deepface) (2.10)\n",
            "Requirement already satisfied: chardet<4,>=3.0.2 in /usr/local/lib/python3.7/dist-packages (from requests[socks]->gdown>=3.10.1->deepface) (3.0.4)\n",
            "Requirement already satisfied: urllib3!=1.25.0,!=1.25.1,<1.26,>=1.21.1 in /usr/local/lib/python3.7/dist-packages (from requests[socks]->gdown>=3.10.1->deepface) (1.24.3)\n",
            "Requirement already satisfied: oauthlib>=3.0.0 in /usr/local/lib/python3.7/dist-packages (from requests-oauthlib>=0.7.0->google-auth-oauthlib<0.5,>=0.4.1->tensorboard<2.9,>=2.8->tensorflow>=1.9.0->deepface) (3.2.0)\n",
            "Requirement already satisfied: PySocks!=1.5.7,>=1.5.6 in /usr/local/lib/python3.7/dist-packages (from requests[socks]->gdown>=3.10.1->deepface) (1.7.1)\n",
            "Building wheels for collected packages: fire\n",
            "  Building wheel for fire (setup.py) ... \u001b[?25l\u001b[?25hdone\n",
            "  Created wheel for fire: filename=fire-0.4.0-py2.py3-none-any.whl size=115942 sha256=213ffa1fe442c7a51e1dce006e038512c0cb75354d0d85eac593c1749341537d\n",
            "  Stored in directory: /root/.cache/pip/wheels/8a/67/fb/2e8a12fa16661b9d5af1f654bd199366799740a85c64981226\n",
            "Successfully built fire\n",
            "Installing collected packages: tf-estimator-nightly, opencv-python, retina-face, fire, deepface\n",
            "  Attempting uninstall: opencv-python\n",
            "    Found existing installation: opencv-python 4.4.0.44\n",
            "    Uninstalling opencv-python-4.4.0.44:\n",
            "      Successfully uninstalled opencv-python-4.4.0.44\n",
            "Successfully installed deepface-0.0.75 fire-0.4.0 opencv-python-4.5.5.64 retina-face-0.0.10 tf-estimator-nightly-2.8.0.dev2021122109\n"
          ]
        },
        {
          "output_type": "display_data",
          "data": {
            "application/vnd.colab-display-data+json": {
              "pip_warning": {
                "packages": [
                  "cv2"
                ]
              }
            }
          },
          "metadata": {}
        }
      ]
    },
    {
      "cell_type": "code",
      "source": [
        "from deepface import DeepFace\n",
        "def get_embedding_list(path, model_name):\n",
        "  print(\"get_embedding_list ...\")\n",
        "  img_list = get_image_list_from_folder(path)\n",
        "  embedding_list = list()\n",
        "  for file in img_list:\n",
        "    embedding = DeepFace.represent(file, model_name = model_name, enforce_detection =False)\n",
        "    embedding_list.append(embedding)\n",
        "  final_name_list = []\n",
        "  for file in img_list:\n",
        "      file_name = Path(file).name\n",
        "      final_str = \"\"\n",
        "      tokens = file_name.split(\"_\")\n",
        "      for token in tokens:\n",
        "          token = token.split(\".\",1)[0]\n",
        "          if(token.isnumeric()):\n",
        "              break;\n",
        "          else:\n",
        "              final_str += token\n",
        "              final_str += \"_\"\n",
        "      final_name_list.append(final_str) \n",
        "  final_name_list = [sub[ : -1] for sub in final_name_list]\n",
        "  return embedding_list, final_name_list"
      ],
      "metadata": {
        "colab": {
          "base_uri": "https://localhost:8080/"
        },
        "id": "9Z1HNkoCqakC",
        "outputId": "da9ff242-2036-4305-b218-1b42fcf97af6"
      },
      "execution_count": 63,
      "outputs": [
        {
          "output_type": "stream",
          "name": "stdout",
          "text": [
            "Directory  /root /.deepface created\n",
            "Directory  /root /.deepface/weights created\n"
          ]
        }
      ]
    },
    {
      "cell_type": "code",
      "source": [
        "def create_embeddings(model_name, number_of_classes, max_samples):\n",
        "  print(\"creating embeddings ...\")\n",
        "  # create_train_test_set_from_lfw_mlfw(number_of_classes, max_samples)\n",
        "  new_dataset_name, train_folder = create_train_samples_from_main_dataset(number_of_classes, max_samples)\n",
        "  triplets = augument_mask_data(train_folder)\n",
        "  f = [y for y in  Path(DATASET_TRAIN_PATH).rglob('*.jpg')] \n",
        "  print(\"total samples after augumentation= >\", len(f))\n",
        "  # plot_triplets(triplets)\n",
        "  # process_train_images()\n",
        "  # plot_train_list()\n",
        "  # plot_test_list()\n",
        "  newTrainX, trainy = get_embedding_list(DATASET_TRAIN_PATH, model_name)\n",
        "  newTrainX = asarray(newTrainX)\n",
        "  newTestX, testy = get_embedding_list(DATASET_TEST_PATH, model_name)\n",
        "  newTestX = asarray(newTestX)\n",
        "  return newTrainX, trainy, newTestX, testy"
      ],
      "metadata": {
        "id": "xjY_WXpxqghf"
      },
      "execution_count": 64,
      "outputs": []
    },
    {
      "cell_type": "code",
      "source": [
        "def rearrange_dim(input):\n",
        "  in_encoder = Normalizer(norm='l2')\n",
        "  # nsamples, nx, ny = input.shape\n",
        "  # input = input.reshape((nsamples,nx*ny))\n",
        "  input = in_encoder.transform(input)\n",
        "  return input"
      ],
      "metadata": {
        "id": "zJ4VKVjk3Mcq"
      },
      "execution_count": 65,
      "outputs": []
    },
    {
      "cell_type": "code",
      "source": [
        "from sklearn.metrics import confusion_matrix\n",
        "import seaborn as sns\n",
        "def predict_accuracy(trainX, trainy, testX, testy):\n",
        "  print(\"predicting accuracy ...\")\n",
        "  in_encoder = Normalizer(norm='l2')\n",
        "  trainX = rearrange_dim(trainX)\n",
        "  testX = rearrange_dim(testX)\n",
        "  # nsamples, nx, ny = trainX.shape\n",
        "  # trainX = trainX.reshape((nsamples,nx*ny))\n",
        "  # trainX = in_encoder.transform(trainX)\n",
        "  # nsamples, nx, ny = testX.shape\n",
        "  # testX = testX.reshape((nsamples,nx*ny))\n",
        "  # testX = in_encoder.transform(testX)\n",
        "  # label encode targets\n",
        "  out_encoder = LabelEncoder()\n",
        "  out_encoder.fit(trainy)\n",
        "\n",
        "  trainy = out_encoder.transform(trainy)\n",
        "  testy = out_encoder.transform(testy)\n",
        "  # trainy = rearrange_dim(trainy)\n",
        "  # testy = rearrange_dim(testy)\n",
        "  # fit model\n",
        "  model = SVC(kernel='linear', probability=True)\n",
        "  model.fit(trainX, trainy)\n",
        "  # predict\n",
        "  yhat_train = model.predict(trainX)\n",
        "  yhat_test = model.predict(testX)\n",
        "  # score\n",
        "  score_train = accuracy_score(trainy, yhat_train)\n",
        "  score_test = accuracy_score(testy, yhat_test)\n",
        "  print(\"test score = >\", score_test)\n",
        "  # # summarize\n",
        "  # #Generate the confusion matrix\n",
        "  # cf_matrix = confusion_matrix(testX, yhat_test)\n",
        "  # print(cf_matrix)\n",
        "  # print('Accuracy: train=%.3f, test=%.3f' % (score_train*100, score_test*100))\n",
        "\n",
        "  # ax = sns.heatmap(cf_matrix, annot=True, cmap='Blues')\n",
        "\n",
        "  # ax.set_title('Seaborn Confusion Matrix with labels\\n\\n');\n",
        "  # ax.set_xlabel('\\nPredicted Values')\n",
        "  # ax.set_ylabel('Actual Values ');\n",
        "\n",
        "  # ## Ticket labels - List must be in alphabetical order\n",
        "  # ax.xaxis.set_ticklabels(['False','True'])\n",
        "  # ax.yaxis.set_ticklabels(['False','True'])\n",
        "\n",
        "  # ## Display the visualization of the Confusion Matrix.\n",
        "  # plt.show()\n",
        "  return score_test"
      ],
      "metadata": {
        "id": "X4IrKjv02En_"
      },
      "execution_count": 66,
      "outputs": []
    },
    {
      "cell_type": "code",
      "source": [
        "from deepface import DeepFace\n",
        "from numpy import asarray\n",
        "def run_fr_test( number_of_classes, max_classes, force_create=False):\n",
        "  # models_list = ['Facenet', 'OpenFace', 'DeepFace', 'VGG-Face']\n",
        "  models_list = ['Facenet']\n",
        "  for model_name in models_list:\n",
        "    trainX, trainy, testX, testy = create_embeddings(model_name,  number_of_classes, max_classes)\n",
        "    print(\"Trying with model \" + model_name)\n",
        "    predict_accuracy(trainX, trainy, testX, testy)\n",
        "    print(\"----------------------------------------------------------------------------------------------------\")"
      ],
      "metadata": {
        "id": "lUNWc4hF21zu"
      },
      "execution_count": 67,
      "outputs": []
    },
    {
      "cell_type": "code",
      "source": [
        "import pandas as pd\n",
        "class_list = [2, 5, 10, 15, 20, 25, 30, 35, 40, 45, 50]\n",
        "sample_list = [1, 2, 3, 4, 5]\n",
        "report_df = pd.DataFrame(columns = [1, 2, 3, 4, 5], \n",
        "                   index = [2, 5, 10, 15, 20, 25, 30, 35, 40, 45, 50])\n",
        "for c in  class_list:\n",
        "  for s in sample_list:\n",
        "    result = run_fr_test(c, s)\n",
        "    report_df[c][s] = result\n"
      ],
      "metadata": {
        "colab": {
          "base_uri": "https://localhost:8080/",
          "height": 1000
        },
        "id": "g4sUCZfZ3BVz",
        "outputId": "e916ee8e-c87f-416f-ee57-2149318d7bf5"
      },
      "execution_count": 70,
      "outputs": [
        {
          "output_type": "stream",
          "name": "stdout",
          "text": [
            "creating embeddings ...\n",
            "Augumenting data ..\n",
            "total samples = > 1\n",
            "No keypoints detected on image\n",
            "(256, 256)\n",
            "total samples after augumentation= > 569\n",
            "get_embedding_list ...\n",
            "get_embedding_list ...\n",
            "Trying with model Facenet\n",
            "predicting accuracy ...\n"
          ]
        },
        {
          "output_type": "error",
          "ename": "ValueError",
          "evalue": "ignored",
          "traceback": [
            "\u001b[0;31m---------------------------------------------------------------------------\u001b[0m",
            "\u001b[0;31mKeyError\u001b[0m                                  Traceback (most recent call last)",
            "\u001b[0;32m/usr/local/lib/python3.7/dist-packages/sklearn/utils/_encode.py\u001b[0m in \u001b[0;36m_encode\u001b[0;34m(values, uniques, check_unknown)\u001b[0m\n\u001b[1;32m    181\u001b[0m         \u001b[0;32mtry\u001b[0m\u001b[0;34m:\u001b[0m\u001b[0;34m\u001b[0m\u001b[0;34m\u001b[0m\u001b[0m\n\u001b[0;32m--> 182\u001b[0;31m             \u001b[0;32mreturn\u001b[0m \u001b[0m_map_to_integer\u001b[0m\u001b[0;34m(\u001b[0m\u001b[0mvalues\u001b[0m\u001b[0;34m,\u001b[0m \u001b[0muniques\u001b[0m\u001b[0;34m)\u001b[0m\u001b[0;34m\u001b[0m\u001b[0;34m\u001b[0m\u001b[0m\n\u001b[0m\u001b[1;32m    183\u001b[0m         \u001b[0;32mexcept\u001b[0m \u001b[0mKeyError\u001b[0m \u001b[0;32mas\u001b[0m \u001b[0me\u001b[0m\u001b[0;34m:\u001b[0m\u001b[0;34m\u001b[0m\u001b[0;34m\u001b[0m\u001b[0m\n",
            "\u001b[0;32m/usr/local/lib/python3.7/dist-packages/sklearn/utils/_encode.py\u001b[0m in \u001b[0;36m_map_to_integer\u001b[0;34m(values, uniques)\u001b[0m\n\u001b[1;32m    125\u001b[0m     \u001b[0mtable\u001b[0m \u001b[0;34m=\u001b[0m \u001b[0m_nandict\u001b[0m\u001b[0;34m(\u001b[0m\u001b[0;34m{\u001b[0m\u001b[0mval\u001b[0m\u001b[0;34m:\u001b[0m \u001b[0mi\u001b[0m \u001b[0;32mfor\u001b[0m \u001b[0mi\u001b[0m\u001b[0;34m,\u001b[0m \u001b[0mval\u001b[0m \u001b[0;32min\u001b[0m \u001b[0menumerate\u001b[0m\u001b[0;34m(\u001b[0m\u001b[0muniques\u001b[0m\u001b[0;34m)\u001b[0m\u001b[0;34m}\u001b[0m\u001b[0;34m)\u001b[0m\u001b[0;34m\u001b[0m\u001b[0;34m\u001b[0m\u001b[0m\n\u001b[0;32m--> 126\u001b[0;31m     \u001b[0;32mreturn\u001b[0m \u001b[0mnp\u001b[0m\u001b[0;34m.\u001b[0m\u001b[0marray\u001b[0m\u001b[0;34m(\u001b[0m\u001b[0;34m[\u001b[0m\u001b[0mtable\u001b[0m\u001b[0;34m[\u001b[0m\u001b[0mv\u001b[0m\u001b[0;34m]\u001b[0m \u001b[0;32mfor\u001b[0m \u001b[0mv\u001b[0m \u001b[0;32min\u001b[0m \u001b[0mvalues\u001b[0m\u001b[0;34m]\u001b[0m\u001b[0;34m)\u001b[0m\u001b[0;34m\u001b[0m\u001b[0;34m\u001b[0m\u001b[0m\n\u001b[0m\u001b[1;32m    127\u001b[0m \u001b[0;34m\u001b[0m\u001b[0m\n",
            "\u001b[0;32m/usr/local/lib/python3.7/dist-packages/sklearn/utils/_encode.py\u001b[0m in \u001b[0;36m<listcomp>\u001b[0;34m(.0)\u001b[0m\n\u001b[1;32m    125\u001b[0m     \u001b[0mtable\u001b[0m \u001b[0;34m=\u001b[0m \u001b[0m_nandict\u001b[0m\u001b[0;34m(\u001b[0m\u001b[0;34m{\u001b[0m\u001b[0mval\u001b[0m\u001b[0;34m:\u001b[0m \u001b[0mi\u001b[0m \u001b[0;32mfor\u001b[0m \u001b[0mi\u001b[0m\u001b[0;34m,\u001b[0m \u001b[0mval\u001b[0m \u001b[0;32min\u001b[0m \u001b[0menumerate\u001b[0m\u001b[0;34m(\u001b[0m\u001b[0muniques\u001b[0m\u001b[0;34m)\u001b[0m\u001b[0;34m}\u001b[0m\u001b[0;34m)\u001b[0m\u001b[0;34m\u001b[0m\u001b[0;34m\u001b[0m\u001b[0m\n\u001b[0;32m--> 126\u001b[0;31m     \u001b[0;32mreturn\u001b[0m \u001b[0mnp\u001b[0m\u001b[0;34m.\u001b[0m\u001b[0marray\u001b[0m\u001b[0;34m(\u001b[0m\u001b[0;34m[\u001b[0m\u001b[0mtable\u001b[0m\u001b[0;34m[\u001b[0m\u001b[0mv\u001b[0m\u001b[0;34m]\u001b[0m \u001b[0;32mfor\u001b[0m \u001b[0mv\u001b[0m \u001b[0;32min\u001b[0m \u001b[0mvalues\u001b[0m\u001b[0;34m]\u001b[0m\u001b[0;34m)\u001b[0m\u001b[0;34m\u001b[0m\u001b[0;34m\u001b[0m\u001b[0m\n\u001b[0m\u001b[1;32m    127\u001b[0m \u001b[0;34m\u001b[0m\u001b[0m\n",
            "\u001b[0;32m/usr/local/lib/python3.7/dist-packages/sklearn/utils/_encode.py\u001b[0m in \u001b[0;36m__missing__\u001b[0;34m(self, key)\u001b[0m\n\u001b[1;32m    119\u001b[0m             \u001b[0;32mreturn\u001b[0m \u001b[0mself\u001b[0m\u001b[0;34m.\u001b[0m\u001b[0mnan_value\u001b[0m\u001b[0;34m\u001b[0m\u001b[0;34m\u001b[0m\u001b[0m\n\u001b[0;32m--> 120\u001b[0;31m         \u001b[0;32mraise\u001b[0m \u001b[0mKeyError\u001b[0m\u001b[0;34m(\u001b[0m\u001b[0mkey\u001b[0m\u001b[0;34m)\u001b[0m\u001b[0;34m\u001b[0m\u001b[0;34m\u001b[0m\u001b[0m\n\u001b[0m\u001b[1;32m    121\u001b[0m \u001b[0;34m\u001b[0m\u001b[0m\n",
            "\u001b[0;31mKeyError\u001b[0m: 'Raghad_Saddam_Hussein'",
            "\nDuring handling of the above exception, another exception occurred:\n",
            "\u001b[0;31mValueError\u001b[0m                                Traceback (most recent call last)",
            "\u001b[0;32m<ipython-input-70-8fa506cebe92>\u001b[0m in \u001b[0;36m<module>\u001b[0;34m()\u001b[0m\n\u001b[1;32m      6\u001b[0m \u001b[0;32mfor\u001b[0m \u001b[0mc\u001b[0m \u001b[0;32min\u001b[0m  \u001b[0mclass_list\u001b[0m\u001b[0;34m:\u001b[0m\u001b[0;34m\u001b[0m\u001b[0;34m\u001b[0m\u001b[0m\n\u001b[1;32m      7\u001b[0m   \u001b[0;32mfor\u001b[0m \u001b[0ms\u001b[0m \u001b[0;32min\u001b[0m \u001b[0msample_list\u001b[0m\u001b[0;34m:\u001b[0m\u001b[0;34m\u001b[0m\u001b[0;34m\u001b[0m\u001b[0m\n\u001b[0;32m----> 8\u001b[0;31m     \u001b[0mresult\u001b[0m \u001b[0;34m=\u001b[0m \u001b[0mrun_fr_test\u001b[0m\u001b[0;34m(\u001b[0m\u001b[0mc\u001b[0m\u001b[0;34m,\u001b[0m \u001b[0ms\u001b[0m\u001b[0;34m)\u001b[0m\u001b[0;34m\u001b[0m\u001b[0;34m\u001b[0m\u001b[0m\n\u001b[0m\u001b[1;32m      9\u001b[0m     \u001b[0mreport_df\u001b[0m\u001b[0;34m[\u001b[0m\u001b[0mc\u001b[0m\u001b[0;34m]\u001b[0m\u001b[0;34m[\u001b[0m\u001b[0ms\u001b[0m\u001b[0;34m]\u001b[0m \u001b[0;34m=\u001b[0m \u001b[0mresult\u001b[0m\u001b[0;34m\u001b[0m\u001b[0;34m\u001b[0m\u001b[0m\n",
            "\u001b[0;32m<ipython-input-67-0cbd7e0901e4>\u001b[0m in \u001b[0;36mrun_fr_test\u001b[0;34m(number_of_classes, max_classes, force_create)\u001b[0m\n\u001b[1;32m      7\u001b[0m     \u001b[0mtrainX\u001b[0m\u001b[0;34m,\u001b[0m \u001b[0mtrainy\u001b[0m\u001b[0;34m,\u001b[0m \u001b[0mtestX\u001b[0m\u001b[0;34m,\u001b[0m \u001b[0mtesty\u001b[0m \u001b[0;34m=\u001b[0m \u001b[0mcreate_embeddings\u001b[0m\u001b[0;34m(\u001b[0m\u001b[0mmodel_name\u001b[0m\u001b[0;34m,\u001b[0m  \u001b[0mnumber_of_classes\u001b[0m\u001b[0;34m,\u001b[0m \u001b[0mmax_classes\u001b[0m\u001b[0;34m)\u001b[0m\u001b[0;34m\u001b[0m\u001b[0;34m\u001b[0m\u001b[0m\n\u001b[1;32m      8\u001b[0m     \u001b[0mprint\u001b[0m\u001b[0;34m(\u001b[0m\u001b[0;34m\"Trying with model \"\u001b[0m \u001b[0;34m+\u001b[0m \u001b[0mmodel_name\u001b[0m\u001b[0;34m)\u001b[0m\u001b[0;34m\u001b[0m\u001b[0;34m\u001b[0m\u001b[0m\n\u001b[0;32m----> 9\u001b[0;31m     \u001b[0mpredict_accuracy\u001b[0m\u001b[0;34m(\u001b[0m\u001b[0mtrainX\u001b[0m\u001b[0;34m,\u001b[0m \u001b[0mtrainy\u001b[0m\u001b[0;34m,\u001b[0m \u001b[0mtestX\u001b[0m\u001b[0;34m,\u001b[0m \u001b[0mtesty\u001b[0m\u001b[0;34m)\u001b[0m\u001b[0;34m\u001b[0m\u001b[0;34m\u001b[0m\u001b[0m\n\u001b[0m\u001b[1;32m     10\u001b[0m     \u001b[0mprint\u001b[0m\u001b[0;34m(\u001b[0m\u001b[0;34m\"----------------------------------------------------------------------------------------------------\"\u001b[0m\u001b[0;34m)\u001b[0m\u001b[0;34m\u001b[0m\u001b[0;34m\u001b[0m\u001b[0m\n",
            "\u001b[0;32m<ipython-input-66-61d9e9a8cf1a>\u001b[0m in \u001b[0;36mpredict_accuracy\u001b[0;34m(trainX, trainy, testX, testy)\u001b[0m\n\u001b[1;32m     17\u001b[0m \u001b[0;34m\u001b[0m\u001b[0m\n\u001b[1;32m     18\u001b[0m   \u001b[0mtrainy\u001b[0m \u001b[0;34m=\u001b[0m \u001b[0mout_encoder\u001b[0m\u001b[0;34m.\u001b[0m\u001b[0mtransform\u001b[0m\u001b[0;34m(\u001b[0m\u001b[0mtrainy\u001b[0m\u001b[0;34m)\u001b[0m\u001b[0;34m\u001b[0m\u001b[0;34m\u001b[0m\u001b[0m\n\u001b[0;32m---> 19\u001b[0;31m   \u001b[0mtesty\u001b[0m \u001b[0;34m=\u001b[0m \u001b[0mout_encoder\u001b[0m\u001b[0;34m.\u001b[0m\u001b[0mtransform\u001b[0m\u001b[0;34m(\u001b[0m\u001b[0mtesty\u001b[0m\u001b[0;34m)\u001b[0m\u001b[0;34m\u001b[0m\u001b[0;34m\u001b[0m\u001b[0m\n\u001b[0m\u001b[1;32m     20\u001b[0m   \u001b[0;31m# trainy = rearrange_dim(trainy)\u001b[0m\u001b[0;34m\u001b[0m\u001b[0;34m\u001b[0m\u001b[0;34m\u001b[0m\u001b[0m\n\u001b[1;32m     21\u001b[0m   \u001b[0;31m# testy = rearrange_dim(testy)\u001b[0m\u001b[0;34m\u001b[0m\u001b[0;34m\u001b[0m\u001b[0;34m\u001b[0m\u001b[0m\n",
            "\u001b[0;32m/usr/local/lib/python3.7/dist-packages/sklearn/preprocessing/_label.py\u001b[0m in \u001b[0;36mtransform\u001b[0;34m(self, y)\u001b[0m\n\u001b[1;32m    136\u001b[0m             \u001b[0;32mreturn\u001b[0m \u001b[0mnp\u001b[0m\u001b[0;34m.\u001b[0m\u001b[0marray\u001b[0m\u001b[0;34m(\u001b[0m\u001b[0;34m[\u001b[0m\u001b[0;34m]\u001b[0m\u001b[0;34m)\u001b[0m\u001b[0;34m\u001b[0m\u001b[0;34m\u001b[0m\u001b[0m\n\u001b[1;32m    137\u001b[0m \u001b[0;34m\u001b[0m\u001b[0m\n\u001b[0;32m--> 138\u001b[0;31m         \u001b[0;32mreturn\u001b[0m \u001b[0m_encode\u001b[0m\u001b[0;34m(\u001b[0m\u001b[0my\u001b[0m\u001b[0;34m,\u001b[0m \u001b[0muniques\u001b[0m\u001b[0;34m=\u001b[0m\u001b[0mself\u001b[0m\u001b[0;34m.\u001b[0m\u001b[0mclasses_\u001b[0m\u001b[0;34m)\u001b[0m\u001b[0;34m\u001b[0m\u001b[0;34m\u001b[0m\u001b[0m\n\u001b[0m\u001b[1;32m    139\u001b[0m \u001b[0;34m\u001b[0m\u001b[0m\n\u001b[1;32m    140\u001b[0m     \u001b[0;32mdef\u001b[0m \u001b[0minverse_transform\u001b[0m\u001b[0;34m(\u001b[0m\u001b[0mself\u001b[0m\u001b[0;34m,\u001b[0m \u001b[0my\u001b[0m\u001b[0;34m)\u001b[0m\u001b[0;34m:\u001b[0m\u001b[0;34m\u001b[0m\u001b[0;34m\u001b[0m\u001b[0m\n",
            "\u001b[0;32m/usr/local/lib/python3.7/dist-packages/sklearn/utils/_encode.py\u001b[0m in \u001b[0;36m_encode\u001b[0;34m(values, uniques, check_unknown)\u001b[0m\n\u001b[1;32m    182\u001b[0m             \u001b[0;32mreturn\u001b[0m \u001b[0m_map_to_integer\u001b[0m\u001b[0;34m(\u001b[0m\u001b[0mvalues\u001b[0m\u001b[0;34m,\u001b[0m \u001b[0muniques\u001b[0m\u001b[0;34m)\u001b[0m\u001b[0;34m\u001b[0m\u001b[0;34m\u001b[0m\u001b[0m\n\u001b[1;32m    183\u001b[0m         \u001b[0;32mexcept\u001b[0m \u001b[0mKeyError\u001b[0m \u001b[0;32mas\u001b[0m \u001b[0me\u001b[0m\u001b[0;34m:\u001b[0m\u001b[0;34m\u001b[0m\u001b[0;34m\u001b[0m\u001b[0m\n\u001b[0;32m--> 184\u001b[0;31m             \u001b[0;32mraise\u001b[0m \u001b[0mValueError\u001b[0m\u001b[0;34m(\u001b[0m\u001b[0;34mf\"y contains previously unseen labels: {str(e)}\"\u001b[0m\u001b[0;34m)\u001b[0m\u001b[0;34m\u001b[0m\u001b[0;34m\u001b[0m\u001b[0m\n\u001b[0m\u001b[1;32m    185\u001b[0m     \u001b[0;32melse\u001b[0m\u001b[0;34m:\u001b[0m\u001b[0;34m\u001b[0m\u001b[0;34m\u001b[0m\u001b[0m\n\u001b[1;32m    186\u001b[0m         \u001b[0;32mif\u001b[0m \u001b[0mcheck_unknown\u001b[0m\u001b[0;34m:\u001b[0m\u001b[0;34m\u001b[0m\u001b[0;34m\u001b[0m\u001b[0m\n",
            "\u001b[0;31mValueError\u001b[0m: y contains previously unseen labels: 'Raghad_Saddam_Hussein'"
          ]
        }
      ]
    }
  ],
  "metadata": {
    "colab": {
      "machine_shape": "hm",
      "name": "Datasetcreation+mask2face.ipynb",
      "provenance": [],
      "collapsed_sections": [],
      "include_colab_link": true
    },
    "kernelspec": {
      "display_name": "Python 3",
      "language": "python",
      "name": "python3"
    },
    "language_info": {
      "codemirror_mode": {
        "name": "ipython",
        "version": 3
      },
      "file_extension": ".py",
      "mimetype": "text/x-python",
      "name": "python",
      "nbconvert_exporter": "python",
      "pygments_lexer": "ipython3",
      "version": "3.8.6"
    },
    "accelerator": "GPU",
    "widgets": {
      "application/vnd.jupyter.widget-state+json": {
        "54b863c38a2742d3b084623d65612784": {
          "model_module": "@jupyter-widgets/controls",
          "model_name": "HBoxModel",
          "model_module_version": "1.5.0",
          "state": {
            "_dom_classes": [],
            "_model_module": "@jupyter-widgets/controls",
            "_model_module_version": "1.5.0",
            "_model_name": "HBoxModel",
            "_view_count": null,
            "_view_module": "@jupyter-widgets/controls",
            "_view_module_version": "1.5.0",
            "_view_name": "HBoxView",
            "box_style": "",
            "children": [
              "IPY_MODEL_e90ba06b6a4a49a589eaab530903521d",
              "IPY_MODEL_6021fe9a33894dd782f92558d2c034b4",
              "IPY_MODEL_b937937eb3d346709e9aa181906c2b76"
            ],
            "layout": "IPY_MODEL_5753381ec76d442aa3835658f3588269"
          }
        },
        "e90ba06b6a4a49a589eaab530903521d": {
          "model_module": "@jupyter-widgets/controls",
          "model_name": "HTMLModel",
          "model_module_version": "1.5.0",
          "state": {
            "_dom_classes": [],
            "_model_module": "@jupyter-widgets/controls",
            "_model_module_version": "1.5.0",
            "_model_name": "HTMLModel",
            "_view_count": null,
            "_view_module": "@jupyter-widgets/controls",
            "_view_module_version": "1.5.0",
            "_view_name": "HTMLView",
            "description": "",
            "description_tooltip": null,
            "layout": "IPY_MODEL_64317e9355444615bb1b7cb9c493b9b1",
            "placeholder": "​",
            "style": "IPY_MODEL_3a6837a972a048b889ee9e74cb7d8553",
            "value": "100%"
          }
        },
        "6021fe9a33894dd782f92558d2c034b4": {
          "model_module": "@jupyter-widgets/controls",
          "model_name": "FloatProgressModel",
          "model_module_version": "1.5.0",
          "state": {
            "_dom_classes": [],
            "_model_module": "@jupyter-widgets/controls",
            "_model_module_version": "1.5.0",
            "_model_name": "FloatProgressModel",
            "_view_count": null,
            "_view_module": "@jupyter-widgets/controls",
            "_view_module_version": "1.5.0",
            "_view_name": "ProgressView",
            "bar_style": "success",
            "description": "",
            "description_tooltip": null,
            "layout": "IPY_MODEL_d65ad34f4a614e368e4f1fb80d97e435",
            "max": 64040097,
            "min": 0,
            "orientation": "horizontal",
            "style": "IPY_MODEL_dc9734662fc148ea9d7b2b48184d0dad",
            "value": 64040097
          }
        },
        "b937937eb3d346709e9aa181906c2b76": {
          "model_module": "@jupyter-widgets/controls",
          "model_name": "HTMLModel",
          "model_module_version": "1.5.0",
          "state": {
            "_dom_classes": [],
            "_model_module": "@jupyter-widgets/controls",
            "_model_module_version": "1.5.0",
            "_model_name": "HTMLModel",
            "_view_count": null,
            "_view_module": "@jupyter-widgets/controls",
            "_view_module_version": "1.5.0",
            "_view_name": "HTMLView",
            "description": "",
            "description_tooltip": null,
            "layout": "IPY_MODEL_f5b2dc499c55416cb8a7635c97b11a43",
            "placeholder": "​",
            "style": "IPY_MODEL_eb124c4136cb4d74928d20c8d98ffbab",
            "value": " 61.1M/61.1M [00:06&lt;00:00, 15.5MB/s]"
          }
        },
        "5753381ec76d442aa3835658f3588269": {
          "model_module": "@jupyter-widgets/base",
          "model_name": "LayoutModel",
          "model_module_version": "1.2.0",
          "state": {
            "_model_module": "@jupyter-widgets/base",
            "_model_module_version": "1.2.0",
            "_model_name": "LayoutModel",
            "_view_count": null,
            "_view_module": "@jupyter-widgets/base",
            "_view_module_version": "1.2.0",
            "_view_name": "LayoutView",
            "align_content": null,
            "align_items": null,
            "align_self": null,
            "border": null,
            "bottom": null,
            "display": null,
            "flex": null,
            "flex_flow": null,
            "grid_area": null,
            "grid_auto_columns": null,
            "grid_auto_flow": null,
            "grid_auto_rows": null,
            "grid_column": null,
            "grid_gap": null,
            "grid_row": null,
            "grid_template_areas": null,
            "grid_template_columns": null,
            "grid_template_rows": null,
            "height": null,
            "justify_content": null,
            "justify_items": null,
            "left": null,
            "margin": null,
            "max_height": null,
            "max_width": null,
            "min_height": null,
            "min_width": null,
            "object_fit": null,
            "object_position": null,
            "order": null,
            "overflow": null,
            "overflow_x": null,
            "overflow_y": null,
            "padding": null,
            "right": null,
            "top": null,
            "visibility": null,
            "width": null
          }
        },
        "64317e9355444615bb1b7cb9c493b9b1": {
          "model_module": "@jupyter-widgets/base",
          "model_name": "LayoutModel",
          "model_module_version": "1.2.0",
          "state": {
            "_model_module": "@jupyter-widgets/base",
            "_model_module_version": "1.2.0",
            "_model_name": "LayoutModel",
            "_view_count": null,
            "_view_module": "@jupyter-widgets/base",
            "_view_module_version": "1.2.0",
            "_view_name": "LayoutView",
            "align_content": null,
            "align_items": null,
            "align_self": null,
            "border": null,
            "bottom": null,
            "display": null,
            "flex": null,
            "flex_flow": null,
            "grid_area": null,
            "grid_auto_columns": null,
            "grid_auto_flow": null,
            "grid_auto_rows": null,
            "grid_column": null,
            "grid_gap": null,
            "grid_row": null,
            "grid_template_areas": null,
            "grid_template_columns": null,
            "grid_template_rows": null,
            "height": null,
            "justify_content": null,
            "justify_items": null,
            "left": null,
            "margin": null,
            "max_height": null,
            "max_width": null,
            "min_height": null,
            "min_width": null,
            "object_fit": null,
            "object_position": null,
            "order": null,
            "overflow": null,
            "overflow_x": null,
            "overflow_y": null,
            "padding": null,
            "right": null,
            "top": null,
            "visibility": null,
            "width": null
          }
        },
        "3a6837a972a048b889ee9e74cb7d8553": {
          "model_module": "@jupyter-widgets/controls",
          "model_name": "DescriptionStyleModel",
          "model_module_version": "1.5.0",
          "state": {
            "_model_module": "@jupyter-widgets/controls",
            "_model_module_version": "1.5.0",
            "_model_name": "DescriptionStyleModel",
            "_view_count": null,
            "_view_module": "@jupyter-widgets/base",
            "_view_module_version": "1.2.0",
            "_view_name": "StyleView",
            "description_width": ""
          }
        },
        "d65ad34f4a614e368e4f1fb80d97e435": {
          "model_module": "@jupyter-widgets/base",
          "model_name": "LayoutModel",
          "model_module_version": "1.2.0",
          "state": {
            "_model_module": "@jupyter-widgets/base",
            "_model_module_version": "1.2.0",
            "_model_name": "LayoutModel",
            "_view_count": null,
            "_view_module": "@jupyter-widgets/base",
            "_view_module_version": "1.2.0",
            "_view_name": "LayoutView",
            "align_content": null,
            "align_items": null,
            "align_self": null,
            "border": null,
            "bottom": null,
            "display": null,
            "flex": null,
            "flex_flow": null,
            "grid_area": null,
            "grid_auto_columns": null,
            "grid_auto_flow": null,
            "grid_auto_rows": null,
            "grid_column": null,
            "grid_gap": null,
            "grid_row": null,
            "grid_template_areas": null,
            "grid_template_columns": null,
            "grid_template_rows": null,
            "height": null,
            "justify_content": null,
            "justify_items": null,
            "left": null,
            "margin": null,
            "max_height": null,
            "max_width": null,
            "min_height": null,
            "min_width": null,
            "object_fit": null,
            "object_position": null,
            "order": null,
            "overflow": null,
            "overflow_x": null,
            "overflow_y": null,
            "padding": null,
            "right": null,
            "top": null,
            "visibility": null,
            "width": null
          }
        },
        "dc9734662fc148ea9d7b2b48184d0dad": {
          "model_module": "@jupyter-widgets/controls",
          "model_name": "ProgressStyleModel",
          "model_module_version": "1.5.0",
          "state": {
            "_model_module": "@jupyter-widgets/controls",
            "_model_module_version": "1.5.0",
            "_model_name": "ProgressStyleModel",
            "_view_count": null,
            "_view_module": "@jupyter-widgets/base",
            "_view_module_version": "1.2.0",
            "_view_name": "StyleView",
            "bar_color": null,
            "description_width": ""
          }
        },
        "f5b2dc499c55416cb8a7635c97b11a43": {
          "model_module": "@jupyter-widgets/base",
          "model_name": "LayoutModel",
          "model_module_version": "1.2.0",
          "state": {
            "_model_module": "@jupyter-widgets/base",
            "_model_module_version": "1.2.0",
            "_model_name": "LayoutModel",
            "_view_count": null,
            "_view_module": "@jupyter-widgets/base",
            "_view_module_version": "1.2.0",
            "_view_name": "LayoutView",
            "align_content": null,
            "align_items": null,
            "align_self": null,
            "border": null,
            "bottom": null,
            "display": null,
            "flex": null,
            "flex_flow": null,
            "grid_area": null,
            "grid_auto_columns": null,
            "grid_auto_flow": null,
            "grid_auto_rows": null,
            "grid_column": null,
            "grid_gap": null,
            "grid_row": null,
            "grid_template_areas": null,
            "grid_template_columns": null,
            "grid_template_rows": null,
            "height": null,
            "justify_content": null,
            "justify_items": null,
            "left": null,
            "margin": null,
            "max_height": null,
            "max_width": null,
            "min_height": null,
            "min_width": null,
            "object_fit": null,
            "object_position": null,
            "order": null,
            "overflow": null,
            "overflow_x": null,
            "overflow_y": null,
            "padding": null,
            "right": null,
            "top": null,
            "visibility": null,
            "width": null
          }
        },
        "eb124c4136cb4d74928d20c8d98ffbab": {
          "model_module": "@jupyter-widgets/controls",
          "model_name": "DescriptionStyleModel",
          "model_module_version": "1.5.0",
          "state": {
            "_model_module": "@jupyter-widgets/controls",
            "_model_module_version": "1.5.0",
            "_model_name": "DescriptionStyleModel",
            "_view_count": null,
            "_view_module": "@jupyter-widgets/base",
            "_view_module_version": "1.2.0",
            "_view_name": "StyleView",
            "description_width": ""
          }
        },
        "e8a07d058d4d48829ca0285ac8308106": {
          "model_module": "@jupyter-widgets/controls",
          "model_name": "HBoxModel",
          "model_module_version": "1.5.0",
          "state": {
            "_dom_classes": [],
            "_model_module": "@jupyter-widgets/controls",
            "_model_module_version": "1.5.0",
            "_model_name": "HBoxModel",
            "_view_count": null,
            "_view_module": "@jupyter-widgets/controls",
            "_view_module_version": "1.5.0",
            "_view_name": "HBoxView",
            "box_style": "",
            "children": [
              "IPY_MODEL_84f612070b3646c5911676404773bf2b",
              "IPY_MODEL_c94c5f5c37d643b5b32c8fd6026ca14b",
              "IPY_MODEL_ed29b7775c4445de866d1ead9bf1be39"
            ],
            "layout": "IPY_MODEL_b487bc1ab2474a6eb5b8b39d97d65b07"
          }
        },
        "84f612070b3646c5911676404773bf2b": {
          "model_module": "@jupyter-widgets/controls",
          "model_name": "HTMLModel",
          "model_module_version": "1.5.0",
          "state": {
            "_dom_classes": [],
            "_model_module": "@jupyter-widgets/controls",
            "_model_module_version": "1.5.0",
            "_model_name": "HTMLModel",
            "_view_count": null,
            "_view_module": "@jupyter-widgets/controls",
            "_view_module_version": "1.5.0",
            "_view_name": "HTMLView",
            "description": "",
            "description_tooltip": null,
            "layout": "IPY_MODEL_01fd45313e3a4e6ea17d500c668e9dbb",
            "placeholder": "​",
            "style": "IPY_MODEL_2d30c6af06a0478a8e1517c524157c5d",
            "value": "100%"
          }
        },
        "c94c5f5c37d643b5b32c8fd6026ca14b": {
          "model_module": "@jupyter-widgets/controls",
          "model_name": "FloatProgressModel",
          "model_module_version": "1.5.0",
          "state": {
            "_dom_classes": [],
            "_model_module": "@jupyter-widgets/controls",
            "_model_module_version": "1.5.0",
            "_model_name": "FloatProgressModel",
            "_view_count": null,
            "_view_module": "@jupyter-widgets/controls",
            "_view_module_version": "1.5.0",
            "_view_name": "ProgressView",
            "bar_style": "success",
            "description": "",
            "description_tooltip": null,
            "layout": "IPY_MODEL_b5f5002e2a41494581d7e75b3d793530",
            "max": 108761145,
            "min": 0,
            "orientation": "horizontal",
            "style": "IPY_MODEL_f432f6a6ac274fa39033eab3bb05cd60",
            "value": 108761145
          }
        },
        "ed29b7775c4445de866d1ead9bf1be39": {
          "model_module": "@jupyter-widgets/controls",
          "model_name": "HTMLModel",
          "model_module_version": "1.5.0",
          "state": {
            "_dom_classes": [],
            "_model_module": "@jupyter-widgets/controls",
            "_model_module_version": "1.5.0",
            "_model_name": "HTMLModel",
            "_view_count": null,
            "_view_module": "@jupyter-widgets/controls",
            "_view_module_version": "1.5.0",
            "_view_name": "HTMLView",
            "description": "",
            "description_tooltip": null,
            "layout": "IPY_MODEL_4e81256dc1d4414d9c639e0dc87ed0ab",
            "placeholder": "​",
            "style": "IPY_MODEL_c5e678b5f7ea4c00b0f366ca7af577a5",
            "value": " 104M/104M [00:07&lt;00:00, 15.9MB/s]"
          }
        },
        "b487bc1ab2474a6eb5b8b39d97d65b07": {
          "model_module": "@jupyter-widgets/base",
          "model_name": "LayoutModel",
          "model_module_version": "1.2.0",
          "state": {
            "_model_module": "@jupyter-widgets/base",
            "_model_module_version": "1.2.0",
            "_model_name": "LayoutModel",
            "_view_count": null,
            "_view_module": "@jupyter-widgets/base",
            "_view_module_version": "1.2.0",
            "_view_name": "LayoutView",
            "align_content": null,
            "align_items": null,
            "align_self": null,
            "border": null,
            "bottom": null,
            "display": null,
            "flex": null,
            "flex_flow": null,
            "grid_area": null,
            "grid_auto_columns": null,
            "grid_auto_flow": null,
            "grid_auto_rows": null,
            "grid_column": null,
            "grid_gap": null,
            "grid_row": null,
            "grid_template_areas": null,
            "grid_template_columns": null,
            "grid_template_rows": null,
            "height": null,
            "justify_content": null,
            "justify_items": null,
            "left": null,
            "margin": null,
            "max_height": null,
            "max_width": null,
            "min_height": null,
            "min_width": null,
            "object_fit": null,
            "object_position": null,
            "order": null,
            "overflow": null,
            "overflow_x": null,
            "overflow_y": null,
            "padding": null,
            "right": null,
            "top": null,
            "visibility": null,
            "width": null
          }
        },
        "01fd45313e3a4e6ea17d500c668e9dbb": {
          "model_module": "@jupyter-widgets/base",
          "model_name": "LayoutModel",
          "model_module_version": "1.2.0",
          "state": {
            "_model_module": "@jupyter-widgets/base",
            "_model_module_version": "1.2.0",
            "_model_name": "LayoutModel",
            "_view_count": null,
            "_view_module": "@jupyter-widgets/base",
            "_view_module_version": "1.2.0",
            "_view_name": "LayoutView",
            "align_content": null,
            "align_items": null,
            "align_self": null,
            "border": null,
            "bottom": null,
            "display": null,
            "flex": null,
            "flex_flow": null,
            "grid_area": null,
            "grid_auto_columns": null,
            "grid_auto_flow": null,
            "grid_auto_rows": null,
            "grid_column": null,
            "grid_gap": null,
            "grid_row": null,
            "grid_template_areas": null,
            "grid_template_columns": null,
            "grid_template_rows": null,
            "height": null,
            "justify_content": null,
            "justify_items": null,
            "left": null,
            "margin": null,
            "max_height": null,
            "max_width": null,
            "min_height": null,
            "min_width": null,
            "object_fit": null,
            "object_position": null,
            "order": null,
            "overflow": null,
            "overflow_x": null,
            "overflow_y": null,
            "padding": null,
            "right": null,
            "top": null,
            "visibility": null,
            "width": null
          }
        },
        "2d30c6af06a0478a8e1517c524157c5d": {
          "model_module": "@jupyter-widgets/controls",
          "model_name": "DescriptionStyleModel",
          "model_module_version": "1.5.0",
          "state": {
            "_model_module": "@jupyter-widgets/controls",
            "_model_module_version": "1.5.0",
            "_model_name": "DescriptionStyleModel",
            "_view_count": null,
            "_view_module": "@jupyter-widgets/base",
            "_view_module_version": "1.2.0",
            "_view_name": "StyleView",
            "description_width": ""
          }
        },
        "b5f5002e2a41494581d7e75b3d793530": {
          "model_module": "@jupyter-widgets/base",
          "model_name": "LayoutModel",
          "model_module_version": "1.2.0",
          "state": {
            "_model_module": "@jupyter-widgets/base",
            "_model_module_version": "1.2.0",
            "_model_name": "LayoutModel",
            "_view_count": null,
            "_view_module": "@jupyter-widgets/base",
            "_view_module_version": "1.2.0",
            "_view_name": "LayoutView",
            "align_content": null,
            "align_items": null,
            "align_self": null,
            "border": null,
            "bottom": null,
            "display": null,
            "flex": null,
            "flex_flow": null,
            "grid_area": null,
            "grid_auto_columns": null,
            "grid_auto_flow": null,
            "grid_auto_rows": null,
            "grid_column": null,
            "grid_gap": null,
            "grid_row": null,
            "grid_template_areas": null,
            "grid_template_columns": null,
            "grid_template_rows": null,
            "height": null,
            "justify_content": null,
            "justify_items": null,
            "left": null,
            "margin": null,
            "max_height": null,
            "max_width": null,
            "min_height": null,
            "min_width": null,
            "object_fit": null,
            "object_position": null,
            "order": null,
            "overflow": null,
            "overflow_x": null,
            "overflow_y": null,
            "padding": null,
            "right": null,
            "top": null,
            "visibility": null,
            "width": null
          }
        },
        "f432f6a6ac274fa39033eab3bb05cd60": {
          "model_module": "@jupyter-widgets/controls",
          "model_name": "ProgressStyleModel",
          "model_module_version": "1.5.0",
          "state": {
            "_model_module": "@jupyter-widgets/controls",
            "_model_module_version": "1.5.0",
            "_model_name": "ProgressStyleModel",
            "_view_count": null,
            "_view_module": "@jupyter-widgets/base",
            "_view_module_version": "1.2.0",
            "_view_name": "StyleView",
            "bar_color": null,
            "description_width": ""
          }
        },
        "4e81256dc1d4414d9c639e0dc87ed0ab": {
          "model_module": "@jupyter-widgets/base",
          "model_name": "LayoutModel",
          "model_module_version": "1.2.0",
          "state": {
            "_model_module": "@jupyter-widgets/base",
            "_model_module_version": "1.2.0",
            "_model_name": "LayoutModel",
            "_view_count": null,
            "_view_module": "@jupyter-widgets/base",
            "_view_module_version": "1.2.0",
            "_view_name": "LayoutView",
            "align_content": null,
            "align_items": null,
            "align_self": null,
            "border": null,
            "bottom": null,
            "display": null,
            "flex": null,
            "flex_flow": null,
            "grid_area": null,
            "grid_auto_columns": null,
            "grid_auto_flow": null,
            "grid_auto_rows": null,
            "grid_column": null,
            "grid_gap": null,
            "grid_row": null,
            "grid_template_areas": null,
            "grid_template_columns": null,
            "grid_template_rows": null,
            "height": null,
            "justify_content": null,
            "justify_items": null,
            "left": null,
            "margin": null,
            "max_height": null,
            "max_width": null,
            "min_height": null,
            "min_width": null,
            "object_fit": null,
            "object_position": null,
            "order": null,
            "overflow": null,
            "overflow_x": null,
            "overflow_y": null,
            "padding": null,
            "right": null,
            "top": null,
            "visibility": null,
            "width": null
          }
        },
        "c5e678b5f7ea4c00b0f366ca7af577a5": {
          "model_module": "@jupyter-widgets/controls",
          "model_name": "DescriptionStyleModel",
          "model_module_version": "1.5.0",
          "state": {
            "_model_module": "@jupyter-widgets/controls",
            "_model_module_version": "1.5.0",
            "_model_name": "DescriptionStyleModel",
            "_view_count": null,
            "_view_module": "@jupyter-widgets/base",
            "_view_module_version": "1.2.0",
            "_view_name": "StyleView",
            "description_width": ""
          }
        }
      }
    }
  },
  "nbformat": 4,
  "nbformat_minor": 0
}